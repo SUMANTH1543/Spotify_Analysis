{
 "cells": [
  {
   "cell_type": "markdown",
   "id": "9032c0b4-ec30-4cb6-9f95-85e19b25f477",
   "metadata": {},
   "source": [
    "### Exploratary Data Analysis of Spotify"
   ]
  },
  {
   "cell_type": "code",
   "execution_count": 106,
   "id": "2fc9ba8a-66d2-41a8-9096-3b75966214b2",
   "metadata": {},
   "outputs": [],
   "source": [
    "#loading the required libraries\n",
    "import pandas as pd\n",
    "import matplotlib.pyplot as plt\n",
    "import numpy as np"
   ]
  },
  {
   "cell_type": "code",
   "execution_count": 107,
   "id": "f0bb1771-e65f-49d9-804f-9cc6c799cc21",
   "metadata": {},
   "outputs": [],
   "source": [
    "data= pd.read_csv(\"Spotify Most Streamed Songs.csv\")"
   ]
  },
  {
   "cell_type": "code",
   "execution_count": 108,
   "id": "db664161-c8a9-40ef-88e1-a17834160a8b",
   "metadata": {},
   "outputs": [
    {
     "data": {
      "text/html": [
       "<div>\n",
       "<style scoped>\n",
       "    .dataframe tbody tr th:only-of-type {\n",
       "        vertical-align: middle;\n",
       "    }\n",
       "\n",
       "    .dataframe tbody tr th {\n",
       "        vertical-align: top;\n",
       "    }\n",
       "\n",
       "    .dataframe thead th {\n",
       "        text-align: right;\n",
       "    }\n",
       "</style>\n",
       "<table border=\"1\" class=\"dataframe\">\n",
       "  <thead>\n",
       "    <tr style=\"text-align: right;\">\n",
       "      <th></th>\n",
       "      <th>track_name</th>\n",
       "      <th>artist(s)_name</th>\n",
       "      <th>artist_count</th>\n",
       "      <th>released_year</th>\n",
       "      <th>released_month</th>\n",
       "      <th>released_day</th>\n",
       "      <th>in_spotify_playlists</th>\n",
       "      <th>in_spotify_charts</th>\n",
       "      <th>streams</th>\n",
       "      <th>in_apple_playlists</th>\n",
       "      <th>...</th>\n",
       "      <th>key</th>\n",
       "      <th>mode</th>\n",
       "      <th>danceability_%</th>\n",
       "      <th>valence_%</th>\n",
       "      <th>energy_%</th>\n",
       "      <th>acousticness_%</th>\n",
       "      <th>instrumentalness_%</th>\n",
       "      <th>liveness_%</th>\n",
       "      <th>speechiness_%</th>\n",
       "      <th>cover_url</th>\n",
       "    </tr>\n",
       "  </thead>\n",
       "  <tbody>\n",
       "    <tr>\n",
       "      <th>0</th>\n",
       "      <td>Seven (feat. Latto) (Explicit Ver.)</td>\n",
       "      <td>Latto, Jung Kook</td>\n",
       "      <td>2</td>\n",
       "      <td>2023</td>\n",
       "      <td>7</td>\n",
       "      <td>14</td>\n",
       "      <td>553</td>\n",
       "      <td>147</td>\n",
       "      <td>141381703</td>\n",
       "      <td>43</td>\n",
       "      <td>...</td>\n",
       "      <td>B</td>\n",
       "      <td>Major</td>\n",
       "      <td>80</td>\n",
       "      <td>89</td>\n",
       "      <td>83</td>\n",
       "      <td>31</td>\n",
       "      <td>0</td>\n",
       "      <td>8</td>\n",
       "      <td>4</td>\n",
       "      <td>Not Found</td>\n",
       "    </tr>\n",
       "    <tr>\n",
       "      <th>1</th>\n",
       "      <td>LALA</td>\n",
       "      <td>Myke Towers</td>\n",
       "      <td>1</td>\n",
       "      <td>2023</td>\n",
       "      <td>3</td>\n",
       "      <td>23</td>\n",
       "      <td>1474</td>\n",
       "      <td>48</td>\n",
       "      <td>133716286</td>\n",
       "      <td>48</td>\n",
       "      <td>...</td>\n",
       "      <td>C#</td>\n",
       "      <td>Major</td>\n",
       "      <td>71</td>\n",
       "      <td>61</td>\n",
       "      <td>74</td>\n",
       "      <td>7</td>\n",
       "      <td>0</td>\n",
       "      <td>10</td>\n",
       "      <td>4</td>\n",
       "      <td>https://i.scdn.co/image/ab67616d0000b2730656d5...</td>\n",
       "    </tr>\n",
       "    <tr>\n",
       "      <th>2</th>\n",
       "      <td>vampire</td>\n",
       "      <td>Olivia Rodrigo</td>\n",
       "      <td>1</td>\n",
       "      <td>2023</td>\n",
       "      <td>6</td>\n",
       "      <td>30</td>\n",
       "      <td>1397</td>\n",
       "      <td>113</td>\n",
       "      <td>140003974</td>\n",
       "      <td>94</td>\n",
       "      <td>...</td>\n",
       "      <td>F</td>\n",
       "      <td>Major</td>\n",
       "      <td>51</td>\n",
       "      <td>32</td>\n",
       "      <td>53</td>\n",
       "      <td>17</td>\n",
       "      <td>0</td>\n",
       "      <td>31</td>\n",
       "      <td>6</td>\n",
       "      <td>https://i.scdn.co/image/ab67616d0000b273e85259...</td>\n",
       "    </tr>\n",
       "    <tr>\n",
       "      <th>3</th>\n",
       "      <td>Cruel Summer</td>\n",
       "      <td>Taylor Swift</td>\n",
       "      <td>1</td>\n",
       "      <td>2019</td>\n",
       "      <td>8</td>\n",
       "      <td>23</td>\n",
       "      <td>7858</td>\n",
       "      <td>100</td>\n",
       "      <td>800840817</td>\n",
       "      <td>116</td>\n",
       "      <td>...</td>\n",
       "      <td>A</td>\n",
       "      <td>Major</td>\n",
       "      <td>55</td>\n",
       "      <td>58</td>\n",
       "      <td>72</td>\n",
       "      <td>11</td>\n",
       "      <td>0</td>\n",
       "      <td>11</td>\n",
       "      <td>15</td>\n",
       "      <td>https://i.scdn.co/image/ab67616d0000b273e787cf...</td>\n",
       "    </tr>\n",
       "    <tr>\n",
       "      <th>4</th>\n",
       "      <td>WHERE SHE GOES</td>\n",
       "      <td>Bad Bunny</td>\n",
       "      <td>1</td>\n",
       "      <td>2023</td>\n",
       "      <td>5</td>\n",
       "      <td>18</td>\n",
       "      <td>3133</td>\n",
       "      <td>50</td>\n",
       "      <td>303236322</td>\n",
       "      <td>84</td>\n",
       "      <td>...</td>\n",
       "      <td>A</td>\n",
       "      <td>Minor</td>\n",
       "      <td>65</td>\n",
       "      <td>23</td>\n",
       "      <td>80</td>\n",
       "      <td>14</td>\n",
       "      <td>63</td>\n",
       "      <td>11</td>\n",
       "      <td>6</td>\n",
       "      <td>https://i.scdn.co/image/ab67616d0000b273ab5c9c...</td>\n",
       "    </tr>\n",
       "  </tbody>\n",
       "</table>\n",
       "<p>5 rows × 25 columns</p>\n",
       "</div>"
      ],
      "text/plain": [
       "                            track_name    artist(s)_name  artist_count  \\\n",
       "0  Seven (feat. Latto) (Explicit Ver.)  Latto, Jung Kook             2   \n",
       "1                                 LALA       Myke Towers             1   \n",
       "2                              vampire    Olivia Rodrigo             1   \n",
       "3                         Cruel Summer      Taylor Swift             1   \n",
       "4                       WHERE SHE GOES         Bad Bunny             1   \n",
       "\n",
       "   released_year  released_month  released_day  in_spotify_playlists  \\\n",
       "0           2023               7            14                   553   \n",
       "1           2023               3            23                  1474   \n",
       "2           2023               6            30                  1397   \n",
       "3           2019               8            23                  7858   \n",
       "4           2023               5            18                  3133   \n",
       "\n",
       "   in_spotify_charts    streams  in_apple_playlists  ...  key   mode  \\\n",
       "0                147  141381703                  43  ...    B  Major   \n",
       "1                 48  133716286                  48  ...   C#  Major   \n",
       "2                113  140003974                  94  ...    F  Major   \n",
       "3                100  800840817                 116  ...    A  Major   \n",
       "4                 50  303236322                  84  ...    A  Minor   \n",
       "\n",
       "   danceability_% valence_%  energy_% acousticness_% instrumentalness_%  \\\n",
       "0              80        89        83             31                  0   \n",
       "1              71        61        74              7                  0   \n",
       "2              51        32        53             17                  0   \n",
       "3              55        58        72             11                  0   \n",
       "4              65        23        80             14                 63   \n",
       "\n",
       "   liveness_%  speechiness_%  \\\n",
       "0           8              4   \n",
       "1          10              4   \n",
       "2          31              6   \n",
       "3          11             15   \n",
       "4          11              6   \n",
       "\n",
       "                                           cover_url  \n",
       "0                                          Not Found  \n",
       "1  https://i.scdn.co/image/ab67616d0000b2730656d5...  \n",
       "2  https://i.scdn.co/image/ab67616d0000b273e85259...  \n",
       "3  https://i.scdn.co/image/ab67616d0000b273e787cf...  \n",
       "4  https://i.scdn.co/image/ab67616d0000b273ab5c9c...  \n",
       "\n",
       "[5 rows x 25 columns]"
      ]
     },
     "execution_count": 108,
     "metadata": {},
     "output_type": "execute_result"
    }
   ],
   "source": [
    "data.head()"
   ]
  },
  {
   "cell_type": "markdown",
   "id": "682e0cc9-74e0-4ab7-979d-652dcca70f69",
   "metadata": {},
   "source": [
    "### Data Cleaning\n",
    "\n"
   ]
  },
  {
   "cell_type": "code",
   "execution_count": 109,
   "id": "a21dab30-b730-405d-a994-e6c479f4f9aa",
   "metadata": {},
   "outputs": [
    {
     "data": {
      "text/plain": [
       "track_name               0\n",
       "artist(s)_name           0\n",
       "artist_count             0\n",
       "released_year            0\n",
       "released_month           0\n",
       "released_day             0\n",
       "in_spotify_playlists     0\n",
       "in_spotify_charts        0\n",
       "streams                  0\n",
       "in_apple_playlists       0\n",
       "in_apple_charts          0\n",
       "in_deezer_playlists      0\n",
       "in_deezer_charts         0\n",
       "in_shazam_charts        50\n",
       "bpm                      0\n",
       "key                     95\n",
       "mode                     0\n",
       "danceability_%           0\n",
       "valence_%                0\n",
       "energy_%                 0\n",
       "acousticness_%           0\n",
       "instrumentalness_%       0\n",
       "liveness_%               0\n",
       "speechiness_%            0\n",
       "cover_url                0\n",
       "dtype: int64"
      ]
     },
     "execution_count": 109,
     "metadata": {},
     "output_type": "execute_result"
    }
   ],
   "source": [
    "data.isnull().sum()"
   ]
  },
  {
   "cell_type": "code",
   "execution_count": 110,
   "id": "dd4b46bb-c705-43bd-b799-f30c0fec2023",
   "metadata": {},
   "outputs": [
    {
     "data": {
      "text/html": [
       "<div>\n",
       "<style scoped>\n",
       "    .dataframe tbody tr th:only-of-type {\n",
       "        vertical-align: middle;\n",
       "    }\n",
       "\n",
       "    .dataframe tbody tr th {\n",
       "        vertical-align: top;\n",
       "    }\n",
       "\n",
       "    .dataframe thead th {\n",
       "        text-align: right;\n",
       "    }\n",
       "</style>\n",
       "<table border=\"1\" class=\"dataframe\">\n",
       "  <thead>\n",
       "    <tr style=\"text-align: right;\">\n",
       "      <th></th>\n",
       "      <th>track_name</th>\n",
       "      <th>artist(s)_name</th>\n",
       "      <th>artist_count</th>\n",
       "      <th>released_year</th>\n",
       "      <th>released_month</th>\n",
       "      <th>released_day</th>\n",
       "      <th>in_spotify_playlists</th>\n",
       "      <th>in_spotify_charts</th>\n",
       "      <th>streams</th>\n",
       "      <th>in_apple_playlists</th>\n",
       "      <th>...</th>\n",
       "      <th>key</th>\n",
       "      <th>mode</th>\n",
       "      <th>danceability_%</th>\n",
       "      <th>valence_%</th>\n",
       "      <th>energy_%</th>\n",
       "      <th>acousticness_%</th>\n",
       "      <th>instrumentalness_%</th>\n",
       "      <th>liveness_%</th>\n",
       "      <th>speechiness_%</th>\n",
       "      <th>cover_url</th>\n",
       "    </tr>\n",
       "  </thead>\n",
       "  <tbody>\n",
       "    <tr>\n",
       "      <th>0</th>\n",
       "      <td>Seven (feat. Latto) (Explicit Ver.)</td>\n",
       "      <td>Latto, Jung Kook</td>\n",
       "      <td>2</td>\n",
       "      <td>2023</td>\n",
       "      <td>7</td>\n",
       "      <td>14</td>\n",
       "      <td>553</td>\n",
       "      <td>147</td>\n",
       "      <td>141381703</td>\n",
       "      <td>43</td>\n",
       "      <td>...</td>\n",
       "      <td>B</td>\n",
       "      <td>Major</td>\n",
       "      <td>80</td>\n",
       "      <td>89</td>\n",
       "      <td>83</td>\n",
       "      <td>31</td>\n",
       "      <td>0</td>\n",
       "      <td>8</td>\n",
       "      <td>4</td>\n",
       "      <td>Not Found</td>\n",
       "    </tr>\n",
       "    <tr>\n",
       "      <th>1</th>\n",
       "      <td>LALA</td>\n",
       "      <td>Myke Towers</td>\n",
       "      <td>1</td>\n",
       "      <td>2023</td>\n",
       "      <td>3</td>\n",
       "      <td>23</td>\n",
       "      <td>1474</td>\n",
       "      <td>48</td>\n",
       "      <td>133716286</td>\n",
       "      <td>48</td>\n",
       "      <td>...</td>\n",
       "      <td>C#</td>\n",
       "      <td>Major</td>\n",
       "      <td>71</td>\n",
       "      <td>61</td>\n",
       "      <td>74</td>\n",
       "      <td>7</td>\n",
       "      <td>0</td>\n",
       "      <td>10</td>\n",
       "      <td>4</td>\n",
       "      <td>https://i.scdn.co/image/ab67616d0000b2730656d5...</td>\n",
       "    </tr>\n",
       "    <tr>\n",
       "      <th>2</th>\n",
       "      <td>vampire</td>\n",
       "      <td>Olivia Rodrigo</td>\n",
       "      <td>1</td>\n",
       "      <td>2023</td>\n",
       "      <td>6</td>\n",
       "      <td>30</td>\n",
       "      <td>1397</td>\n",
       "      <td>113</td>\n",
       "      <td>140003974</td>\n",
       "      <td>94</td>\n",
       "      <td>...</td>\n",
       "      <td>F</td>\n",
       "      <td>Major</td>\n",
       "      <td>51</td>\n",
       "      <td>32</td>\n",
       "      <td>53</td>\n",
       "      <td>17</td>\n",
       "      <td>0</td>\n",
       "      <td>31</td>\n",
       "      <td>6</td>\n",
       "      <td>https://i.scdn.co/image/ab67616d0000b273e85259...</td>\n",
       "    </tr>\n",
       "    <tr>\n",
       "      <th>3</th>\n",
       "      <td>Cruel Summer</td>\n",
       "      <td>Taylor Swift</td>\n",
       "      <td>1</td>\n",
       "      <td>2019</td>\n",
       "      <td>8</td>\n",
       "      <td>23</td>\n",
       "      <td>7858</td>\n",
       "      <td>100</td>\n",
       "      <td>800840817</td>\n",
       "      <td>116</td>\n",
       "      <td>...</td>\n",
       "      <td>A</td>\n",
       "      <td>Major</td>\n",
       "      <td>55</td>\n",
       "      <td>58</td>\n",
       "      <td>72</td>\n",
       "      <td>11</td>\n",
       "      <td>0</td>\n",
       "      <td>11</td>\n",
       "      <td>15</td>\n",
       "      <td>https://i.scdn.co/image/ab67616d0000b273e787cf...</td>\n",
       "    </tr>\n",
       "    <tr>\n",
       "      <th>4</th>\n",
       "      <td>WHERE SHE GOES</td>\n",
       "      <td>Bad Bunny</td>\n",
       "      <td>1</td>\n",
       "      <td>2023</td>\n",
       "      <td>5</td>\n",
       "      <td>18</td>\n",
       "      <td>3133</td>\n",
       "      <td>50</td>\n",
       "      <td>303236322</td>\n",
       "      <td>84</td>\n",
       "      <td>...</td>\n",
       "      <td>A</td>\n",
       "      <td>Minor</td>\n",
       "      <td>65</td>\n",
       "      <td>23</td>\n",
       "      <td>80</td>\n",
       "      <td>14</td>\n",
       "      <td>63</td>\n",
       "      <td>11</td>\n",
       "      <td>6</td>\n",
       "      <td>https://i.scdn.co/image/ab67616d0000b273ab5c9c...</td>\n",
       "    </tr>\n",
       "    <tr>\n",
       "      <th>...</th>\n",
       "      <td>...</td>\n",
       "      <td>...</td>\n",
       "      <td>...</td>\n",
       "      <td>...</td>\n",
       "      <td>...</td>\n",
       "      <td>...</td>\n",
       "      <td>...</td>\n",
       "      <td>...</td>\n",
       "      <td>...</td>\n",
       "      <td>...</td>\n",
       "      <td>...</td>\n",
       "      <td>...</td>\n",
       "      <td>...</td>\n",
       "      <td>...</td>\n",
       "      <td>...</td>\n",
       "      <td>...</td>\n",
       "      <td>...</td>\n",
       "      <td>...</td>\n",
       "      <td>...</td>\n",
       "      <td>...</td>\n",
       "      <td>...</td>\n",
       "    </tr>\n",
       "    <tr>\n",
       "      <th>948</th>\n",
       "      <td>My Mind &amp; Me</td>\n",
       "      <td>Selena Gomez</td>\n",
       "      <td>1</td>\n",
       "      <td>2022</td>\n",
       "      <td>11</td>\n",
       "      <td>3</td>\n",
       "      <td>953</td>\n",
       "      <td>0</td>\n",
       "      <td>91473363</td>\n",
       "      <td>61</td>\n",
       "      <td>...</td>\n",
       "      <td>A</td>\n",
       "      <td>Major</td>\n",
       "      <td>60</td>\n",
       "      <td>24</td>\n",
       "      <td>39</td>\n",
       "      <td>57</td>\n",
       "      <td>0</td>\n",
       "      <td>8</td>\n",
       "      <td>3</td>\n",
       "      <td>https://i.scdn.co/image/ab67616d0000b2730f5397...</td>\n",
       "    </tr>\n",
       "    <tr>\n",
       "      <th>949</th>\n",
       "      <td>Bigger Than The Whole Sky</td>\n",
       "      <td>Taylor Swift</td>\n",
       "      <td>1</td>\n",
       "      <td>2022</td>\n",
       "      <td>10</td>\n",
       "      <td>21</td>\n",
       "      <td>1180</td>\n",
       "      <td>0</td>\n",
       "      <td>121871870</td>\n",
       "      <td>4</td>\n",
       "      <td>...</td>\n",
       "      <td>F#</td>\n",
       "      <td>Major</td>\n",
       "      <td>42</td>\n",
       "      <td>7</td>\n",
       "      <td>24</td>\n",
       "      <td>83</td>\n",
       "      <td>1</td>\n",
       "      <td>12</td>\n",
       "      <td>6</td>\n",
       "      <td>https://i.scdn.co/image/ab67616d0000b273e0b60c...</td>\n",
       "    </tr>\n",
       "    <tr>\n",
       "      <th>950</th>\n",
       "      <td>A Veces (feat. Feid)</td>\n",
       "      <td>Feid, Paulo Londra</td>\n",
       "      <td>2</td>\n",
       "      <td>2022</td>\n",
       "      <td>11</td>\n",
       "      <td>3</td>\n",
       "      <td>573</td>\n",
       "      <td>0</td>\n",
       "      <td>73513683</td>\n",
       "      <td>2</td>\n",
       "      <td>...</td>\n",
       "      <td>C#</td>\n",
       "      <td>Major</td>\n",
       "      <td>80</td>\n",
       "      <td>81</td>\n",
       "      <td>67</td>\n",
       "      <td>4</td>\n",
       "      <td>0</td>\n",
       "      <td>8</td>\n",
       "      <td>6</td>\n",
       "      <td>Not Found</td>\n",
       "    </tr>\n",
       "    <tr>\n",
       "      <th>951</th>\n",
       "      <td>En La De Ella</td>\n",
       "      <td>Feid, Sech, Jhayco</td>\n",
       "      <td>3</td>\n",
       "      <td>2022</td>\n",
       "      <td>10</td>\n",
       "      <td>20</td>\n",
       "      <td>1320</td>\n",
       "      <td>0</td>\n",
       "      <td>133895612</td>\n",
       "      <td>29</td>\n",
       "      <td>...</td>\n",
       "      <td>C#</td>\n",
       "      <td>Major</td>\n",
       "      <td>82</td>\n",
       "      <td>67</td>\n",
       "      <td>77</td>\n",
       "      <td>8</td>\n",
       "      <td>0</td>\n",
       "      <td>12</td>\n",
       "      <td>5</td>\n",
       "      <td>Not Found</td>\n",
       "    </tr>\n",
       "    <tr>\n",
       "      <th>952</th>\n",
       "      <td>Alone</td>\n",
       "      <td>Burna Boy</td>\n",
       "      <td>1</td>\n",
       "      <td>2022</td>\n",
       "      <td>11</td>\n",
       "      <td>4</td>\n",
       "      <td>782</td>\n",
       "      <td>2</td>\n",
       "      <td>96007391</td>\n",
       "      <td>27</td>\n",
       "      <td>...</td>\n",
       "      <td>E</td>\n",
       "      <td>Minor</td>\n",
       "      <td>61</td>\n",
       "      <td>32</td>\n",
       "      <td>67</td>\n",
       "      <td>15</td>\n",
       "      <td>0</td>\n",
       "      <td>11</td>\n",
       "      <td>5</td>\n",
       "      <td>https://i.scdn.co/image/ab67616d0000b273992a1f...</td>\n",
       "    </tr>\n",
       "  </tbody>\n",
       "</table>\n",
       "<p>817 rows × 25 columns</p>\n",
       "</div>"
      ],
      "text/plain": [
       "                              track_name      artist(s)_name  artist_count  \\\n",
       "0    Seven (feat. Latto) (Explicit Ver.)    Latto, Jung Kook             2   \n",
       "1                                   LALA         Myke Towers             1   \n",
       "2                                vampire      Olivia Rodrigo             1   \n",
       "3                           Cruel Summer        Taylor Swift             1   \n",
       "4                         WHERE SHE GOES           Bad Bunny             1   \n",
       "..                                   ...                 ...           ...   \n",
       "948                         My Mind & Me        Selena Gomez             1   \n",
       "949            Bigger Than The Whole Sky        Taylor Swift             1   \n",
       "950                 A Veces (feat. Feid)  Feid, Paulo Londra             2   \n",
       "951                        En La De Ella  Feid, Sech, Jhayco             3   \n",
       "952                                Alone           Burna Boy             1   \n",
       "\n",
       "     released_year  released_month  released_day  in_spotify_playlists  \\\n",
       "0             2023               7            14                   553   \n",
       "1             2023               3            23                  1474   \n",
       "2             2023               6            30                  1397   \n",
       "3             2019               8            23                  7858   \n",
       "4             2023               5            18                  3133   \n",
       "..             ...             ...           ...                   ...   \n",
       "948           2022              11             3                   953   \n",
       "949           2022              10            21                  1180   \n",
       "950           2022              11             3                   573   \n",
       "951           2022              10            20                  1320   \n",
       "952           2022              11             4                   782   \n",
       "\n",
       "     in_spotify_charts    streams  in_apple_playlists  ...  key   mode  \\\n",
       "0                  147  141381703                  43  ...    B  Major   \n",
       "1                   48  133716286                  48  ...   C#  Major   \n",
       "2                  113  140003974                  94  ...    F  Major   \n",
       "3                  100  800840817                 116  ...    A  Major   \n",
       "4                   50  303236322                  84  ...    A  Minor   \n",
       "..                 ...        ...                 ...  ...  ...    ...   \n",
       "948                  0   91473363                  61  ...    A  Major   \n",
       "949                  0  121871870                   4  ...   F#  Major   \n",
       "950                  0   73513683                   2  ...   C#  Major   \n",
       "951                  0  133895612                  29  ...   C#  Major   \n",
       "952                  2   96007391                  27  ...    E  Minor   \n",
       "\n",
       "     danceability_% valence_%  energy_% acousticness_% instrumentalness_%  \\\n",
       "0                80        89        83             31                  0   \n",
       "1                71        61        74              7                  0   \n",
       "2                51        32        53             17                  0   \n",
       "3                55        58        72             11                  0   \n",
       "4                65        23        80             14                 63   \n",
       "..              ...       ...       ...            ...                ...   \n",
       "948              60        24        39             57                  0   \n",
       "949              42         7        24             83                  1   \n",
       "950              80        81        67              4                  0   \n",
       "951              82        67        77              8                  0   \n",
       "952              61        32        67             15                  0   \n",
       "\n",
       "     liveness_%  speechiness_%  \\\n",
       "0             8              4   \n",
       "1            10              4   \n",
       "2            31              6   \n",
       "3            11             15   \n",
       "4            11              6   \n",
       "..          ...            ...   \n",
       "948           8              3   \n",
       "949          12              6   \n",
       "950           8              6   \n",
       "951          12              5   \n",
       "952          11              5   \n",
       "\n",
       "                                             cover_url  \n",
       "0                                            Not Found  \n",
       "1    https://i.scdn.co/image/ab67616d0000b2730656d5...  \n",
       "2    https://i.scdn.co/image/ab67616d0000b273e85259...  \n",
       "3    https://i.scdn.co/image/ab67616d0000b273e787cf...  \n",
       "4    https://i.scdn.co/image/ab67616d0000b273ab5c9c...  \n",
       "..                                                 ...  \n",
       "948  https://i.scdn.co/image/ab67616d0000b2730f5397...  \n",
       "949  https://i.scdn.co/image/ab67616d0000b273e0b60c...  \n",
       "950                                          Not Found  \n",
       "951                                          Not Found  \n",
       "952  https://i.scdn.co/image/ab67616d0000b273992a1f...  \n",
       "\n",
       "[817 rows x 25 columns]"
      ]
     },
     "execution_count": 110,
     "metadata": {},
     "output_type": "execute_result"
    }
   ],
   "source": [
    "#droping the null data\n",
    "data=data.dropna()\n",
    "data"
   ]
  },
  {
   "cell_type": "code",
   "execution_count": 111,
   "id": "595e9ce8-c5ed-450b-a162-08dc1f2293bb",
   "metadata": {},
   "outputs": [
    {
     "name": "stdout",
     "output_type": "stream",
     "text": [
      "<class 'pandas.core.frame.DataFrame'>\n",
      "Index: 817 entries, 0 to 952\n",
      "Data columns (total 25 columns):\n",
      " #   Column                Non-Null Count  Dtype \n",
      "---  ------                --------------  ----- \n",
      " 0   track_name            817 non-null    object\n",
      " 1   artist(s)_name        817 non-null    object\n",
      " 2   artist_count          817 non-null    int64 \n",
      " 3   released_year         817 non-null    int64 \n",
      " 4   released_month        817 non-null    int64 \n",
      " 5   released_day          817 non-null    int64 \n",
      " 6   in_spotify_playlists  817 non-null    int64 \n",
      " 7   in_spotify_charts     817 non-null    int64 \n",
      " 8   streams               817 non-null    object\n",
      " 9   in_apple_playlists    817 non-null    int64 \n",
      " 10  in_apple_charts       817 non-null    int64 \n",
      " 11  in_deezer_playlists   817 non-null    object\n",
      " 12  in_deezer_charts      817 non-null    int64 \n",
      " 13  in_shazam_charts      817 non-null    object\n",
      " 14  bpm                   817 non-null    int64 \n",
      " 15  key                   817 non-null    object\n",
      " 16  mode                  817 non-null    object\n",
      " 17  danceability_%        817 non-null    int64 \n",
      " 18  valence_%             817 non-null    int64 \n",
      " 19  energy_%              817 non-null    int64 \n",
      " 20  acousticness_%        817 non-null    int64 \n",
      " 21  instrumentalness_%    817 non-null    int64 \n",
      " 22  liveness_%            817 non-null    int64 \n",
      " 23  speechiness_%         817 non-null    int64 \n",
      " 24  cover_url             817 non-null    object\n",
      "dtypes: int64(17), object(8)\n",
      "memory usage: 166.0+ KB\n"
     ]
    }
   ],
   "source": [
    "data.info()"
   ]
  },
  {
   "cell_type": "code",
   "execution_count": 112,
   "id": "4aeba532-9394-4d09-ba8d-7d3189616c31",
   "metadata": {},
   "outputs": [
    {
     "data": {
      "text/plain": [
       "track_name              0\n",
       "artist(s)_name          0\n",
       "artist_count            0\n",
       "released_year           0\n",
       "released_month          0\n",
       "released_day            0\n",
       "in_spotify_playlists    0\n",
       "in_spotify_charts       0\n",
       "streams                 0\n",
       "in_apple_playlists      0\n",
       "in_apple_charts         0\n",
       "in_deezer_playlists     0\n",
       "in_deezer_charts        0\n",
       "in_shazam_charts        0\n",
       "bpm                     0\n",
       "key                     0\n",
       "mode                    0\n",
       "danceability_%          0\n",
       "valence_%               0\n",
       "energy_%                0\n",
       "acousticness_%          0\n",
       "instrumentalness_%      0\n",
       "liveness_%              0\n",
       "speechiness_%           0\n",
       "cover_url               0\n",
       "dtype: int64"
      ]
     },
     "execution_count": 112,
     "metadata": {},
     "output_type": "execute_result"
    }
   ],
   "source": [
    "data.isnull().sum()"
   ]
  },
  {
   "cell_type": "code",
   "execution_count": 113,
   "id": "b783a939-ec0d-4c26-90b6-ad952e72b65c",
   "metadata": {},
   "outputs": [
    {
     "data": {
      "text/html": [
       "<div>\n",
       "<style scoped>\n",
       "    .dataframe tbody tr th:only-of-type {\n",
       "        vertical-align: middle;\n",
       "    }\n",
       "\n",
       "    .dataframe tbody tr th {\n",
       "        vertical-align: top;\n",
       "    }\n",
       "\n",
       "    .dataframe thead th {\n",
       "        text-align: right;\n",
       "    }\n",
       "</style>\n",
       "<table border=\"1\" class=\"dataframe\">\n",
       "  <thead>\n",
       "    <tr style=\"text-align: right;\">\n",
       "      <th></th>\n",
       "      <th>track_name</th>\n",
       "      <th>artist(s)_name</th>\n",
       "      <th>artist_count</th>\n",
       "      <th>released_year</th>\n",
       "      <th>released_month</th>\n",
       "      <th>released_day</th>\n",
       "      <th>in_spotify_playlists</th>\n",
       "      <th>in_spotify_charts</th>\n",
       "      <th>streams</th>\n",
       "      <th>in_apple_playlists</th>\n",
       "      <th>...</th>\n",
       "      <th>bpm</th>\n",
       "      <th>key</th>\n",
       "      <th>mode</th>\n",
       "      <th>danceability_%</th>\n",
       "      <th>valence_%</th>\n",
       "      <th>energy_%</th>\n",
       "      <th>acousticness_%</th>\n",
       "      <th>instrumentalness_%</th>\n",
       "      <th>liveness_%</th>\n",
       "      <th>speechiness_%</th>\n",
       "    </tr>\n",
       "  </thead>\n",
       "  <tbody>\n",
       "    <tr>\n",
       "      <th>0</th>\n",
       "      <td>Seven (feat. Latto) (Explicit Ver.)</td>\n",
       "      <td>Latto, Jung Kook</td>\n",
       "      <td>2</td>\n",
       "      <td>2023</td>\n",
       "      <td>7</td>\n",
       "      <td>14</td>\n",
       "      <td>553</td>\n",
       "      <td>147</td>\n",
       "      <td>141381703</td>\n",
       "      <td>43</td>\n",
       "      <td>...</td>\n",
       "      <td>125</td>\n",
       "      <td>B</td>\n",
       "      <td>Major</td>\n",
       "      <td>80</td>\n",
       "      <td>89</td>\n",
       "      <td>83</td>\n",
       "      <td>31</td>\n",
       "      <td>0</td>\n",
       "      <td>8</td>\n",
       "      <td>4</td>\n",
       "    </tr>\n",
       "    <tr>\n",
       "      <th>1</th>\n",
       "      <td>LALA</td>\n",
       "      <td>Myke Towers</td>\n",
       "      <td>1</td>\n",
       "      <td>2023</td>\n",
       "      <td>3</td>\n",
       "      <td>23</td>\n",
       "      <td>1474</td>\n",
       "      <td>48</td>\n",
       "      <td>133716286</td>\n",
       "      <td>48</td>\n",
       "      <td>...</td>\n",
       "      <td>92</td>\n",
       "      <td>C#</td>\n",
       "      <td>Major</td>\n",
       "      <td>71</td>\n",
       "      <td>61</td>\n",
       "      <td>74</td>\n",
       "      <td>7</td>\n",
       "      <td>0</td>\n",
       "      <td>10</td>\n",
       "      <td>4</td>\n",
       "    </tr>\n",
       "    <tr>\n",
       "      <th>2</th>\n",
       "      <td>vampire</td>\n",
       "      <td>Olivia Rodrigo</td>\n",
       "      <td>1</td>\n",
       "      <td>2023</td>\n",
       "      <td>6</td>\n",
       "      <td>30</td>\n",
       "      <td>1397</td>\n",
       "      <td>113</td>\n",
       "      <td>140003974</td>\n",
       "      <td>94</td>\n",
       "      <td>...</td>\n",
       "      <td>138</td>\n",
       "      <td>F</td>\n",
       "      <td>Major</td>\n",
       "      <td>51</td>\n",
       "      <td>32</td>\n",
       "      <td>53</td>\n",
       "      <td>17</td>\n",
       "      <td>0</td>\n",
       "      <td>31</td>\n",
       "      <td>6</td>\n",
       "    </tr>\n",
       "    <tr>\n",
       "      <th>3</th>\n",
       "      <td>Cruel Summer</td>\n",
       "      <td>Taylor Swift</td>\n",
       "      <td>1</td>\n",
       "      <td>2019</td>\n",
       "      <td>8</td>\n",
       "      <td>23</td>\n",
       "      <td>7858</td>\n",
       "      <td>100</td>\n",
       "      <td>800840817</td>\n",
       "      <td>116</td>\n",
       "      <td>...</td>\n",
       "      <td>170</td>\n",
       "      <td>A</td>\n",
       "      <td>Major</td>\n",
       "      <td>55</td>\n",
       "      <td>58</td>\n",
       "      <td>72</td>\n",
       "      <td>11</td>\n",
       "      <td>0</td>\n",
       "      <td>11</td>\n",
       "      <td>15</td>\n",
       "    </tr>\n",
       "    <tr>\n",
       "      <th>4</th>\n",
       "      <td>WHERE SHE GOES</td>\n",
       "      <td>Bad Bunny</td>\n",
       "      <td>1</td>\n",
       "      <td>2023</td>\n",
       "      <td>5</td>\n",
       "      <td>18</td>\n",
       "      <td>3133</td>\n",
       "      <td>50</td>\n",
       "      <td>303236322</td>\n",
       "      <td>84</td>\n",
       "      <td>...</td>\n",
       "      <td>144</td>\n",
       "      <td>A</td>\n",
       "      <td>Minor</td>\n",
       "      <td>65</td>\n",
       "      <td>23</td>\n",
       "      <td>80</td>\n",
       "      <td>14</td>\n",
       "      <td>63</td>\n",
       "      <td>11</td>\n",
       "      <td>6</td>\n",
       "    </tr>\n",
       "    <tr>\n",
       "      <th>...</th>\n",
       "      <td>...</td>\n",
       "      <td>...</td>\n",
       "      <td>...</td>\n",
       "      <td>...</td>\n",
       "      <td>...</td>\n",
       "      <td>...</td>\n",
       "      <td>...</td>\n",
       "      <td>...</td>\n",
       "      <td>...</td>\n",
       "      <td>...</td>\n",
       "      <td>...</td>\n",
       "      <td>...</td>\n",
       "      <td>...</td>\n",
       "      <td>...</td>\n",
       "      <td>...</td>\n",
       "      <td>...</td>\n",
       "      <td>...</td>\n",
       "      <td>...</td>\n",
       "      <td>...</td>\n",
       "      <td>...</td>\n",
       "      <td>...</td>\n",
       "    </tr>\n",
       "    <tr>\n",
       "      <th>948</th>\n",
       "      <td>My Mind &amp; Me</td>\n",
       "      <td>Selena Gomez</td>\n",
       "      <td>1</td>\n",
       "      <td>2022</td>\n",
       "      <td>11</td>\n",
       "      <td>3</td>\n",
       "      <td>953</td>\n",
       "      <td>0</td>\n",
       "      <td>91473363</td>\n",
       "      <td>61</td>\n",
       "      <td>...</td>\n",
       "      <td>144</td>\n",
       "      <td>A</td>\n",
       "      <td>Major</td>\n",
       "      <td>60</td>\n",
       "      <td>24</td>\n",
       "      <td>39</td>\n",
       "      <td>57</td>\n",
       "      <td>0</td>\n",
       "      <td>8</td>\n",
       "      <td>3</td>\n",
       "    </tr>\n",
       "    <tr>\n",
       "      <th>949</th>\n",
       "      <td>Bigger Than The Whole Sky</td>\n",
       "      <td>Taylor Swift</td>\n",
       "      <td>1</td>\n",
       "      <td>2022</td>\n",
       "      <td>10</td>\n",
       "      <td>21</td>\n",
       "      <td>1180</td>\n",
       "      <td>0</td>\n",
       "      <td>121871870</td>\n",
       "      <td>4</td>\n",
       "      <td>...</td>\n",
       "      <td>166</td>\n",
       "      <td>F#</td>\n",
       "      <td>Major</td>\n",
       "      <td>42</td>\n",
       "      <td>7</td>\n",
       "      <td>24</td>\n",
       "      <td>83</td>\n",
       "      <td>1</td>\n",
       "      <td>12</td>\n",
       "      <td>6</td>\n",
       "    </tr>\n",
       "    <tr>\n",
       "      <th>950</th>\n",
       "      <td>A Veces (feat. Feid)</td>\n",
       "      <td>Feid, Paulo Londra</td>\n",
       "      <td>2</td>\n",
       "      <td>2022</td>\n",
       "      <td>11</td>\n",
       "      <td>3</td>\n",
       "      <td>573</td>\n",
       "      <td>0</td>\n",
       "      <td>73513683</td>\n",
       "      <td>2</td>\n",
       "      <td>...</td>\n",
       "      <td>92</td>\n",
       "      <td>C#</td>\n",
       "      <td>Major</td>\n",
       "      <td>80</td>\n",
       "      <td>81</td>\n",
       "      <td>67</td>\n",
       "      <td>4</td>\n",
       "      <td>0</td>\n",
       "      <td>8</td>\n",
       "      <td>6</td>\n",
       "    </tr>\n",
       "    <tr>\n",
       "      <th>951</th>\n",
       "      <td>En La De Ella</td>\n",
       "      <td>Feid, Sech, Jhayco</td>\n",
       "      <td>3</td>\n",
       "      <td>2022</td>\n",
       "      <td>10</td>\n",
       "      <td>20</td>\n",
       "      <td>1320</td>\n",
       "      <td>0</td>\n",
       "      <td>133895612</td>\n",
       "      <td>29</td>\n",
       "      <td>...</td>\n",
       "      <td>97</td>\n",
       "      <td>C#</td>\n",
       "      <td>Major</td>\n",
       "      <td>82</td>\n",
       "      <td>67</td>\n",
       "      <td>77</td>\n",
       "      <td>8</td>\n",
       "      <td>0</td>\n",
       "      <td>12</td>\n",
       "      <td>5</td>\n",
       "    </tr>\n",
       "    <tr>\n",
       "      <th>952</th>\n",
       "      <td>Alone</td>\n",
       "      <td>Burna Boy</td>\n",
       "      <td>1</td>\n",
       "      <td>2022</td>\n",
       "      <td>11</td>\n",
       "      <td>4</td>\n",
       "      <td>782</td>\n",
       "      <td>2</td>\n",
       "      <td>96007391</td>\n",
       "      <td>27</td>\n",
       "      <td>...</td>\n",
       "      <td>90</td>\n",
       "      <td>E</td>\n",
       "      <td>Minor</td>\n",
       "      <td>61</td>\n",
       "      <td>32</td>\n",
       "      <td>67</td>\n",
       "      <td>15</td>\n",
       "      <td>0</td>\n",
       "      <td>11</td>\n",
       "      <td>5</td>\n",
       "    </tr>\n",
       "  </tbody>\n",
       "</table>\n",
       "<p>817 rows × 24 columns</p>\n",
       "</div>"
      ],
      "text/plain": [
       "                              track_name      artist(s)_name  artist_count  \\\n",
       "0    Seven (feat. Latto) (Explicit Ver.)    Latto, Jung Kook             2   \n",
       "1                                   LALA         Myke Towers             1   \n",
       "2                                vampire      Olivia Rodrigo             1   \n",
       "3                           Cruel Summer        Taylor Swift             1   \n",
       "4                         WHERE SHE GOES           Bad Bunny             1   \n",
       "..                                   ...                 ...           ...   \n",
       "948                         My Mind & Me        Selena Gomez             1   \n",
       "949            Bigger Than The Whole Sky        Taylor Swift             1   \n",
       "950                 A Veces (feat. Feid)  Feid, Paulo Londra             2   \n",
       "951                        En La De Ella  Feid, Sech, Jhayco             3   \n",
       "952                                Alone           Burna Boy             1   \n",
       "\n",
       "     released_year  released_month  released_day  in_spotify_playlists  \\\n",
       "0             2023               7            14                   553   \n",
       "1             2023               3            23                  1474   \n",
       "2             2023               6            30                  1397   \n",
       "3             2019               8            23                  7858   \n",
       "4             2023               5            18                  3133   \n",
       "..             ...             ...           ...                   ...   \n",
       "948           2022              11             3                   953   \n",
       "949           2022              10            21                  1180   \n",
       "950           2022              11             3                   573   \n",
       "951           2022              10            20                  1320   \n",
       "952           2022              11             4                   782   \n",
       "\n",
       "     in_spotify_charts    streams  in_apple_playlists  ...  bpm key   mode  \\\n",
       "0                  147  141381703                  43  ...  125   B  Major   \n",
       "1                   48  133716286                  48  ...   92  C#  Major   \n",
       "2                  113  140003974                  94  ...  138   F  Major   \n",
       "3                  100  800840817                 116  ...  170   A  Major   \n",
       "4                   50  303236322                  84  ...  144   A  Minor   \n",
       "..                 ...        ...                 ...  ...  ...  ..    ...   \n",
       "948                  0   91473363                  61  ...  144   A  Major   \n",
       "949                  0  121871870                   4  ...  166  F#  Major   \n",
       "950                  0   73513683                   2  ...   92  C#  Major   \n",
       "951                  0  133895612                  29  ...   97  C#  Major   \n",
       "952                  2   96007391                  27  ...   90   E  Minor   \n",
       "\n",
       "    danceability_%  valence_% energy_% acousticness_%  instrumentalness_%  \\\n",
       "0               80         89       83             31                   0   \n",
       "1               71         61       74              7                   0   \n",
       "2               51         32       53             17                   0   \n",
       "3               55         58       72             11                   0   \n",
       "4               65         23       80             14                  63   \n",
       "..             ...        ...      ...            ...                 ...   \n",
       "948             60         24       39             57                   0   \n",
       "949             42          7       24             83                   1   \n",
       "950             80         81       67              4                   0   \n",
       "951             82         67       77              8                   0   \n",
       "952             61         32       67             15                   0   \n",
       "\n",
       "     liveness_%  speechiness_%  \n",
       "0             8              4  \n",
       "1            10              4  \n",
       "2            31              6  \n",
       "3            11             15  \n",
       "4            11              6  \n",
       "..          ...            ...  \n",
       "948           8              3  \n",
       "949          12              6  \n",
       "950           8              6  \n",
       "951          12              5  \n",
       "952          11              5  \n",
       "\n",
       "[817 rows x 24 columns]"
      ]
     },
     "execution_count": 113,
     "metadata": {},
     "output_type": "execute_result"
    }
   ],
   "source": [
    "#droping the cover_url column\n",
    "data.drop('cover_url',axis=1)"
   ]
  },
  {
   "cell_type": "markdown",
   "id": "11a4c915-b19e-4279-81e0-e4c468e6b5d3",
   "metadata": {},
   "source": [
    "### EDA and Visualizations"
   ]
  },
  {
   "cell_type": "code",
   "execution_count": 114,
   "id": "5dbd510a-d603-4b71-b44c-164c4f865684",
   "metadata": {},
   "outputs": [
    {
     "name": "stdout",
     "output_type": "stream",
     "text": [
      "Number of outliers detected: 143\n"
     ]
    }
   ],
   "source": [
    "#checking for outliers and removing them\n",
    "from scipy import stats\n",
    "\n",
    "# Calculate Z-scores of each value in the DataFrame\n",
    "z_scores = stats.zscore(data.select_dtypes(include=['float64', 'int64']))\n",
    "\n",
    "# Identify outliers (Z-score > 3 or < -3)\n",
    "data_outliers = data[(z_scores > 3).any(axis=1) | (z_scores < -3).any(axis=1)]\n",
    "print(f'Number of outliers detected: {data_outliers.shape[0]}')"
   ]
  },
  {
   "cell_type": "code",
   "execution_count": 115,
   "id": "6476eed3-1500-41de-bb70-0ad659a9c193",
   "metadata": {},
   "outputs": [],
   "source": [
    "# Remove rows with outliers based on Z-score\n",
    "data_no_outliers = data[(z_scores < 3).all(axis=1) & (z_scores > -3).all(axis=1)]"
   ]
  },
  {
   "cell_type": "code",
   "execution_count": 116,
   "id": "20ec014f-c53f-4c8e-95b7-4cec0ff4f64c",
   "metadata": {},
   "outputs": [],
   "source": [
    "#importing visualization libraries \n",
    "import seaborn as sns\n",
    "import plotly.express as px"
   ]
  },
  {
   "cell_type": "code",
   "execution_count": 117,
   "id": "eb51bf1e-047f-4b09-ac3f-0939a70d54db",
   "metadata": {},
   "outputs": [
    {
     "data": {
      "application/vnd.plotly.v1+json": {
       "config": {
        "plotlyServerURL": "https://plot.ly"
       },
       "data": [
        {
         "customdata": [
          [
           "LALA",
           "Myke Towers"
          ],
          [
           "Columbia",
           "Quevedo"
          ],
          [
           "La Bebe - Remix",
           "Peso Pluma, Yng Lvcas"
          ],
          [
           "Classy 101",
           "Feid, Young Miko"
          ],
          [
           "LADY GAGA",
           "Gabito Ballesteros, Junior H, Peso Pluma"
          ],
          [
           "I Can See You (Taylorï¿½ï¿½ï¿½s Version) (From The ",
           "Taylor Swift"
          ],
          [
           "Peso Pluma: Bzrp Music Sessions, Vol. 55",
           "Bizarrap, Peso Pluma"
          ],
          [
           "SABOR FRESA",
           "Fuerza Regida"
          ],
          [
           "MOJABI GHOST",
           "Tainy, Bad Bunny"
          ],
          [
           "Last Night",
           "Morgan Wallen"
          ],
          [
           "TULUM",
           "Peso Pluma, Grupo Frontera"
          ],
          [
           "Anti-Hero",
           "Taylor Swift"
          ],
          [
           "TQG",
           "Karol G, Shakira"
          ],
          [
           "Frï¿½ï¿½gil (feat. Grupo Front",
           "Yahritza Y Su Esencia, Grupo Frontera"
          ],
          [
           "Blank Space",
           "Taylor Swift"
          ],
          [
           "Style",
           "Taylor Swift"
          ],
          [
           "TQM",
           "Fuerza Regida"
          ],
          [
           "El Azul",
           "Junior H, Peso Pluma"
          ],
          [
           "See You Again",
           "Tyler, The Creator, Kali Uchis"
          ],
          [
           "Angels Like You",
           "Miley Cyrus"
          ],
          [
           "Die For You",
           "The Weeknd"
          ],
          [
           "Die For You - Remix",
           "Ariana Grande, The Weeknd"
          ],
          [
           "El Cielo",
           "Feid, Myke Towers, Sky Rompiendo"
          ],
          [
           "Baby Don't Hurt Me",
           "David Guetta, Anne-Marie, Coi Leray"
          ],
          [
           "AMARGURA",
           "Karol G"
          ],
          [
           "(It Goes Like) Nanana - Edit",
           "Peggy Gou"
          ],
          [
           "Moonlight",
           "Kali Uchis"
          ],
          [
           "La Bachata",
           "Manuel Turizo"
          ],
          [
           "Tï¿½ï¿",
           "dennis, MC Kevin o Chris"
          ],
          [
           "Boy's a liar Pt. 2",
           "PinkPantheress, Ice Spice"
          ],
          [
           "Left and Right (Feat. Jung Kook of BTS)",
           "Charlie Puth, BTS, Jung Kook"
          ],
          [
           "BESO",
           "Rauw Alejandro, ROSALï¿½"
          ],
          [
           "Hey Mor",
           "Ozuna, Feid"
          ],
          [
           "Karma",
           "Taylor Swift"
          ],
          [
           "People",
           "Libianca"
          ],
          [
           "Overdrive",
           "Post Malone"
          ],
          [
           "Enchanted (Taylor's Version)",
           "Taylor Swift"
          ],
          [
           "BABY HELLO",
           "Rauw Alejandro, Bizarrap"
          ],
          [
           "golden hour",
           "JVKE"
          ],
          [
           "Quevedo: Bzrp Music Sessions, Vol. 52",
           "Bizarrap, Quevedo"
          ],
          [
           "Here With Me",
           "d4vd"
          ],
          [
           "Yandel 150",
           "Yandel, Feid"
          ],
          [
           "CORAZï¿½ï¿½N VA",
           "Maria Becerra"
          ],
          [
           "Until I Found You (with Em Beihold) - Em Beihold Version",
           "Em Beihold, Stephen Sanchez"
          ],
          [
           "Novidade na ï¿½ï¿",
           "Mc Livinho, DJ Matt D"
          ],
          [
           "Back To December (Taylor's Version)",
           "Taylor Swift"
          ],
          [
           "El Merengue",
           "Marshmello, Manuel Turizo"
          ],
          [
           "MONTAGEM - FR PUNK",
           "Ayparia, unxbected"
          ],
          [
           "Fast Car",
           "Luke Combs"
          ],
          [
           "What It Is (Solo Version)",
           "Doechii"
          ],
          [
           "Coco Chanel",
           "Bad Bunny, Eladio Carrion"
          ],
          [
           "Donï¿½ï¿½ï¿½t Bl",
           "Taylor Swift"
          ],
          [
           "All My Life (feat. J. Cole)",
           "J. Cole, Lil Durk"
          ],
          [
           "Say Yes To Heaven",
           "Lana Del Rey"
          ],
          [
           "Snooze",
           "SZA"
          ],
          [
           "Summertime Sadness",
           "Lana Del Rey"
          ],
          [
           "Take Two",
           "BTS"
          ],
          [
           "Lover",
           "Taylor Swift"
          ],
          [
           "Too Many Nights (feat. Don Toliver & with Future)",
           "Future, Metro Boomin, Don Toliver"
          ],
          [
           "Chemical",
           "Post Malone"
          ],
          [
           "Mockingbird",
           "Eminem"
          ],
          [
           "New Jeans",
           "NewJeans"
          ],
          [
           "Primera Cita",
           "Carin Leon"
          ],
          [
           "Dandelions",
           "Ruth B."
          ],
          [
           "Bones",
           "Imagine Dragons"
          ],
          [
           "Set Fire to the Rain",
           "Adele"
          ],
          [
           "Money Trees",
           "Kendrick Lamar, Jay Rock"
          ],
          [
           "Tak Segampang Itu",
           "Anggi Marito"
          ],
          [
           "LAGUNAS",
           "Jasiel Nuï¿½ï¿½ez, Peso P"
          ],
          [
           "Mine (Taylor's Version)",
           "Taylor Swift"
          ],
          [
           "No Role Modelz",
           "J. Cole"
          ],
          [
           "Tattoo",
           "Loreen"
          ],
          [
           "Rara Vez",
           "Taiu, Milo j"
          ],
          [
           "VAGABUNDO",
           "Sebastian Yatra, Manuel Turizo, Beï¿½ï"
          ],
          [
           "august",
           "Taylor Swift"
          ],
          [
           "LUNA",
           "Junior H, Peso Pluma"
          ],
          [
           "Miracle (with Ellie Goulding)",
           "Calvin Harris, Ellie Goulding"
          ],
          [
           "Nonsense",
           "Sabrina Carpenter"
          ],
          [
           "Que Vuelvas",
           "Carin Leon, Grupo Frontera"
          ],
          [
           "Feliz Cumpleaï¿½ï¿½os Fe",
           "Feid"
          ],
          [
           "Can't Hold Us (feat. Ray Dalton)",
           "Ray Dalton, Ryan Lewis, Macklemore"
          ],
          [
           "lovely - Bonus Track",
           "Billie Eilish, Khalid"
          ],
          [
           "Rauw Alejandro: Bzrp Music Sessions, Vol. 56",
           "Rauw Alejandro, Bizarrap"
          ],
          [
           "Queencard",
           "(G)I-DLE"
          ],
          [
           "OMG",
           "NewJeans"
          ],
          [
           "Radio",
           "Lana Del Rey"
          ],
          [
           "Trance (with Travis Scott & Young Thug)",
           "Travis Scott, Young Thug, Metro Boomin"
          ],
          [
           "Perfect",
           "Ed Sheeran"
          ],
          [
           "Romantic Homicide",
           "d4vd"
          ],
          [
           "Believer",
           "Imagine Dragons"
          ],
          [
           "Novo Balanï¿½",
           "Veigh, Bvga Beatz, Supernova Ent, Prod Malax"
          ],
          [
           "Gol Bolinha, Gol Quadrado 2",
           "Mc Pedrinho, DJ 900"
          ],
          [
           "Without Me",
           "Eminem"
          ],
          [
           "Stargirl Interlude",
           "The Weeknd, Lana Del Rey"
          ],
          [
           "Ojitos Lindos",
           "Bomba Estï¿½ï¿½reo, Bad B"
          ],
          [
           "Somewhere Only We Know",
           "Keane"
          ],
          [
           "Those Eyes",
           "New West"
          ],
          [
           "El Gordo Trae El Mando",
           "Chino Pacas"
          ],
          [
           "Mi Bello Angel",
           "Natanael Cano"
          ],
          [
           "Nosso Quadro",
           "Ana Castela, AgroPlay"
          ],
          [
           "Locked Out Of Heaven",
           "Bruno Mars"
          ],
          [
           "Un Finde | CROSSOVER #2",
           "Big One, FMK, Ke personajes"
          ],
          [
           "PRC",
           "Natanael Cano, Peso Pluma"
          ],
          [
           "Enchanted",
           "Taylor Swift"
          ],
          [
           "Sure Thing",
           "Miguel"
          ],
          [
           "Let Me Down Slowly",
           "Alec Benjamin"
          ],
          [
           "Am I Dreaming (Metro Boomin & A$AP Rocky, Roisee)",
           "A$AP Rocky, Metro Boomin, Roisee"
          ],
          [
           "Demons",
           "Imagine Dragons"
          ],
          [
           "ýýýýýýýýýýýý",
           "YOASOBI"
          ],
          [
           "Reminder",
           "The Weeknd"
          ],
          [
           "Why'd You Only Call Me When You're High?",
           "Arctic Monkeys"
          ],
          [
           "Car's Outside",
           "James Arthur"
          ],
          [
           "Cheques",
           "Shubh"
          ],
          [
           "Pink + White",
           "Frank Ocean"
          ],
          [
           "Just The Way You Are",
           "Bruno Mars"
          ],
          [
           "Take Me To Church",
           "Hozier"
          ],
          [
           "Bebe Dame",
           "Fuerza Regida, Grupo Frontera"
          ],
          [
           "You Belong With Me (Taylorï¿½ï¿½ï¿½s Ve",
           "Taylor Swift"
          ],
          [
           "Titi Me Preguntï¿",
           "Bad Bunny"
          ],
          [
           "Better Than Revenge (Taylor's Version)",
           "Taylor Swift"
          ],
          [
           "Shut up My Moms Calling",
           "Hotel Ugly"
          ],
          [
           "Es un Secreto",
           "Plan B"
          ],
          [
           "POLARIS - Remix",
           "Feid, Mora, Saiko, Quevedo"
          ],
          [
           "Ditto",
           "NewJeans"
          ],
          [
           "Annihilate (Spider-Man: Across the Spider-Verse) (Metro Boomin & Swae Lee, Lil Wayne, Offset)",
           "Swae Lee, Lil Wayne, Offset, Metro Boomin"
          ],
          [
           "Acrï¿½ï¿½s",
           "Shakira"
          ],
          [
           "AMG",
           "Natanael Cano, Gabito Ballesteros, Peso Pluma"
          ],
          [
           "Phir Aur Kya Chahiye (From \"Zara Hatke Zara Bachke\")",
           "Arijit Singh, Sachin-Jigar, Amitabha Bhattacharya"
          ],
          [
           "S-Class",
           "Stray Kids"
          ],
          [
           "Hits Different",
           "Taylor Swift"
          ],
          [
           "Chanel",
           "Becky G, Peso Pluma"
          ],
          [
           "Self Love (Spider-Man: Across the Spider-Verse) (Metro Boomin & Coi Leray)",
           "Metro Boomin, Coi Leray"
          ],
          [
           "Abcdario",
           "Junior H, Eden Muï¿½ï"
          ],
          [
           "Obsessed",
           "Abhijay Sharma, Riar Saab"
          ],
          [
           "Piï¿½ï¿½man Deï¿",
           "Semicenk, Doï¿½ï¿½u "
          ],
          [
           "FLOWER",
           "JISOO"
          ],
          [
           "All The Way Live (Spider-Man: Across the Spider-Verse) (Metro Boomin & Future, Lil Uzi Vert)",
           "Future, Lil Uzi Vert, Metro Boomin"
          ],
          [
           "Eyes Closed",
           "Ed Sheeran"
          ],
          [
           "Escapism.",
           "RAYE, 070 Shake"
          ],
          [
           "La Jumpa",
           "Arcangel, Bad Bunny"
          ],
          [
           "Karma (feat. Ice Spice)",
           "Taylor Swift, Ice Spice"
          ],
          [
           "Superhero (Heroes & Villains) [with Future & Chris Brown]",
           "Future, Chris Brown, Metro Boomin"
          ],
          [
           "Las Morras",
           "BLESSD, Peso Pluma"
          ],
          [
           "CHORRITO PA LAS ANIMAS",
           "Feid"
          ],
          [
           "Ch y la Pizza",
           "Fuerza Regida, Natanael Cano"
          ],
          [
           "Snow On The Beach (feat. More Lana Del Rey)",
           "Lana Del Rey, Taylor Swift"
          ],
          [
           "Players",
           "Coi Leray"
          ],
          [
           "Stand By Me (feat. Morgan Wallen)",
           "Lil Durk, Morgan Wallen"
          ],
          [
           "Normal",
           "Feid"
          ],
          [
           "Hummingbird (Metro Boomin & James Blake)",
           "James Blake, Metro Boomin"
          ],
          [
           "Bad Habit",
           "Steve Lacy"
          ],
          [
           "Lilith (feat. SUGA of BTS) (Diablo IV Anthem)",
           "Halsey, Suga"
          ],
          [
           "69",
           "Nicky Jam, Feid"
          ],
          [
           "Niï¿½ï¿½a Bo",
           "Sean Paul, Feid"
          ],
          [
           "Search & Rescue",
           "Drake"
          ],
          [
           "AMERICA HAS A PROBLEM (feat. Kendrick Lamar)",
           "Kendrick Lamar, Beyoncï¿"
          ],
          [
           "Lavender Haze",
           "Taylor Swift"
          ],
          [
           "Efecto",
           "Bad Bunny"
          ],
          [
           "Cupido",
           "Tini"
          ],
          [
           "Just Wanna Rock",
           "Lil Uzi Vert"
          ],
          [
           "Rich Flex",
           "Drake, 21 Savage"
          ],
          [
           "Danger (Spider) (Offset & JID)",
           "Offset, JID"
          ],
          [
           "The Real Slim Shady",
           "Eminem"
          ],
          [
           "MERCHO",
           "Migrantes, LiL CaKe, Nico Valdi"
          ],
          [
           "The Color Violet",
           "Tory Lanez"
          ],
          [
           "Glimpse of Us",
           "Joji"
          ],
          [
           "Mejor Que Yo",
           "Mambo Kingz, DJ Luian, Anuel Aa"
          ],
          [
           "Curtains",
           "Ed Sheeran"
          ],
          [
           "UNFORGIVEN (feat. Nile Rodgers)",
           "Nile Rodgers, LE SSERAFIM"
          ],
          [
           "Haegeum",
           "Agust D"
          ],
          [
           "Conexï¿½ï¿½es de Mï¿½ï¿½fia (feat. Rich ",
           "Rich The Kid, Matuï¿"
          ],
          [
           "Never Felt So Alone",
           "Labrinth"
          ],
          [
           "X SI VOLVEMOS",
           "Karol G, Romeo Santos"
          ],
          [
           "ceilings",
           "Lizzy McAlpine"
          ],
          [
           "Cupid",
           "Fifty Fifty"
          ],
          [
           "I AM",
           "IVE"
          ],
          [
           "Cupid ï¿½ï¿½ï¿½ Twin Ver. (FIFTY FIFTY) ï¿½ï¿½ï¿½ Spe",
           "sped up 8282"
          ],
          [
           "Shorty Party",
           "Cartel De Santa, La Kelly"
          ],
          [
           "Super",
           "SEVENTEEN"
          ],
          [
           "Double Fantasy (with Future)",
           "The Weeknd, Future"
          ],
          [
           "All Of The Girls You Loved Before",
           "Taylor Swift"
          ],
          [
           "PROVENZA",
           "Karol G"
          ],
          [
           "Princess Diana (with Nicki Minaj)",
           "Nicki Minaj, Ice Spice"
          ],
          [
           "Di Que Si",
           "Grupo Marca Registrada, Grupo Frontera"
          ],
          [
           "Igualito a Mi Apï¿",
           "Fuerza Regida, Peso Pluma"
          ],
          [
           "Shoong! (feat. LISA of BLACKPINK)",
           "TAEYANG, Lisa"
          ],
          [
           "Komang",
           "Raim Laode"
          ],
          [
           "DESPECHï¿",
           "ROSALï¿½"
          ],
          [
           "Made You Look",
           "Meghan Trainor"
          ],
          [
           "Watch This - ARIZONATEARS Pluggnb Remix",
           "sped up nightcore, ARIZONATEARS, Lil Uzi Vert"
          ],
          [
           "Punto G",
           "Quevedo"
          ],
          [
           "Lovers Rock",
           "TV Girl"
          ],
          [
           "Mami Chula",
           "Quevedo, Jhayco"
          ],
          [
           "En Paris",
           "El Chachito, Junior H"
          ],
          [
           "I Was Never There",
           "The Weeknd, Gesaffelstein"
          ],
          [
           "Don't ever say love me (feat. RM of BTS)",
           "RM, Colde"
          ],
          [
           "Gato de Noche",
           "Nengo Flow, Bad Bunny"
          ],
          [
           "Call Out My Name",
           "The Weeknd"
          ],
          [
           "Like Crazy (English Version)",
           "Jimin"
          ],
          [
           "Rosa Pastel",
           "Jasiel Nuï¿½ï¿½ez, Peso P"
          ],
          [
           "Superman",
           "Eminem, Dina Rae"
          ],
          [
           "Mas Rica Que Ayer",
           "Mambo Kingz, DJ Luian, Anuel Aa"
          ],
          [
           "People Pt.2 (feat. IU)",
           "IU, Agust D"
          ],
          [
           "REMIX EXCLUSIVO",
           "Feid"
          ],
          [
           "Arcï¿½ï¿½ngel: Bzrp Music Sessions, Vol",
           "Arcangel, Bizarrap"
          ],
          [
           "DOGTOOTH",
           "Tyler, The Creator"
          ],
          [
           "10:35",
           "Tiï¿½ï¿½sto, Tate M"
          ],
          [
           "SORRY NOT SORRY",
           "Tyler, The Creator"
          ],
          [
           "HAPPY",
           "NF"
          ],
          [
           "La Bebe",
           "Yng Lvcas"
          ],
          [
           "Late Night Talking",
           "Harry Styles"
          ],
          [
           "Leï¿½",
           "Marï¿½ï¿½lia Mendo"
          ],
          [
           "Something in the Orange",
           "Zach Bryan"
          ],
          [
           "VOID",
           "Melanie Martinez"
          ],
          [
           "Dijeron Que No La Iba Lograr",
           "Fuerza Regida, Chino Pacas"
          ],
          [
           "If We Ever Broke Up",
           "Mae Stephens"
          ],
          [
           "LA INOCENTE",
           "Feid, Mora"
          ],
          [
           "Malas Decisiones",
           "Kenia OS"
          ],
          [
           "Murder In My Mind",
           "Kordhell"
          ],
          [
           "CAIRO",
           "Karol G, Ovy On The Drums"
          ],
          [
           "I Love You So",
           "The Walters"
          ],
          [
           "Dark Red",
           "Steve Lacy"
          ],
          [
           "Say You Won't Let Go",
           "James Arthur"
          ],
          [
           "Peaches (from The Super Mario Bros. Movie)",
           "Jack Black"
          ],
          [
           "LOKERA",
           "Brray, Rauw Alejandro, Lyanno"
          ],
          [
           "on the street (with J. Cole)",
           "j-hope, J. Cole"
          ],
          [
           "One Thing At A Time",
           "Morgan Wallen"
          ],
          [
           "Miss You",
           "Robin Schulz, Oliver Tree"
          ],
          [
           "Ainï¿½ï¿½ï¿½t Tha",
           "Morgan Wallen"
          ],
          [
           "Thinkinï¿½ï¿½ï¿½ B",
           "Morgan Wallen"
          ],
          [
           "Private Landing (feat. Justin Bieber & Future)",
           "Don Toliver, Future, Justin Bieber"
          ],
          [
           "Everything I Love",
           "Morgan Wallen"
          ],
          [
           "Heaven",
           "Niall Horan"
          ],
          [
           "LET GO",
           "Central Cee"
          ],
          [
           "Sial",
           "Mahalini"
          ],
          [
           "I Wrote The Book",
           "Morgan Wallen"
          ],
          [
           "Apna Bana Le (From \"Bhediya\")",
           "Arijit Singh, Sachin-Jigar"
          ],
          [
           "SPIT IN MY FACE!",
           "ThxSoMch"
          ],
          [
           "PLAYA DEL INGLï¿½",
           "Myke Towers, Quevedo"
          ],
          [
           "Man Made A Bar (feat. Eric Church)",
           "Morgan Wallen, Eric Church"
          ],
          [
           "Red Ruby Da Sleeze",
           "Nicki Minaj"
          ],
          [
           "Kahani Suno 2.0",
           "Kaifi Khalil"
          ],
          [
           "Nobody Gets Me",
           "SZA"
          ],
          [
           "PERO Tï¿",
           "Karol G, Quevedo"
          ],
          [
           "Hype Boy",
           "NewJeans"
          ],
          [
           "Bloody Mary",
           "Lady Gaga"
          ],
          [
           "ýýý98 Braves",
           "Morgan Wallen"
          ],
          [
           "WANDA",
           "Quevedo"
          ],
          [
           "Thought You Should Know",
           "Morgan Wallen"
          ],
          [
           "In The End",
           "Linkin Park"
          ],
          [
           "Zona De Perigo",
           "Leo Santana"
          ],
          [
           "Lovezinho",
           "Treyce"
          ],
          [
           "I Like You (A Happier Song) (with Doja Cat)",
           "Post Malone, Doja Cat"
          ],
          [
           "Neverita",
           "Bad Bunny"
          ],
          [
           "Sem Alianï¿½ï¿½a no ",
           "MC Xenon, Os Gemeos da Putaria"
          ],
          [
           "Revenge",
           "XXXTENTACION"
          ],
          [
           "LA CANCIï¿½",
           "J Balvin, Bad Bunny"
          ],
          [
           "Quï¿½ï¿½ Ago",
           "Yuridia, Angela Aguilar"
          ],
          [
           "Love Again",
           "The Kid Laroi"
          ],
          [
           "After Hours",
           "The Weeknd"
          ],
          [
           "About Damn Time",
           "Lizzo"
          ],
          [
           "ýýýýýýýýýýýýýýýýýýýýý",
           "Fujii Kaze"
          ],
          [
           "Besos Moja2",
           "Wisin & Yandel, ROSALï¿½"
          ],
          [
           "Maan Meri Jaan",
           "King"
          ],
          [
           "Moscow Mule",
           "Bad Bunny"
          ],
          [
           "My Universe",
           "Coldplay, BTS"
          ],
          [
           "LLYLM",
           "ROSALï¿½"
          ],
          [
           "TRUSTFALL",
           "P!nk"
          ],
          [
           "ANTIFRAGILE",
           "LE SSERAFIM"
          ],
          [
           "Boy's a liar",
           "PinkPantheress"
          ],
          [
           "Shirt",
           "SZA"
          ],
          [
           "Lift Me Up - From Black Panther: Wakanda Forever - Music From and Inspired By",
           "Rihanna"
          ],
          [
           "STAR WALKIN' (League of Legends Worlds Anthem)",
           "Lil Nas X"
          ],
          [
           "Sex, Drugs, Etc.",
           "Beach Weather"
          ],
          [
           "Boy With Luv (feat. Halsey)",
           "Halsey, BTS"
          ],
          [
           "Hey, Mickey!",
           "Baby Tate"
          ],
          [
           "Escapism. - Sped Up",
           "RAYE, 070 Shake"
          ],
          [
           "Te Felicito",
           "Shakira, Rauw Alejandro"
          ],
          [
           "Muï¿½ï¿½",
           "Steve Aoki, Tini, La Joaqui"
          ],
          [
           "TV",
           "Billie Eilish"
          ],
          [
           "I'm Not The Only One",
           "Sam Smith"
          ],
          [
           "Heather",
           "Conan Gray"
          ],
          [
           "Sugar Rush Ride",
           "TOMORROW X TOGETHER"
          ],
          [
           "WAIT FOR U (feat. Drake & Tems)",
           "Drake, Future, Tems"
          ],
          [
           "MIDDLE OF THE NIGHT",
           "Elley Duhï¿"
          ],
          [
           "Atlantis",
           "Seafret"
          ],
          [
           "Evoque Prata",
           "DJ Escobar, MC MENOR SG, MC MENOR HR"
          ],
          [
           "How Do I Say Goodbye",
           "Dean Lewis"
          ],
          [
           "Blind",
           "SZA"
          ],
          [
           "Die For You",
           "Joji"
          ],
          [
           "Doja",
           "Central Cee"
          ],
          [
           "Gatita",
           "Bellakath"
          ],
          [
           "Rumble",
           "Skrillex, Flowdan, Fred again.."
          ],
          [
           "Niagara Falls (Foot or 2) [with Travis Scott & 21 Savage]",
           "Travis Scott, 21 Savage, Metro Boomin"
          ],
          [
           "Yonaguni",
           "Bad Bunny"
          ],
          [
           "Super Freaky Girl",
           "Nicki Minaj"
          ],
          [
           "Where Are You Now",
           "Lost Frequencies, Calum Scott"
          ],
          [
           "WORTH NOTHING",
           "Twisted, Oliver Tree"
          ],
          [
           "KICK BACK",
           "Kenshi Yonezu"
          ],
          [
           "Evergreen (You Didnï¿½ï¿½ï¿½t Deserve Me A",
           "Omar Apollo"
          ],
          [
           "Levitating (feat. DaBaby)",
           "Dua Lipa, DaBaby"
          ],
          [
           "Shut up My Moms Calling - (Sped Up)",
           "Hotel Ugly"
          ],
          [
           "Ferrari",
           "James Hype, Miggy Dela Rosa"
          ],
          [
           "You're On Your Own, Kid",
           "Taylor Swift"
          ],
          [
           "It's Beginning To Look A Lot Like Christmas",
           "Michael Bublï¿"
          ],
          [
           "Underneath the Tree",
           "Kelly Clarkson"
          ],
          [
           "Holly Jolly Christmas",
           "Michael Bublï¿"
          ],
          [
           "Mistletoe",
           "Justin Bieber"
          ],
          [
           "Seek & Destroy",
           "SZA"
          ],
          [
           "Love Language",
           "SZA"
          ],
          [
           "Used (feat. Don Toliver)",
           "SZA, Don Toliver"
          ],
          [
           "Ghost in the Machine (feat. Phoebe Bridgers)",
           "SZA, Phoebe Bridgers"
          ],
          [
           "SOS",
           "SZA"
          ],
          [
           "Open Arms (feat. Travis Scott)",
           "SZA, Travis Scott"
          ],
          [
           "Driving Home for Christmas - 2019 Remaster",
           "Chris Rea"
          ],
          [
           "Gone Girl",
           "SZA"
          ],
          [
           "F2F",
           "SZA"
          ],
          [
           "Notice Me",
           "SZA"
          ],
          [
           "Antidepresan",
           "Mabel Matiz, Mert Demir"
          ],
          [
           "Wild Flower (with youjeen)",
           "RM"
          ],
          [
           "I Hate U",
           "SZA"
          ],
          [
           "Raindrops (Insane) [with Travis Scott]",
           "Travis Scott, Metro Boomin"
          ],
          [
           "SPIT IN MY FACE!",
           "ThxSoMch"
          ],
          [
           "Smoking on my Ex Pack",
           "SZA"
          ],
          [
           "Conceited",
           "SZA"
          ],
          [
           "Snow On The Beach (feat. Lana Del Rey)",
           "Taylor Swift, Lana Del Rey"
          ],
          [
           "Maroon",
           "Taylor Swift"
          ],
          [
           "Tubarï¿½ï¿½o Te",
           "Dj LK da Escï¿½ï¿½cia, Tchakabum, mc jhenny, M"
          ],
          [
           "Bejeweled",
           "Taylor Swift"
          ],
          [
           "You Make It Feel Like Christmas (feat. Blake Shelton)",
           "Gwen Stefani, Blake Shelton"
          ],
          [
           "Desesperados",
           "Chencho Corleone, Rauw Alejandro"
          ],
          [
           "Too Late",
           "SZA"
          ],
          [
           "Party",
           "Bad Bunny, Rauw Alejandro"
          ],
          [
           "Far",
           "SZA"
          ],
          [
           "On Time (with John Legend)",
           "John Legend, Metro Boomin"
          ],
          [
           "GATï¿½ï¿½",
           "Maldy, Karol G"
          ],
          [
           "Is There Someone Else?",
           "The Weeknd"
          ],
          [
           "Fingers Crossed",
           "Lauren Spencer Smith, Lauren Spencer Smith, Lauren Spencer Smith"
          ],
          [
           "Do It To It",
           "Cherish, ACRAZE"
          ],
          [
           "How Do I Make You Love Me?",
           "The Weeknd"
          ],
          [
           "Gasoline",
           "The Weeknd"
          ],
          [
           "Infinity",
           "Jaymes Young"
          ],
          [
           "Take My Breath",
           "The Weeknd"
          ],
          [
           "Best Friends",
           "The Weeknd"
          ],
          [
           "I Heard You're Married (feat. Lil Wayne)",
           "The Weeknd, Lil Wayne"
          ],
          [
           "Dawn FM",
           "The Weeknd"
          ],
          [
           "Surface Pressure",
           "Jessica Darrow"
          ],
          [
           "Starry Eyes",
           "The Weeknd"
          ],
          [
           "THATS WHAT I WANT",
           "Lil Nas X"
          ],
          [
           "One Right Now (with The Weeknd)",
           "The Weeknd, Post Malone"
          ],
          [
           "Beggin",
           "Mï¿½ï¿½ne"
          ],
          [
           "Mon Amour - Remix",
           "Aitana, zzoilo"
          ],
          [
           "Lo Siento BB:/ (with Bad Bunny & Julieta Venegas)",
           "Julieta Venegas, Bad Bunny, Tainy"
          ],
          [
           "The Motto",
           "Tiï¿½ï¿½sto, Ava"
          ],
          [
           "Malvadï¿½ï¿",
           "Xamï¿½ï¿½, Gustah, Neo B"
          ],
          [
           "Donï¿½ï¿½ï¿½t Break My",
           "The Weeknd"
          ],
          [
           "Oh My God",
           "Adele"
          ],
          [
           "Entre Nosotros (Remix) [con Nicki Nicole]",
           "Lit Killah, Maria Becerra, Tiago pzk, NICKI NICOLE"
          ],
          [
           "A Tale By Quincy",
           "The Weeknd"
          ],
          [
           "I AM WOMAN",
           "Emmy Meli"
          ],
          [
           "It'll Be Okay",
           "Shawn Mendes"
          ],
          [
           "Softcore",
           "The Neighbourhood"
          ],
          [
           "Super Gremlin",
           "Kodak Black"
          ],
          [
           "Volvï¿",
           "Aventura, Bad Bunny"
          ],
          [
           "Todo De Ti",
           "Rauw Alejandro"
          ],
          [
           "Smokin Out The Window",
           "Bruno Mars, Anderson .Paak, Silk Sonic"
          ],
          [
           "Meet Me At Our Spot",
           "THE ANXIETY, Willow, Tyler Cole"
          ],
          [
           "Tacones Rojos",
           "Sebastian Yatra"
          ],
          [
           "Dakiti",
           "Bad Bunny, Jhay Cortez"
          ],
          [
           "Tiago PZK: Bzrp Music Sessions, Vol. 48",
           "Bizarrap, Tiago pzk"
          ],
          [
           "Lï¿½ï¿½ï¿",
           "Stromae"
          ],
          [
           "Nostï¿½ï¿½l",
           "Chris Brown, Rvssian, Rauw Alejandro"
          ],
          [
           "Sad Girlz Luv Money Remix (feat. Kali Uchis)",
           "Kali Uchis, Amaarae, Moliy"
          ],
          [
           "Butter",
           "BTS"
          ],
          [
           "pushin P (feat. Young Thug)",
           "Young Thug, Future, Gunna"
          ],
          [
           "You Right",
           "Doja Cat, The Weeknd"
          ],
          [
           "deja vu",
           "Olivia Rodrigo"
          ],
          [
           "TO THE MOON",
           "Jnr Choi"
          ],
          [
           "Lost in the Fire",
           "The Weeknd, Gesaffelstein"
          ],
          [
           "Salimo de Noche",
           "Trueno, Tiago pzk"
          ],
          [
           "Volando - Remix",
           "Sech, Bad Bunny, Mora"
          ],
          [
           "Leave The Door Open",
           "Bruno Mars, Anderson .Paak, Silk Sonic"
          ],
          [
           "Knife Talk (with 21 Savage ft. Project Pat)",
           "Drake, Project Pat, 21 Savage"
          ],
          [
           "Don't Be Shy",
           "Tiï¿½ï¿½sto, Kar"
          ],
          [
           "The Family Madrigal",
           "Olga Merediz, Stephanie Beatriz, Encanto - Cast"
          ],
          [
           "Acapulco",
           "Jason Derulo"
          ],
          [
           "Daddy Issues",
           "The Neighbourhood"
          ],
          [
           "thought i was playing",
           "21 Savage, Gunna"
          ],
          [
           "ELEVEN",
           "IVE"
          ],
          [
           "What Else Can I Do?",
           "Stephanie Beatriz, Diane Guerrero"
          ],
          [
           "Miserable Man",
           "David Kushner"
          ],
          [
           "happier",
           "Olivia Rodrigo"
          ],
          [
           "Praise God",
           "Kanye West"
          ],
          [
           "Get Into It (Yuh)",
           "Doja Cat"
          ],
          [
           "Before You Go",
           "Lewis Capaldi"
          ],
          [
           "Sky",
           "Playboi Carti"
          ],
          [
           "Sobrio",
           "Maluma"
          ],
          [
           "Peru",
           "Ed Sheeran, Fireboy DML"
          ],
          [
           "favorite crime",
           "Olivia Rodrigo"
          ],
          [
           "Thunder",
           "Prezioso, Gabry Ponte, LUM!X"
          ],
          [
           "The Business",
           "Tiï¿½ï¿"
          ],
          [
           "I WANNA BE YOUR SLAVE",
           "Mï¿½ï¿½ne"
          ],
          [
           "The Feels",
           "TWICE"
          ],
          [
           "No Lie",
           "Sean Paul, Dua Lipa"
          ],
          [
           "OUT OUT (feat. Charli XCX & Saweetie)",
           "Charli XCX, Jax Jones, Joel Corry, Saweetie"
          ],
          [
           "Pope Is a Rockstar",
           "SALES"
          ],
          [
           "2055",
           "Sleepy hallow"
          ],
          [
           "Bored",
           "Billie Eilish"
          ],
          [
           "Astronaut In The Ocean",
           "Masked Wolf"
          ],
          [
           "Ley Seca",
           "Anuel Aa, Jhay Cortez"
          ],
          [
           "Every Summertime",
           "NIKI"
          ],
          [
           "Talking To The Moon",
           "Bruno Mars"
          ],
          [
           "you broke me first",
           "Tate McRae"
          ],
          [
           "The Nights",
           "Avicii"
          ],
          [
           "Take My Breath",
           "The Weeknd"
          ],
          [
           "Way 2 Sexy (with Future & Young Thug)",
           "Drake, Future, Young Thug"
          ],
          [
           "Cï¿½ï¿½",
           "Rauw Alejandro"
          ],
          [
           "Enemy - from the series Arcane League of Legends",
           "Imagine Dragons, League of Legends, Arcane"
          ],
          [
           "Lucid Dreams",
           "Juice WRLD"
          ],
          [
           "Quï¿½ï¿½ Mï¿½ï¿",
           "J Balvin, Maria Becerra"
          ],
          [
           "Fair Trade (with Travis Scott)",
           "Drake, Travis Scott"
          ],
          [
           "Bar",
           "Tini, L-Gante"
          ],
          [
           "The Rumbling (TV Size)",
           "SiM"
          ],
          [
           "family ties (with Kendrick Lamar)",
           "Kendrick Lamar, Baby Keem"
          ],
          [
           "AM Remix",
           "J Balvin, Nio Garcia, Bad Bunny"
          ],
          [
           "Streets",
           "Doja Cat"
          ],
          [
           "Polaroid Love",
           "ENHYPEN"
          ],
          [
           "Leave Before You Love Me (with Jonas Brothers)",
           "Marshmello, Jonas Brothers"
          ],
          [
           "Permission to Dance",
           "BTS"
          ],
          [
           "Friday (feat. Mufasa & Hypeman) - Dopamine Re-Edit",
           "Riton, Nightcrawlers, Mufasa & Hypeman, Dopamine"
          ],
          [
           "RAPSTAR",
           "Polo G"
          ],
          [
           "'Till I Collapse",
           "Eminem, Nate Dogg"
          ],
          [
           "Memories",
           "Maroon 5"
          ],
          [
           "25k jacket (feat. Lil Baby)",
           "Gunna, Lil Baby"
          ],
          [
           "Esqueï¿½ï¿½a-Me Se For C",
           "Marï¿½ï¿½lia Mendonï¿½ï¿½a, Maiara &"
          ],
          [
           "Miï¿½ï¿½n",
           "Tini, Maria Becerra"
          ],
          [
           "Sï¿½ï¿½",
           "Anuel Aa, Myke Towers, Jhay Cortez"
          ],
          [
           "MAMIII",
           "Karol G, Becky G"
          ],
          [
           "Stay Alive (Prod. SUGA of BTS)",
           "Jung Kook"
          ],
          [
           "Boyfriend",
           "Dove Cameron"
          ],
          [
           "Light Switch",
           "Charlie Puth"
          ],
          [
           "City of Gods",
           "Kanye West, Alicia Keys, Fivio Foreign"
          ],
          [
           "Brividi",
           "Mahmood, Blanco"
          ],
          [
           "she's all i wanna be",
           "Tate McRae"
          ],
          [
           "Ginseng Strip 2002",
           "Yung Lean"
          ],
          [
           "All For Us - from the HBO Original Series Euphoria",
           "Labrinth, Zendaya"
          ],
          [
           "Notion",
           "The Rare Occasions"
          ],
          [
           "Formula",
           "Labrinth"
          ],
          [
           "Excuses",
           "Intense, AP Dhillon, Gurinder Gill"
          ],
          [
           "Cigarettes",
           "Juice WRLD"
          ],
          [
           "California Love - Original Version (Explicit)",
           "Dr. Dre, 2Pac, Roger"
          ],
          [
           "Forgot About Dre",
           "Eminem, Dr. Dre"
          ],
          [
           "Down Under (feat. Colin Hay)",
           "Luude, Colin Hay"
          ],
          [
           "Mujeriego",
           "Ryan Castro"
          ],
          [
           "Stan",
           "Eminem, Dido"
          ],
          [
           "Contection",
           "GODZZ__-, Zakaria"
          ],
          [
           "Swim",
           "Chase Atlantic"
          ],
          [
           "Numb Little Bug",
           "Em Beihold"
          ],
          [
           "212",
           "Mainstreet, Chefin"
          ],
          [
           "Problemï¿½",
           "Alvaro Diaz, Rauw Alejandro"
          ],
          [
           "Bussin",
           "Nicki Minaj, Lil Baby"
          ],
          [
           "Worst Day",
           "Future"
          ],
          [
           "Malvada",
           "Zï¿½ï¿½ Fe"
          ],
          [
           "Hrs and Hrs",
           "Muni Long"
          ],
          [
           "Still Don't Know My Name",
           "Labrinth"
          ],
          [
           "Christmas Tree",
           "V"
          ],
          [
           "When I R.I.P.",
           "Labrinth"
          ],
          [
           "Do We Have A Problem?",
           "Nicki Minaj, Lil Baby"
          ],
          [
           "Gospel (with Eminem)",
           "Eminem, Dr. Dre"
          ],
          [
           "Adore You",
           "Harry Styles"
          ],
          [
           "La Santa",
           "Daddy Yankee, Bad Bunny"
          ],
          [
           "Sweetest Pie",
           "Dua Lipa, Megan Thee Stallion"
          ],
          [
           "Bam Bam (feat. Ed Sheeran)",
           "Camila Cabello, Ed Sheeran"
          ],
          [
           "Una Noche en Medellï¿½",
           "Cris Mj"
          ],
          [
           "Envolver",
           "Anitta"
          ],
          [
           "Starlight",
           "Dave"
          ],
          [
           "Hati-Hati di Jalan",
           "Tulus"
          ],
          [
           "DANï¿½ï¿½A",
           "Mc Pedrinho, Pedro Sampaio"
          ],
          [
           "Yo Voy (feat. Daddy Yankee)",
           "Zion & Lennox"
          ],
          [
           "Residente: Bzrp Music Sessions, Vol. 49",
           "Residente, Bizarrap"
          ],
          [
           "Jordan",
           "Ryan Castro"
          ],
          [
           "Nail Tech",
           "Jack Harlow"
          ],
          [
           "Chale",
           "Eden Muï¿½ï"
          ],
          [
           "Ya No Somos Ni Seremos",
           "Christian Nodal"
          ],
          [
           "Freaky Deaky",
           "Tyga, Doja Cat"
          ],
          [
           "this is what falling in love feels like",
           "JVKE"
          ],
          [
           "La Zona",
           "Bad Bunny"
          ],
          [
           "Hope",
           "XXXTENTACION"
          ],
          [
           "Levitating",
           "Dua Lipa"
          ],
          [
           "jealousy, jealousy",
           "Olivia Rodrigo"
          ],
          [
           "Monï¿½ï¿½y so",
           "YEAT"
          ],
          [
           "Demasiadas Mujeres",
           "C. Tangana"
          ],
          [
           "O.O",
           "NMIXX"
          ],
          [
           "Tom's Diner",
           "AnnenMayKantereit, Giant Rooks"
          ],
          [
           "First Class",
           "Jack Harlow"
          ],
          [
           "Fuera del mercado",
           "Danny Ocean"
          ],
          [
           "X ï¿½ï¿½LTIMA",
           "Daddy Yankee, Bad Bunny"
          ],
          [
           "When You're Gone",
           "Shawn Mendes"
          ],
          [
           "In My Head",
           "Lil Tjay"
          ],
          [
           "Wait a Minute!",
           "Willow"
          ],
          [
           "LOVE DIVE",
           "IVE"
          ],
          [
           "Pantysito",
           "Feid, Alejo, Robi"
          ],
          [
           "Chance",
           "Paulo Londra"
          ],
          [
           "Cool for the Summer",
           "Demi Lovato"
          ],
          [
           "psychofreak (feat. WILLOW)",
           "Camila Cabello, Willow"
          ],
          [
           "Angel Baby",
           "Troye Sivan"
          ],
          [
           "Vampiro",
           "Matuï¿½ï¿½, Wiu, "
          ],
          [
           "Si Quieren Frontear",
           "De La Ghetto, Duki, Quevedo"
          ],
          [
           "Right On",
           "Lil Baby"
          ],
          [
           "That's Hilarious",
           "Charlie Puth"
          ],
          [
           "Soy El Unico",
           "Yahritza Y Su Esencia"
          ],
          [
           "RUMBATï¿½",
           "Daddy Yankee"
          ],
          [
           "sentaDONA (Remix) s2",
           "Luï¿½ï¿½sa Sonza, MC Frog, Dj Gabriel do Borel, Davi K"
          ],
          [
           "Falling",
           "Harry Styles"
          ],
          [
           "Sigue",
           "Ed Sheeran, J Balvin"
          ],
          [
           "Fim de Semana no Rio",
           "teto"
          ],
          [
           "MANIAC",
           "Stray Kids"
          ],
          [
           "There's Nothing Holdin' Me Back",
           "Shawn Mendes"
          ],
          [
           "IDGAF (with blackbear)",
           "Blackbear, BoyWithUke"
          ],
          [
           "Golden",
           "Harry Styles"
          ],
          [
           "Ain't Shit",
           "Doja Cat"
          ],
          [
           "Still Life",
           "BIGBANG"
          ],
          [
           "Photograph",
           "Ed Sheeran"
          ],
          [
           "N95",
           "Kendrick Lamar"
          ],
          [
           "Die Hard",
           "Kendrick Lamar, Blxst, Amanda Reifer"
          ],
          [
           "Despuï¿½ï¿½s de la P",
           "Bad Bunny"
          ],
          [
           "Father Time (feat. Sampha)",
           "Kendrick Lamar, Sampha"
          ],
          [
           "Rich Spirit",
           "Kendrick Lamar"
          ],
          [
           "Me Fui de Vacaciones",
           "Bad Bunny"
          ],
          [
           "Silent Hill",
           "Kendrick Lamar, Kodak Black"
          ],
          [
           "La Corriente",
           "Tony Dize, Bad Bunny"
          ],
          [
           "Count Me Out",
           "Kendrick Lamar"
          ],
          [
           "Andrea",
           "Buscabulla, Bad Bunny"
          ],
          [
           "Dos Mil 16",
           "Bad Bunny"
          ],
          [
           "We Cry Together",
           "Kendrick Lamar, Taylour Paige"
          ],
          [
           "Un Coco",
           "Bad Bunny"
          ],
          [
           "Otro Atardecer",
           "Bad Bunny, The Marï¿½ï"
          ],
          [
           "Worldwide Steppers",
           "Kendrick Lamar"
          ],
          [
           "Aguacero",
           "Bad Bunny"
          ],
          [
           "Purple Hearts",
           "Kendrick Lamar, Ghostface Killah, Summer Walker"
          ],
          [
           "Un Verano Sin Ti",
           "Bad Bunny"
          ],
          [
           "ULTRA SOLO",
           "Polima WestCoast, Pailita"
          ],
          [
           "Ensï¿½ï¿½ï¿½ï¿½ame ",
           "Bad Bunny"
          ],
          [
           "El Apagï¿½",
           "Bad Bunny"
          ],
          [
           "Callaita",
           "Bad Bunny, Tainy"
          ],
          [
           "Dua Lipa",
           "Jack Harlow"
          ],
          [
           "Agosto",
           "Bad Bunny"
          ],
          [
           "House Of Memories",
           "Panic! At The Disco"
          ],
          [
           "Mr. Morale",
           "Kendrick Lamar, Tanna Leone"
          ],
          [
           "That That (prod. & feat. SUGA of BTS)",
           "PSY, Suga"
          ],
          [
           "In The Stars",
           "Benson Boone"
          ],
          [
           "Rich - Interlude",
           "Kendrick Lamar"
          ],
          [
           "SUPERMODEL",
           "Mï¿½ï¿½ne"
          ],
          [
           "Stefania (Kalush Orchestra)",
           "KALUSH"
          ],
          [
           "Thousand Miles",
           "The Kid Laroi"
          ],
          [
           "Crown",
           "Kendrick Lamar"
          ],
          [
           "Auntie Diaries",
           "Kendrick Lamar"
          ],
          [
           "PUFFIN ON ZOOTIEZ",
           "Future"
          ],
          [
           "Mirror",
           "Kendrick Lamar"
          ],
          [
           "Beautiful Girl",
           "Luciano"
          ],
          [
           "Savior - Interlude",
           "Kendrick Lamar"
          ],
          [
           "Pasoori",
           "Shae Gill, Ali Sethi"
          ],
          [
           "Mother I Sober (feat. Beth Gibbons of Portishead)",
           "Kendrick Lamar, Beth Gibbons"
          ],
          [
           "TUS Lï¿½ï¿½GR",
           "Sech, Mora"
          ],
          [
           "Where Did You Go?",
           "MNEK, Jax Jones"
          ],
          [
           "I Tried to Tell Y'all",
           "Ugly Dray, Tesla Jnr"
          ],
          [
           "Honest (feat. Don Toliver)",
           "Justin Bieber, Don Toliver"
          ],
          [
           "ZOOM",
           "Jessi"
          ],
          [
           "SloMo",
           "Chanel"
          ],
          [
           "FEARLESS",
           "LE SSERAFIM"
          ],
          [
           "10 Things I Hate About You",
           "Leah Kate"
          ],
          [
           "SPACE MAN",
           "Sam Ryder"
          ],
          [
           "With you",
           "HA SUNG WOON, Jimin"
          ],
          [
           "Iris",
           "The Goo Goo Dolls"
          ],
          [
           "The Heart Part 5",
           "Kendrick Lamar"
          ],
          [
           "San Lucas",
           "Kevin Kaarl"
          ],
          [
           "This Love (Taylorï¿½ï¿½ï¿½s Ve",
           "Taylor Swift"
          ],
          [
           "Good Looking",
           "Suki Waterhouse"
          ],
          [
           "Flowers",
           "Lauren Spencer Smith"
          ],
          [
           "Yet To Come",
           "BTS"
          ],
          [
           "Run BTS",
           "BTS"
          ],
          [
           "Music For a Sushi Restaurant",
           "Harry Styles"
          ],
          [
           "Matilda",
           "Harry Styles"
          ],
          [
           "For Youth",
           "BTS"
          ],
          [
           "Vegas (From the Original Motion Picture Soundtrack ELVIS)",
           "Doja Cat"
          ],
          [
           "Cash In Cash Out",
           "Pharrell Williams, Tyler, The Creator, 21 Savage"
          ],
          [
           "Potion (with Dua Lipa & Young Thug)",
           "Calvin Harris, Dua Lipa, Young Thug"
          ],
          [
           "Born Singer",
           "BTS"
          ],
          [
           "Little Freak",
           "Harry Styles"
          ],
          [
           "La Llevo Al Cielo (Ft. ï¿½ï¿½engo F",
           "Nengo Flow, Anuel Aa, Chris Jedi, Chencho Corleone"
          ],
          [
           "True Love",
           "Kanye West, XXXTENTACION"
          ],
          [
           "Love Of My Life",
           "Harry Styles"
          ],
          [
           "Grapejuice",
           "Harry Styles"
          ],
          [
           "So Good",
           "Halsey"
          ],
          [
           "Belly Dancer",
           "BYOR, Imanbek"
          ],
          [
           "Keep Driving",
           "Harry Styles"
          ],
          [
           "Cinema",
           "Harry Styles"
          ],
          [
           "Die Young (feat. 347aidan)",
           "Sleepy hallow, 347aidan"
          ],
          [
           "Only Love Can Hurt Like This",
           "Paloma Faith"
          ],
          [
           "Hold My Hand",
           "Lady Gaga"
          ],
          [
           "Daydreaming",
           "Harry Styles"
          ],
          [
           "Nos Comemos (feat. Ozuna)",
           "Ozuna, Tiago pzk"
          ],
          [
           "Me and Your Mama",
           "Childish Gambino"
          ],
          [
           "Crazy What Love Can Do",
           "David Guetta, Ella Henderson, Becky Hill"
          ],
          [
           "SLOW DANCING IN THE DARK",
           "Joji"
          ],
          [
           "Antes de Perderte",
           "Duki"
          ],
          [
           "295",
           "Sidhu Moose Wala"
          ],
          [
           "En El Radio Un Cochinero",
           "Victor Cibrian"
          ],
          [
           "BREAK MY SOUL",
           "Beyoncï¿"
          ],
          [
           "Massive",
           "Drake"
          ],
          [
           "Betty (Get Money)",
           "Yung Gravy"
          ],
          [
           "Ojos Marrones",
           "Lasso"
          ],
          [
           "POP!",
           "Nayeon"
          ],
          [
           "Layla",
           "Schï¿½ï¿½rze, DJ R"
          ],
          [
           "MORE",
           "j-hope"
          ],
          [
           "Sticky",
           "Drake"
          ],
          [
           "Hot Shit (feat. Ye & Lil Durk)",
           "Kanye West, Lil Durk, Cardi B"
          ],
          [
           "Ai Preto",
           "L7nnon, DJ Biel do Furduncinho, Bianca"
          ],
          [
           "La Loto",
           "Anitta, Tini, Becky G"
          ],
          [
           "die first",
           "Nessa Barrett"
          ],
          [
           "Afraid To Feel",
           "LF System"
          ],
          [
           "cï¿½ï¿½mo dormi",
           "Rels B"
          ],
          [
           "STAYING ALIVE (feat. Drake & Lil Baby)",
           "Drake, DJ Khaled, Lil Baby"
          ],
          [
           "Si Te La Encuentras Por Ahï¿",
           "Feid"
          ],
          [
           "GIVENCHY",
           "Duki"
          ],
          [
           "ALIEN SUPERSTAR",
           "Beyoncï¿"
          ],
          [
           "Attention",
           "NewJeans"
          ],
          [
           "THE SHADE",
           "Rex Orange County"
          ],
          [
           "Come Back Home - From \"Purple Hearts\"",
           "Sofia Carson"
          ],
          [
           "El Rescate",
           "Grupo Marca Registrada, Junior H"
          ],
          [
           "Heartless",
           "Kanye West"
          ],
          [
           "Stay With Me (with Justin Timberlake, Halsey, & Pharrell)",
           "Calvin Harris, Halsey, Pharrell Williams, Justin Timberlake"
          ],
          [
           "JGL",
           "Luis R Conriquez, La Adictiva"
          ],
          [
           "Don't You Worry",
           "David Guetta, Shakira, Black Eyed Peas"
          ],
          [
           "Pipoco",
           "Melody, Ana Castela, Dj Chris No Beat"
          ],
          [
           "Forget Me",
           "Lewis Capaldi"
          ],
          [
           "Bound 2",
           "Kanye West"
          ],
          [
           "Talk that Talk",
           "TWICE"
          ],
          [
           "BILLIE EILISH.",
           "Armani White"
          ],
          [
           "Ferxxo 100",
           "Feid"
          ],
          [
           "KU LO SA - A COLORS SHOW",
           "Oxlade"
          ],
          [
           "Prohibidox",
           "Feid"
          ],
          [
           "Sparks",
           "Coldplay"
          ],
          [
           "Talk",
           "YEAT"
          ],
          [
           "XQ Te Pones Asï¿",
           "Yandel, Feid"
          ],
          [
           "Selfish",
           "PnB Rock"
          ],
          [
           "Sin Seï¿½ï",
           "Ovy On The Drums, Quevedo"
          ],
          [
           "Lady Mi Amor",
           "Feid"
          ],
          [
           "THE LONELIEST",
           "Mï¿½ï¿½ne"
          ],
          [
           "Bye Bye",
           "Marshmello, Juice WRLD"
          ],
          [
           "BABY OTAKU",
           "Fran C, Polima WestCoast, Nickoog Clk, Pablito Pesadilla"
          ],
          [
           "Nxde",
           "(G)I-DLE"
          ],
          [
           "we fell in love in october",
           "girl in red"
          ],
          [
           "2 Be Loved (Am I Ready)",
           "Lizzo"
          ],
          [
           "Celestial",
           "Ed Sheeran"
          ],
          [
           "Bamba (feat. Aitch & BIA)",
           "Luciano, Aitch, Bï¿½"
          ],
          [
           "Major Distribution",
           "Drake, 21 Savage"
          ],
          [
           "Pussy & Millions (feat. Travis Scott)",
           "Drake, Travis Scott, 21 Savage"
          ],
          [
           "Vigilante Shit",
           "Taylor Swift"
          ],
          [
           "Question...?",
           "Taylor Swift"
          ],
          [
           "Mastermind",
           "Taylor Swift"
          ],
          [
           "Circo Loco",
           "Drake, 21 Savage"
          ],
          [
           "Spin Bout U",
           "Drake, 21 Savage"
          ],
          [
           "Would've, Could've, Should've",
           "Taylor Swift"
          ],
          [
           "Privileged Rappers",
           "Drake, 21 Savage"
          ],
          [
           "The Astronaut",
           "Jin"
          ],
          [
           "BackOutsideBoyz",
           "Drake"
          ],
          [
           "Broke Boys",
           "Drake, 21 Savage"
          ],
          [
           "The Great War",
           "Taylor Swift"
          ],
          [
           "My Mind & Me",
           "Selena Gomez"
          ],
          [
           "Bigger Than The Whole Sky",
           "Taylor Swift"
          ],
          [
           "A Veces (feat. Feid)",
           "Feid, Paulo Londra"
          ],
          [
           "En La De Ella",
           "Feid, Sech, Jhayco"
          ],
          [
           "Alone",
           "Burna Boy"
          ]
         ],
         "hovertemplate": "danceability_%=%{x}<br>streams=%{y}<br>track_name=%{customdata[0]}<br>artist(s)_name=%{customdata[1]}<br>artist_count=%{marker.color}<extra></extra>",
         "legendgroup": "",
         "marker": {
          "color": [
           1,
           1,
           2,
           2,
           3,
           1,
           2,
           1,
           2,
           1,
           2,
           1,
           2,
           2,
           1,
           1,
           1,
           2,
           3,
           1,
           1,
           2,
           3,
           3,
           1,
           1,
           1,
           1,
           2,
           2,
           3,
           2,
           2,
           1,
           1,
           1,
           1,
           2,
           1,
           2,
           1,
           2,
           1,
           2,
           2,
           1,
           2,
           2,
           1,
           1,
           2,
           1,
           2,
           1,
           1,
           1,
           1,
           1,
           3,
           1,
           1,
           1,
           1,
           1,
           1,
           1,
           2,
           1,
           2,
           1,
           1,
           1,
           2,
           3,
           1,
           2,
           2,
           1,
           2,
           1,
           3,
           2,
           2,
           1,
           1,
           1,
           3,
           1,
           1,
           1,
           4,
           2,
           1,
           2,
           2,
           1,
           1,
           1,
           1,
           2,
           1,
           3,
           2,
           1,
           1,
           1,
           3,
           1,
           1,
           1,
           1,
           1,
           1,
           1,
           1,
           1,
           2,
           1,
           1,
           1,
           1,
           1,
           4,
           1,
           4,
           1,
           3,
           3,
           1,
           1,
           2,
           2,
           2,
           2,
           2,
           1,
           3,
           1,
           2,
           2,
           2,
           3,
           2,
           1,
           2,
           2,
           1,
           2,
           1,
           2,
           1,
           2,
           2,
           2,
           1,
           2,
           1,
           1,
           1,
           1,
           2,
           2,
           1,
           3,
           1,
           1,
           3,
           1,
           2,
           1,
           2,
           1,
           2,
           1,
           1,
           1,
           1,
           2,
           1,
           2,
           1,
           1,
           2,
           2,
           2,
           2,
           1,
           1,
           1,
           3,
           1,
           1,
           2,
           2,
           2,
           2,
           2,
           1,
           1,
           2,
           2,
           3,
           2,
           1,
           2,
           2,
           2,
           2,
           1,
           1,
           1,
           1,
           1,
           1,
           2,
           1,
           2,
           1,
           1,
           2,
           1,
           1,
           1,
           1,
           3,
           2,
           1,
           2,
           1,
           1,
           3,
           1,
           1,
           1,
           1,
           1,
           2,
           1,
           2,
           2,
           1,
           1,
           1,
           2,
           1,
           1,
           1,
           1,
           1,
           1,
           1,
           1,
           2,
           1,
           2,
           1,
           2,
           2,
           1,
           1,
           1,
           1,
           2,
           1,
           1,
           2,
           1,
           1,
           1,
           1,
           1,
           1,
           1,
           1,
           2,
           1,
           2,
           2,
           3,
           1,
           1,
           1,
           1,
           3,
           1,
           1,
           3,
           1,
           1,
           1,
           1,
           1,
           3,
           3,
           1,
           1,
           2,
           2,
           1,
           1,
           2,
           1,
           2,
           1,
           1,
           1,
           1,
           1,
           1,
           1,
           2,
           2,
           1,
           2,
           1,
           1,
           1,
           1,
           2,
           1,
           1,
           2,
           1,
           1,
           1,
           2,
           1,
           4,
           1,
           2,
           2,
           1,
           2,
           1,
           2,
           2,
           1,
           3,
           2,
           1,
           1,
           1,
           1,
           1,
           2,
           1,
           1,
           1,
           1,
           2,
           1,
           2,
           3,
           2,
           3,
           1,
           1,
           4,
           1,
           1,
           1,
           1,
           1,
           2,
           1,
           3,
           3,
           1,
           2,
           2,
           1,
           3,
           3,
           1,
           3,
           2,
           1,
           1,
           2,
           2,
           3,
           3,
           3,
           2,
           3,
           1,
           1,
           2,
           1,
           2,
           1,
           1,
           1,
           1,
           1,
           1,
           1,
           2,
           1,
           3,
           1,
           1,
           1,
           2,
           4,
           1,
           1,
           1,
           1,
           2,
           1,
           1,
           1,
           1,
           1,
           3,
           1,
           3,
           1,
           2,
           2,
           2,
           1,
           2,
           3,
           1,
           1,
           2,
           1,
           4,
           1,
           2,
           1,
           2,
           2,
           2,
           3,
           2,
           1,
           1,
           1,
           3,
           2,
           1,
           1,
           2,
           1,
           1,
           3,
           1,
           3,
           2,
           2,
           1,
           2,
           2,
           1,
           1,
           2,
           2,
           2,
           1,
           1,
           1,
           1,
           1,
           1,
           2,
           2,
           1,
           2,
           2,
           2,
           1,
           1,
           1,
           1,
           2,
           1,
           2,
           1,
           1,
           1,
           1,
           2,
           1,
           1,
           1,
           1,
           1,
           1,
           1,
           1,
           2,
           1,
           1,
           2,
           1,
           1,
           1,
           1,
           3,
           1,
           1,
           2,
           1,
           3,
           3,
           1,
           1,
           1,
           1,
           4,
           1,
           2,
           1,
           1,
           1,
           2,
           1,
           1,
           1,
           1,
           1,
           3,
           1,
           2,
           1,
           1,
           2,
           2,
           1,
           2,
           1,
           2,
           1,
           2,
           1,
           1,
           3,
           1,
           2,
           1,
           1,
           2,
           1,
           1,
           1,
           2,
           2,
           1,
           1,
           1,
           1,
           1,
           1,
           1,
           1,
           1,
           1,
           1,
           2,
           2,
           2,
           2,
           2,
           2,
           1,
           1,
           1,
           1,
           1,
           2,
           1,
           1,
           1,
           1,
           1,
           1,
           1,
           1,
           1,
           1,
           1,
           1,
           4,
           3,
           1,
           1,
           4,
           2,
           1,
           1,
           1,
           2,
           1,
           1,
           2,
           1,
           1,
           1,
           2,
           1,
           3,
           1,
           1,
           1,
           1,
           1,
           1,
           1,
           1,
           1,
           2,
           1,
           1,
           3,
           3,
           3,
           1,
           1,
           1,
           3,
           1,
           1,
           1,
           1,
           1,
           1,
           2,
           1,
           4,
           2,
           3,
           3,
           1,
           1,
           1,
           1,
           1,
           1,
           1,
           1,
           1,
           2,
           1,
           2,
           1,
           1,
           2,
           4,
           1,
           1,
           1,
           1,
           3,
           2,
           3,
           1,
           1,
           1,
           2,
           2,
           1,
           2,
           1,
           1,
           2,
           1,
           1,
           1,
           2,
           3,
           1
          ],
          "coloraxis": "coloraxis",
          "symbol": "circle"
         },
         "mode": "markers",
         "name": "",
         "orientation": "h",
         "showlegend": false,
         "type": "scatter",
         "x": [
          71,
          67,
          81,
          86,
          65,
          69,
          85,
          79,
          81,
          52,
          56,
          64,
          72,
          61,
          75,
          60,
          79,
          56,
          56,
          67,
          59,
          53,
          72,
          60,
          92,
          67,
          64,
          84,
          86,
          70,
          88,
          77,
          90,
          64,
          59,
          56,
          51,
          77,
          51,
          62,
          58,
          78,
          68,
          34,
          63,
          50,
          78,
          63,
          71,
          74,
          68,
          62,
          83,
          49,
          56,
          56,
          62,
          43,
          68,
          50,
          62,
          81,
          54,
          61,
          77,
          61,
          74,
          51,
          77,
          65,
          70,
          55,
          84,
          82,
          51,
          75,
          64,
          74,
          49,
          87,
          63,
          35,
          78,
          82,
          80,
          42,
          75,
          60,
          56,
          77,
          84,
          93,
          92,
          59,
          65,
          45,
          60,
          74,
          81,
          69,
          73,
          50,
          78,
          45,
          68,
          65,
          60,
          33,
          57,
          71,
          70,
          34,
          74,
          54,
          63,
          57,
          54,
          63,
          65,
          50,
          48,
          84,
          62,
          81,
          61,
          75,
          77,
          56,
          89,
          67,
          85,
          78,
          70,
          80,
          73,
          84,
          77,
          78,
          54,
          71,
          62,
          72,
          78,
          74,
          66,
          66,
          95,
          76,
          71,
          59,
          69,
          43,
          79,
          82,
          82,
          78,
          73,
          80,
          91,
          49,
          56,
          83,
          95,
          84,
          65,
          44,
          62,
          50,
          80,
          70,
          77,
          44,
          79,
          51,
          77,
          68,
          74,
          93,
          77,
          60,
          72,
          87,
          90,
          57,
          76,
          76,
          70,
          92,
          84,
          69,
          75,
          56,
          80,
          70,
          32,
          54,
          89,
          45,
          62,
          70,
          80,
          82,
          73,
          65,
          72,
          71,
          70,
          48,
          73,
          78,
          71,
          74,
          59,
          72,
          70,
          90,
          76,
          81,
          71,
          95,
          58,
          60,
          40,
          71,
          83,
          68,
          61,
          59,
          64,
          66,
          84,
          56,
          57,
          74,
          56,
          68,
          59,
          73,
          79,
          50,
          70,
          58,
          36,
          86,
          59,
          59,
          49,
          72,
          53,
          55,
          81,
          82,
          74,
          88,
          53,
          75,
          75,
          73,
          66,
          66,
          84,
          60,
          74,
          70,
          80,
          58,
          56,
          64,
          88,
          66,
          82,
          25,
          64,
          57,
          65,
          92,
          44,
          70,
          68,
          41,
          68,
          47,
          71,
          46,
          41,
          40,
          87,
          40,
          46,
          47,
          91,
          90,
          81,
          49,
          64,
          95,
          67,
          58,
          58,
          70,
          70,
          65,
          84,
          69,
          35,
          51,
          65,
          67,
          65,
          71,
          73,
          62,
          51,
          67,
          51,
          43,
          53,
          72,
          70,
          49,
          54,
          80,
          70,
          47,
          79,
          66,
          64,
          89,
          70,
          63,
          87,
          45,
          83,
          61,
          33,
          63,
          70,
          60,
          85,
          80,
          74,
          67,
          70,
          49,
          75,
          27,
          65,
          28,
          74,
          68,
          71,
          75,
          64,
          75,
          82,
          77,
          53,
          70,
          46,
          65,
          40,
          57,
          83,
          73,
          81,
          63,
          77,
          75,
          73,
          66,
          56,
          73,
          86,
          79,
          77,
          83,
          44,
          74,
          66,
          67,
          66,
          59,
          85,
          77,
          59,
          77,
          59,
          68,
          83,
          72,
          63,
          39,
          80,
          91,
          45,
          79,
          76,
          96,
          40,
          67,
          80,
          75,
          81,
          74,
          79,
          73,
          78,
          60,
          78,
          76,
          63,
          52,
          64,
          53,
          75,
          80,
          77,
          73,
          44,
          89,
          67,
          52,
          41,
          71,
          74,
          75,
          74,
          72,
          70,
          82,
          79,
          55,
          77,
          90,
          80,
          85,
          63,
          84,
          51,
          35,
          69,
          47,
          52,
          61,
          60,
          37,
          31,
          57,
          84,
          60,
          77,
          93,
          31,
          76,
          78,
          81,
          67,
          74,
          79,
          73,
          89,
          65,
          89,
          51,
          31,
          44,
          39,
          84,
          92,
          68,
          74,
          81,
          76,
          87,
          81,
          95,
          64,
          78,
          81,
          59,
          80,
          65,
          55,
          59,
          80,
          42,
          76,
          59,
          69,
          70,
          69,
          67,
          39,
          68,
          91,
          45,
          81,
          60,
          68,
          76,
          70,
          83,
          72,
          59,
          63,
          56,
          78,
          79,
          70,
          71,
          71,
          69,
          93,
          57,
          89,
          87,
          58,
          86,
          78,
          45,
          86,
          68,
          61,
          81,
          78,
          56,
          55,
          85,
          71,
          92,
          66,
          78,
          80,
          82,
          65,
          84,
          78,
          56,
          86,
          57,
          50,
          80,
          81,
          63,
          61,
          83,
          85,
          51,
          73,
          91,
          36,
          44,
          64,
          83,
          38,
          37,
          43,
          88,
          66,
          84,
          66,
          71,
          49,
          68,
          77,
          71,
          82,
          87,
          73,
          86,
          54,
          47,
          53,
          32,
          76,
          58,
          47,
          37,
          70,
          56,
          72,
          72,
          51,
          63,
          80,
          88,
          82,
          60,
          56,
          80,
          71,
          56,
          65,
          63,
          85,
          72,
          83,
          81,
          57,
          51,
          71,
          83,
          56,
          60,
          52,
          81,
          68,
          70,
          70,
          51,
          73,
          81,
          80,
          44,
          78,
          88,
          88,
          95,
          85,
          44,
          58,
          63,
          72,
          74,
          61,
          55,
          81,
          90,
          56,
          79,
          79,
          81,
          70,
          82,
          77,
          67,
          37,
          77,
          90,
          70,
          65,
          65,
          37,
          70,
          81,
          64,
          82,
          78,
          52,
          65,
          84,
          73,
          57,
          72,
          57,
          80,
          91,
          75,
          80,
          75,
          66,
          73,
          77,
          48,
          93,
          54,
          85,
          64,
          57,
          60,
          42,
          80,
          82,
          61
         ],
         "xaxis": "x",
         "y": [
          "133716286",
          "58149378",
          "553634067",
          "335222234",
          "86444842",
          "52135248",
          "200647221",
          "78300654",
          "61245289",
          "429829812",
          "52294266",
          "999748277",
          "618990393",
          "188933502",
          "1355959075",
          "786181836",
          "176553476",
          "354495408",
          "1047101291",
          "570515054",
          "1647990401",
          "518745108",
          "107753850",
          "177740666",
          "153372011",
          "57876440",
          "256483385",
          "1214083358",
          "111947664",
          "156338624",
          "720434240",
          "357925728",
          "674072710",
          "404562836",
          "373199958",
          "14780425",
          "39578178",
          "54266102",
          "751134527",
          "1356565093",
          "635412045",
          "585695368",
          "43857627",
          "600976848",
          "39709092",
          "39228929",
          "223633238",
          "58054811",
          "157058870",
          "95131998",
          "250305248",
          "685032533",
          "144565150",
          "127567540",
          "399686758",
          "983637508",
          "118482347",
          "882831184",
          "286400165",
          "172825906",
          "1241559043",
          "29562220",
          "77309611",
          "1116995633",
          "838079900",
          "1163620694",
          "1093605526",
          "179659294",
          "39058561",
          "36912123",
          "1791000570",
          "201660859",
          "248088961",
          "90839753",
          "607123776",
          "55842345",
          "211050784",
          "342897938",
          "2762",
          "601863821",
          "1953533826",
          "2355719893",
          "66902503",
          "96273746",
          "430977451",
          "284819874",
          "276259178",
          "2559529074",
          "681583126",
          "2594040133",
          "81102253",
          "11956641",
          "1687664027",
          "611700552",
          "1133865788",
          "1089402494",
          "411747614",
          "255932395",
          "31873544",
          "233801632",
          "1481349984",
          "142095275",
          "436027885",
          "621660989",
          "950906471",
          "1374581173",
          "94186466",
          "1840364617",
          "143573775",
          "684675814",
          "1267333350",
          "265882712",
          "47956378",
          "806397070",
          "1641426668",
          "2135158446",
          "367316268",
          "350381515",
          "1264310836",
          "30343206",
          "405136812",
          "540654286",
          "57312735",
          "397582059",
          "86773632",
          "123124076",
          "463564958",
          "64533040",
          "65496046",
          "68616963",
          "161460990",
          "70106975",
          "89933133",
          "71007139",
          "43522589",
          "232896922",
          "37126685",
          "195576623",
          "532336353",
          "538115192",
          "46142772",
          "401036314",
          "127026613",
          "345031710",
          "288101651",
          "60350538",
          "335074782",
          "46065667",
          "459276435",
          "39666245",
          "822633917",
          "51985779",
          "57945987",
          "115010040",
          "175097833",
          "57089066",
          "488386797",
          "1047480053",
          "217672943",
          "457184829",
          "573633020",
          "24975653",
          "1424589568",
          "231332117",
          "415932686",
          "988515741",
          "50847624",
          "39893489",
          "92035115",
          "118810253",
          "77233241",
          "117747907",
          "266624541",
          "293186992",
          "139681964",
          "123132751",
          "103762518",
          "162887075",
          "91221625",
          "96180277",
          "185240616",
          "885093467",
          "104992946",
          "147290338",
          "158950978",
          "76910644",
          "137123880",
          "782369383",
          "502574952",
          "207033255",
          "381161027",
          "466231982",
          "61105704",
          "198275403",
          "705469769",
          "34502215",
          "304118600",
          "1449799467",
          "173627354",
          "90025258",
          "655466831",
          "146409671",
          "95816024",
          "117206995",
          "100409613",
          "80758350",
          "325592432",
          "58473276",
          "52722996",
          "191945597",
          "743693613",
          "267789608",
          "449701773",
          "67070410",
          "116334601",
          "165584767",
          "477033549",
          "156214700",
          "448843705",
          "294352144",
          "972164968",
          "920045682",
          "2420461338",
          "68216992",
          "471819764",
          "116599790",
          "148469433",
          "497225336",
          "88791109",
          "125917280",
          "105062254",
          "95623148",
          "144584800",
          "298063749",
          "166570053",
          "83021468",
          "139836056",
          "303216294",
          "221409663",
          "58890931",
          "81419389",
          "156777415",
          "284908316",
          "93438910",
          "363472647",
          "372476382",
          "56533272",
          "175399345",
          "203221468",
          "1624165576",
          "134294498",
          "70069745",
          "609293408",
          "671365962",
          "93587665",
          "1022258230",
          "1435127549",
          "236857112",
          "147538971",
          "698086140",
          "723894473",
          "403097450",
          "309483971",
          "319566866",
          "909001996",
          "1061966512",
          "124988687",
          "134255790",
          "301051721",
          "156338624",
          "309653982",
          "297328960",
          "332506354",
          "480507035",
          "1065580332",
          "122763672",
          "184308753",
          "606361689",
          "120972253",
          "338564981",
          "1606986953",
          "1301799902",
          "107642809",
          "556585270",
          "872137015",
          "571386359",
          "174006928",
          "284785823",
          "163284000",
          "246390068",
          "482257456",
          "168684524",
          "78489819",
          "195516622",
          "1260594497",
          "428685680",
          "972509632",
          "213438580",
          "210038833",
          "227918678",
          "1802514301",
          "181831132",
          "462791599",
          "348647203",
          "807561936",
          "485285717",
          "476244795",
          "629173063",
          "98709329",
          "110849052",
          "94005786",
          "110073250",
          "73981293",
          "155653938",
          "429504768",
          "65362788",
          "67540165",
          "62019074",
          "136689549",
          "135611421",
          "356709897",
          "110649992",
          "301869854",
          "57144458",
          "56870689",
          "323437194",
          "317726339",
          "116144341",
          "328207708",
          "180577478",
          "809306935",
          "49262961",
          "614555082",
          "51641685",
          "78139948",
          "322336177",
          "391251368",
          "349585590",
          "674772936",
          "119238316",
          "116903579",
          "888046992",
          "130655803",
          "101114984",
          "91656026",
          "53933526",
          "267758538",
          "74601456",
          "920797189",
          "539595276",
          "1367810478",
          "578207856",
          "775542072",
          "656013912",
          "240684449",
          "63803529",
          "466214729",
          "236940480",
          "41924466",
          "225259194",
          "287201015",
          "599770206",
          "342779426",
          "673801126",
          "1168642797",
          "383550148",
          "530511203",
          "510876816",
          "1763363713",
          "374191487",
          "108809090",
          "436695353",
          "354065229",
          "1143647827",
          "311395144",
          "672656250",
          "1256880657",
          "245095641",
          "686734357",
          "261414174",
          "610045621",
          "1115880852",
          "594482982",
          "566954746",
          "184937148",
          "363467642",
          "1127468248",
          "60680939",
          "247737946",
          "154797871",
          "124407432",
          "850608354",
          "376333030",
          "516784627",
          "1608045237",
          "506778838",
          "513643924",
          "261286503",
          "783706581",
          "422691058",
          "1062345656",
          "851070493",
          "345903614",
          "956865266",
          "427486004",
          "156658366",
          "624515457",
          "777765388",
          "1138474110",
          "355219175",
          "290228626",
          "1062956628",
          "1180094974",
          "1456081449",
          "432702334",
          "489945871",
          "465959382",
          "1223481149",
          "2288695111",
          "720825549",
          "593917618",
          "200972675",
          "71014967",
          "560222750",
          "528544703",
          "865640097",
          "211372494",
          "651732901",
          "608334048",
          "863756573",
          "797402345",
          "1695712020",
          "1759567999",
          "54937991",
          "258316038",
          "596152090",
          "177129919",
          "716591492",
          "246376690",
          "496311364",
          "500340342",
          "107255472",
          "135079152",
          "343197054",
          "240769997",
          "426204830",
          "421135627",
          "554875730",
          "327498031",
          "185408548",
          "579395142",
          "675039469",
          "252871192",
          "231996128",
          "918915401",
          "1180896317",
          "498960285",
          "258714692",
          "143139338",
          "209768491",
          "64714573",
          "50746620",
          "154119539",
          "181328253",
          "563902868",
          "317622165",
          "203680270",
          "81350745",
          "64787943",
          "1439191367",
          "759208783",
          "299634472",
          "756907987",
          "682475162",
          "546191065",
          "229473310",
          "202677468",
          "208166039",
          "527033089",
          "94616487",
          "394030335",
          "193443895",
          "299648208",
          "319757142",
          "153240879",
          "346127840",
          "312622938",
          "1200808494",
          "797196073",
          "665765558",
          "263779030",
          "339473453",
          "135444283",
          "236872197",
          "694525298",
          "421365166",
          "349746291",
          "255120451",
          "190981339",
          "924193303",
          "305771063",
          "273005485",
          "89566512",
          "677389855",
          "75476209",
          "408843328",
          "187772591",
          "178512385",
          "101780047",
          "146363130",
          "126443991",
          "157990698",
          "176290831",
          "1023187129",
          "106933107",
          "139193812",
          "212234990",
          "1714490998",
          "197643795",
          "807015863",
          "499710590",
          "53909146",
          "2236667932",
          "301242089",
          "237351106",
          "461558540",
          "127309180",
          "173702135",
          "305650299",
          "123216717",
          "479655659",
          "126191104",
          "344055883",
          "338422004",
          "68895644",
          "403231558",
          "319546754",
          "61739839",
          "283359161",
          "76831876",
          "283332261",
          "307752576",
          "279737940",
          "212351890",
          "1304313953",
          "150500965",
          "246127838",
          "582863434",
          "58687425",
          "212109195",
          "382199619",
          "41210087",
          "231657891",
          "53729194",
          "244741137",
          "42485571",
          "37778188",
          "254218729",
          "53603447",
          "160035717",
          "37091576",
          "284249832",
          "33381454",
          "184622518",
          "300983101",
          "121077868",
          "106919680",
          "136996305",
          "65719930",
          "229497852",
          "185550869",
          "54682594",
          "240580042",
          "1284942608",
          "71423324",
          "244891912",
          "132171975",
          "184706613",
          "184826429",
          "302006641",
          "330881149",
          "334733572",
          "366214458",
          "114546317",
          "448500832",
          "136676504",
          "190625045",
          "79095270",
          "273194684",
          "333146475",
          "194902696",
          "233671263",
          "199587884",
          "91781263",
          "383835984",
          "236060709",
          "189236868",
          "160845341",
          "588955257",
          "238350348",
          "187703102",
          "138334433",
          "445590495",
          "286739476",
          "1122364376",
          "157136970",
          "183273246",
          "164856284",
          "354614964",
          "195628667",
          "221752937",
          "263280370",
          "213505179",
          "130419412",
          "155795783",
          "191448892",
          "85924992",
          "176103902",
          "121189256",
          "131746175",
          "244790012",
          "331511413",
          "170732845",
          "179061440",
          "185236961",
          "171788484",
          "264717480",
          "244928911",
          "97610446",
          "287278853",
          "887906111",
          "123473120",
          "323455692",
          "240918092",
          "191873381",
          "239411309",
          "703301727",
          "189476119",
          "277132266",
          "278920007",
          "222410722",
          "185392587",
          "624101957",
          "148461629",
          "47093942",
          "380319238",
          "209106362",
          "53987404",
          "225093344",
          "84697729",
          "159240673",
          "170709584",
          "723043854",
          "247689123",
          "176474912",
          "146223492",
          "154863153",
          "191333656",
          "253650850",
          "223064273",
          "218320587",
          "141720999",
          "198365537",
          "177503916",
          "112436403",
          "203436468",
          "93367537",
          "106249219",
          "181382590",
          "91473363",
          "121871870",
          "73513683",
          "133895612",
          "96007391"
         ],
         "yaxis": "y"
        }
       ],
       "layout": {
        "autosize": true,
        "coloraxis": {
         "colorbar": {
          "title": {
           "text": "artist_count"
          }
         },
         "colorscale": [
          [
           0,
           "#0d0887"
          ],
          [
           0.1111111111111111,
           "#46039f"
          ],
          [
           0.2222222222222222,
           "#7201a8"
          ],
          [
           0.3333333333333333,
           "#9c179e"
          ],
          [
           0.4444444444444444,
           "#bd3786"
          ],
          [
           0.5555555555555556,
           "#d8576b"
          ],
          [
           0.6666666666666666,
           "#ed7953"
          ],
          [
           0.7777777777777778,
           "#fb9f3a"
          ],
          [
           0.8888888888888888,
           "#fdca26"
          ],
          [
           1,
           "#f0f921"
          ]
         ]
        },
        "legend": {
         "tracegroupgap": 0
        },
        "template": {
         "data": {
          "bar": [
           {
            "error_x": {
             "color": "#2a3f5f"
            },
            "error_y": {
             "color": "#2a3f5f"
            },
            "marker": {
             "line": {
              "color": "#E5ECF6",
              "width": 0.5
             },
             "pattern": {
              "fillmode": "overlay",
              "size": 10,
              "solidity": 0.2
             }
            },
            "type": "bar"
           }
          ],
          "barpolar": [
           {
            "marker": {
             "line": {
              "color": "#E5ECF6",
              "width": 0.5
             },
             "pattern": {
              "fillmode": "overlay",
              "size": 10,
              "solidity": 0.2
             }
            },
            "type": "barpolar"
           }
          ],
          "carpet": [
           {
            "aaxis": {
             "endlinecolor": "#2a3f5f",
             "gridcolor": "white",
             "linecolor": "white",
             "minorgridcolor": "white",
             "startlinecolor": "#2a3f5f"
            },
            "baxis": {
             "endlinecolor": "#2a3f5f",
             "gridcolor": "white",
             "linecolor": "white",
             "minorgridcolor": "white",
             "startlinecolor": "#2a3f5f"
            },
            "type": "carpet"
           }
          ],
          "choropleth": [
           {
            "colorbar": {
             "outlinewidth": 0,
             "ticks": ""
            },
            "type": "choropleth"
           }
          ],
          "contour": [
           {
            "colorbar": {
             "outlinewidth": 0,
             "ticks": ""
            },
            "colorscale": [
             [
              0,
              "#0d0887"
             ],
             [
              0.1111111111111111,
              "#46039f"
             ],
             [
              0.2222222222222222,
              "#7201a8"
             ],
             [
              0.3333333333333333,
              "#9c179e"
             ],
             [
              0.4444444444444444,
              "#bd3786"
             ],
             [
              0.5555555555555556,
              "#d8576b"
             ],
             [
              0.6666666666666666,
              "#ed7953"
             ],
             [
              0.7777777777777778,
              "#fb9f3a"
             ],
             [
              0.8888888888888888,
              "#fdca26"
             ],
             [
              1,
              "#f0f921"
             ]
            ],
            "type": "contour"
           }
          ],
          "contourcarpet": [
           {
            "colorbar": {
             "outlinewidth": 0,
             "ticks": ""
            },
            "type": "contourcarpet"
           }
          ],
          "heatmap": [
           {
            "colorbar": {
             "outlinewidth": 0,
             "ticks": ""
            },
            "colorscale": [
             [
              0,
              "#0d0887"
             ],
             [
              0.1111111111111111,
              "#46039f"
             ],
             [
              0.2222222222222222,
              "#7201a8"
             ],
             [
              0.3333333333333333,
              "#9c179e"
             ],
             [
              0.4444444444444444,
              "#bd3786"
             ],
             [
              0.5555555555555556,
              "#d8576b"
             ],
             [
              0.6666666666666666,
              "#ed7953"
             ],
             [
              0.7777777777777778,
              "#fb9f3a"
             ],
             [
              0.8888888888888888,
              "#fdca26"
             ],
             [
              1,
              "#f0f921"
             ]
            ],
            "type": "heatmap"
           }
          ],
          "heatmapgl": [
           {
            "colorbar": {
             "outlinewidth": 0,
             "ticks": ""
            },
            "colorscale": [
             [
              0,
              "#0d0887"
             ],
             [
              0.1111111111111111,
              "#46039f"
             ],
             [
              0.2222222222222222,
              "#7201a8"
             ],
             [
              0.3333333333333333,
              "#9c179e"
             ],
             [
              0.4444444444444444,
              "#bd3786"
             ],
             [
              0.5555555555555556,
              "#d8576b"
             ],
             [
              0.6666666666666666,
              "#ed7953"
             ],
             [
              0.7777777777777778,
              "#fb9f3a"
             ],
             [
              0.8888888888888888,
              "#fdca26"
             ],
             [
              1,
              "#f0f921"
             ]
            ],
            "type": "heatmapgl"
           }
          ],
          "histogram": [
           {
            "marker": {
             "pattern": {
              "fillmode": "overlay",
              "size": 10,
              "solidity": 0.2
             }
            },
            "type": "histogram"
           }
          ],
          "histogram2d": [
           {
            "colorbar": {
             "outlinewidth": 0,
             "ticks": ""
            },
            "colorscale": [
             [
              0,
              "#0d0887"
             ],
             [
              0.1111111111111111,
              "#46039f"
             ],
             [
              0.2222222222222222,
              "#7201a8"
             ],
             [
              0.3333333333333333,
              "#9c179e"
             ],
             [
              0.4444444444444444,
              "#bd3786"
             ],
             [
              0.5555555555555556,
              "#d8576b"
             ],
             [
              0.6666666666666666,
              "#ed7953"
             ],
             [
              0.7777777777777778,
              "#fb9f3a"
             ],
             [
              0.8888888888888888,
              "#fdca26"
             ],
             [
              1,
              "#f0f921"
             ]
            ],
            "type": "histogram2d"
           }
          ],
          "histogram2dcontour": [
           {
            "colorbar": {
             "outlinewidth": 0,
             "ticks": ""
            },
            "colorscale": [
             [
              0,
              "#0d0887"
             ],
             [
              0.1111111111111111,
              "#46039f"
             ],
             [
              0.2222222222222222,
              "#7201a8"
             ],
             [
              0.3333333333333333,
              "#9c179e"
             ],
             [
              0.4444444444444444,
              "#bd3786"
             ],
             [
              0.5555555555555556,
              "#d8576b"
             ],
             [
              0.6666666666666666,
              "#ed7953"
             ],
             [
              0.7777777777777778,
              "#fb9f3a"
             ],
             [
              0.8888888888888888,
              "#fdca26"
             ],
             [
              1,
              "#f0f921"
             ]
            ],
            "type": "histogram2dcontour"
           }
          ],
          "mesh3d": [
           {
            "colorbar": {
             "outlinewidth": 0,
             "ticks": ""
            },
            "type": "mesh3d"
           }
          ],
          "parcoords": [
           {
            "line": {
             "colorbar": {
              "outlinewidth": 0,
              "ticks": ""
             }
            },
            "type": "parcoords"
           }
          ],
          "pie": [
           {
            "automargin": true,
            "type": "pie"
           }
          ],
          "scatter": [
           {
            "fillpattern": {
             "fillmode": "overlay",
             "size": 10,
             "solidity": 0.2
            },
            "type": "scatter"
           }
          ],
          "scatter3d": [
           {
            "line": {
             "colorbar": {
              "outlinewidth": 0,
              "ticks": ""
             }
            },
            "marker": {
             "colorbar": {
              "outlinewidth": 0,
              "ticks": ""
             }
            },
            "type": "scatter3d"
           }
          ],
          "scattercarpet": [
           {
            "marker": {
             "colorbar": {
              "outlinewidth": 0,
              "ticks": ""
             }
            },
            "type": "scattercarpet"
           }
          ],
          "scattergeo": [
           {
            "marker": {
             "colorbar": {
              "outlinewidth": 0,
              "ticks": ""
             }
            },
            "type": "scattergeo"
           }
          ],
          "scattergl": [
           {
            "marker": {
             "colorbar": {
              "outlinewidth": 0,
              "ticks": ""
             }
            },
            "type": "scattergl"
           }
          ],
          "scattermapbox": [
           {
            "marker": {
             "colorbar": {
              "outlinewidth": 0,
              "ticks": ""
             }
            },
            "type": "scattermapbox"
           }
          ],
          "scatterpolar": [
           {
            "marker": {
             "colorbar": {
              "outlinewidth": 0,
              "ticks": ""
             }
            },
            "type": "scatterpolar"
           }
          ],
          "scatterpolargl": [
           {
            "marker": {
             "colorbar": {
              "outlinewidth": 0,
              "ticks": ""
             }
            },
            "type": "scatterpolargl"
           }
          ],
          "scatterternary": [
           {
            "marker": {
             "colorbar": {
              "outlinewidth": 0,
              "ticks": ""
             }
            },
            "type": "scatterternary"
           }
          ],
          "surface": [
           {
            "colorbar": {
             "outlinewidth": 0,
             "ticks": ""
            },
            "colorscale": [
             [
              0,
              "#0d0887"
             ],
             [
              0.1111111111111111,
              "#46039f"
             ],
             [
              0.2222222222222222,
              "#7201a8"
             ],
             [
              0.3333333333333333,
              "#9c179e"
             ],
             [
              0.4444444444444444,
              "#bd3786"
             ],
             [
              0.5555555555555556,
              "#d8576b"
             ],
             [
              0.6666666666666666,
              "#ed7953"
             ],
             [
              0.7777777777777778,
              "#fb9f3a"
             ],
             [
              0.8888888888888888,
              "#fdca26"
             ],
             [
              1,
              "#f0f921"
             ]
            ],
            "type": "surface"
           }
          ],
          "table": [
           {
            "cells": {
             "fill": {
              "color": "#EBF0F8"
             },
             "line": {
              "color": "white"
             }
            },
            "header": {
             "fill": {
              "color": "#C8D4E3"
             },
             "line": {
              "color": "white"
             }
            },
            "type": "table"
           }
          ]
         },
         "layout": {
          "annotationdefaults": {
           "arrowcolor": "#2a3f5f",
           "arrowhead": 0,
           "arrowwidth": 1
          },
          "autotypenumbers": "strict",
          "coloraxis": {
           "colorbar": {
            "outlinewidth": 0,
            "ticks": ""
           }
          },
          "colorscale": {
           "diverging": [
            [
             0,
             "#8e0152"
            ],
            [
             0.1,
             "#c51b7d"
            ],
            [
             0.2,
             "#de77ae"
            ],
            [
             0.3,
             "#f1b6da"
            ],
            [
             0.4,
             "#fde0ef"
            ],
            [
             0.5,
             "#f7f7f7"
            ],
            [
             0.6,
             "#e6f5d0"
            ],
            [
             0.7,
             "#b8e186"
            ],
            [
             0.8,
             "#7fbc41"
            ],
            [
             0.9,
             "#4d9221"
            ],
            [
             1,
             "#276419"
            ]
           ],
           "sequential": [
            [
             0,
             "#0d0887"
            ],
            [
             0.1111111111111111,
             "#46039f"
            ],
            [
             0.2222222222222222,
             "#7201a8"
            ],
            [
             0.3333333333333333,
             "#9c179e"
            ],
            [
             0.4444444444444444,
             "#bd3786"
            ],
            [
             0.5555555555555556,
             "#d8576b"
            ],
            [
             0.6666666666666666,
             "#ed7953"
            ],
            [
             0.7777777777777778,
             "#fb9f3a"
            ],
            [
             0.8888888888888888,
             "#fdca26"
            ],
            [
             1,
             "#f0f921"
            ]
           ],
           "sequentialminus": [
            [
             0,
             "#0d0887"
            ],
            [
             0.1111111111111111,
             "#46039f"
            ],
            [
             0.2222222222222222,
             "#7201a8"
            ],
            [
             0.3333333333333333,
             "#9c179e"
            ],
            [
             0.4444444444444444,
             "#bd3786"
            ],
            [
             0.5555555555555556,
             "#d8576b"
            ],
            [
             0.6666666666666666,
             "#ed7953"
            ],
            [
             0.7777777777777778,
             "#fb9f3a"
            ],
            [
             0.8888888888888888,
             "#fdca26"
            ],
            [
             1,
             "#f0f921"
            ]
           ]
          },
          "colorway": [
           "#636efa",
           "#EF553B",
           "#00cc96",
           "#ab63fa",
           "#FFA15A",
           "#19d3f3",
           "#FF6692",
           "#B6E880",
           "#FF97FF",
           "#FECB52"
          ],
          "font": {
           "color": "#2a3f5f"
          },
          "geo": {
           "bgcolor": "white",
           "lakecolor": "white",
           "landcolor": "#E5ECF6",
           "showlakes": true,
           "showland": true,
           "subunitcolor": "white"
          },
          "hoverlabel": {
           "align": "left"
          },
          "hovermode": "closest",
          "mapbox": {
           "style": "light"
          },
          "paper_bgcolor": "white",
          "plot_bgcolor": "#E5ECF6",
          "polar": {
           "angularaxis": {
            "gridcolor": "white",
            "linecolor": "white",
            "ticks": ""
           },
           "bgcolor": "#E5ECF6",
           "radialaxis": {
            "gridcolor": "white",
            "linecolor": "white",
            "ticks": ""
           }
          },
          "scene": {
           "xaxis": {
            "backgroundcolor": "#E5ECF6",
            "gridcolor": "white",
            "gridwidth": 2,
            "linecolor": "white",
            "showbackground": true,
            "ticks": "",
            "zerolinecolor": "white"
           },
           "yaxis": {
            "backgroundcolor": "#E5ECF6",
            "gridcolor": "white",
            "gridwidth": 2,
            "linecolor": "white",
            "showbackground": true,
            "ticks": "",
            "zerolinecolor": "white"
           },
           "zaxis": {
            "backgroundcolor": "#E5ECF6",
            "gridcolor": "white",
            "gridwidth": 2,
            "linecolor": "white",
            "showbackground": true,
            "ticks": "",
            "zerolinecolor": "white"
           }
          },
          "shapedefaults": {
           "line": {
            "color": "#2a3f5f"
           }
          },
          "ternary": {
           "aaxis": {
            "gridcolor": "white",
            "linecolor": "white",
            "ticks": ""
           },
           "baxis": {
            "gridcolor": "white",
            "linecolor": "white",
            "ticks": ""
           },
           "bgcolor": "#E5ECF6",
           "caxis": {
            "gridcolor": "white",
            "linecolor": "white",
            "ticks": ""
           }
          },
          "title": {
           "x": 0.05
          },
          "xaxis": {
           "automargin": true,
           "gridcolor": "white",
           "linecolor": "white",
           "ticks": "",
           "title": {
            "standoff": 15
           },
           "zerolinecolor": "white",
           "zerolinewidth": 2
          },
          "yaxis": {
           "automargin": true,
           "gridcolor": "white",
           "linecolor": "white",
           "ticks": "",
           "title": {
            "standoff": 15
           },
           "zerolinecolor": "white",
           "zerolinewidth": 2
          }
         }
        },
        "title": {
         "text": "Danceability vs Streams"
        },
        "xaxis": {
         "anchor": "y",
         "autorange": true,
         "domain": [
          0,
          1
         ],
         "range": [
          20.673193744345355,
          100.32680625565465
         ],
         "title": {
          "text": "danceability_%"
         },
         "type": "linear"
        },
        "yaxis": {
         "anchor": "x",
         "autorange": true,
         "domain": [
          0,
          1
         ],
         "range": [
          -55.45631067961165,
          727.4563106796116
         ],
         "title": {
          "text": "streams"
         },
         "type": "category"
        }
       }
      },
      "image/png": "[encoded data removed]",
      "text/html": [
       "<div>                            <div id=\"d0ab0973-4531-4021-a661-dc1653b3a216\" class=\"plotly-graph-div\" style=\"height:525px; width:100%;\"></div>            <script type=\"text/javascript\">                require([\"plotly\"], function(Plotly) {                    window.PLOTLYENV=window.PLOTLYENV || {};                                    if (document.getElementById(\"d0ab0973-4531-4021-a661-dc1653b3a216\")) {                    Plotly.newPlot(                        \"d0ab0973-4531-4021-a661-dc1653b3a216\",                        [{\"customdata\":[[\"LALA\",\"Myke Towers\"],[\"Columbia\",\"Quevedo\"],[\"La Bebe - Remix\",\"Peso Pluma, Yng Lvcas\"],[\"Classy 101\",\"Feid, Young Miko\"],[\"LADY GAGA\",\"Gabito Ballesteros, Junior H, Peso Pluma\"],[\"I Can See You (Taylor\\u00ef\\u00bf\\u00bd\\u00ef\\u00bf\\u00bd\\u00ef\\u00bf\\u00bds Version) (From The \",\"Taylor Swift\"],[\"Peso Pluma: Bzrp Music Sessions, Vol. 55\",\"Bizarrap, Peso Pluma\"],[\"SABOR FRESA\",\"Fuerza Regida\"],[\"MOJABI GHOST\",\"Tainy, Bad Bunny\"],[\"Last Night\",\"Morgan Wallen\"],[\"TULUM\",\"Peso Pluma, Grupo Frontera\"],[\"Anti-Hero\",\"Taylor Swift\"],[\"TQG\",\"Karol G, Shakira\"],[\"Fr\\u00ef\\u00bf\\u00bd\\u00ef\\u00bf\\u00bdgil (feat. Grupo Front\",\"Yahritza Y Su Esencia, Grupo Frontera\"],[\"Blank Space\",\"Taylor Swift\"],[\"Style\",\"Taylor Swift\"],[\"TQM\",\"Fuerza Regida\"],[\"El Azul\",\"Junior H, Peso Pluma\"],[\"See You Again\",\"Tyler, The Creator, Kali Uchis\"],[\"Angels Like You\",\"Miley Cyrus\"],[\"Die For You\",\"The Weeknd\"],[\"Die For You - Remix\",\"Ariana Grande, The Weeknd\"],[\"El Cielo\",\"Feid, Myke Towers, Sky Rompiendo\"],[\"Baby Don't Hurt Me\",\"David Guetta, Anne-Marie, Coi Leray\"],[\"AMARGURA\",\"Karol G\"],[\"(It Goes Like) Nanana - Edit\",\"Peggy Gou\"],[\"Moonlight\",\"Kali Uchis\"],[\"La Bachata\",\"Manuel Turizo\"],[\"T\\u00ef\\u00bf\\u00bd\\u00ef\\u00bf\",\"dennis, MC Kevin o Chris\"],[\"Boy's a liar Pt. 2\",\"PinkPantheress, Ice Spice\"],[\"Left and Right (Feat. Jung Kook of BTS)\",\"Charlie Puth, BTS, Jung Kook\"],[\"BESO\",\"Rauw Alejandro, ROSAL\\u00ef\\u00bf\\u00bd\"],[\"Hey Mor\",\"Ozuna, Feid\"],[\"Karma\",\"Taylor Swift\"],[\"People\",\"Libianca\"],[\"Overdrive\",\"Post Malone\"],[\"Enchanted (Taylor's Version)\",\"Taylor Swift\"],[\"BABY HELLO\",\"Rauw Alejandro, Bizarrap\"],[\"golden hour\",\"JVKE\"],[\"Quevedo: Bzrp Music Sessions, Vol. 52\",\"Bizarrap, Quevedo\"],[\"Here With Me\",\"d4vd\"],[\"Yandel 150\",\"Yandel, Feid\"],[\"CORAZ\\u00ef\\u00bf\\u00bd\\u00ef\\u00bf\\u00bdN VA\",\"Maria Becerra\"],[\"Until I Found You (with Em Beihold) - Em Beihold Version\",\"Em Beihold, Stephen Sanchez\"],[\"Novidade na \\u00ef\\u00bf\\u00bd\\u00ef\\u00bf\",\"Mc Livinho, DJ Matt D\"],[\"Back To December (Taylor's Version)\",\"Taylor Swift\"],[\"El Merengue\",\"Marshmello, Manuel Turizo\"],[\"MONTAGEM - FR PUNK\",\"Ayparia, unxbected\"],[\"Fast Car\",\"Luke Combs\"],[\"What It Is (Solo Version)\",\"Doechii\"],[\"Coco Chanel\",\"Bad Bunny, Eladio Carrion\"],[\"Don\\u00ef\\u00bf\\u00bd\\u00ef\\u00bf\\u00bd\\u00ef\\u00bf\\u00bdt Bl\",\"Taylor Swift\"],[\"All My Life (feat. J. Cole)\",\"J. Cole, Lil Durk\"],[\"Say Yes To Heaven\",\"Lana Del Rey\"],[\"Snooze\",\"SZA\"],[\"Summertime Sadness\",\"Lana Del Rey\"],[\"Take Two\",\"BTS\"],[\"Lover\",\"Taylor Swift\"],[\"Too Many Nights (feat. Don Toliver & with Future)\",\"Future, Metro Boomin, Don Toliver\"],[\"Chemical\",\"Post Malone\"],[\"Mockingbird\",\"Eminem\"],[\"New Jeans\",\"NewJeans\"],[\"Primera Cita\",\"Carin Leon\"],[\"Dandelions\",\"Ruth B.\"],[\"Bones\",\"Imagine Dragons\"],[\"Set Fire to the Rain\",\"Adele\"],[\"Money Trees\",\"Kendrick Lamar, Jay Rock\"],[\"Tak Segampang Itu\",\"Anggi Marito\"],[\"LAGUNAS\",\"Jasiel Nu\\u00ef\\u00bf\\u00bd\\u00ef\\u00bf\\u00bdez, Peso P\"],[\"Mine (Taylor's Version)\",\"Taylor Swift\"],[\"No Role Modelz\",\"J. Cole\"],[\"Tattoo\",\"Loreen\"],[\"Rara Vez\",\"Taiu, Milo j\"],[\"VAGABUNDO\",\"Sebastian Yatra, Manuel Turizo, Be\\u00ef\\u00bf\\u00bd\\u00ef\"],[\"august\",\"Taylor Swift\"],[\"LUNA\",\"Junior H, Peso Pluma\"],[\"Miracle (with Ellie Goulding)\",\"Calvin Harris, Ellie Goulding\"],[\"Nonsense\",\"Sabrina Carpenter\"],[\"Que Vuelvas\",\"Carin Leon, Grupo Frontera\"],[\"Feliz Cumplea\\u00ef\\u00bf\\u00bd\\u00ef\\u00bf\\u00bdos Fe\",\"Feid\"],[\"Can't Hold Us (feat. Ray Dalton)\",\"Ray Dalton, Ryan Lewis, Macklemore\"],[\"lovely - Bonus Track\",\"Billie Eilish, Khalid\"],[\"Rauw Alejandro: Bzrp Music Sessions, Vol. 56\",\"Rauw Alejandro, Bizarrap\"],[\"Queencard\",\"(G)I-DLE\"],[\"OMG\",\"NewJeans\"],[\"Radio\",\"Lana Del Rey\"],[\"Trance (with Travis Scott & Young Thug)\",\"Travis Scott, Young Thug, Metro Boomin\"],[\"Perfect\",\"Ed Sheeran\"],[\"Romantic Homicide\",\"d4vd\"],[\"Believer\",\"Imagine Dragons\"],[\"Novo Balan\\u00ef\\u00bf\\u00bd\",\"Veigh, Bvga Beatz, Supernova Ent, Prod Malax\"],[\"Gol Bolinha, Gol Quadrado 2\",\"Mc Pedrinho, DJ 900\"],[\"Without Me\",\"Eminem\"],[\"Stargirl Interlude\",\"The Weeknd, Lana Del Rey\"],[\"Ojitos Lindos\",\"Bomba Est\\u00ef\\u00bf\\u00bd\\u00ef\\u00bf\\u00bdreo, Bad B\"],[\"Somewhere Only We Know\",\"Keane\"],[\"Those Eyes\",\"New West\"],[\"El Gordo Trae El Mando\",\"Chino Pacas\"],[\"Mi Bello Angel\",\"Natanael Cano\"],[\"Nosso Quadro\",\"Ana Castela, AgroPlay\"],[\"Locked Out Of Heaven\",\"Bruno Mars\"],[\"Un Finde | CROSSOVER #2\",\"Big One, FMK, Ke personajes\"],[\"PRC\",\"Natanael Cano, Peso Pluma\"],[\"Enchanted\",\"Taylor Swift\"],[\"Sure Thing\",\"Miguel\"],[\"Let Me Down Slowly\",\"Alec Benjamin\"],[\"Am I Dreaming (Metro Boomin & A$AP Rocky, Roisee)\",\"A$AP Rocky, Metro Boomin, Roisee\"],[\"Demons\",\"Imagine Dragons\"],[\"\\u00fd\\u00fd\\u00fd\\u00fd\\u00fd\\u00fd\\u00fd\\u00fd\\u00fd\\u00fd\\u00fd\\u00fd\",\"YOASOBI\"],[\"Reminder\",\"The Weeknd\"],[\"Why'd You Only Call Me When You're High?\",\"Arctic Monkeys\"],[\"Car's Outside\",\"James Arthur\"],[\"Cheques\",\"Shubh\"],[\"Pink + White\",\"Frank Ocean\"],[\"Just The Way You Are\",\"Bruno Mars\"],[\"Take Me To Church\",\"Hozier\"],[\"Bebe Dame\",\"Fuerza Regida, Grupo Frontera\"],[\"You Belong With Me (Taylor\\u00ef\\u00bf\\u00bd\\u00ef\\u00bf\\u00bd\\u00ef\\u00bf\\u00bds Ve\",\"Taylor Swift\"],[\"Titi Me Pregunt\\u00ef\\u00bf\",\"Bad Bunny\"],[\"Better Than Revenge (Taylor's Version)\",\"Taylor Swift\"],[\"Shut up My Moms Calling\",\"Hotel Ugly\"],[\"Es un Secreto\",\"Plan B\"],[\"POLARIS - Remix\",\"Feid, Mora, Saiko, Quevedo\"],[\"Ditto\",\"NewJeans\"],[\"Annihilate (Spider-Man: Across the Spider-Verse) (Metro Boomin & Swae Lee, Lil Wayne, Offset)\",\"Swae Lee, Lil Wayne, Offset, Metro Boomin\"],[\"Acr\\u00ef\\u00bf\\u00bd\\u00ef\\u00bf\\u00bds\",\"Shakira\"],[\"AMG\",\"Natanael Cano, Gabito Ballesteros, Peso Pluma\"],[\"Phir Aur Kya Chahiye (From \\\"Zara Hatke Zara Bachke\\\")\",\"Arijit Singh, Sachin-Jigar, Amitabha Bhattacharya\"],[\"S-Class\",\"Stray Kids\"],[\"Hits Different\",\"Taylor Swift\"],[\"Chanel\",\"Becky G, Peso Pluma\"],[\"Self Love (Spider-Man: Across the Spider-Verse) (Metro Boomin & Coi Leray)\",\"Metro Boomin, Coi Leray\"],[\"Abcdario\",\"Junior H, Eden Mu\\u00ef\\u00bf\\u00bd\\u00ef\"],[\"Obsessed\",\"Abhijay Sharma, Riar Saab\"],[\"Pi\\u00ef\\u00bf\\u00bd\\u00ef\\u00bf\\u00bdman De\\u00ef\\u00bf\",\"Semicenk, Do\\u00ef\\u00bf\\u00bd\\u00ef\\u00bf\\u00bdu \"],[\"FLOWER\",\"JISOO\"],[\"All The Way Live (Spider-Man: Across the Spider-Verse) (Metro Boomin & Future, Lil Uzi Vert)\",\"Future, Lil Uzi Vert, Metro Boomin\"],[\"Eyes Closed\",\"Ed Sheeran\"],[\"Escapism.\",\"RAYE, 070 Shake\"],[\"La Jumpa\",\"Arcangel, Bad Bunny\"],[\"Karma (feat. Ice Spice)\",\"Taylor Swift, Ice Spice\"],[\"Superhero (Heroes & Villains) [with Future & Chris Brown]\",\"Future, Chris Brown, Metro Boomin\"],[\"Las Morras\",\"BLESSD, Peso Pluma\"],[\"CHORRITO PA LAS ANIMAS\",\"Feid\"],[\"Ch y la Pizza\",\"Fuerza Regida, Natanael Cano\"],[\"Snow On The Beach (feat. More Lana Del Rey)\",\"Lana Del Rey, Taylor Swift\"],[\"Players\",\"Coi Leray\"],[\"Stand By Me (feat. Morgan Wallen)\",\"Lil Durk, Morgan Wallen\"],[\"Normal\",\"Feid\"],[\"Hummingbird (Metro Boomin & James Blake)\",\"James Blake, Metro Boomin\"],[\"Bad Habit\",\"Steve Lacy\"],[\"Lilith (feat. SUGA of BTS) (Diablo IV Anthem)\",\"Halsey, Suga\"],[\"69\",\"Nicky Jam, Feid\"],[\"Ni\\u00ef\\u00bf\\u00bd\\u00ef\\u00bf\\u00bda Bo\",\"Sean Paul, Feid\"],[\"Search & Rescue\",\"Drake\"],[\"AMERICA HAS A PROBLEM (feat. Kendrick Lamar)\",\"Kendrick Lamar, Beyonc\\u00ef\\u00bf\"],[\"Lavender Haze\",\"Taylor Swift\"],[\"Efecto\",\"Bad Bunny\"],[\"Cupido\",\"Tini\"],[\"Just Wanna Rock\",\"Lil Uzi Vert\"],[\"Rich Flex\",\"Drake, 21 Savage\"],[\"Danger (Spider) (Offset & JID)\",\"Offset, JID\"],[\"The Real Slim Shady\",\"Eminem\"],[\"MERCHO\",\"Migrantes, LiL CaKe, Nico Valdi\"],[\"The Color Violet\",\"Tory Lanez\"],[\"Glimpse of Us\",\"Joji\"],[\"Mejor Que Yo\",\"Mambo Kingz, DJ Luian, Anuel Aa\"],[\"Curtains\",\"Ed Sheeran\"],[\"UNFORGIVEN (feat. Nile Rodgers)\",\"Nile Rodgers, LE SSERAFIM\"],[\"Haegeum\",\"Agust D\"],[\"Conex\\u00ef\\u00bf\\u00bd\\u00ef\\u00bf\\u00bdes de M\\u00ef\\u00bf\\u00bd\\u00ef\\u00bf\\u00bdfia (feat. Rich \",\"Rich The Kid, Matu\\u00ef\\u00bf\"],[\"Never Felt So Alone\",\"Labrinth\"],[\"X SI VOLVEMOS\",\"Karol G, Romeo Santos\"],[\"ceilings\",\"Lizzy McAlpine\"],[\"Cupid\",\"Fifty Fifty\"],[\"I AM\",\"IVE\"],[\"Cupid \\u00ef\\u00bf\\u00bd\\u00ef\\u00bf\\u00bd\\u00ef\\u00bf\\u00bd Twin Ver. (FIFTY FIFTY) \\u00ef\\u00bf\\u00bd\\u00ef\\u00bf\\u00bd\\u00ef\\u00bf\\u00bd Spe\",\"sped up 8282\"],[\"Shorty Party\",\"Cartel De Santa, La Kelly\"],[\"Super\",\"SEVENTEEN\"],[\"Double Fantasy (with Future)\",\"The Weeknd, Future\"],[\"All Of The Girls You Loved Before\",\"Taylor Swift\"],[\"PROVENZA\",\"Karol G\"],[\"Princess Diana (with Nicki Minaj)\",\"Nicki Minaj, Ice Spice\"],[\"Di Que Si\",\"Grupo Marca Registrada, Grupo Frontera\"],[\"Igualito a Mi Ap\\u00ef\\u00bf\",\"Fuerza Regida, Peso Pluma\"],[\"Shoong! (feat. LISA of BLACKPINK)\",\"TAEYANG, Lisa\"],[\"Komang\",\"Raim Laode\"],[\"DESPECH\\u00ef\\u00bf\",\"ROSAL\\u00ef\\u00bf\\u00bd\"],[\"Made You Look\",\"Meghan Trainor\"],[\"Watch This - ARIZONATEARS Pluggnb Remix\",\"sped up nightcore, ARIZONATEARS, Lil Uzi Vert\"],[\"Punto G\",\"Quevedo\"],[\"Lovers Rock\",\"TV Girl\"],[\"Mami Chula\",\"Quevedo, Jhayco\"],[\"En Paris\",\"El Chachito, Junior H\"],[\"I Was Never There\",\"The Weeknd, Gesaffelstein\"],[\"Don't ever say love me (feat. RM of BTS)\",\"RM, Colde\"],[\"Gato de Noche\",\"Nengo Flow, Bad Bunny\"],[\"Call Out My Name\",\"The Weeknd\"],[\"Like Crazy (English Version)\",\"Jimin\"],[\"Rosa Pastel\",\"Jasiel Nu\\u00ef\\u00bf\\u00bd\\u00ef\\u00bf\\u00bdez, Peso P\"],[\"Superman\",\"Eminem, Dina Rae\"],[\"Mas Rica Que Ayer\",\"Mambo Kingz, DJ Luian, Anuel Aa\"],[\"People Pt.2 (feat. IU)\",\"IU, Agust D\"],[\"REMIX EXCLUSIVO\",\"Feid\"],[\"Arc\\u00ef\\u00bf\\u00bd\\u00ef\\u00bf\\u00bdngel: Bzrp Music Sessions, Vol\",\"Arcangel, Bizarrap\"],[\"DOGTOOTH\",\"Tyler, The Creator\"],[\"10:35\",\"Ti\\u00ef\\u00bf\\u00bd\\u00ef\\u00bf\\u00bdsto, Tate M\"],[\"SORRY NOT SORRY\",\"Tyler, The Creator\"],[\"HAPPY\",\"NF\"],[\"La Bebe\",\"Yng Lvcas\"],[\"Late Night Talking\",\"Harry Styles\"],[\"Le\\u00ef\\u00bf\\u00bd\",\"Mar\\u00ef\\u00bf\\u00bd\\u00ef\\u00bf\\u00bdlia Mendo\"],[\"Something in the Orange\",\"Zach Bryan\"],[\"VOID\",\"Melanie Martinez\"],[\"Dijeron Que No La Iba Lograr\",\"Fuerza Regida, Chino Pacas\"],[\"If We Ever Broke Up\",\"Mae Stephens\"],[\"LA INOCENTE\",\"Feid, Mora\"],[\"Malas Decisiones\",\"Kenia OS\"],[\"Murder In My Mind\",\"Kordhell\"],[\"CAIRO\",\"Karol G, Ovy On The Drums\"],[\"I Love You So\",\"The Walters\"],[\"Dark Red\",\"Steve Lacy\"],[\"Say You Won't Let Go\",\"James Arthur\"],[\"Peaches (from The Super Mario Bros. Movie)\",\"Jack Black\"],[\"LOKERA\",\"Brray, Rauw Alejandro, Lyanno\"],[\"on the street (with J. Cole)\",\"j-hope, J. Cole\"],[\"One Thing At A Time\",\"Morgan Wallen\"],[\"Miss You\",\"Robin Schulz, Oliver Tree\"],[\"Ain\\u00ef\\u00bf\\u00bd\\u00ef\\u00bf\\u00bd\\u00ef\\u00bf\\u00bdt Tha\",\"Morgan Wallen\"],[\"Thinkin\\u00ef\\u00bf\\u00bd\\u00ef\\u00bf\\u00bd\\u00ef\\u00bf\\u00bd B\",\"Morgan Wallen\"],[\"Private Landing (feat. Justin Bieber & Future)\",\"Don Toliver, Future, Justin Bieber\"],[\"Everything I Love\",\"Morgan Wallen\"],[\"Heaven\",\"Niall Horan\"],[\"LET GO\",\"Central Cee\"],[\"Sial\",\"Mahalini\"],[\"I Wrote The Book\",\"Morgan Wallen\"],[\"Apna Bana Le (From \\\"Bhediya\\\")\",\"Arijit Singh, Sachin-Jigar\"],[\"SPIT IN MY FACE!\",\"ThxSoMch\"],[\"PLAYA DEL INGL\\u00ef\\u00bf\\u00bd\",\"Myke Towers, Quevedo\"],[\"Man Made A Bar (feat. Eric Church)\",\"Morgan Wallen, Eric Church\"],[\"Red Ruby Da Sleeze\",\"Nicki Minaj\"],[\"Kahani Suno 2.0\",\"Kaifi Khalil\"],[\"Nobody Gets Me\",\"SZA\"],[\"PERO T\\u00ef\\u00bf\",\"Karol G, Quevedo\"],[\"Hype Boy\",\"NewJeans\"],[\"Bloody Mary\",\"Lady Gaga\"],[\"\\u00fd\\u00fd\\u00fd98 Braves\",\"Morgan Wallen\"],[\"WANDA\",\"Quevedo\"],[\"Thought You Should Know\",\"Morgan Wallen\"],[\"In The End\",\"Linkin Park\"],[\"Zona De Perigo\",\"Leo Santana\"],[\"Lovezinho\",\"Treyce\"],[\"I Like You (A Happier Song) (with Doja Cat)\",\"Post Malone, Doja Cat\"],[\"Neverita\",\"Bad Bunny\"],[\"Sem Alian\\u00ef\\u00bf\\u00bd\\u00ef\\u00bf\\u00bda no \",\"MC Xenon, Os Gemeos da Putaria\"],[\"Revenge\",\"XXXTENTACION\"],[\"LA CANCI\\u00ef\\u00bf\\u00bd\",\"J Balvin, Bad Bunny\"],[\"Qu\\u00ef\\u00bf\\u00bd\\u00ef\\u00bf\\u00bd Ago\",\"Yuridia, Angela Aguilar\"],[\"Love Again\",\"The Kid Laroi\"],[\"After Hours\",\"The Weeknd\"],[\"About Damn Time\",\"Lizzo\"],[\"\\u00fd\\u00fd\\u00fd\\u00fd\\u00fd\\u00fd\\u00fd\\u00fd\\u00fd\\u00fd\\u00fd\\u00fd\\u00fd\\u00fd\\u00fd\\u00fd\\u00fd\\u00fd\\u00fd\\u00fd\\u00fd\",\"Fujii Kaze\"],[\"Besos Moja2\",\"Wisin & Yandel, ROSAL\\u00ef\\u00bf\\u00bd\"],[\"Maan Meri Jaan\",\"King\"],[\"Moscow Mule\",\"Bad Bunny\"],[\"My Universe\",\"Coldplay, BTS\"],[\"LLYLM\",\"ROSAL\\u00ef\\u00bf\\u00bd\"],[\"TRUSTFALL\",\"P!nk\"],[\"ANTIFRAGILE\",\"LE SSERAFIM\"],[\"Boy's a liar\",\"PinkPantheress\"],[\"Shirt\",\"SZA\"],[\"Lift Me Up - From Black Panther: Wakanda Forever - Music From and Inspired By\",\"Rihanna\"],[\"STAR WALKIN' (League of Legends Worlds Anthem)\",\"Lil Nas X\"],[\"Sex, Drugs, Etc.\",\"Beach Weather\"],[\"Boy With Luv (feat. Halsey)\",\"Halsey, BTS\"],[\"Hey, Mickey!\",\"Baby Tate\"],[\"Escapism. - Sped Up\",\"RAYE, 070 Shake\"],[\"Te Felicito\",\"Shakira, Rauw Alejandro\"],[\"Mu\\u00ef\\u00bf\\u00bd\\u00ef\\u00bf\\u00bd\",\"Steve Aoki, Tini, La Joaqui\"],[\"TV\",\"Billie Eilish\"],[\"I'm Not The Only One\",\"Sam Smith\"],[\"Heather\",\"Conan Gray\"],[\"Sugar Rush Ride\",\"TOMORROW X TOGETHER\"],[\"WAIT FOR U (feat. Drake & Tems)\",\"Drake, Future, Tems\"],[\"MIDDLE OF THE NIGHT\",\"Elley Duh\\u00ef\\u00bf\"],[\"Atlantis\",\"Seafret\"],[\"Evoque Prata\",\"DJ Escobar, MC MENOR SG, MC MENOR HR\"],[\"How Do I Say Goodbye\",\"Dean Lewis\"],[\"Blind\",\"SZA\"],[\"Die For You\",\"Joji\"],[\"Doja\",\"Central Cee\"],[\"Gatita\",\"Bellakath\"],[\"Rumble\",\"Skrillex, Flowdan, Fred again..\"],[\"Niagara Falls (Foot or 2) [with Travis Scott & 21 Savage]\",\"Travis Scott, 21 Savage, Metro Boomin\"],[\"Yonaguni\",\"Bad Bunny\"],[\"Super Freaky Girl\",\"Nicki Minaj\"],[\"Where Are You Now\",\"Lost Frequencies, Calum Scott\"],[\"WORTH NOTHING\",\"Twisted, Oliver Tree\"],[\"KICK BACK\",\"Kenshi Yonezu\"],[\"Evergreen (You Didn\\u00ef\\u00bf\\u00bd\\u00ef\\u00bf\\u00bd\\u00ef\\u00bf\\u00bdt Deserve Me A\",\"Omar Apollo\"],[\"Levitating (feat. DaBaby)\",\"Dua Lipa, DaBaby\"],[\"Shut up My Moms Calling - (Sped Up)\",\"Hotel Ugly\"],[\"Ferrari\",\"James Hype, Miggy Dela Rosa\"],[\"You're On Your Own, Kid\",\"Taylor Swift\"],[\"It's Beginning To Look A Lot Like Christmas\",\"Michael Bubl\\u00ef\\u00bf\"],[\"Underneath the Tree\",\"Kelly Clarkson\"],[\"Holly Jolly Christmas\",\"Michael Bubl\\u00ef\\u00bf\"],[\"Mistletoe\",\"Justin Bieber\"],[\"Seek & Destroy\",\"SZA\"],[\"Love Language\",\"SZA\"],[\"Used (feat. Don Toliver)\",\"SZA, Don Toliver\"],[\"Ghost in the Machine (feat. Phoebe Bridgers)\",\"SZA, Phoebe Bridgers\"],[\"SOS\",\"SZA\"],[\"Open Arms (feat. Travis Scott)\",\"SZA, Travis Scott\"],[\"Driving Home for Christmas - 2019 Remaster\",\"Chris Rea\"],[\"Gone Girl\",\"SZA\"],[\"F2F\",\"SZA\"],[\"Notice Me\",\"SZA\"],[\"Antidepresan\",\"Mabel Matiz, Mert Demir\"],[\"Wild Flower (with youjeen)\",\"RM\"],[\"I Hate U\",\"SZA\"],[\"Raindrops (Insane) [with Travis Scott]\",\"Travis Scott, Metro Boomin\"],[\"SPIT IN MY FACE!\",\"ThxSoMch\"],[\"Smoking on my Ex Pack\",\"SZA\"],[\"Conceited\",\"SZA\"],[\"Snow On The Beach (feat. Lana Del Rey)\",\"Taylor Swift, Lana Del Rey\"],[\"Maroon\",\"Taylor Swift\"],[\"Tubar\\u00ef\\u00bf\\u00bd\\u00ef\\u00bf\\u00bdo Te\",\"Dj LK da Esc\\u00ef\\u00bf\\u00bd\\u00ef\\u00bf\\u00bdcia, Tchakabum, mc jhenny, M\"],[\"Bejeweled\",\"Taylor Swift\"],[\"You Make It Feel Like Christmas (feat. Blake Shelton)\",\"Gwen Stefani, Blake Shelton\"],[\"Desesperados\",\"Chencho Corleone, Rauw Alejandro\"],[\"Too Late\",\"SZA\"],[\"Party\",\"Bad Bunny, Rauw Alejandro\"],[\"Far\",\"SZA\"],[\"On Time (with John Legend)\",\"John Legend, Metro Boomin\"],[\"GAT\\u00ef\\u00bf\\u00bd\\u00ef\\u00bf\\u00bd\",\"Maldy, Karol G\"],[\"Is There Someone Else?\",\"The Weeknd\"],[\"Fingers Crossed\",\"Lauren Spencer Smith, Lauren Spencer Smith, Lauren Spencer Smith\"],[\"Do It To It\",\"Cherish, ACRAZE\"],[\"How Do I Make You Love Me?\",\"The Weeknd\"],[\"Gasoline\",\"The Weeknd\"],[\"Infinity\",\"Jaymes Young\"],[\"Take My Breath\",\"The Weeknd\"],[\"Best Friends\",\"The Weeknd\"],[\"I Heard You're Married (feat. Lil Wayne)\",\"The Weeknd, Lil Wayne\"],[\"Dawn FM\",\"The Weeknd\"],[\"Surface Pressure\",\"Jessica Darrow\"],[\"Starry Eyes\",\"The Weeknd\"],[\"THATS WHAT I WANT\",\"Lil Nas X\"],[\"One Right Now (with The Weeknd)\",\"The Weeknd, Post Malone\"],[\"Beggin\",\"M\\u00ef\\u00bf\\u00bd\\u00ef\\u00bf\\u00bdne\"],[\"Mon Amour - Remix\",\"Aitana, zzoilo\"],[\"Lo Siento BB:/ (with Bad Bunny & Julieta Venegas)\",\"Julieta Venegas, Bad Bunny, Tainy\"],[\"The Motto\",\"Ti\\u00ef\\u00bf\\u00bd\\u00ef\\u00bf\\u00bdsto, Ava\"],[\"Malvad\\u00ef\\u00bf\\u00bd\\u00ef\\u00bf\",\"Xam\\u00ef\\u00bf\\u00bd\\u00ef\\u00bf\\u00bd, Gustah, Neo B\"],[\"Don\\u00ef\\u00bf\\u00bd\\u00ef\\u00bf\\u00bd\\u00ef\\u00bf\\u00bdt Break My\",\"The Weeknd\"],[\"Oh My God\",\"Adele\"],[\"Entre Nosotros (Remix) [con Nicki Nicole]\",\"Lit Killah, Maria Becerra, Tiago pzk, NICKI NICOLE\"],[\"A Tale By Quincy\",\"The Weeknd\"],[\"I AM WOMAN\",\"Emmy Meli\"],[\"It'll Be Okay\",\"Shawn Mendes\"],[\"Softcore\",\"The Neighbourhood\"],[\"Super Gremlin\",\"Kodak Black\"],[\"Volv\\u00ef\\u00bf\",\"Aventura, Bad Bunny\"],[\"Todo De Ti\",\"Rauw Alejandro\"],[\"Smokin Out The Window\",\"Bruno Mars, Anderson .Paak, Silk Sonic\"],[\"Meet Me At Our Spot\",\"THE ANXIETY, Willow, Tyler Cole\"],[\"Tacones Rojos\",\"Sebastian Yatra\"],[\"Dakiti\",\"Bad Bunny, Jhay Cortez\"],[\"Tiago PZK: Bzrp Music Sessions, Vol. 48\",\"Bizarrap, Tiago pzk\"],[\"L\\u00ef\\u00bf\\u00bd\\u00ef\\u00bf\\u00bd\\u00ef\\u00bf\",\"Stromae\"],[\"Nost\\u00ef\\u00bf\\u00bd\\u00ef\\u00bf\\u00bdl\",\"Chris Brown, Rvssian, Rauw Alejandro\"],[\"Sad Girlz Luv Money Remix (feat. Kali Uchis)\",\"Kali Uchis, Amaarae, Moliy\"],[\"Butter\",\"BTS\"],[\"pushin P (feat. Young Thug)\",\"Young Thug, Future, Gunna\"],[\"You Right\",\"Doja Cat, The Weeknd\"],[\"deja vu\",\"Olivia Rodrigo\"],[\"TO THE MOON\",\"Jnr Choi\"],[\"Lost in the Fire\",\"The Weeknd, Gesaffelstein\"],[\"Salimo de Noche\",\"Trueno, Tiago pzk\"],[\"Volando - Remix\",\"Sech, Bad Bunny, Mora\"],[\"Leave The Door Open\",\"Bruno Mars, Anderson .Paak, Silk Sonic\"],[\"Knife Talk (with 21 Savage ft. Project Pat)\",\"Drake, Project Pat, 21 Savage\"],[\"Don't Be Shy\",\"Ti\\u00ef\\u00bf\\u00bd\\u00ef\\u00bf\\u00bdsto, Kar\"],[\"The Family Madrigal\",\"Olga Merediz, Stephanie Beatriz, Encanto - Cast\"],[\"Acapulco\",\"Jason Derulo\"],[\"Daddy Issues\",\"The Neighbourhood\"],[\"thought i was playing\",\"21 Savage, Gunna\"],[\"ELEVEN\",\"IVE\"],[\"What Else Can I Do?\",\"Stephanie Beatriz, Diane Guerrero\"],[\"Miserable Man\",\"David Kushner\"],[\"happier\",\"Olivia Rodrigo\"],[\"Praise God\",\"Kanye West\"],[\"Get Into It (Yuh)\",\"Doja Cat\"],[\"Before You Go\",\"Lewis Capaldi\"],[\"Sky\",\"Playboi Carti\"],[\"Sobrio\",\"Maluma\"],[\"Peru\",\"Ed Sheeran, Fireboy DML\"],[\"favorite crime\",\"Olivia Rodrigo\"],[\"Thunder\",\"Prezioso, Gabry Ponte, LUM!X\"],[\"The Business\",\"Ti\\u00ef\\u00bf\\u00bd\\u00ef\\u00bf\"],[\"I WANNA BE YOUR SLAVE\",\"M\\u00ef\\u00bf\\u00bd\\u00ef\\u00bf\\u00bdne\"],[\"The Feels\",\"TWICE\"],[\"No Lie\",\"Sean Paul, Dua Lipa\"],[\"OUT OUT (feat. Charli XCX & Saweetie)\",\"Charli XCX, Jax Jones, Joel Corry, Saweetie\"],[\"Pope Is a Rockstar\",\"SALES\"],[\"2055\",\"Sleepy hallow\"],[\"Bored\",\"Billie Eilish\"],[\"Astronaut In The Ocean\",\"Masked Wolf\"],[\"Ley Seca\",\"Anuel Aa, Jhay Cortez\"],[\"Every Summertime\",\"NIKI\"],[\"Talking To The Moon\",\"Bruno Mars\"],[\"you broke me first\",\"Tate McRae\"],[\"The Nights\",\"Avicii\"],[\"Take My Breath\",\"The Weeknd\"],[\"Way 2 Sexy (with Future & Young Thug)\",\"Drake, Future, Young Thug\"],[\"C\\u00ef\\u00bf\\u00bd\\u00ef\\u00bf\\u00bd\",\"Rauw Alejandro\"],[\"Enemy - from the series Arcane League of Legends\",\"Imagine Dragons, League of Legends, Arcane\"],[\"Lucid Dreams\",\"Juice WRLD\"],[\"Qu\\u00ef\\u00bf\\u00bd\\u00ef\\u00bf\\u00bd M\\u00ef\\u00bf\\u00bd\\u00ef\\u00bf\",\"J Balvin, Maria Becerra\"],[\"Fair Trade (with Travis Scott)\",\"Drake, Travis Scott\"],[\"Bar\",\"Tini, L-Gante\"],[\"The Rumbling (TV Size)\",\"SiM\"],[\"family ties (with Kendrick Lamar)\",\"Kendrick Lamar, Baby Keem\"],[\"AM Remix\",\"J Balvin, Nio Garcia, Bad Bunny\"],[\"Streets\",\"Doja Cat\"],[\"Polaroid Love\",\"ENHYPEN\"],[\"Leave Before You Love Me (with Jonas Brothers)\",\"Marshmello, Jonas Brothers\"],[\"Permission to Dance\",\"BTS\"],[\"Friday (feat. Mufasa & Hypeman) - Dopamine Re-Edit\",\"Riton, Nightcrawlers, Mufasa & Hypeman, Dopamine\"],[\"RAPSTAR\",\"Polo G\"],[\"'Till I Collapse\",\"Eminem, Nate Dogg\"],[\"Memories\",\"Maroon 5\"],[\"25k jacket (feat. Lil Baby)\",\"Gunna, Lil Baby\"],[\"Esque\\u00ef\\u00bf\\u00bd\\u00ef\\u00bf\\u00bda-Me Se For C\",\"Mar\\u00ef\\u00bf\\u00bd\\u00ef\\u00bf\\u00bdlia Mendon\\u00ef\\u00bf\\u00bd\\u00ef\\u00bf\\u00bda, Maiara &\"],[\"Mi\\u00ef\\u00bf\\u00bd\\u00ef\\u00bf\\u00bdn\",\"Tini, Maria Becerra\"],[\"S\\u00ef\\u00bf\\u00bd\\u00ef\\u00bf\\u00bd\",\"Anuel Aa, Myke Towers, Jhay Cortez\"],[\"MAMIII\",\"Karol G, Becky G\"],[\"Stay Alive (Prod. SUGA of BTS)\",\"Jung Kook\"],[\"Boyfriend\",\"Dove Cameron\"],[\"Light Switch\",\"Charlie Puth\"],[\"City of Gods\",\"Kanye West, Alicia Keys, Fivio Foreign\"],[\"Brividi\",\"Mahmood, Blanco\"],[\"she's all i wanna be\",\"Tate McRae\"],[\"Ginseng Strip 2002\",\"Yung Lean\"],[\"All For Us - from the HBO Original Series Euphoria\",\"Labrinth, Zendaya\"],[\"Notion\",\"The Rare Occasions\"],[\"Formula\",\"Labrinth\"],[\"Excuses\",\"Intense, AP Dhillon, Gurinder Gill\"],[\"Cigarettes\",\"Juice WRLD\"],[\"California Love - Original Version (Explicit)\",\"Dr. Dre, 2Pac, Roger\"],[\"Forgot About Dre\",\"Eminem, Dr. Dre\"],[\"Down Under (feat. Colin Hay)\",\"Luude, Colin Hay\"],[\"Mujeriego\",\"Ryan Castro\"],[\"Stan\",\"Eminem, Dido\"],[\"Contection\",\"GODZZ__-, Zakaria\"],[\"Swim\",\"Chase Atlantic\"],[\"Numb Little Bug\",\"Em Beihold\"],[\"212\",\"Mainstreet, Chefin\"],[\"Problem\\u00ef\\u00bf\\u00bd\",\"Alvaro Diaz, Rauw Alejandro\"],[\"Bussin\",\"Nicki Minaj, Lil Baby\"],[\"Worst Day\",\"Future\"],[\"Malvada\",\"Z\\u00ef\\u00bf\\u00bd\\u00ef\\u00bf\\u00bd Fe\"],[\"Hrs and Hrs\",\"Muni Long\"],[\"Still Don't Know My Name\",\"Labrinth\"],[\"Christmas Tree\",\"V\"],[\"When I R.I.P.\",\"Labrinth\"],[\"Do We Have A Problem?\",\"Nicki Minaj, Lil Baby\"],[\"Gospel (with Eminem)\",\"Eminem, Dr. Dre\"],[\"Adore You\",\"Harry Styles\"],[\"La Santa\",\"Daddy Yankee, Bad Bunny\"],[\"Sweetest Pie\",\"Dua Lipa, Megan Thee Stallion\"],[\"Bam Bam (feat. Ed Sheeran)\",\"Camila Cabello, Ed Sheeran\"],[\"Una Noche en Medell\\u00ef\\u00bf\\u00bd\",\"Cris Mj\"],[\"Envolver\",\"Anitta\"],[\"Starlight\",\"Dave\"],[\"Hati-Hati di Jalan\",\"Tulus\"],[\"DAN\\u00ef\\u00bf\\u00bd\\u00ef\\u00bf\\u00bdA\",\"Mc Pedrinho, Pedro Sampaio\"],[\"Yo Voy (feat. Daddy Yankee)\",\"Zion & Lennox\"],[\"Residente: Bzrp Music Sessions, Vol. 49\",\"Residente, Bizarrap\"],[\"Jordan\",\"Ryan Castro\"],[\"Nail Tech\",\"Jack Harlow\"],[\"Chale\",\"Eden Mu\\u00ef\\u00bf\\u00bd\\u00ef\"],[\"Ya No Somos Ni Seremos\",\"Christian Nodal\"],[\"Freaky Deaky\",\"Tyga, Doja Cat\"],[\"this is what falling in love feels like\",\"JVKE\"],[\"La Zona\",\"Bad Bunny\"],[\"Hope\",\"XXXTENTACION\"],[\"Levitating\",\"Dua Lipa\"],[\"jealousy, jealousy\",\"Olivia Rodrigo\"],[\"Mon\\u00ef\\u00bf\\u00bd\\u00ef\\u00bf\\u00bdy so\",\"YEAT\"],[\"Demasiadas Mujeres\",\"C. Tangana\"],[\"O.O\",\"NMIXX\"],[\"Tom's Diner\",\"AnnenMayKantereit, Giant Rooks\"],[\"First Class\",\"Jack Harlow\"],[\"Fuera del mercado\",\"Danny Ocean\"],[\"X \\u00ef\\u00bf\\u00bd\\u00ef\\u00bf\\u00bdLTIMA\",\"Daddy Yankee, Bad Bunny\"],[\"When You're Gone\",\"Shawn Mendes\"],[\"In My Head\",\"Lil Tjay\"],[\"Wait a Minute!\",\"Willow\"],[\"LOVE DIVE\",\"IVE\"],[\"Pantysito\",\"Feid, Alejo, Robi\"],[\"Chance\",\"Paulo Londra\"],[\"Cool for the Summer\",\"Demi Lovato\"],[\"psychofreak (feat. WILLOW)\",\"Camila Cabello, Willow\"],[\"Angel Baby\",\"Troye Sivan\"],[\"Vampiro\",\"Matu\\u00ef\\u00bf\\u00bd\\u00ef\\u00bf\\u00bd, Wiu, \"],[\"Si Quieren Frontear\",\"De La Ghetto, Duki, Quevedo\"],[\"Right On\",\"Lil Baby\"],[\"That's Hilarious\",\"Charlie Puth\"],[\"Soy El Unico\",\"Yahritza Y Su Esencia\"],[\"RUMBAT\\u00ef\\u00bf\\u00bd\",\"Daddy Yankee\"],[\"sentaDONA (Remix) s2\",\"Lu\\u00ef\\u00bf\\u00bd\\u00ef\\u00bf\\u00bdsa Sonza, MC Frog, Dj Gabriel do Borel, Davi K\"],[\"Falling\",\"Harry Styles\"],[\"Sigue\",\"Ed Sheeran, J Balvin\"],[\"Fim de Semana no Rio\",\"teto\"],[\"MANIAC\",\"Stray Kids\"],[\"There's Nothing Holdin' Me Back\",\"Shawn Mendes\"],[\"IDGAF (with blackbear)\",\"Blackbear, BoyWithUke\"],[\"Golden\",\"Harry Styles\"],[\"Ain't Shit\",\"Doja Cat\"],[\"Still Life\",\"BIGBANG\"],[\"Photograph\",\"Ed Sheeran\"],[\"N95\",\"Kendrick Lamar\"],[\"Die Hard\",\"Kendrick Lamar, Blxst, Amanda Reifer\"],[\"Despu\\u00ef\\u00bf\\u00bd\\u00ef\\u00bf\\u00bds de la P\",\"Bad Bunny\"],[\"Father Time (feat. Sampha)\",\"Kendrick Lamar, Sampha\"],[\"Rich Spirit\",\"Kendrick Lamar\"],[\"Me Fui de Vacaciones\",\"Bad Bunny\"],[\"Silent Hill\",\"Kendrick Lamar, Kodak Black\"],[\"La Corriente\",\"Tony Dize, Bad Bunny\"],[\"Count Me Out\",\"Kendrick Lamar\"],[\"Andrea\",\"Buscabulla, Bad Bunny\"],[\"Dos Mil 16\",\"Bad Bunny\"],[\"We Cry Together\",\"Kendrick Lamar, Taylour Paige\"],[\"Un Coco\",\"Bad Bunny\"],[\"Otro Atardecer\",\"Bad Bunny, The Mar\\u00ef\\u00bf\\u00bd\\u00ef\"],[\"Worldwide Steppers\",\"Kendrick Lamar\"],[\"Aguacero\",\"Bad Bunny\"],[\"Purple Hearts\",\"Kendrick Lamar, Ghostface Killah, Summer Walker\"],[\"Un Verano Sin Ti\",\"Bad Bunny\"],[\"ULTRA SOLO\",\"Polima WestCoast, Pailita\"],[\"Ens\\u00ef\\u00bf\\u00bd\\u00ef\\u00bf\\u00bd\\u00ef\\u00bf\\u00bd\\u00ef\\u00bf\\u00bdame \",\"Bad Bunny\"],[\"El Apag\\u00ef\\u00bf\\u00bd\",\"Bad Bunny\"],[\"Callaita\",\"Bad Bunny, Tainy\"],[\"Dua Lipa\",\"Jack Harlow\"],[\"Agosto\",\"Bad Bunny\"],[\"House Of Memories\",\"Panic! At The Disco\"],[\"Mr. Morale\",\"Kendrick Lamar, Tanna Leone\"],[\"That That (prod. & feat. SUGA of BTS)\",\"PSY, Suga\"],[\"In The Stars\",\"Benson Boone\"],[\"Rich - Interlude\",\"Kendrick Lamar\"],[\"SUPERMODEL\",\"M\\u00ef\\u00bf\\u00bd\\u00ef\\u00bf\\u00bdne\"],[\"Stefania (Kalush Orchestra)\",\"KALUSH\"],[\"Thousand Miles\",\"The Kid Laroi\"],[\"Crown\",\"Kendrick Lamar\"],[\"Auntie Diaries\",\"Kendrick Lamar\"],[\"PUFFIN ON ZOOTIEZ\",\"Future\"],[\"Mirror\",\"Kendrick Lamar\"],[\"Beautiful Girl\",\"Luciano\"],[\"Savior - Interlude\",\"Kendrick Lamar\"],[\"Pasoori\",\"Shae Gill, Ali Sethi\"],[\"Mother I Sober (feat. Beth Gibbons of Portishead)\",\"Kendrick Lamar, Beth Gibbons\"],[\"TUS L\\u00ef\\u00bf\\u00bd\\u00ef\\u00bf\\u00bdGR\",\"Sech, Mora\"],[\"Where Did You Go?\",\"MNEK, Jax Jones\"],[\"I Tried to Tell Y'all\",\"Ugly Dray, Tesla Jnr\"],[\"Honest (feat. Don Toliver)\",\"Justin Bieber, Don Toliver\"],[\"ZOOM\",\"Jessi\"],[\"SloMo\",\"Chanel\"],[\"FEARLESS\",\"LE SSERAFIM\"],[\"10 Things I Hate About You\",\"Leah Kate\"],[\"SPACE MAN\",\"Sam Ryder\"],[\"With you\",\"HA SUNG WOON, Jimin\"],[\"Iris\",\"The Goo Goo Dolls\"],[\"The Heart Part 5\",\"Kendrick Lamar\"],[\"San Lucas\",\"Kevin Kaarl\"],[\"This Love (Taylor\\u00ef\\u00bf\\u00bd\\u00ef\\u00bf\\u00bd\\u00ef\\u00bf\\u00bds Ve\",\"Taylor Swift\"],[\"Good Looking\",\"Suki Waterhouse\"],[\"Flowers\",\"Lauren Spencer Smith\"],[\"Yet To Come\",\"BTS\"],[\"Run BTS\",\"BTS\"],[\"Music For a Sushi Restaurant\",\"Harry Styles\"],[\"Matilda\",\"Harry Styles\"],[\"For Youth\",\"BTS\"],[\"Vegas (From the Original Motion Picture Soundtrack ELVIS)\",\"Doja Cat\"],[\"Cash In Cash Out\",\"Pharrell Williams, Tyler, The Creator, 21 Savage\"],[\"Potion (with Dua Lipa & Young Thug)\",\"Calvin Harris, Dua Lipa, Young Thug\"],[\"Born Singer\",\"BTS\"],[\"Little Freak\",\"Harry Styles\"],[\"La Llevo Al Cielo (Ft. \\u00ef\\u00bf\\u00bd\\u00ef\\u00bf\\u00bdengo F\",\"Nengo Flow, Anuel Aa, Chris Jedi, Chencho Corleone\"],[\"True Love\",\"Kanye West, XXXTENTACION\"],[\"Love Of My Life\",\"Harry Styles\"],[\"Grapejuice\",\"Harry Styles\"],[\"So Good\",\"Halsey\"],[\"Belly Dancer\",\"BYOR, Imanbek\"],[\"Keep Driving\",\"Harry Styles\"],[\"Cinema\",\"Harry Styles\"],[\"Die Young (feat. 347aidan)\",\"Sleepy hallow, 347aidan\"],[\"Only Love Can Hurt Like This\",\"Paloma Faith\"],[\"Hold My Hand\",\"Lady Gaga\"],[\"Daydreaming\",\"Harry Styles\"],[\"Nos Comemos (feat. Ozuna)\",\"Ozuna, Tiago pzk\"],[\"Me and Your Mama\",\"Childish Gambino\"],[\"Crazy What Love Can Do\",\"David Guetta, Ella Henderson, Becky Hill\"],[\"SLOW DANCING IN THE DARK\",\"Joji\"],[\"Antes de Perderte\",\"Duki\"],[\"295\",\"Sidhu Moose Wala\"],[\"En El Radio Un Cochinero\",\"Victor Cibrian\"],[\"BREAK MY SOUL\",\"Beyonc\\u00ef\\u00bf\"],[\"Massive\",\"Drake\"],[\"Betty (Get Money)\",\"Yung Gravy\"],[\"Ojos Marrones\",\"Lasso\"],[\"POP!\",\"Nayeon\"],[\"Layla\",\"Sch\\u00ef\\u00bf\\u00bd\\u00ef\\u00bf\\u00bdrze, DJ R\"],[\"MORE\",\"j-hope\"],[\"Sticky\",\"Drake\"],[\"Hot Shit (feat. Ye & Lil Durk)\",\"Kanye West, Lil Durk, Cardi B\"],[\"Ai Preto\",\"L7nnon, DJ Biel do Furduncinho, Bianca\"],[\"La Loto\",\"Anitta, Tini, Becky G\"],[\"die first\",\"Nessa Barrett\"],[\"Afraid To Feel\",\"LF System\"],[\"c\\u00ef\\u00bf\\u00bd\\u00ef\\u00bf\\u00bdmo dormi\",\"Rels B\"],[\"STAYING ALIVE (feat. Drake & Lil Baby)\",\"Drake, DJ Khaled, Lil Baby\"],[\"Si Te La Encuentras Por Ah\\u00ef\\u00bf\",\"Feid\"],[\"GIVENCHY\",\"Duki\"],[\"ALIEN SUPERSTAR\",\"Beyonc\\u00ef\\u00bf\"],[\"Attention\",\"NewJeans\"],[\"THE SHADE\",\"Rex Orange County\"],[\"Come Back Home - From \\\"Purple Hearts\\\"\",\"Sofia Carson\"],[\"El Rescate\",\"Grupo Marca Registrada, Junior H\"],[\"Heartless\",\"Kanye West\"],[\"Stay With Me (with Justin Timberlake, Halsey, & Pharrell)\",\"Calvin Harris, Halsey, Pharrell Williams, Justin Timberlake\"],[\"JGL\",\"Luis R Conriquez, La Adictiva\"],[\"Don't You Worry\",\"David Guetta, Shakira, Black Eyed Peas\"],[\"Pipoco\",\"Melody, Ana Castela, Dj Chris No Beat\"],[\"Forget Me\",\"Lewis Capaldi\"],[\"Bound 2\",\"Kanye West\"],[\"Talk that Talk\",\"TWICE\"],[\"BILLIE EILISH.\",\"Armani White\"],[\"Ferxxo 100\",\"Feid\"],[\"KU LO SA - A COLORS SHOW\",\"Oxlade\"],[\"Prohibidox\",\"Feid\"],[\"Sparks\",\"Coldplay\"],[\"Talk\",\"YEAT\"],[\"XQ Te Pones As\\u00ef\\u00bf\",\"Yandel, Feid\"],[\"Selfish\",\"PnB Rock\"],[\"Sin Se\\u00ef\\u00bf\\u00bd\\u00ef\",\"Ovy On The Drums, Quevedo\"],[\"Lady Mi Amor\",\"Feid\"],[\"THE LONELIEST\",\"M\\u00ef\\u00bf\\u00bd\\u00ef\\u00bf\\u00bdne\"],[\"Bye Bye\",\"Marshmello, Juice WRLD\"],[\"BABY OTAKU\",\"Fran C, Polima WestCoast, Nickoog Clk, Pablito Pesadilla\"],[\"Nxde\",\"(G)I-DLE\"],[\"we fell in love in october\",\"girl in red\"],[\"2 Be Loved (Am I Ready)\",\"Lizzo\"],[\"Celestial\",\"Ed Sheeran\"],[\"Bamba (feat. Aitch & BIA)\",\"Luciano, Aitch, B\\u00ef\\u00bf\\u00bd\"],[\"Major Distribution\",\"Drake, 21 Savage\"],[\"Pussy & Millions (feat. Travis Scott)\",\"Drake, Travis Scott, 21 Savage\"],[\"Vigilante Shit\",\"Taylor Swift\"],[\"Question...?\",\"Taylor Swift\"],[\"Mastermind\",\"Taylor Swift\"],[\"Circo Loco\",\"Drake, 21 Savage\"],[\"Spin Bout U\",\"Drake, 21 Savage\"],[\"Would've, Could've, Should've\",\"Taylor Swift\"],[\"Privileged Rappers\",\"Drake, 21 Savage\"],[\"The Astronaut\",\"Jin\"],[\"BackOutsideBoyz\",\"Drake\"],[\"Broke Boys\",\"Drake, 21 Savage\"],[\"The Great War\",\"Taylor Swift\"],[\"My Mind & Me\",\"Selena Gomez\"],[\"Bigger Than The Whole Sky\",\"Taylor Swift\"],[\"A Veces (feat. Feid)\",\"Feid, Paulo Londra\"],[\"En La De Ella\",\"Feid, Sech, Jhayco\"],[\"Alone\",\"Burna Boy\"]],\"hovertemplate\":\"danceability_%=%{x}<br>streams=%{y}<br>track_name=%{customdata[0]}<br>artist(s)_name=%{customdata[1]}<br>artist_count=%{marker.color}<extra></extra>\",\"legendgroup\":\"\",\"marker\":{\"color\":[1,1,2,2,3,1,2,1,2,1,2,1,2,2,1,1,1,2,3,1,1,2,3,3,1,1,1,1,2,2,3,2,2,1,1,1,1,2,1,2,1,2,1,2,2,1,2,2,1,1,2,1,2,1,1,1,1,1,3,1,1,1,1,1,1,1,2,1,2,1,1,1,2,3,1,2,2,1,2,1,3,2,2,1,1,1,3,1,1,1,4,2,1,2,2,1,1,1,1,2,1,3,2,1,1,1,3,1,1,1,1,1,1,1,1,1,2,1,1,1,1,1,4,1,4,1,3,3,1,1,2,2,2,2,2,1,3,1,2,2,2,3,2,1,2,2,1,2,1,2,1,2,2,2,1,2,1,1,1,1,2,2,1,3,1,1,3,1,2,1,2,1,2,1,1,1,1,2,1,2,1,1,2,2,2,2,1,1,1,3,1,1,2,2,2,2,2,1,1,2,2,3,2,1,2,2,2,2,1,1,1,1,1,1,2,1,2,1,1,2,1,1,1,1,3,2,1,2,1,1,3,1,1,1,1,1,2,1,2,2,1,1,1,2,1,1,1,1,1,1,1,1,2,1,2,1,2,2,1,1,1,1,2,1,1,2,1,1,1,1,1,1,1,1,2,1,2,2,3,1,1,1,1,3,1,1,3,1,1,1,1,1,3,3,1,1,2,2,1,1,2,1,2,1,1,1,1,1,1,1,2,2,1,2,1,1,1,1,2,1,1,2,1,1,1,2,1,4,1,2,2,1,2,1,2,2,1,3,2,1,1,1,1,1,2,1,1,1,1,2,1,2,3,2,3,1,1,4,1,1,1,1,1,2,1,3,3,1,2,2,1,3,3,1,3,2,1,1,2,2,3,3,3,2,3,1,1,2,1,2,1,1,1,1,1,1,1,2,1,3,1,1,1,2,4,1,1,1,1,2,1,1,1,1,1,3,1,3,1,2,2,2,1,2,3,1,1,2,1,4,1,2,1,2,2,2,3,2,1,1,1,3,2,1,1,2,1,1,3,1,3,2,2,1,2,2,1,1,2,2,2,1,1,1,1,1,1,2,2,1,2,2,2,1,1,1,1,2,1,2,1,1,1,1,2,1,1,1,1,1,1,1,1,2,1,1,2,1,1,1,1,3,1,1,2,1,3,3,1,1,1,1,4,1,2,1,1,1,2,1,1,1,1,1,3,1,2,1,1,2,2,1,2,1,2,1,2,1,1,3,1,2,1,1,2,1,1,1,2,2,1,1,1,1,1,1,1,1,1,1,1,2,2,2,2,2,2,1,1,1,1,1,2,1,1,1,1,1,1,1,1,1,1,1,1,4,3,1,1,4,2,1,1,1,2,1,1,2,1,1,1,2,1,3,1,1,1,1,1,1,1,1,1,2,1,1,3,3,3,1,1,1,3,1,1,1,1,1,1,2,1,4,2,3,3,1,1,1,1,1,1,1,1,1,2,1,2,1,1,2,4,1,1,1,1,3,2,3,1,1,1,2,2,1,2,1,1,2,1,1,1,2,3,1],\"coloraxis\":\"coloraxis\",\"symbol\":\"circle\"},\"mode\":\"markers\",\"name\":\"\",\"orientation\":\"h\",\"showlegend\":false,\"x\":[71,67,81,86,65,69,85,79,81,52,56,64,72,61,75,60,79,56,56,67,59,53,72,60,92,67,64,84,86,70,88,77,90,64,59,56,51,77,51,62,58,78,68,34,63,50,78,63,71,74,68,62,83,49,56,56,62,43,68,50,62,81,54,61,77,61,74,51,77,65,70,55,84,82,51,75,64,74,49,87,63,35,78,82,80,42,75,60,56,77,84,93,92,59,65,45,60,74,81,69,73,50,78,45,68,65,60,33,57,71,70,34,74,54,63,57,54,63,65,50,48,84,62,81,61,75,77,56,89,67,85,78,70,80,73,84,77,78,54,71,62,72,78,74,66,66,95,76,71,59,69,43,79,82,82,78,73,80,91,49,56,83,95,84,65,44,62,50,80,70,77,44,79,51,77,68,74,93,77,60,72,87,90,57,76,76,70,92,84,69,75,56,80,70,32,54,89,45,62,70,80,82,73,65,72,71,70,48,73,78,71,74,59,72,70,90,76,81,71,95,58,60,40,71,83,68,61,59,64,66,84,56,57,74,56,68,59,73,79,50,70,58,36,86,59,59,49,72,53,55,81,82,74,88,53,75,75,73,66,66,84,60,74,70,80,58,56,64,88,66,82,25,64,57,65,92,44,70,68,41,68,47,71,46,41,40,87,40,46,47,91,90,81,49,64,95,67,58,58,70,70,65,84,69,35,51,65,67,65,71,73,62,51,67,51,43,53,72,70,49,54,80,70,47,79,66,64,89,70,63,87,45,83,61,33,63,70,60,85,80,74,67,70,49,75,27,65,28,74,68,71,75,64,75,82,77,53,70,46,65,40,57,83,73,81,63,77,75,73,66,56,73,86,79,77,83,44,74,66,67,66,59,85,77,59,77,59,68,83,72,63,39,80,91,45,79,76,96,40,67,80,75,81,74,79,73,78,60,78,76,63,52,64,53,75,80,77,73,44,89,67,52,41,71,74,75,74,72,70,82,79,55,77,90,80,85,63,84,51,35,69,47,52,61,60,37,31,57,84,60,77,93,31,76,78,81,67,74,79,73,89,65,89,51,31,44,39,84,92,68,74,81,76,87,81,95,64,78,81,59,80,65,55,59,80,42,76,59,69,70,69,67,39,68,91,45,81,60,68,76,70,83,72,59,63,56,78,79,70,71,71,69,93,57,89,87,58,86,78,45,86,68,61,81,78,56,55,85,71,92,66,78,80,82,65,84,78,56,86,57,50,80,81,63,61,83,85,51,73,91,36,44,64,83,38,37,43,88,66,84,66,71,49,68,77,71,82,87,73,86,54,47,53,32,76,58,47,37,70,56,72,72,51,63,80,88,82,60,56,80,71,56,65,63,85,72,83,81,57,51,71,83,56,60,52,81,68,70,70,51,73,81,80,44,78,88,88,95,85,44,58,63,72,74,61,55,81,90,56,79,79,81,70,82,77,67,37,77,90,70,65,65,37,70,81,64,82,78,52,65,84,73,57,72,57,80,91,75,80,75,66,73,77,48,93,54,85,64,57,60,42,80,82,61],\"xaxis\":\"x\",\"y\":[\"133716286\",\"58149378\",\"553634067\",\"335222234\",\"86444842\",\"52135248\",\"200647221\",\"78300654\",\"61245289\",\"429829812\",\"52294266\",\"999748277\",\"618990393\",\"188933502\",\"1355959075\",\"786181836\",\"176553476\",\"354495408\",\"1047101291\",\"570515054\",\"1647990401\",\"518745108\",\"107753850\",\"177740666\",\"153372011\",\"57876440\",\"256483385\",\"1214083358\",\"111947664\",\"156338624\",\"720434240\",\"357925728\",\"674072710\",\"404562836\",\"373199958\",\"14780425\",\"39578178\",\"54266102\",\"751134527\",\"1356565093\",\"635412045\",\"585695368\",\"43857627\",\"600976848\",\"39709092\",\"39228929\",\"223633238\",\"58054811\",\"157058870\",\"95131998\",\"250305248\",\"685032533\",\"144565150\",\"127567540\",\"399686758\",\"983637508\",\"118482347\",\"882831184\",\"286400165\",\"172825906\",\"1241559043\",\"29562220\",\"77309611\",\"1116995633\",\"838079900\",\"1163620694\",\"1093605526\",\"179659294\",\"39058561\",\"36912123\",\"1791000570\",\"201660859\",\"248088961\",\"90839753\",\"607123776\",\"55842345\",\"211050784\",\"342897938\",\"2762\",\"601863821\",\"1953533826\",\"2355719893\",\"66902503\",\"96273746\",\"430977451\",\"284819874\",\"276259178\",\"2559529074\",\"681583126\",\"2594040133\",\"81102253\",\"11956641\",\"1687664027\",\"611700552\",\"1133865788\",\"1089402494\",\"411747614\",\"255932395\",\"31873544\",\"233801632\",\"1481349984\",\"142095275\",\"436027885\",\"621660989\",\"950906471\",\"1374581173\",\"94186466\",\"1840364617\",\"143573775\",\"684675814\",\"1267333350\",\"265882712\",\"47956378\",\"806397070\",\"1641426668\",\"2135158446\",\"367316268\",\"350381515\",\"1264310836\",\"30343206\",\"405136812\",\"540654286\",\"57312735\",\"397582059\",\"86773632\",\"123124076\",\"463564958\",\"64533040\",\"65496046\",\"68616963\",\"161460990\",\"70106975\",\"89933133\",\"71007139\",\"43522589\",\"232896922\",\"37126685\",\"195576623\",\"532336353\",\"538115192\",\"46142772\",\"401036314\",\"127026613\",\"345031710\",\"288101651\",\"60350538\",\"335074782\",\"46065667\",\"459276435\",\"39666245\",\"822633917\",\"51985779\",\"57945987\",\"115010040\",\"175097833\",\"57089066\",\"488386797\",\"1047480053\",\"217672943\",\"457184829\",\"573633020\",\"24975653\",\"1424589568\",\"231332117\",\"415932686\",\"988515741\",\"50847624\",\"39893489\",\"92035115\",\"118810253\",\"77233241\",\"117747907\",\"266624541\",\"293186992\",\"139681964\",\"123132751\",\"103762518\",\"162887075\",\"91221625\",\"96180277\",\"185240616\",\"885093467\",\"104992946\",\"147290338\",\"158950978\",\"76910644\",\"137123880\",\"782369383\",\"502574952\",\"207033255\",\"381161027\",\"466231982\",\"61105704\",\"198275403\",\"705469769\",\"34502215\",\"304118600\",\"1449799467\",\"173627354\",\"90025258\",\"655466831\",\"146409671\",\"95816024\",\"117206995\",\"100409613\",\"80758350\",\"325592432\",\"58473276\",\"52722996\",\"191945597\",\"743693613\",\"267789608\",\"449701773\",\"67070410\",\"116334601\",\"165584767\",\"477033549\",\"156214700\",\"448843705\",\"294352144\",\"972164968\",\"920045682\",\"2420461338\",\"68216992\",\"471819764\",\"116599790\",\"148469433\",\"497225336\",\"88791109\",\"125917280\",\"105062254\",\"95623148\",\"144584800\",\"298063749\",\"166570053\",\"83021468\",\"139836056\",\"303216294\",\"221409663\",\"58890931\",\"81419389\",\"156777415\",\"284908316\",\"93438910\",\"363472647\",\"372476382\",\"56533272\",\"175399345\",\"203221468\",\"1624165576\",\"134294498\",\"70069745\",\"609293408\",\"671365962\",\"93587665\",\"1022258230\",\"1435127549\",\"236857112\",\"147538971\",\"698086140\",\"723894473\",\"403097450\",\"309483971\",\"319566866\",\"909001996\",\"1061966512\",\"124988687\",\"134255790\",\"301051721\",\"156338624\",\"309653982\",\"297328960\",\"332506354\",\"480507035\",\"1065580332\",\"122763672\",\"184308753\",\"606361689\",\"120972253\",\"338564981\",\"1606986953\",\"1301799902\",\"107642809\",\"556585270\",\"872137015\",\"571386359\",\"174006928\",\"284785823\",\"163284000\",\"246390068\",\"482257456\",\"168684524\",\"78489819\",\"195516622\",\"1260594497\",\"428685680\",\"972509632\",\"213438580\",\"210038833\",\"227918678\",\"1802514301\",\"181831132\",\"462791599\",\"348647203\",\"807561936\",\"485285717\",\"476244795\",\"629173063\",\"98709329\",\"110849052\",\"94005786\",\"110073250\",\"73981293\",\"155653938\",\"429504768\",\"65362788\",\"67540165\",\"62019074\",\"136689549\",\"135611421\",\"356709897\",\"110649992\",\"301869854\",\"57144458\",\"56870689\",\"323437194\",\"317726339\",\"116144341\",\"328207708\",\"180577478\",\"809306935\",\"49262961\",\"614555082\",\"51641685\",\"78139948\",\"322336177\",\"391251368\",\"349585590\",\"674772936\",\"119238316\",\"116903579\",\"888046992\",\"130655803\",\"101114984\",\"91656026\",\"53933526\",\"267758538\",\"74601456\",\"920797189\",\"539595276\",\"1367810478\",\"578207856\",\"775542072\",\"656013912\",\"240684449\",\"63803529\",\"466214729\",\"236940480\",\"41924466\",\"225259194\",\"287201015\",\"599770206\",\"342779426\",\"673801126\",\"1168642797\",\"383550148\",\"530511203\",\"510876816\",\"1763363713\",\"374191487\",\"108809090\",\"436695353\",\"354065229\",\"1143647827\",\"311395144\",\"672656250\",\"1256880657\",\"245095641\",\"686734357\",\"261414174\",\"610045621\",\"1115880852\",\"594482982\",\"566954746\",\"184937148\",\"363467642\",\"1127468248\",\"60680939\",\"247737946\",\"154797871\",\"124407432\",\"850608354\",\"376333030\",\"516784627\",\"1608045237\",\"506778838\",\"513643924\",\"261286503\",\"783706581\",\"422691058\",\"1062345656\",\"851070493\",\"345903614\",\"956865266\",\"427486004\",\"156658366\",\"624515457\",\"777765388\",\"1138474110\",\"355219175\",\"290228626\",\"1062956628\",\"1180094974\",\"1456081449\",\"432702334\",\"489945871\",\"465959382\",\"1223481149\",\"2288695111\",\"720825549\",\"593917618\",\"200972675\",\"71014967\",\"560222750\",\"528544703\",\"865640097\",\"211372494\",\"651732901\",\"608334048\",\"863756573\",\"797402345\",\"1695712020\",\"1759567999\",\"54937991\",\"258316038\",\"596152090\",\"177129919\",\"716591492\",\"246376690\",\"496311364\",\"500340342\",\"107255472\",\"135079152\",\"343197054\",\"240769997\",\"426204830\",\"421135627\",\"554875730\",\"327498031\",\"185408548\",\"579395142\",\"675039469\",\"252871192\",\"231996128\",\"918915401\",\"1180896317\",\"498960285\",\"258714692\",\"143139338\",\"209768491\",\"64714573\",\"50746620\",\"154119539\",\"181328253\",\"563902868\",\"317622165\",\"203680270\",\"81350745\",\"64787943\",\"1439191367\",\"759208783\",\"299634472\",\"756907987\",\"682475162\",\"546191065\",\"229473310\",\"202677468\",\"208166039\",\"527033089\",\"94616487\",\"394030335\",\"193443895\",\"299648208\",\"319757142\",\"153240879\",\"346127840\",\"312622938\",\"1200808494\",\"797196073\",\"665765558\",\"263779030\",\"339473453\",\"135444283\",\"236872197\",\"694525298\",\"421365166\",\"349746291\",\"255120451\",\"190981339\",\"924193303\",\"305771063\",\"273005485\",\"89566512\",\"677389855\",\"75476209\",\"408843328\",\"187772591\",\"178512385\",\"101780047\",\"146363130\",\"126443991\",\"157990698\",\"176290831\",\"1023187129\",\"106933107\",\"139193812\",\"212234990\",\"1714490998\",\"197643795\",\"807015863\",\"499710590\",\"53909146\",\"2236667932\",\"301242089\",\"237351106\",\"461558540\",\"127309180\",\"173702135\",\"305650299\",\"123216717\",\"479655659\",\"126191104\",\"344055883\",\"338422004\",\"68895644\",\"403231558\",\"319546754\",\"61739839\",\"283359161\",\"76831876\",\"283332261\",\"307752576\",\"279737940\",\"212351890\",\"1304313953\",\"150500965\",\"246127838\",\"582863434\",\"58687425\",\"212109195\",\"382199619\",\"41210087\",\"231657891\",\"53729194\",\"244741137\",\"42485571\",\"37778188\",\"254218729\",\"53603447\",\"160035717\",\"37091576\",\"284249832\",\"33381454\",\"184622518\",\"300983101\",\"121077868\",\"106919680\",\"136996305\",\"65719930\",\"229497852\",\"185550869\",\"54682594\",\"240580042\",\"1284942608\",\"71423324\",\"244891912\",\"132171975\",\"184706613\",\"184826429\",\"302006641\",\"330881149\",\"334733572\",\"366214458\",\"114546317\",\"448500832\",\"136676504\",\"190625045\",\"79095270\",\"273194684\",\"333146475\",\"194902696\",\"233671263\",\"199587884\",\"91781263\",\"383835984\",\"236060709\",\"189236868\",\"160845341\",\"588955257\",\"238350348\",\"187703102\",\"138334433\",\"445590495\",\"286739476\",\"1122364376\",\"157136970\",\"183273246\",\"164856284\",\"354614964\",\"195628667\",\"221752937\",\"263280370\",\"213505179\",\"130419412\",\"155795783\",\"191448892\",\"85924992\",\"176103902\",\"121189256\",\"131746175\",\"244790012\",\"331511413\",\"170732845\",\"179061440\",\"185236961\",\"171788484\",\"264717480\",\"244928911\",\"97610446\",\"287278853\",\"887906111\",\"123473120\",\"323455692\",\"240918092\",\"191873381\",\"239411309\",\"703301727\",\"189476119\",\"277132266\",\"278920007\",\"222410722\",\"185392587\",\"624101957\",\"148461629\",\"47093942\",\"380319238\",\"209106362\",\"53987404\",\"225093344\",\"84697729\",\"159240673\",\"170709584\",\"723043854\",\"247689123\",\"176474912\",\"146223492\",\"154863153\",\"191333656\",\"253650850\",\"223064273\",\"218320587\",\"141720999\",\"198365537\",\"177503916\",\"112436403\",\"203436468\",\"93367537\",\"106249219\",\"181382590\",\"91473363\",\"121871870\",\"73513683\",\"133895612\",\"96007391\"],\"yaxis\":\"y\",\"type\":\"scatter\"}],                        {\"template\":{\"data\":{\"histogram2dcontour\":[{\"type\":\"histogram2dcontour\",\"colorbar\":{\"outlinewidth\":0,\"ticks\":\"\"},\"colorscale\":[[0.0,\"#0d0887\"],[0.1111111111111111,\"#46039f\"],[0.2222222222222222,\"#7201a8\"],[0.3333333333333333,\"#9c179e\"],[0.4444444444444444,\"#bd3786\"],[0.5555555555555556,\"#d8576b\"],[0.6666666666666666,\"#ed7953\"],[0.7777777777777778,\"#fb9f3a\"],[0.8888888888888888,\"#fdca26\"],[1.0,\"#f0f921\"]]}],\"choropleth\":[{\"type\":\"choropleth\",\"colorbar\":{\"outlinewidth\":0,\"ticks\":\"\"}}],\"histogram2d\":[{\"type\":\"histogram2d\",\"colorbar\":{\"outlinewidth\":0,\"ticks\":\"\"},\"colorscale\":[[0.0,\"#0d0887\"],[0.1111111111111111,\"#46039f\"],[0.2222222222222222,\"#7201a8\"],[0.3333333333333333,\"#9c179e\"],[0.4444444444444444,\"#bd3786\"],[0.5555555555555556,\"#d8576b\"],[0.6666666666666666,\"#ed7953\"],[0.7777777777777778,\"#fb9f3a\"],[0.8888888888888888,\"#fdca26\"],[1.0,\"#f0f921\"]]}],\"heatmap\":[{\"type\":\"heatmap\",\"colorbar\":{\"outlinewidth\":0,\"ticks\":\"\"},\"colorscale\":[[0.0,\"#0d0887\"],[0.1111111111111111,\"#46039f\"],[0.2222222222222222,\"#7201a8\"],[0.3333333333333333,\"#9c179e\"],[0.4444444444444444,\"#bd3786\"],[0.5555555555555556,\"#d8576b\"],[0.6666666666666666,\"#ed7953\"],[0.7777777777777778,\"#fb9f3a\"],[0.8888888888888888,\"#fdca26\"],[1.0,\"#f0f921\"]]}],\"heatmapgl\":[{\"type\":\"heatmapgl\",\"colorbar\":{\"outlinewidth\":0,\"ticks\":\"\"},\"colorscale\":[[0.0,\"#0d0887\"],[0.1111111111111111,\"#46039f\"],[0.2222222222222222,\"#7201a8\"],[0.3333333333333333,\"#9c179e\"],[0.4444444444444444,\"#bd3786\"],[0.5555555555555556,\"#d8576b\"],[0.6666666666666666,\"#ed7953\"],[0.7777777777777778,\"#fb9f3a\"],[0.8888888888888888,\"#fdca26\"],[1.0,\"#f0f921\"]]}],\"contourcarpet\":[{\"type\":\"contourcarpet\",\"colorbar\":{\"outlinewidth\":0,\"ticks\":\"\"}}],\"contour\":[{\"type\":\"contour\",\"colorbar\":{\"outlinewidth\":0,\"ticks\":\"\"},\"colorscale\":[[0.0,\"#0d0887\"],[0.1111111111111111,\"#46039f\"],[0.2222222222222222,\"#7201a8\"],[0.3333333333333333,\"#9c179e\"],[0.4444444444444444,\"#bd3786\"],[0.5555555555555556,\"#d8576b\"],[0.6666666666666666,\"#ed7953\"],[0.7777777777777778,\"#fb9f3a\"],[0.8888888888888888,\"#fdca26\"],[1.0,\"#f0f921\"]]}],\"surface\":[{\"type\":\"surface\",\"colorbar\":{\"outlinewidth\":0,\"ticks\":\"\"},\"colorscale\":[[0.0,\"#0d0887\"],[0.1111111111111111,\"#46039f\"],[0.2222222222222222,\"#7201a8\"],[0.3333333333333333,\"#9c179e\"],[0.4444444444444444,\"#bd3786\"],[0.5555555555555556,\"#d8576b\"],[0.6666666666666666,\"#ed7953\"],[0.7777777777777778,\"#fb9f3a\"],[0.8888888888888888,\"#fdca26\"],[1.0,\"#f0f921\"]]}],\"mesh3d\":[{\"type\":\"mesh3d\",\"colorbar\":{\"outlinewidth\":0,\"ticks\":\"\"}}],\"scatter\":[{\"fillpattern\":{\"fillmode\":\"overlay\",\"size\":10,\"solidity\":0.2},\"type\":\"scatter\"}],\"parcoords\":[{\"type\":\"parcoords\",\"line\":{\"colorbar\":{\"outlinewidth\":0,\"ticks\":\"\"}}}],\"scatterpolargl\":[{\"type\":\"scatterpolargl\",\"marker\":{\"colorbar\":{\"outlinewidth\":0,\"ticks\":\"\"}}}],\"bar\":[{\"error_x\":{\"color\":\"#2a3f5f\"},\"error_y\":{\"color\":\"#2a3f5f\"},\"marker\":{\"line\":{\"color\":\"#E5ECF6\",\"width\":0.5},\"pattern\":{\"fillmode\":\"overlay\",\"size\":10,\"solidity\":0.2}},\"type\":\"bar\"}],\"scattergeo\":[{\"type\":\"scattergeo\",\"marker\":{\"colorbar\":{\"outlinewidth\":0,\"ticks\":\"\"}}}],\"scatterpolar\":[{\"type\":\"scatterpolar\",\"marker\":{\"colorbar\":{\"outlinewidth\":0,\"ticks\":\"\"}}}],\"histogram\":[{\"marker\":{\"pattern\":{\"fillmode\":\"overlay\",\"size\":10,\"solidity\":0.2}},\"type\":\"histogram\"}],\"scattergl\":[{\"type\":\"scattergl\",\"marker\":{\"colorbar\":{\"outlinewidth\":0,\"ticks\":\"\"}}}],\"scatter3d\":[{\"type\":\"scatter3d\",\"line\":{\"colorbar\":{\"outlinewidth\":0,\"ticks\":\"\"}},\"marker\":{\"colorbar\":{\"outlinewidth\":0,\"ticks\":\"\"}}}],\"scattermapbox\":[{\"type\":\"scattermapbox\",\"marker\":{\"colorbar\":{\"outlinewidth\":0,\"ticks\":\"\"}}}],\"scatterternary\":[{\"type\":\"scatterternary\",\"marker\":{\"colorbar\":{\"outlinewidth\":0,\"ticks\":\"\"}}}],\"scattercarpet\":[{\"type\":\"scattercarpet\",\"marker\":{\"colorbar\":{\"outlinewidth\":0,\"ticks\":\"\"}}}],\"carpet\":[{\"aaxis\":{\"endlinecolor\":\"#2a3f5f\",\"gridcolor\":\"white\",\"linecolor\":\"white\",\"minorgridcolor\":\"white\",\"startlinecolor\":\"#2a3f5f\"},\"baxis\":{\"endlinecolor\":\"#2a3f5f\",\"gridcolor\":\"white\",\"linecolor\":\"white\",\"minorgridcolor\":\"white\",\"startlinecolor\":\"#2a3f5f\"},\"type\":\"carpet\"}],\"table\":[{\"cells\":{\"fill\":{\"color\":\"#EBF0F8\"},\"line\":{\"color\":\"white\"}},\"header\":{\"fill\":{\"color\":\"#C8D4E3\"},\"line\":{\"color\":\"white\"}},\"type\":\"table\"}],\"barpolar\":[{\"marker\":{\"line\":{\"color\":\"#E5ECF6\",\"width\":0.5},\"pattern\":{\"fillmode\":\"overlay\",\"size\":10,\"solidity\":0.2}},\"type\":\"barpolar\"}],\"pie\":[{\"automargin\":true,\"type\":\"pie\"}]},\"layout\":{\"autotypenumbers\":\"strict\",\"colorway\":[\"#636efa\",\"#EF553B\",\"#00cc96\",\"#ab63fa\",\"#FFA15A\",\"#19d3f3\",\"#FF6692\",\"#B6E880\",\"#FF97FF\",\"#FECB52\"],\"font\":{\"color\":\"#2a3f5f\"},\"hovermode\":\"closest\",\"hoverlabel\":{\"align\":\"left\"},\"paper_bgcolor\":\"white\",\"plot_bgcolor\":\"#E5ECF6\",\"polar\":{\"bgcolor\":\"#E5ECF6\",\"angularaxis\":{\"gridcolor\":\"white\",\"linecolor\":\"white\",\"ticks\":\"\"},\"radialaxis\":{\"gridcolor\":\"white\",\"linecolor\":\"white\",\"ticks\":\"\"}},\"ternary\":{\"bgcolor\":\"#E5ECF6\",\"aaxis\":{\"gridcolor\":\"white\",\"linecolor\":\"white\",\"ticks\":\"\"},\"baxis\":{\"gridcolor\":\"white\",\"linecolor\":\"white\",\"ticks\":\"\"},\"caxis\":{\"gridcolor\":\"white\",\"linecolor\":\"white\",\"ticks\":\"\"}},\"coloraxis\":{\"colorbar\":{\"outlinewidth\":0,\"ticks\":\"\"}},\"colorscale\":{\"sequential\":[[0.0,\"#0d0887\"],[0.1111111111111111,\"#46039f\"],[0.2222222222222222,\"#7201a8\"],[0.3333333333333333,\"#9c179e\"],[0.4444444444444444,\"#bd3786\"],[0.5555555555555556,\"#d8576b\"],[0.6666666666666666,\"#ed7953\"],[0.7777777777777778,\"#fb9f3a\"],[0.8888888888888888,\"#fdca26\"],[1.0,\"#f0f921\"]],\"sequentialminus\":[[0.0,\"#0d0887\"],[0.1111111111111111,\"#46039f\"],[0.2222222222222222,\"#7201a8\"],[0.3333333333333333,\"#9c179e\"],[0.4444444444444444,\"#bd3786\"],[0.5555555555555556,\"#d8576b\"],[0.6666666666666666,\"#ed7953\"],[0.7777777777777778,\"#fb9f3a\"],[0.8888888888888888,\"#fdca26\"],[1.0,\"#f0f921\"]],\"diverging\":[[0,\"#8e0152\"],[0.1,\"#c51b7d\"],[0.2,\"#de77ae\"],[0.3,\"#f1b6da\"],[0.4,\"#fde0ef\"],[0.5,\"#f7f7f7\"],[0.6,\"#e6f5d0\"],[0.7,\"#b8e186\"],[0.8,\"#7fbc41\"],[0.9,\"#4d9221\"],[1,\"#276419\"]]},\"xaxis\":{\"gridcolor\":\"white\",\"linecolor\":\"white\",\"ticks\":\"\",\"title\":{\"standoff\":15},\"zerolinecolor\":\"white\",\"automargin\":true,\"zerolinewidth\":2},\"yaxis\":{\"gridcolor\":\"white\",\"linecolor\":\"white\",\"ticks\":\"\",\"title\":{\"standoff\":15},\"zerolinecolor\":\"white\",\"automargin\":true,\"zerolinewidth\":2},\"scene\":{\"xaxis\":{\"backgroundcolor\":\"#E5ECF6\",\"gridcolor\":\"white\",\"linecolor\":\"white\",\"showbackground\":true,\"ticks\":\"\",\"zerolinecolor\":\"white\",\"gridwidth\":2},\"yaxis\":{\"backgroundcolor\":\"#E5ECF6\",\"gridcolor\":\"white\",\"linecolor\":\"white\",\"showbackground\":true,\"ticks\":\"\",\"zerolinecolor\":\"white\",\"gridwidth\":2},\"zaxis\":{\"backgroundcolor\":\"#E5ECF6\",\"gridcolor\":\"white\",\"linecolor\":\"white\",\"showbackground\":true,\"ticks\":\"\",\"zerolinecolor\":\"white\",\"gridwidth\":2}},\"shapedefaults\":{\"line\":{\"color\":\"#2a3f5f\"}},\"annotationdefaults\":{\"arrowcolor\":\"#2a3f5f\",\"arrowhead\":0,\"arrowwidth\":1},\"geo\":{\"bgcolor\":\"white\",\"landcolor\":\"#E5ECF6\",\"subunitcolor\":\"white\",\"showland\":true,\"showlakes\":true,\"lakecolor\":\"white\"},\"title\":{\"x\":0.05},\"mapbox\":{\"style\":\"light\"}}},\"xaxis\":{\"anchor\":\"y\",\"domain\":[0.0,1.0],\"title\":{\"text\":\"danceability_%\"}},\"yaxis\":{\"anchor\":\"x\",\"domain\":[0.0,1.0],\"title\":{\"text\":\"streams\"}},\"coloraxis\":{\"colorbar\":{\"title\":{\"text\":\"artist_count\"}},\"colorscale\":[[0.0,\"#0d0887\"],[0.1111111111111111,\"#46039f\"],[0.2222222222222222,\"#7201a8\"],[0.3333333333333333,\"#9c179e\"],[0.4444444444444444,\"#bd3786\"],[0.5555555555555556,\"#d8576b\"],[0.6666666666666666,\"#ed7953\"],[0.7777777777777778,\"#fb9f3a\"],[0.8888888888888888,\"#fdca26\"],[1.0,\"#f0f921\"]]},\"legend\":{\"tracegroupgap\":0},\"title\":{\"text\":\"Danceability vs Streams\"}},                        {\"responsive\": true}                    ).then(function(){\n",
       "                            \n",
       "var gd = document.getElementById('d0ab0973-4531-4021-a661-dc1653b3a216');\n",
       "var x = new MutationObserver(function (mutations, observer) {{\n",
       "        var display = window.getComputedStyle(gd).display;\n",
       "        if (!display || display === 'none') {{\n",
       "            console.log([gd, 'removed!']);\n",
       "            Plotly.purge(gd);\n",
       "            observer.disconnect();\n",
       "        }}\n",
       "}});\n",
       "\n",
       "// Listen for the removal of the full notebook cells\n",
       "var notebookContainer = gd.closest('#notebook-container');\n",
       "if (notebookContainer) {{\n",
       "    x.observe(notebookContainer, {childList: true});\n",
       "}}\n",
       "\n",
       "// Listen for the clearing of the current output cell\n",
       "var outputEl = gd.closest('.output');\n",
       "if (outputEl) {{\n",
       "    x.observe(outputEl, {childList: true});\n",
       "}}\n",
       "\n",
       "                        })                };                });            </script>        </div>"
      ]
     },
     "metadata": {},
     "output_type": "display_data"
    }
   ],
   "source": [
    "\n",
    "# Scatter plot for danceability vs streams\n",
    "fig2 = px.scatter(data_no_outliers, \n",
    "                  x='danceability_%', \n",
    "                  y='streams', \n",
    "                  color='artist_count',\n",
    "                  hover_data=['track_name', 'artist(s)_name'],\n",
    "                  title='Danceability vs Streams',\n",
    "                  color_continuous_scale='Plasma')\n",
    "fig2.show()"
   ]
  },
  {
   "cell_type": "code",
   "execution_count": 124,
   "id": "4de54d8d-54d1-4c5e-91ed-25c98c8ae492",
   "metadata": {},
   "outputs": [
    {
     "data": {
      "application/vnd.plotly.v1+json": {
       "config": {
        "plotlyServerURL": "https://plot.ly"
       },
       "data": [
        {
         "alignmentgroup": "True",
         "bingroup": "x",
         "hovertemplate": "released_year=%{x}<br>count=%{y}<extra></extra>",
         "legendgroup": "",
         "marker": {
          "color": "#636efa",
          "pattern": {
           "shape": ""
          }
         },
         "name": "",
         "nbinsx": 20,
         "offsetgroup": "",
         "orientation": "v",
         "showlegend": false,
         "type": "histogram",
         "x": [
          2023,
          2023,
          2023,
          2019,
          2023,
          2023,
          2023,
          2023,
          2023,
          2023,
          2023,
          2023,
          2023,
          2022,
          2023,
          2023,
          2023,
          2023,
          2023,
          2023,
          2023,
          2023,
          2022,
          2023,
          2023,
          2023,
          2023,
          2023,
          2022,
          2022,
          2023,
          2023,
          2014,
          2014,
          2023,
          2023,
          2018,
          2022,
          2017,
          2020,
          2016,
          2016,
          2023,
          2023,
          2023,
          2023,
          2023,
          2023,
          2022,
          2023,
          2023,
          2022,
          2023,
          2022,
          1999,
          2022,
          2022,
          2023,
          2023,
          2023,
          2022,
          2022,
          2008,
          2022,
          2022,
          2022,
          2023,
          1975,
          2022,
          2023,
          2023,
          2021,
          2023,
          2022,
          2015,
          2012,
          2023,
          2023,
          2023,
          2017,
          2020,
          2023,
          2023,
          2022,
          2011,
          2023,
          2012,
          2022,
          2023,
          2004,
          2023,
          2022,
          2017,
          2017,
          2021,
          2011,
          2012,
          2022,
          2023,
          2023,
          1985,
          2014,
          2023,
          2023,
          2023,
          2020,
          2023,
          2023,
          2022,
          2022,
          2022,
          2011,
          2017,
          2023,
          2023,
          2023,
          2011,
          2023,
          2022,
          2023,
          2017,
          2022,
          2017,
          2023,
          2023,
          2002,
          2016,
          2022,
          2004,
          2019,
          2023,
          2023,
          2023,
          2012,
          2023,
          2013,
          2023,
          2016,
          2010,
          2010,
          1983,
          2015,
          2011,
          2018,
          2023,
          2013,
          2012,
          2023,
          2016,
          2014,
          2013,
          2017,
          1992,
          2019,
          2017,
          2023,
          2016,
          2010,
          2013,
          2022,
          2021,
          2022,
          2023,
          2020,
          2010,
          2023,
          2022,
          1984,
          2023,
          2023,
          2023,
          2022,
          2023,
          2023,
          2023,
          2023,
          2023,
          2023,
          2023,
          2022,
          2023,
          2023,
          2023,
          2023,
          2022,
          2022,
          2023,
          2022,
          2023,
          2022,
          2022,
          2023,
          2022,
          2023,
          2023,
          2022,
          2023,
          2023,
          2022,
          2022,
          2023,
          2023,
          2023,
          2023,
          2023,
          2022,
          2023,
          2022,
          2023,
          2023,
          2022,
          2021,
          2022,
          2021,
          2023,
          2023,
          2023,
          2000,
          2022,
          2021,
          2022,
          2023,
          2023,
          2023,
          2023,
          2023,
          2023,
          2023,
          2022,
          2023,
          2023,
          1997,
          2023,
          2023,
          2022,
          2023,
          2019,
          2022,
          2023,
          2023,
          2022,
          2023,
          2022,
          2022,
          2022,
          2023,
          2022,
          2014,
          2021,
          2023,
          2022,
          2018,
          2023,
          2022,
          2018,
          2023,
          2023,
          2021,
          2002,
          2002,
          2023,
          2023,
          2023,
          2023,
          2023,
          2022,
          2023,
          2023,
          2021,
          2023,
          2022,
          2022,
          2022,
          2023,
          2023,
          2023,
          2022,
          2022,
          2022,
          2022,
          2022,
          2014,
          2017,
          2016,
          2019,
          2023,
          2022,
          2022,
          2003,
          2023,
          2022,
          2022,
          2023,
          2023,
          2023,
          2023,
          2023,
          2022,
          2023,
          2023,
          2022,
          2022,
          2022,
          2023,
          2023,
          2022,
          2022,
          2023,
          2022,
          2011,
          2023,
          2023,
          2022,
          2000,
          2022,
          2022,
          2022,
          2022,
          2022,
          2021,
          2017,
          2022,
          2019,
          2022,
          2023,
          2020,
          2022,
          2020,
          2022,
          2022,
          2022,
          2021,
          2023,
          2023,
          2022,
          2022,
          2022,
          2022,
          2022,
          2016,
          2019,
          2016,
          2022,
          2022,
          2022,
          2023,
          2022,
          2014,
          2020,
          2022,
          2023,
          2022,
          2019,
          2014,
          2020,
          2015,
          2022,
          2022,
          2022,
          2022,
          2022,
          2022,
          2022,
          2022,
          2021,
          2022,
          1985,
          1973,
          2022,
          2021,
          2022,
          2022,
          2022,
          2020,
          2020,
          2022,
          2022,
          2022,
          1930,
          2011,
          1963,
          1959,
          2013,
          1970,
          2011,
          2011,
          1963,
          2022,
          2022,
          1971,
          2022,
          1946,
          1979,
          2022,
          1984,
          1950,
          2022,
          2022,
          1942,
          1986,
          1963,
          2022,
          2022,
          2022,
          1958,
          2022,
          2022,
          2021,
          2022,
          2022,
          1959,
          2022,
          2022,
          2022,
          2022,
          2022,
          2022,
          2022,
          2005,
          2021,
          2022,
          2022,
          1958,
          1957,
          2022,
          2022,
          2022,
          2022,
          2022,
          2021,
          2022,
          2022,
          2017,
          2021,
          2022,
          2022,
          2021,
          2022,
          2022,
          2021,
          2022,
          2021,
          2021,
          2017,
          2020,
          2021,
          2021,
          2021,
          2022,
          2021,
          2022,
          2022,
          2021,
          2021,
          2021,
          2018,
          2021,
          2021,
          2020,
          2021,
          2020,
          2021,
          2020,
          2021,
          2022,
          2021,
          2021,
          2021,
          2022,
          2021,
          2021,
          2021,
          2019,
          2021,
          2021,
          2021,
          2021,
          2021,
          1970,
          2021,
          2022,
          2015,
          2021,
          2015,
          2022,
          2021,
          2021,
          2022,
          2021,
          2021,
          2021,
          2019,
          2020,
          2010,
          2021,
          2021,
          2021,
          2021,
          2020,
          2021,
          2021,
          2021,
          2016,
          2021,
          2016,
          2021,
          2017,
          2019,
          2021,
          2021,
          2010,
          2020,
          2014,
          2021,
          2021,
          2021,
          2021,
          2017,
          2021,
          2013,
          1991,
          2021,
          2021,
          2022,
          2021,
          2003,
          2022,
          2021,
          2019,
          2018,
          2022,
          2021,
          2021,
          2021,
          2021,
          2002,
          2019,
          2021,
          2022,
          2021,
          2021,
          2021,
          2022,
          1999,
          2022,
          2022,
          1999,
          2022,
          2022,
          2022,
          2012,
          2002,
          2022,
          2013,
          2019,
          2016,
          2019,
          2020,
          2021,
          2022,
          1995,
          1999,
          2021,
          2021,
          2017,
          1999,
          2020,
          2017,
          2022,
          2022,
          2021,
          2022,
          2022,
          2022,
          2021,
          2015,
          2014,
          2019,
          2021,
          2019,
          2022,
          2019,
          2022,
          2019,
          2019,
          2019,
          2020,
          1991,
          2022,
          2022,
          2022,
          2021,
          2022,
          2022,
          2022,
          2004,
          2022,
          2021,
          2022,
          2022,
          2022,
          2022,
          2021,
          2020,
          2018,
          2020,
          2013,
          2021,
          2021,
          2020,
          2017,
          2016,
          2022,
          2019,
          2022,
          2022,
          2022,
          2022,
          2022,
          2015,
          2022,
          2022,
          2022,
          2015,
          2022,
          2021,
          2022,
          2022,
          2022,
          2022,
          2022,
          2022,
          2022,
          2019,
          1996,
          2022,
          2022,
          2016,
          2022,
          2019,
          2013,
          2021,
          2022,
          2022,
          2014,
          2015,
          2022,
          2022,
          2022,
          2022,
          2022,
          2022,
          2022,
          2022,
          2022,
          2022,
          2022,
          2022,
          2022,
          2022,
          2022,
          2022,
          2022,
          2022,
          2022,
          2022,
          2022,
          2022,
          2022,
          2022,
          2019,
          2022,
          2022,
          2016,
          2022,
          2022,
          2022,
          2022,
          2022,
          2022,
          2022,
          2022,
          2022,
          2022,
          2022,
          2022,
          2022,
          2022,
          2022,
          2022,
          2022,
          2022,
          2022,
          2022,
          2021,
          2022,
          2022,
          2022,
          2022,
          1998,
          2022,
          2019,
          2022,
          2017,
          2021,
          2022,
          2022,
          2022,
          2022,
          2022,
          2022,
          2022,
          2022,
          2022,
          2022,
          2022,
          2022,
          1982,
          2022,
          2022,
          2022,
          2022,
          2022,
          2022,
          2022,
          2022,
          2014,
          2022,
          2022,
          2022,
          2016,
          2022,
          2018,
          2022,
          2021,
          2022,
          1986,
          2022,
          2022,
          2022,
          2022,
          2022,
          2022,
          2022,
          2022,
          1987,
          2022,
          2022,
          2022,
          2022,
          2022,
          2022,
          2022,
          2022,
          2022,
          2022,
          2022,
          2022,
          2022,
          2019,
          2022,
          2022,
          2022,
          2022,
          2008,
          2022,
          2022,
          2022,
          2022,
          2022,
          2013,
          2022,
          2022,
          2022,
          2022,
          2022,
          2022,
          2002,
          2000,
          2022,
          2022,
          2016,
          2022,
          2022,
          2022,
          2022,
          2022,
          2022,
          2022,
          1982,
          2018,
          2022,
          2022,
          2022,
          2022,
          2022,
          2022,
          2022,
          2022,
          2022,
          2022,
          2022,
          2022,
          2022,
          2022,
          2022,
          2022,
          2022,
          2022,
          2022,
          2022,
          2022,
          2022,
          2022,
          2022,
          2022,
          2022
         ],
         "xaxis": "x",
         "yaxis": "y"
        }
       ],
       "layout": {
        "autosize": true,
        "barmode": "relative",
        "legend": {
         "tracegroupgap": 0
        },
        "template": {
         "data": {
          "bar": [
           {
            "error_x": {
             "color": "#2a3f5f"
            },
            "error_y": {
             "color": "#2a3f5f"
            },
            "marker": {
             "line": {
              "color": "#E5ECF6",
              "width": 0.5
             },
             "pattern": {
              "fillmode": "overlay",
              "size": 10,
              "solidity": 0.2
             }
            },
            "type": "bar"
           }
          ],
          "barpolar": [
           {
            "marker": {
             "line": {
              "color": "#E5ECF6",
              "width": 0.5
             },
             "pattern": {
              "fillmode": "overlay",
              "size": 10,
              "solidity": 0.2
             }
            },
            "type": "barpolar"
           }
          ],
          "carpet": [
           {
            "aaxis": {
             "endlinecolor": "#2a3f5f",
             "gridcolor": "white",
             "linecolor": "white",
             "minorgridcolor": "white",
             "startlinecolor": "#2a3f5f"
            },
            "baxis": {
             "endlinecolor": "#2a3f5f",
             "gridcolor": "white",
             "linecolor": "white",
             "minorgridcolor": "white",
             "startlinecolor": "#2a3f5f"
            },
            "type": "carpet"
           }
          ],
          "choropleth": [
           {
            "colorbar": {
             "outlinewidth": 0,
             "ticks": ""
            },
            "type": "choropleth"
           }
          ],
          "contour": [
           {
            "colorbar": {
             "outlinewidth": 0,
             "ticks": ""
            },
            "colorscale": [
             [
              0,
              "#0d0887"
             ],
             [
              0.1111111111111111,
              "#46039f"
             ],
             [
              0.2222222222222222,
              "#7201a8"
             ],
             [
              0.3333333333333333,
              "#9c179e"
             ],
             [
              0.4444444444444444,
              "#bd3786"
             ],
             [
              0.5555555555555556,
              "#d8576b"
             ],
             [
              0.6666666666666666,
              "#ed7953"
             ],
             [
              0.7777777777777778,
              "#fb9f3a"
             ],
             [
              0.8888888888888888,
              "#fdca26"
             ],
             [
              1,
              "#f0f921"
             ]
            ],
            "type": "contour"
           }
          ],
          "contourcarpet": [
           {
            "colorbar": {
             "outlinewidth": 0,
             "ticks": ""
            },
            "type": "contourcarpet"
           }
          ],
          "heatmap": [
           {
            "colorbar": {
             "outlinewidth": 0,
             "ticks": ""
            },
            "colorscale": [
             [
              0,
              "#0d0887"
             ],
             [
              0.1111111111111111,
              "#46039f"
             ],
             [
              0.2222222222222222,
              "#7201a8"
             ],
             [
              0.3333333333333333,
              "#9c179e"
             ],
             [
              0.4444444444444444,
              "#bd3786"
             ],
             [
              0.5555555555555556,
              "#d8576b"
             ],
             [
              0.6666666666666666,
              "#ed7953"
             ],
             [
              0.7777777777777778,
              "#fb9f3a"
             ],
             [
              0.8888888888888888,
              "#fdca26"
             ],
             [
              1,
              "#f0f921"
             ]
            ],
            "type": "heatmap"
           }
          ],
          "heatmapgl": [
           {
            "colorbar": {
             "outlinewidth": 0,
             "ticks": ""
            },
            "colorscale": [
             [
              0,
              "#0d0887"
             ],
             [
              0.1111111111111111,
              "#46039f"
             ],
             [
              0.2222222222222222,
              "#7201a8"
             ],
             [
              0.3333333333333333,
              "#9c179e"
             ],
             [
              0.4444444444444444,
              "#bd3786"
             ],
             [
              0.5555555555555556,
              "#d8576b"
             ],
             [
              0.6666666666666666,
              "#ed7953"
             ],
             [
              0.7777777777777778,
              "#fb9f3a"
             ],
             [
              0.8888888888888888,
              "#fdca26"
             ],
             [
              1,
              "#f0f921"
             ]
            ],
            "type": "heatmapgl"
           }
          ],
          "histogram": [
           {
            "marker": {
             "pattern": {
              "fillmode": "overlay",
              "size": 10,
              "solidity": 0.2
             }
            },
            "type": "histogram"
           }
          ],
          "histogram2d": [
           {
            "colorbar": {
             "outlinewidth": 0,
             "ticks": ""
            },
            "colorscale": [
             [
              0,
              "#0d0887"
             ],
             [
              0.1111111111111111,
              "#46039f"
             ],
             [
              0.2222222222222222,
              "#7201a8"
             ],
             [
              0.3333333333333333,
              "#9c179e"
             ],
             [
              0.4444444444444444,
              "#bd3786"
             ],
             [
              0.5555555555555556,
              "#d8576b"
             ],
             [
              0.6666666666666666,
              "#ed7953"
             ],
             [
              0.7777777777777778,
              "#fb9f3a"
             ],
             [
              0.8888888888888888,
              "#fdca26"
             ],
             [
              1,
              "#f0f921"
             ]
            ],
            "type": "histogram2d"
           }
          ],
          "histogram2dcontour": [
           {
            "colorbar": {
             "outlinewidth": 0,
             "ticks": ""
            },
            "colorscale": [
             [
              0,
              "#0d0887"
             ],
             [
              0.1111111111111111,
              "#46039f"
             ],
             [
              0.2222222222222222,
              "#7201a8"
             ],
             [
              0.3333333333333333,
              "#9c179e"
             ],
             [
              0.4444444444444444,
              "#bd3786"
             ],
             [
              0.5555555555555556,
              "#d8576b"
             ],
             [
              0.6666666666666666,
              "#ed7953"
             ],
             [
              0.7777777777777778,
              "#fb9f3a"
             ],
             [
              0.8888888888888888,
              "#fdca26"
             ],
             [
              1,
              "#f0f921"
             ]
            ],
            "type": "histogram2dcontour"
           }
          ],
          "mesh3d": [
           {
            "colorbar": {
             "outlinewidth": 0,
             "ticks": ""
            },
            "type": "mesh3d"
           }
          ],
          "parcoords": [
           {
            "line": {
             "colorbar": {
              "outlinewidth": 0,
              "ticks": ""
             }
            },
            "type": "parcoords"
           }
          ],
          "pie": [
           {
            "automargin": true,
            "type": "pie"
           }
          ],
          "scatter": [
           {
            "fillpattern": {
             "fillmode": "overlay",
             "size": 10,
             "solidity": 0.2
            },
            "type": "scatter"
           }
          ],
          "scatter3d": [
           {
            "line": {
             "colorbar": {
              "outlinewidth": 0,
              "ticks": ""
             }
            },
            "marker": {
             "colorbar": {
              "outlinewidth": 0,
              "ticks": ""
             }
            },
            "type": "scatter3d"
           }
          ],
          "scattercarpet": [
           {
            "marker": {
             "colorbar": {
              "outlinewidth": 0,
              "ticks": ""
             }
            },
            "type": "scattercarpet"
           }
          ],
          "scattergeo": [
           {
            "marker": {
             "colorbar": {
              "outlinewidth": 0,
              "ticks": ""
             }
            },
            "type": "scattergeo"
           }
          ],
          "scattergl": [
           {
            "marker": {
             "colorbar": {
              "outlinewidth": 0,
              "ticks": ""
             }
            },
            "type": "scattergl"
           }
          ],
          "scattermapbox": [
           {
            "marker": {
             "colorbar": {
              "outlinewidth": 0,
              "ticks": ""
             }
            },
            "type": "scattermapbox"
           }
          ],
          "scatterpolar": [
           {
            "marker": {
             "colorbar": {
              "outlinewidth": 0,
              "ticks": ""
             }
            },
            "type": "scatterpolar"
           }
          ],
          "scatterpolargl": [
           {
            "marker": {
             "colorbar": {
              "outlinewidth": 0,
              "ticks": ""
             }
            },
            "type": "scatterpolargl"
           }
          ],
          "scatterternary": [
           {
            "marker": {
             "colorbar": {
              "outlinewidth": 0,
              "ticks": ""
             }
            },
            "type": "scatterternary"
           }
          ],
          "surface": [
           {
            "colorbar": {
             "outlinewidth": 0,
             "ticks": ""
            },
            "colorscale": [
             [
              0,
              "#0d0887"
             ],
             [
              0.1111111111111111,
              "#46039f"
             ],
             [
              0.2222222222222222,
              "#7201a8"
             ],
             [
              0.3333333333333333,
              "#9c179e"
             ],
             [
              0.4444444444444444,
              "#bd3786"
             ],
             [
              0.5555555555555556,
              "#d8576b"
             ],
             [
              0.6666666666666666,
              "#ed7953"
             ],
             [
              0.7777777777777778,
              "#fb9f3a"
             ],
             [
              0.8888888888888888,
              "#fdca26"
             ],
             [
              1,
              "#f0f921"
             ]
            ],
            "type": "surface"
           }
          ],
          "table": [
           {
            "cells": {
             "fill": {
              "color": "#EBF0F8"
             },
             "line": {
              "color": "white"
             }
            },
            "header": {
             "fill": {
              "color": "#C8D4E3"
             },
             "line": {
              "color": "white"
             }
            },
            "type": "table"
           }
          ]
         },
         "layout": {
          "annotationdefaults": {
           "arrowcolor": "#2a3f5f",
           "arrowhead": 0,
           "arrowwidth": 1
          },
          "autotypenumbers": "strict",
          "coloraxis": {
           "colorbar": {
            "outlinewidth": 0,
            "ticks": ""
           }
          },
          "colorscale": {
           "diverging": [
            [
             0,
             "#8e0152"
            ],
            [
             0.1,
             "#c51b7d"
            ],
            [
             0.2,
             "#de77ae"
            ],
            [
             0.3,
             "#f1b6da"
            ],
            [
             0.4,
             "#fde0ef"
            ],
            [
             0.5,
             "#f7f7f7"
            ],
            [
             0.6,
             "#e6f5d0"
            ],
            [
             0.7,
             "#b8e186"
            ],
            [
             0.8,
             "#7fbc41"
            ],
            [
             0.9,
             "#4d9221"
            ],
            [
             1,
             "#276419"
            ]
           ],
           "sequential": [
            [
             0,
             "#0d0887"
            ],
            [
             0.1111111111111111,
             "#46039f"
            ],
            [
             0.2222222222222222,
             "#7201a8"
            ],
            [
             0.3333333333333333,
             "#9c179e"
            ],
            [
             0.4444444444444444,
             "#bd3786"
            ],
            [
             0.5555555555555556,
             "#d8576b"
            ],
            [
             0.6666666666666666,
             "#ed7953"
            ],
            [
             0.7777777777777778,
             "#fb9f3a"
            ],
            [
             0.8888888888888888,
             "#fdca26"
            ],
            [
             1,
             "#f0f921"
            ]
           ],
           "sequentialminus": [
            [
             0,
             "#0d0887"
            ],
            [
             0.1111111111111111,
             "#46039f"
            ],
            [
             0.2222222222222222,
             "#7201a8"
            ],
            [
             0.3333333333333333,
             "#9c179e"
            ],
            [
             0.4444444444444444,
             "#bd3786"
            ],
            [
             0.5555555555555556,
             "#d8576b"
            ],
            [
             0.6666666666666666,
             "#ed7953"
            ],
            [
             0.7777777777777778,
             "#fb9f3a"
            ],
            [
             0.8888888888888888,
             "#fdca26"
            ],
            [
             1,
             "#f0f921"
            ]
           ]
          },
          "colorway": [
           "#636efa",
           "#EF553B",
           "#00cc96",
           "#ab63fa",
           "#FFA15A",
           "#19d3f3",
           "#FF6692",
           "#B6E880",
           "#FF97FF",
           "#FECB52"
          ],
          "font": {
           "color": "#2a3f5f"
          },
          "geo": {
           "bgcolor": "white",
           "lakecolor": "white",
           "landcolor": "#E5ECF6",
           "showlakes": true,
           "showland": true,
           "subunitcolor": "white"
          },
          "hoverlabel": {
           "align": "left"
          },
          "hovermode": "closest",
          "mapbox": {
           "style": "light"
          },
          "paper_bgcolor": "white",
          "plot_bgcolor": "#E5ECF6",
          "polar": {
           "angularaxis": {
            "gridcolor": "white",
            "linecolor": "white",
            "ticks": ""
           },
           "bgcolor": "#E5ECF6",
           "radialaxis": {
            "gridcolor": "white",
            "linecolor": "white",
            "ticks": ""
           }
          },
          "scene": {
           "xaxis": {
            "backgroundcolor": "#E5ECF6",
            "gridcolor": "white",
            "gridwidth": 2,
            "linecolor": "white",
            "showbackground": true,
            "ticks": "",
            "zerolinecolor": "white"
           },
           "yaxis": {
            "backgroundcolor": "#E5ECF6",
            "gridcolor": "white",
            "gridwidth": 2,
            "linecolor": "white",
            "showbackground": true,
            "ticks": "",
            "zerolinecolor": "white"
           },
           "zaxis": {
            "backgroundcolor": "#E5ECF6",
            "gridcolor": "white",
            "gridwidth": 2,
            "linecolor": "white",
            "showbackground": true,
            "ticks": "",
            "zerolinecolor": "white"
           }
          },
          "shapedefaults": {
           "line": {
            "color": "#2a3f5f"
           }
          },
          "ternary": {
           "aaxis": {
            "gridcolor": "white",
            "linecolor": "white",
            "ticks": ""
           },
           "baxis": {
            "gridcolor": "white",
            "linecolor": "white",
            "ticks": ""
           },
           "bgcolor": "#E5ECF6",
           "caxis": {
            "gridcolor": "white",
            "linecolor": "white",
            "ticks": ""
           }
          },
          "title": {
           "x": 0.05
          },
          "xaxis": {
           "automargin": true,
           "gridcolor": "white",
           "linecolor": "white",
           "ticks": "",
           "title": {
            "standoff": 15
           },
           "zerolinecolor": "white",
           "zerolinewidth": 2
          },
          "yaxis": {
           "automargin": true,
           "gridcolor": "white",
           "linecolor": "white",
           "ticks": "",
           "title": {
            "standoff": 15
           },
           "zerolinecolor": "white",
           "zerolinewidth": 2
          }
         }
        },
        "title": {
         "text": "Number of Tracks released  per year"
        },
        "xaxis": {
         "anchor": "y",
         "autorange": true,
         "domain": [
          0,
          1
         ],
         "range": [
          1929.5,
          2024.5
         ],
         "title": {
          "text": "released_year"
         },
         "type": "linear"
        },
        "yaxis": {
         "anchor": "x",
         "autorange": true,
         "domain": [
          0,
          1
         ],
         "range": [
          0,
          669.4736842105264
         ],
         "title": {
          "text": "count"
         }
        }
       }
      },
      "image/png": "[encoded data removed]",
      "text/html": [
       "<div>                            <div id=\"65942100-dc04-453c-b62f-e715bf4b1332\" class=\"plotly-graph-div\" style=\"height:525px; width:100%;\"></div>            <script type=\"text/javascript\">                require([\"plotly\"], function(Plotly) {                    window.PLOTLYENV=window.PLOTLYENV || {};                                    if (document.getElementById(\"65942100-dc04-453c-b62f-e715bf4b1332\")) {                    Plotly.newPlot(                        \"65942100-dc04-453c-b62f-e715bf4b1332\",                        [{\"alignmentgroup\":\"True\",\"bingroup\":\"x\",\"hovertemplate\":\"released_year=%{x}<br>count=%{y}<extra></extra>\",\"legendgroup\":\"\",\"marker\":{\"color\":\"#636efa\",\"pattern\":{\"shape\":\"\"}},\"name\":\"\",\"nbinsx\":20,\"offsetgroup\":\"\",\"orientation\":\"v\",\"showlegend\":false,\"x\":[2023,2023,2023,2019,2023,2023,2023,2023,2023,2023,2023,2023,2023,2022,2023,2023,2023,2023,2023,2023,2023,2023,2022,2023,2023,2023,2023,2023,2022,2022,2023,2023,2014,2014,2023,2023,2018,2022,2017,2020,2016,2016,2023,2023,2023,2023,2023,2023,2022,2023,2023,2022,2023,2022,1999,2022,2022,2023,2023,2023,2022,2022,2008,2022,2022,2022,2023,1975,2022,2023,2023,2021,2023,2022,2015,2012,2023,2023,2023,2017,2020,2023,2023,2022,2011,2023,2012,2022,2023,2004,2023,2022,2017,2017,2021,2011,2012,2022,2023,2023,1985,2014,2023,2023,2023,2020,2023,2023,2022,2022,2022,2011,2017,2023,2023,2023,2011,2023,2022,2023,2017,2022,2017,2023,2023,2002,2016,2022,2004,2019,2023,2023,2023,2012,2023,2013,2023,2016,2010,2010,1983,2015,2011,2018,2023,2013,2012,2023,2016,2014,2013,2017,1992,2019,2017,2023,2016,2010,2013,2022,2021,2022,2023,2020,2010,2023,2022,1984,2023,2023,2023,2022,2023,2023,2023,2023,2023,2023,2023,2022,2023,2023,2023,2023,2022,2022,2023,2022,2023,2022,2022,2023,2022,2023,2023,2022,2023,2023,2022,2022,2023,2023,2023,2023,2023,2022,2023,2022,2023,2023,2022,2021,2022,2021,2023,2023,2023,2000,2022,2021,2022,2023,2023,2023,2023,2023,2023,2023,2022,2023,2023,1997,2023,2023,2022,2023,2019,2022,2023,2023,2022,2023,2022,2022,2022,2023,2022,2014,2021,2023,2022,2018,2023,2022,2018,2023,2023,2021,2002,2002,2023,2023,2023,2023,2023,2022,2023,2023,2021,2023,2022,2022,2022,2023,2023,2023,2022,2022,2022,2022,2022,2014,2017,2016,2019,2023,2022,2022,2003,2023,2022,2022,2023,2023,2023,2023,2023,2022,2023,2023,2022,2022,2022,2023,2023,2022,2022,2023,2022,2011,2023,2023,2022,2000,2022,2022,2022,2022,2022,2021,2017,2022,2019,2022,2023,2020,2022,2020,2022,2022,2022,2021,2023,2023,2022,2022,2022,2022,2022,2016,2019,2016,2022,2022,2022,2023,2022,2014,2020,2022,2023,2022,2019,2014,2020,2015,2022,2022,2022,2022,2022,2022,2022,2022,2021,2022,1985,1973,2022,2021,2022,2022,2022,2020,2020,2022,2022,2022,1930,2011,1963,1959,2013,1970,2011,2011,1963,2022,2022,1971,2022,1946,1979,2022,1984,1950,2022,2022,1942,1986,1963,2022,2022,2022,1958,2022,2022,2021,2022,2022,1959,2022,2022,2022,2022,2022,2022,2022,2005,2021,2022,2022,1958,1957,2022,2022,2022,2022,2022,2021,2022,2022,2017,2021,2022,2022,2021,2022,2022,2021,2022,2021,2021,2017,2020,2021,2021,2021,2022,2021,2022,2022,2021,2021,2021,2018,2021,2021,2020,2021,2020,2021,2020,2021,2022,2021,2021,2021,2022,2021,2021,2021,2019,2021,2021,2021,2021,2021,1970,2021,2022,2015,2021,2015,2022,2021,2021,2022,2021,2021,2021,2019,2020,2010,2021,2021,2021,2021,2020,2021,2021,2021,2016,2021,2016,2021,2017,2019,2021,2021,2010,2020,2014,2021,2021,2021,2021,2017,2021,2013,1991,2021,2021,2022,2021,2003,2022,2021,2019,2018,2022,2021,2021,2021,2021,2002,2019,2021,2022,2021,2021,2021,2022,1999,2022,2022,1999,2022,2022,2022,2012,2002,2022,2013,2019,2016,2019,2020,2021,2022,1995,1999,2021,2021,2017,1999,2020,2017,2022,2022,2021,2022,2022,2022,2021,2015,2014,2019,2021,2019,2022,2019,2022,2019,2019,2019,2020,1991,2022,2022,2022,2021,2022,2022,2022,2004,2022,2021,2022,2022,2022,2022,2021,2020,2018,2020,2013,2021,2021,2020,2017,2016,2022,2019,2022,2022,2022,2022,2022,2015,2022,2022,2022,2015,2022,2021,2022,2022,2022,2022,2022,2022,2022,2019,1996,2022,2022,2016,2022,2019,2013,2021,2022,2022,2014,2015,2022,2022,2022,2022,2022,2022,2022,2022,2022,2022,2022,2022,2022,2022,2022,2022,2022,2022,2022,2022,2022,2022,2022,2022,2019,2022,2022,2016,2022,2022,2022,2022,2022,2022,2022,2022,2022,2022,2022,2022,2022,2022,2022,2022,2022,2022,2022,2022,2021,2022,2022,2022,2022,1998,2022,2019,2022,2017,2021,2022,2022,2022,2022,2022,2022,2022,2022,2022,2022,2022,2022,1982,2022,2022,2022,2022,2022,2022,2022,2022,2014,2022,2022,2022,2016,2022,2018,2022,2021,2022,1986,2022,2022,2022,2022,2022,2022,2022,2022,1987,2022,2022,2022,2022,2022,2022,2022,2022,2022,2022,2022,2022,2022,2019,2022,2022,2022,2022,2008,2022,2022,2022,2022,2022,2013,2022,2022,2022,2022,2022,2022,2002,2000,2022,2022,2016,2022,2022,2022,2022,2022,2022,2022,1982,2018,2022,2022,2022,2022,2022,2022,2022,2022,2022,2022,2022,2022,2022,2022,2022,2022,2022,2022,2022,2022,2022,2022,2022,2022,2022,2022],\"xaxis\":\"x\",\"yaxis\":\"y\",\"type\":\"histogram\"}],                        {\"template\":{\"data\":{\"histogram2dcontour\":[{\"type\":\"histogram2dcontour\",\"colorbar\":{\"outlinewidth\":0,\"ticks\":\"\"},\"colorscale\":[[0.0,\"#0d0887\"],[0.1111111111111111,\"#46039f\"],[0.2222222222222222,\"#7201a8\"],[0.3333333333333333,\"#9c179e\"],[0.4444444444444444,\"#bd3786\"],[0.5555555555555556,\"#d8576b\"],[0.6666666666666666,\"#ed7953\"],[0.7777777777777778,\"#fb9f3a\"],[0.8888888888888888,\"#fdca26\"],[1.0,\"#f0f921\"]]}],\"choropleth\":[{\"type\":\"choropleth\",\"colorbar\":{\"outlinewidth\":0,\"ticks\":\"\"}}],\"histogram2d\":[{\"type\":\"histogram2d\",\"colorbar\":{\"outlinewidth\":0,\"ticks\":\"\"},\"colorscale\":[[0.0,\"#0d0887\"],[0.1111111111111111,\"#46039f\"],[0.2222222222222222,\"#7201a8\"],[0.3333333333333333,\"#9c179e\"],[0.4444444444444444,\"#bd3786\"],[0.5555555555555556,\"#d8576b\"],[0.6666666666666666,\"#ed7953\"],[0.7777777777777778,\"#fb9f3a\"],[0.8888888888888888,\"#fdca26\"],[1.0,\"#f0f921\"]]}],\"heatmap\":[{\"type\":\"heatmap\",\"colorbar\":{\"outlinewidth\":0,\"ticks\":\"\"},\"colorscale\":[[0.0,\"#0d0887\"],[0.1111111111111111,\"#46039f\"],[0.2222222222222222,\"#7201a8\"],[0.3333333333333333,\"#9c179e\"],[0.4444444444444444,\"#bd3786\"],[0.5555555555555556,\"#d8576b\"],[0.6666666666666666,\"#ed7953\"],[0.7777777777777778,\"#fb9f3a\"],[0.8888888888888888,\"#fdca26\"],[1.0,\"#f0f921\"]]}],\"heatmapgl\":[{\"type\":\"heatmapgl\",\"colorbar\":{\"outlinewidth\":0,\"ticks\":\"\"},\"colorscale\":[[0.0,\"#0d0887\"],[0.1111111111111111,\"#46039f\"],[0.2222222222222222,\"#7201a8\"],[0.3333333333333333,\"#9c179e\"],[0.4444444444444444,\"#bd3786\"],[0.5555555555555556,\"#d8576b\"],[0.6666666666666666,\"#ed7953\"],[0.7777777777777778,\"#fb9f3a\"],[0.8888888888888888,\"#fdca26\"],[1.0,\"#f0f921\"]]}],\"contourcarpet\":[{\"type\":\"contourcarpet\",\"colorbar\":{\"outlinewidth\":0,\"ticks\":\"\"}}],\"contour\":[{\"type\":\"contour\",\"colorbar\":{\"outlinewidth\":0,\"ticks\":\"\"},\"colorscale\":[[0.0,\"#0d0887\"],[0.1111111111111111,\"#46039f\"],[0.2222222222222222,\"#7201a8\"],[0.3333333333333333,\"#9c179e\"],[0.4444444444444444,\"#bd3786\"],[0.5555555555555556,\"#d8576b\"],[0.6666666666666666,\"#ed7953\"],[0.7777777777777778,\"#fb9f3a\"],[0.8888888888888888,\"#fdca26\"],[1.0,\"#f0f921\"]]}],\"surface\":[{\"type\":\"surface\",\"colorbar\":{\"outlinewidth\":0,\"ticks\":\"\"},\"colorscale\":[[0.0,\"#0d0887\"],[0.1111111111111111,\"#46039f\"],[0.2222222222222222,\"#7201a8\"],[0.3333333333333333,\"#9c179e\"],[0.4444444444444444,\"#bd3786\"],[0.5555555555555556,\"#d8576b\"],[0.6666666666666666,\"#ed7953\"],[0.7777777777777778,\"#fb9f3a\"],[0.8888888888888888,\"#fdca26\"],[1.0,\"#f0f921\"]]}],\"mesh3d\":[{\"type\":\"mesh3d\",\"colorbar\":{\"outlinewidth\":0,\"ticks\":\"\"}}],\"scatter\":[{\"fillpattern\":{\"fillmode\":\"overlay\",\"size\":10,\"solidity\":0.2},\"type\":\"scatter\"}],\"parcoords\":[{\"type\":\"parcoords\",\"line\":{\"colorbar\":{\"outlinewidth\":0,\"ticks\":\"\"}}}],\"scatterpolargl\":[{\"type\":\"scatterpolargl\",\"marker\":{\"colorbar\":{\"outlinewidth\":0,\"ticks\":\"\"}}}],\"bar\":[{\"error_x\":{\"color\":\"#2a3f5f\"},\"error_y\":{\"color\":\"#2a3f5f\"},\"marker\":{\"line\":{\"color\":\"#E5ECF6\",\"width\":0.5},\"pattern\":{\"fillmode\":\"overlay\",\"size\":10,\"solidity\":0.2}},\"type\":\"bar\"}],\"scattergeo\":[{\"type\":\"scattergeo\",\"marker\":{\"colorbar\":{\"outlinewidth\":0,\"ticks\":\"\"}}}],\"scatterpolar\":[{\"type\":\"scatterpolar\",\"marker\":{\"colorbar\":{\"outlinewidth\":0,\"ticks\":\"\"}}}],\"histogram\":[{\"marker\":{\"pattern\":{\"fillmode\":\"overlay\",\"size\":10,\"solidity\":0.2}},\"type\":\"histogram\"}],\"scattergl\":[{\"type\":\"scattergl\",\"marker\":{\"colorbar\":{\"outlinewidth\":0,\"ticks\":\"\"}}}],\"scatter3d\":[{\"type\":\"scatter3d\",\"line\":{\"colorbar\":{\"outlinewidth\":0,\"ticks\":\"\"}},\"marker\":{\"colorbar\":{\"outlinewidth\":0,\"ticks\":\"\"}}}],\"scattermapbox\":[{\"type\":\"scattermapbox\",\"marker\":{\"colorbar\":{\"outlinewidth\":0,\"ticks\":\"\"}}}],\"scatterternary\":[{\"type\":\"scatterternary\",\"marker\":{\"colorbar\":{\"outlinewidth\":0,\"ticks\":\"\"}}}],\"scattercarpet\":[{\"type\":\"scattercarpet\",\"marker\":{\"colorbar\":{\"outlinewidth\":0,\"ticks\":\"\"}}}],\"carpet\":[{\"aaxis\":{\"endlinecolor\":\"#2a3f5f\",\"gridcolor\":\"white\",\"linecolor\":\"white\",\"minorgridcolor\":\"white\",\"startlinecolor\":\"#2a3f5f\"},\"baxis\":{\"endlinecolor\":\"#2a3f5f\",\"gridcolor\":\"white\",\"linecolor\":\"white\",\"minorgridcolor\":\"white\",\"startlinecolor\":\"#2a3f5f\"},\"type\":\"carpet\"}],\"table\":[{\"cells\":{\"fill\":{\"color\":\"#EBF0F8\"},\"line\":{\"color\":\"white\"}},\"header\":{\"fill\":{\"color\":\"#C8D4E3\"},\"line\":{\"color\":\"white\"}},\"type\":\"table\"}],\"barpolar\":[{\"marker\":{\"line\":{\"color\":\"#E5ECF6\",\"width\":0.5},\"pattern\":{\"fillmode\":\"overlay\",\"size\":10,\"solidity\":0.2}},\"type\":\"barpolar\"}],\"pie\":[{\"automargin\":true,\"type\":\"pie\"}]},\"layout\":{\"autotypenumbers\":\"strict\",\"colorway\":[\"#636efa\",\"#EF553B\",\"#00cc96\",\"#ab63fa\",\"#FFA15A\",\"#19d3f3\",\"#FF6692\",\"#B6E880\",\"#FF97FF\",\"#FECB52\"],\"font\":{\"color\":\"#2a3f5f\"},\"hovermode\":\"closest\",\"hoverlabel\":{\"align\":\"left\"},\"paper_bgcolor\":\"white\",\"plot_bgcolor\":\"#E5ECF6\",\"polar\":{\"bgcolor\":\"#E5ECF6\",\"angularaxis\":{\"gridcolor\":\"white\",\"linecolor\":\"white\",\"ticks\":\"\"},\"radialaxis\":{\"gridcolor\":\"white\",\"linecolor\":\"white\",\"ticks\":\"\"}},\"ternary\":{\"bgcolor\":\"#E5ECF6\",\"aaxis\":{\"gridcolor\":\"white\",\"linecolor\":\"white\",\"ticks\":\"\"},\"baxis\":{\"gridcolor\":\"white\",\"linecolor\":\"white\",\"ticks\":\"\"},\"caxis\":{\"gridcolor\":\"white\",\"linecolor\":\"white\",\"ticks\":\"\"}},\"coloraxis\":{\"colorbar\":{\"outlinewidth\":0,\"ticks\":\"\"}},\"colorscale\":{\"sequential\":[[0.0,\"#0d0887\"],[0.1111111111111111,\"#46039f\"],[0.2222222222222222,\"#7201a8\"],[0.3333333333333333,\"#9c179e\"],[0.4444444444444444,\"#bd3786\"],[0.5555555555555556,\"#d8576b\"],[0.6666666666666666,\"#ed7953\"],[0.7777777777777778,\"#fb9f3a\"],[0.8888888888888888,\"#fdca26\"],[1.0,\"#f0f921\"]],\"sequentialminus\":[[0.0,\"#0d0887\"],[0.1111111111111111,\"#46039f\"],[0.2222222222222222,\"#7201a8\"],[0.3333333333333333,\"#9c179e\"],[0.4444444444444444,\"#bd3786\"],[0.5555555555555556,\"#d8576b\"],[0.6666666666666666,\"#ed7953\"],[0.7777777777777778,\"#fb9f3a\"],[0.8888888888888888,\"#fdca26\"],[1.0,\"#f0f921\"]],\"diverging\":[[0,\"#8e0152\"],[0.1,\"#c51b7d\"],[0.2,\"#de77ae\"],[0.3,\"#f1b6da\"],[0.4,\"#fde0ef\"],[0.5,\"#f7f7f7\"],[0.6,\"#e6f5d0\"],[0.7,\"#b8e186\"],[0.8,\"#7fbc41\"],[0.9,\"#4d9221\"],[1,\"#276419\"]]},\"xaxis\":{\"gridcolor\":\"white\",\"linecolor\":\"white\",\"ticks\":\"\",\"title\":{\"standoff\":15},\"zerolinecolor\":\"white\",\"automargin\":true,\"zerolinewidth\":2},\"yaxis\":{\"gridcolor\":\"white\",\"linecolor\":\"white\",\"ticks\":\"\",\"title\":{\"standoff\":15},\"zerolinecolor\":\"white\",\"automargin\":true,\"zerolinewidth\":2},\"scene\":{\"xaxis\":{\"backgroundcolor\":\"#E5ECF6\",\"gridcolor\":\"white\",\"linecolor\":\"white\",\"showbackground\":true,\"ticks\":\"\",\"zerolinecolor\":\"white\",\"gridwidth\":2},\"yaxis\":{\"backgroundcolor\":\"#E5ECF6\",\"gridcolor\":\"white\",\"linecolor\":\"white\",\"showbackground\":true,\"ticks\":\"\",\"zerolinecolor\":\"white\",\"gridwidth\":2},\"zaxis\":{\"backgroundcolor\":\"#E5ECF6\",\"gridcolor\":\"white\",\"linecolor\":\"white\",\"showbackground\":true,\"ticks\":\"\",\"zerolinecolor\":\"white\",\"gridwidth\":2}},\"shapedefaults\":{\"line\":{\"color\":\"#2a3f5f\"}},\"annotationdefaults\":{\"arrowcolor\":\"#2a3f5f\",\"arrowhead\":0,\"arrowwidth\":1},\"geo\":{\"bgcolor\":\"white\",\"landcolor\":\"#E5ECF6\",\"subunitcolor\":\"white\",\"showland\":true,\"showlakes\":true,\"lakecolor\":\"white\"},\"title\":{\"x\":0.05},\"mapbox\":{\"style\":\"light\"}}},\"xaxis\":{\"anchor\":\"y\",\"domain\":[0.0,1.0],\"title\":{\"text\":\"released_year\"}},\"yaxis\":{\"anchor\":\"x\",\"domain\":[0.0,1.0],\"title\":{\"text\":\"count\"}},\"legend\":{\"tracegroupgap\":0},\"title\":{\"text\":\"Number of Tracks released  per year\"},\"barmode\":\"relative\"},                        {\"responsive\": true}                    ).then(function(){\n",
       "                            \n",
       "var gd = document.getElementById('65942100-dc04-453c-b62f-e715bf4b1332');\n",
       "var x = new MutationObserver(function (mutations, observer) {{\n",
       "        var display = window.getComputedStyle(gd).display;\n",
       "        if (!display || display === 'none') {{\n",
       "            console.log([gd, 'removed!']);\n",
       "            Plotly.purge(gd);\n",
       "            observer.disconnect();\n",
       "        }}\n",
       "}});\n",
       "\n",
       "// Listen for the removal of the full notebook cells\n",
       "var notebookContainer = gd.closest('#notebook-container');\n",
       "if (notebookContainer) {{\n",
       "    x.observe(notebookContainer, {childList: true});\n",
       "}}\n",
       "\n",
       "// Listen for the clearing of the current output cell\n",
       "var outputEl = gd.closest('.output');\n",
       "if (outputEl) {{\n",
       "    x.observe(outputEl, {childList: true});\n",
       "}}\n",
       "\n",
       "                        })                };                });            </script>        </div>"
      ]
     },
     "metadata": {},
     "output_type": "display_data"
    }
   ],
   "source": [
    "# Number of Tracks released per year\n",
    "fig= px.histogram(data,\n",
    "                  x='released_year',\n",
    "                  title='Number of Tracks released  per year',\n",
    "                  nbins=20)\n",
    "\n",
    "fig.show()"
   ]
  },
  {
   "cell_type": "code",
   "execution_count": 118,
   "id": "5e9e713e-b0af-4dc0-9323-3fb07c393b51",
   "metadata": {},
   "outputs": [
    {
     "data": {
      "application/vnd.plotly.v1+json": {
       "config": {
        "plotlyServerURL": "https://plot.ly"
       },
       "data": [
        {
         "alignmentgroup": "True",
         "box": {
          "visible": true
         },
         "hovertemplate": "in_spotify_charts=%{x}<br>acousticness_%=%{y}<extra></extra>",
         "legendgroup": "48",
         "marker": {
          "color": "#636efa"
         },
         "name": "48",
         "offsetgroup": "48",
         "orientation": "v",
         "scalegroup": "True",
         "showlegend": true,
         "type": "violin",
         "x": [
          48,
          48
         ],
         "x0": " ",
         "xaxis": "x",
         "y": [
          7,
          4
         ],
         "y0": " ",
         "yaxis": "y"
        },
        {
         "alignmentgroup": "True",
         "box": {
          "visible": true
         },
         "hovertemplate": "in_spotify_charts=%{x}<br>acousticness_%=%{y}<extra></extra>",
         "legendgroup": "43",
         "marker": {
          "color": "#EF553B"
         },
         "name": "43",
         "offsetgroup": "43",
         "orientation": "v",
         "scalegroup": "True",
         "showlegend": true,
         "type": "violin",
         "x": [
          43,
          43,
          43
         ],
         "x0": " ",
         "xaxis": "x",
         "y": [
          37,
          0,
          0
         ],
         "y0": " ",
         "yaxis": "y"
        },
        {
         "alignmentgroup": "True",
         "box": {
          "visible": true
         },
         "hovertemplate": "in_spotify_charts=%{x}<br>acousticness_%=%{y}<extra></extra>",
         "legendgroup": "44",
         "marker": {
          "color": "#00cc96"
         },
         "name": "44",
         "offsetgroup": "44",
         "orientation": "v",
         "scalegroup": "True",
         "showlegend": true,
         "type": "violin",
         "x": [
          44,
          44,
          44,
          44,
          44
         ],
         "x0": " ",
         "xaxis": "x",
         "y": [
          21,
          3,
          2,
          38,
          52
         ],
         "y0": " ",
         "yaxis": "y"
        },
        {
         "alignmentgroup": "True",
         "box": {
          "visible": true
         },
         "hovertemplate": "in_spotify_charts=%{x}<br>acousticness_%=%{y}<extra></extra>",
         "legendgroup": "40",
         "marker": {
          "color": "#ab63fa"
         },
         "name": "40",
         "offsetgroup": "40",
         "orientation": "v",
         "scalegroup": "True",
         "showlegend": true,
         "type": "violin",
         "x": [
          40,
          40,
          40
         ],
         "x0": " ",
         "xaxis": "x",
         "y": [
          14,
          26,
          14
         ],
         "y0": " ",
         "yaxis": "y"
        },
        {
         "alignmentgroup": "True",
         "box": {
          "visible": true
         },
         "hovertemplate": "in_spotify_charts=%{x}<br>acousticness_%=%{y}<extra></extra>",
         "legendgroup": "26",
         "marker": {
          "color": "#FFA15A"
         },
         "name": "26",
         "offsetgroup": "26",
         "orientation": "v",
         "scalegroup": "True",
         "showlegend": true,
         "type": "violin",
         "x": [
          26,
          26,
          26,
          26,
          26,
          26,
          26
         ],
         "x0": " ",
         "xaxis": "x",
         "y": [
          22,
          9,
          19,
          10,
          7,
          47,
          9
         ],
         "y0": " ",
         "yaxis": "y"
        },
        {
         "alignmentgroup": "True",
         "box": {
          "visible": true
         },
         "hovertemplate": "in_spotify_charts=%{x}<br>acousticness_%=%{y}<extra></extra>",
         "legendgroup": "38",
         "marker": {
          "color": "#19d3f3"
         },
         "name": "38",
         "offsetgroup": "38",
         "orientation": "v",
         "scalegroup": "True",
         "showlegend": true,
         "type": "violin",
         "x": [
          38,
          38,
          38,
          38,
          38,
          38,
          38,
          38
         ],
         "x0": " ",
         "xaxis": "x",
         "y": [
          6,
          7,
          0,
          5,
          4,
          18,
          10,
          8
         ],
         "y0": " ",
         "yaxis": "y"
        },
        {
         "alignmentgroup": "True",
         "box": {
          "visible": true
         },
         "hovertemplate": "in_spotify_charts=%{x}<br>acousticness_%=%{y}<extra></extra>",
         "legendgroup": "19",
         "marker": {
          "color": "#FF6692"
         },
         "name": "19",
         "offsetgroup": "19",
         "orientation": "v",
         "scalegroup": "True",
         "showlegend": true,
         "type": "violin",
         "x": [
          19,
          19,
          19,
          19,
          19,
          19,
          19,
          19
         ],
         "x0": " ",
         "xaxis": "x",
         "y": [
          46,
          10,
          3,
          73,
          15,
          9,
          0,
          21
         ],
         "y0": " ",
         "yaxis": "y"
        },
        {
         "alignmentgroup": "True",
         "box": {
          "visible": true
         },
         "hovertemplate": "in_spotify_charts=%{x}<br>acousticness_%=%{y}<extra></extra>",
         "legendgroup": "34",
         "marker": {
          "color": "#B6E880"
         },
         "name": "34",
         "offsetgroup": "34",
         "orientation": "v",
         "scalegroup": "True",
         "showlegend": true,
         "type": "violin",
         "x": [
          34,
          34,
          34,
          34,
          34,
          34,
          34,
          34,
          34
         ],
         "x0": " ",
         "xaxis": "x",
         "y": [
          39,
          37,
          4,
          30,
          10,
          66,
          34,
          36,
          5
         ],
         "y0": " ",
         "yaxis": "y"
        },
        {
         "alignmentgroup": "True",
         "box": {
          "visible": true
         },
         "hovertemplate": "in_spotify_charts=%{x}<br>acousticness_%=%{y}<extra></extra>",
         "legendgroup": "56",
         "marker": {
          "color": "#FF97FF"
         },
         "name": "56",
         "offsetgroup": "56",
         "orientation": "v",
         "scalegroup": "True",
         "showlegend": true,
         "type": "violin",
         "x": [
          56,
          56
         ],
         "x0": " ",
         "xaxis": "x",
         "y": [
          12,
          55
         ],
         "y0": " ",
         "yaxis": "y"
        },
        {
         "alignmentgroup": "True",
         "box": {
          "visible": true
         },
         "hovertemplate": "in_spotify_charts=%{x}<br>acousticness_%=%{y}<extra></extra>",
         "legendgroup": "49",
         "marker": {
          "color": "#FECB52"
         },
         "name": "49",
         "offsetgroup": "49",
         "orientation": "v",
         "scalegroup": "True",
         "showlegend": true,
         "type": "violin",
         "x": [
          49
         ],
         "x0": " ",
         "xaxis": "x",
         "y": [
          67
         ],
         "y0": " ",
         "yaxis": "y"
        },
        {
         "alignmentgroup": "True",
         "box": {
          "visible": true
         },
         "hovertemplate": "in_spotify_charts=%{x}<br>acousticness_%=%{y}<extra></extra>",
         "legendgroup": "53",
         "marker": {
          "color": "#636efa"
         },
         "name": "53",
         "offsetgroup": "53",
         "orientation": "v",
         "scalegroup": "True",
         "showlegend": true,
         "type": "violin",
         "x": [
          53
         ],
         "x0": " ",
         "xaxis": "x",
         "y": [
          9
         ],
         "y0": " ",
         "yaxis": "y"
        },
        {
         "alignmentgroup": "True",
         "box": {
          "visible": true
         },
         "hovertemplate": "in_spotify_charts=%{x}<br>acousticness_%=%{y}<extra></extra>",
         "legendgroup": "42",
         "marker": {
          "color": "#EF553B"
         },
         "name": "42",
         "offsetgroup": "42",
         "orientation": "v",
         "scalegroup": "True",
         "showlegend": true,
         "type": "violin",
         "x": [
          42,
          42,
          42
         ],
         "x0": " ",
         "xaxis": "x",
         "y": [
          0,
          51,
          10
         ],
         "y0": " ",
         "yaxis": "y"
        },
        {
         "alignmentgroup": "True",
         "box": {
          "visible": true
         },
         "hovertemplate": "in_spotify_charts=%{x}<br>acousticness_%=%{y}<extra></extra>",
         "legendgroup": "28",
         "marker": {
          "color": "#00cc96"
         },
         "name": "28",
         "offsetgroup": "28",
         "orientation": "v",
         "scalegroup": "True",
         "showlegend": true,
         "type": "violin",
         "x": [
          28,
          28,
          28,
          28,
          28
         ],
         "x0": " ",
         "xaxis": "x",
         "y": [
          27,
          28,
          1,
          9,
          21
         ],
         "y0": " ",
         "yaxis": "y"
        },
        {
         "alignmentgroup": "True",
         "box": {
          "visible": true
         },
         "hovertemplate": "in_spotify_charts=%{x}<br>acousticness_%=%{y}<extra></extra>",
         "legendgroup": "25",
         "marker": {
          "color": "#ab63fa"
         },
         "name": "25",
         "offsetgroup": "25",
         "orientation": "v",
         "scalegroup": "True",
         "showlegend": true,
         "type": "violin",
         "x": [
          25,
          25,
          25,
          25
         ],
         "x0": " ",
         "xaxis": "x",
         "y": [
          23,
          6,
          14,
          14
         ],
         "y0": " ",
         "yaxis": "y"
        },
        {
         "alignmentgroup": "True",
         "box": {
          "visible": true
         },
         "hovertemplate": "in_spotify_charts=%{x}<br>acousticness_%=%{y}<extra></extra>",
         "legendgroup": "64",
         "marker": {
          "color": "#FFA15A"
         },
         "name": "64",
         "offsetgroup": "64",
         "orientation": "v",
         "scalegroup": "True",
         "showlegend": true,
         "type": "violin",
         "x": [
          64
         ],
         "x0": " ",
         "xaxis": "x",
         "y": [
          37
         ],
         "y0": " ",
         "yaxis": "y"
        },
        {
         "alignmentgroup": "True",
         "box": {
          "visible": true
         },
         "hovertemplate": "in_spotify_charts=%{x}<br>acousticness_%=%{y}<extra></extra>",
         "legendgroup": "59",
         "marker": {
          "color": "#19d3f3"
         },
         "name": "59",
         "offsetgroup": "59",
         "orientation": "v",
         "scalegroup": "True",
         "showlegend": true,
         "type": "violin",
         "x": [
          59,
          59,
          59
         ],
         "x0": " ",
         "xaxis": "x",
         "y": [
          9,
          12,
          24
         ],
         "y0": " ",
         "yaxis": "y"
        },
        {
         "alignmentgroup": "True",
         "box": {
          "visible": true
         },
         "hovertemplate": "in_spotify_charts=%{x}<br>acousticness_%=%{y}<extra></extra>",
         "legendgroup": "47",
         "marker": {
          "color": "#FF6692"
         },
         "name": "47",
         "offsetgroup": "47",
         "orientation": "v",
         "scalegroup": "True",
         "showlegend": true,
         "type": "violin",
         "x": [
          47,
          47
         ],
         "x0": " ",
         "xaxis": "x",
         "y": [
          23,
          3
         ],
         "y0": " ",
         "yaxis": "y"
        },
        {
         "alignmentgroup": "True",
         "box": {
          "visible": true
         },
         "hovertemplate": "in_spotify_charts=%{x}<br>acousticness_%=%{y}<extra></extra>",
         "legendgroup": "66",
         "marker": {
          "color": "#B6E880"
         },
         "name": "66",
         "offsetgroup": "66",
         "orientation": "v",
         "scalegroup": "True",
         "showlegend": true,
         "type": "violin",
         "x": [
          66
         ],
         "x0": " ",
         "xaxis": "x",
         "y": [
          0
         ],
         "y0": " ",
         "yaxis": "y"
        },
        {
         "alignmentgroup": "True",
         "box": {
          "visible": true
         },
         "hovertemplate": "in_spotify_charts=%{x}<br>acousticness_%=%{y}<extra></extra>",
         "legendgroup": "39",
         "marker": {
          "color": "#FF97FF"
         },
         "name": "39",
         "offsetgroup": "39",
         "orientation": "v",
         "scalegroup": "True",
         "showlegend": true,
         "type": "violin",
         "x": [
          39,
          39,
          39
         ],
         "x0": " ",
         "xaxis": "x",
         "y": [
          18,
          62,
          0
         ],
         "y0": " ",
         "yaxis": "y"
        },
        {
         "alignmentgroup": "True",
         "box": {
          "visible": true
         },
         "hovertemplate": "in_spotify_charts=%{x}<br>acousticness_%=%{y}<extra></extra>",
         "legendgroup": "45",
         "marker": {
          "color": "#FECB52"
         },
         "name": "45",
         "offsetgroup": "45",
         "orientation": "v",
         "scalegroup": "True",
         "showlegend": true,
         "type": "violin",
         "x": [
          45,
          45
         ],
         "x0": " ",
         "xaxis": "x",
         "y": [
          58,
          1
         ],
         "y0": " ",
         "yaxis": "y"
        },
        {
         "alignmentgroup": "True",
         "box": {
          "visible": true
         },
         "hovertemplate": "in_spotify_charts=%{x}<br>acousticness_%=%{y}<extra></extra>",
         "legendgroup": "15",
         "marker": {
          "color": "#636efa"
         },
         "name": "15",
         "offsetgroup": "15",
         "orientation": "v",
         "scalegroup": "True",
         "showlegend": true,
         "type": "violin",
         "x": [
          15,
          15,
          15,
          15,
          15,
          15,
          15,
          15
         ],
         "x0": " ",
         "xaxis": "x",
         "y": [
          50,
          0,
          1,
          14,
          8,
          56,
          21,
          60
         ],
         "y0": " ",
         "yaxis": "y"
        },
        {
         "alignmentgroup": "True",
         "box": {
          "visible": true
         },
         "hovertemplate": "in_spotify_charts=%{x}<br>acousticness_%=%{y}<extra></extra>",
         "legendgroup": "41",
         "marker": {
          "color": "#EF553B"
         },
         "name": "41",
         "offsetgroup": "41",
         "orientation": "v",
         "scalegroup": "True",
         "showlegend": true,
         "type": "violin",
         "x": [
          41
         ],
         "x0": " ",
         "xaxis": "x",
         "y": [
          25
         ],
         "y0": " ",
         "yaxis": "y"
        },
        {
         "alignmentgroup": "True",
         "box": {
          "visible": true
         },
         "hovertemplate": "in_spotify_charts=%{x}<br>acousticness_%=%{y}<extra></extra>",
         "legendgroup": "50",
         "marker": {
          "color": "#00cc96"
         },
         "name": "50",
         "offsetgroup": "50",
         "orientation": "v",
         "scalegroup": "True",
         "showlegend": true,
         "type": "violin",
         "x": [
          50,
          50
         ],
         "x0": " ",
         "xaxis": "x",
         "y": [
          74,
          70
         ],
         "y0": " ",
         "yaxis": "y"
        },
        {
         "alignmentgroup": "True",
         "box": {
          "visible": true
         },
         "hovertemplate": "in_spotify_charts=%{x}<br>acousticness_%=%{y}<extra></extra>",
         "legendgroup": "23",
         "marker": {
          "color": "#ab63fa"
         },
         "name": "23",
         "offsetgroup": "23",
         "orientation": "v",
         "scalegroup": "True",
         "showlegend": true,
         "type": "violin",
         "x": [
          23,
          23,
          23,
          23,
          23,
          23,
          23
         ],
         "x0": " ",
         "xaxis": "x",
         "y": [
          7,
          50,
          11,
          15,
          50,
          45,
          4
         ],
         "y0": " ",
         "yaxis": "y"
        },
        {
         "alignmentgroup": "True",
         "box": {
          "visible": true
         },
         "hovertemplate": "in_spotify_charts=%{x}<br>acousticness_%=%{y}<extra></extra>",
         "legendgroup": "36",
         "marker": {
          "color": "#FFA15A"
         },
         "name": "36",
         "offsetgroup": "36",
         "orientation": "v",
         "scalegroup": "True",
         "showlegend": true,
         "type": "violin",
         "x": [
          36,
          36,
          36,
          36,
          36,
          36
         ],
         "x0": " ",
         "xaxis": "x",
         "y": [
          0,
          65,
          30,
          12,
          11,
          4
         ],
         "y0": " ",
         "yaxis": "y"
        },
        {
         "alignmentgroup": "True",
         "box": {
          "visible": true
         },
         "hovertemplate": "in_spotify_charts=%{x}<br>acousticness_%=%{y}<extra></extra>",
         "legendgroup": "24",
         "marker": {
          "color": "#19d3f3"
         },
         "name": "24",
         "offsetgroup": "24",
         "orientation": "v",
         "scalegroup": "True",
         "showlegend": true,
         "type": "violin",
         "x": [
          24,
          24,
          24
         ],
         "x0": " ",
         "xaxis": "x",
         "y": [
          1,
          52,
          63
         ],
         "y0": " ",
         "yaxis": "y"
        },
        {
         "alignmentgroup": "True",
         "box": {
          "visible": true
         },
         "hovertemplate": "in_spotify_charts=%{x}<br>acousticness_%=%{y}<extra></extra>",
         "legendgroup": "35",
         "marker": {
          "color": "#FF6692"
         },
         "name": "35",
         "offsetgroup": "35",
         "orientation": "v",
         "scalegroup": "True",
         "showlegend": true,
         "type": "violin",
         "x": [
          35,
          35,
          35,
          35
         ],
         "x0": " ",
         "xaxis": "x",
         "y": [
          17,
          51,
          25,
          24
         ],
         "y0": " ",
         "yaxis": "y"
        },
        {
         "alignmentgroup": "True",
         "box": {
          "visible": true
         },
         "hovertemplate": "in_spotify_charts=%{x}<br>acousticness_%=%{y}<extra></extra>",
         "legendgroup": "20",
         "marker": {
          "color": "#B6E880"
         },
         "name": "20",
         "offsetgroup": "20",
         "orientation": "v",
         "scalegroup": "True",
         "showlegend": true,
         "type": "violin",
         "x": [
          20,
          20,
          20,
          20,
          20
         ],
         "x0": " ",
         "xaxis": "x",
         "y": [
          33,
          43,
          1,
          86,
          3
         ],
         "y0": " ",
         "yaxis": "y"
        },
        {
         "alignmentgroup": "True",
         "box": {
          "visible": true
         },
         "hovertemplate": "in_spotify_charts=%{x}<br>acousticness_%=%{y}<extra></extra>",
         "legendgroup": "30",
         "marker": {
          "color": "#FF97FF"
         },
         "name": "30",
         "offsetgroup": "30",
         "orientation": "v",
         "scalegroup": "True",
         "showlegend": true,
         "type": "violin",
         "x": [
          30,
          30,
          30,
          30,
          30,
          30,
          30,
          30
         ],
         "x0": " ",
         "xaxis": "x",
         "y": [
          78,
          93,
          67,
          30,
          17,
          21,
          7,
          25
         ],
         "y0": " ",
         "yaxis": "y"
        },
        {
         "alignmentgroup": "True",
         "box": {
          "visible": true
         },
         "hovertemplate": "in_spotify_charts=%{x}<br>acousticness_%=%{y}<extra></extra>",
         "legendgroup": "9",
         "marker": {
          "color": "#FECB52"
         },
         "name": "9",
         "offsetgroup": "9",
         "orientation": "v",
         "scalegroup": "True",
         "showlegend": true,
         "type": "violin",
         "x": [
          9,
          9,
          9,
          9,
          9,
          9,
          9,
          9,
          9,
          9,
          9,
          9,
          9
         ],
         "x0": " ",
         "xaxis": "x",
         "y": [
          76,
          33,
          6,
          48,
          1,
          4,
          23,
          8,
          70,
          1,
          0,
          55,
          0
         ],
         "y0": " ",
         "yaxis": "y"
        },
        {
         "alignmentgroup": "True",
         "box": {
          "visible": true
         },
         "hovertemplate": "in_spotify_charts=%{x}<br>acousticness_%=%{y}<extra></extra>",
         "legendgroup": "17",
         "marker": {
          "color": "#636efa"
         },
         "name": "17",
         "offsetgroup": "17",
         "orientation": "v",
         "scalegroup": "True",
         "showlegend": true,
         "type": "violin",
         "x": [
          17,
          17,
          17,
          17
         ],
         "x0": " ",
         "xaxis": "x",
         "y": [
          1,
          16,
          62,
          27
         ],
         "y0": " ",
         "yaxis": "y"
        },
        {
         "alignmentgroup": "True",
         "box": {
          "visible": true
         },
         "hovertemplate": "in_spotify_charts=%{x}<br>acousticness_%=%{y}<extra></extra>",
         "legendgroup": "12",
         "marker": {
          "color": "#EF553B"
         },
         "name": "12",
         "offsetgroup": "12",
         "orientation": "v",
         "scalegroup": "True",
         "showlegend": true,
         "type": "violin",
         "x": [
          12,
          12,
          12,
          12,
          12,
          12,
          12,
          12,
          12,
          12,
          12,
          12
         ],
         "x0": " ",
         "xaxis": "x",
         "y": [
          19,
          5,
          63,
          31,
          33,
          16,
          42,
          8,
          5,
          47,
          24,
          5
         ],
         "y0": " ",
         "yaxis": "y"
        },
        {
         "alignmentgroup": "True",
         "box": {
          "visible": true
         },
         "hovertemplate": "in_spotify_charts=%{x}<br>acousticness_%=%{y}<extra></extra>",
         "legendgroup": "46",
         "marker": {
          "color": "#00cc96"
         },
         "name": "46",
         "offsetgroup": "46",
         "orientation": "v",
         "scalegroup": "True",
         "showlegend": true,
         "type": "violin",
         "x": [
          46,
          46,
          46
         ],
         "x0": " ",
         "xaxis": "x",
         "y": [
          71,
          21,
          18
         ],
         "y0": " ",
         "yaxis": "y"
        },
        {
         "alignmentgroup": "True",
         "box": {
          "visible": true
         },
         "hovertemplate": "in_spotify_charts=%{x}<br>acousticness_%=%{y}<extra></extra>",
         "legendgroup": "52",
         "marker": {
          "color": "#ab63fa"
         },
         "name": "52",
         "offsetgroup": "52",
         "orientation": "v",
         "scalegroup": "True",
         "showlegend": true,
         "type": "violin",
         "x": [
          52,
          52
         ],
         "x0": " ",
         "xaxis": "x",
         "y": [
          7,
          3
         ],
         "y0": " ",
         "yaxis": "y"
        },
        {
         "alignmentgroup": "True",
         "box": {
          "visible": true
         },
         "hovertemplate": "in_spotify_charts=%{x}<br>acousticness_%=%{y}<extra></extra>",
         "legendgroup": "58",
         "marker": {
          "color": "#FFA15A"
         },
         "name": "58",
         "offsetgroup": "58",
         "orientation": "v",
         "scalegroup": "True",
         "showlegend": true,
         "type": "violin",
         "x": [
          58
         ],
         "x0": " ",
         "xaxis": "x",
         "y": [
          15
         ],
         "y0": " ",
         "yaxis": "y"
        },
        {
         "alignmentgroup": "True",
         "box": {
          "visible": true
         },
         "hovertemplate": "in_spotify_charts=%{x}<br>acousticness_%=%{y}<extra></extra>",
         "legendgroup": "61",
         "marker": {
          "color": "#19d3f3"
         },
         "name": "61",
         "offsetgroup": "61",
         "orientation": "v",
         "scalegroup": "True",
         "showlegend": true,
         "type": "violin",
         "x": [
          61
         ],
         "x0": " ",
         "xaxis": "x",
         "y": [
          21
         ],
         "y0": " ",
         "yaxis": "y"
        },
        {
         "alignmentgroup": "True",
         "box": {
          "visible": true
         },
         "hovertemplate": "in_spotify_charts=%{x}<br>acousticness_%=%{y}<extra></extra>",
         "legendgroup": "27",
         "marker": {
          "color": "#FF6692"
         },
         "name": "27",
         "offsetgroup": "27",
         "orientation": "v",
         "scalegroup": "True",
         "showlegend": true,
         "type": "violin",
         "x": [
          27,
          27,
          27,
          27
         ],
         "x0": " ",
         "xaxis": "x",
         "y": [
          61,
          3,
          36,
          3
         ],
         "y0": " ",
         "yaxis": "y"
        },
        {
         "alignmentgroup": "True",
         "box": {
          "visible": true
         },
         "hovertemplate": "in_spotify_charts=%{x}<br>acousticness_%=%{y}<extra></extra>",
         "legendgroup": "21",
         "marker": {
          "color": "#B6E880"
         },
         "name": "21",
         "offsetgroup": "21",
         "orientation": "v",
         "scalegroup": "True",
         "showlegend": true,
         "type": "violin",
         "x": [
          21,
          21,
          21,
          21
         ],
         "x0": " ",
         "xaxis": "x",
         "y": [
          2,
          18,
          40,
          32
         ],
         "y0": " ",
         "yaxis": "y"
        },
        {
         "alignmentgroup": "True",
         "box": {
          "visible": true
         },
         "hovertemplate": "in_spotify_charts=%{x}<br>acousticness_%=%{y}<extra></extra>",
         "legendgroup": "32",
         "marker": {
          "color": "#FF97FF"
         },
         "name": "32",
         "offsetgroup": "32",
         "orientation": "v",
         "scalegroup": "True",
         "showlegend": true,
         "type": "violin",
         "x": [
          32,
          32,
          32,
          32,
          32
         ],
         "x0": " ",
         "xaxis": "x",
         "y": [
          7,
          10,
          38,
          16,
          10
         ],
         "y0": " ",
         "yaxis": "y"
        },
        {
         "alignmentgroup": "True",
         "box": {
          "visible": true
         },
         "hovertemplate": "in_spotify_charts=%{x}<br>acousticness_%=%{y}<extra></extra>",
         "legendgroup": "6",
         "marker": {
          "color": "#FECB52"
         },
         "name": "6",
         "offsetgroup": "6",
         "orientation": "v",
         "scalegroup": "True",
         "showlegend": true,
         "type": "violin",
         "x": [
          6,
          6,
          6,
          6,
          6,
          6,
          6,
          6,
          6,
          6,
          6,
          6,
          6,
          6,
          6,
          6,
          6,
          6,
          6,
          6,
          6,
          6,
          6,
          6,
          6,
          6,
          6,
          6
         ],
         "x0": " ",
         "xaxis": "x",
         "y": [
          76,
          53,
          62,
          3,
          1,
          6,
          89,
          71,
          19,
          35,
          21,
          26,
          49,
          91,
          81,
          1,
          10,
          35,
          3,
          5,
          4,
          3,
          0,
          5,
          7,
          39,
          4,
          9
         ],
         "y0": " ",
         "yaxis": "y"
        },
        {
         "alignmentgroup": "True",
         "box": {
          "visible": true
         },
         "hovertemplate": "in_spotify_charts=%{x}<br>acousticness_%=%{y}<extra></extra>",
         "legendgroup": "18",
         "marker": {
          "color": "#636efa"
         },
         "name": "18",
         "offsetgroup": "18",
         "orientation": "v",
         "scalegroup": "True",
         "showlegend": true,
         "type": "violin",
         "x": [
          18,
          18,
          18
         ],
         "x0": " ",
         "xaxis": "x",
         "y": [
          33,
          3,
          5
         ],
         "y0": " ",
         "yaxis": "y"
        },
        {
         "alignmentgroup": "True",
         "box": {
          "visible": true
         },
         "hovertemplate": "in_spotify_charts=%{x}<br>acousticness_%=%{y}<extra></extra>",
         "legendgroup": "22",
         "marker": {
          "color": "#EF553B"
         },
         "name": "22",
         "offsetgroup": "22",
         "orientation": "v",
         "scalegroup": "True",
         "showlegend": true,
         "type": "violin",
         "x": [
          22,
          22,
          22,
          22,
          22
         ],
         "x0": " ",
         "xaxis": "x",
         "y": [
          53,
          30,
          3,
          11,
          25
         ],
         "y0": " ",
         "yaxis": "y"
        },
        {
         "alignmentgroup": "True",
         "box": {
          "visible": true
         },
         "hovertemplate": "in_spotify_charts=%{x}<br>acousticness_%=%{y}<extra></extra>",
         "legendgroup": "11",
         "marker": {
          "color": "#00cc96"
         },
         "name": "11",
         "offsetgroup": "11",
         "orientation": "v",
         "scalegroup": "True",
         "showlegend": true,
         "type": "violin",
         "x": [
          11,
          11,
          11,
          11,
          11,
          11
         ],
         "x0": " ",
         "xaxis": "x",
         "y": [
          33,
          0,
          39,
          78,
          40,
          4
         ],
         "y0": " ",
         "yaxis": "y"
        },
        {
         "alignmentgroup": "True",
         "box": {
          "visible": true
         },
         "hovertemplate": "in_spotify_charts=%{x}<br>acousticness_%=%{y}<extra></extra>",
         "legendgroup": "33",
         "marker": {
          "color": "#ab63fa"
         },
         "name": "33",
         "offsetgroup": "33",
         "orientation": "v",
         "scalegroup": "True",
         "showlegend": true,
         "type": "violin",
         "x": [
          33,
          33,
          33,
          33,
          33,
          33
         ],
         "x0": " ",
         "xaxis": "x",
         "y": [
          3,
          15,
          14,
          34,
          18,
          29
         ],
         "y0": " ",
         "yaxis": "y"
        },
        {
         "alignmentgroup": "True",
         "box": {
          "visible": true
         },
         "hovertemplate": "in_spotify_charts=%{x}<br>acousticness_%=%{y}<extra></extra>",
         "legendgroup": "13",
         "marker": {
          "color": "#FFA15A"
         },
         "name": "13",
         "offsetgroup": "13",
         "orientation": "v",
         "scalegroup": "True",
         "showlegend": true,
         "type": "violin",
         "x": [
          13,
          13,
          13,
          13,
          13,
          13,
          13,
          13,
          13,
          13
         ],
         "x0": " ",
         "xaxis": "x",
         "y": [
          16,
          20,
          1,
          7,
          11,
          0,
          6,
          1,
          26,
          6
         ],
         "y0": " ",
         "yaxis": "y"
        },
        {
         "alignmentgroup": "True",
         "box": {
          "visible": true
         },
         "hovertemplate": "in_spotify_charts=%{x}<br>acousticness_%=%{y}<extra></extra>",
         "legendgroup": "7",
         "marker": {
          "color": "#19d3f3"
         },
         "name": "7",
         "offsetgroup": "7",
         "orientation": "v",
         "scalegroup": "True",
         "showlegend": true,
         "type": "violin",
         "x": [
          7,
          7,
          7,
          7,
          7,
          7,
          7,
          7,
          7
         ],
         "x0": " ",
         "xaxis": "x",
         "y": [
          67,
          65,
          45,
          62,
          31,
          4,
          59,
          14,
          14
         ],
         "y0": " ",
         "yaxis": "y"
        },
        {
         "alignmentgroup": "True",
         "box": {
          "visible": true
         },
         "hovertemplate": "in_spotify_charts=%{x}<br>acousticness_%=%{y}<extra></extra>",
         "legendgroup": "8",
         "marker": {
          "color": "#FF6692"
         },
         "name": "8",
         "offsetgroup": "8",
         "orientation": "v",
         "scalegroup": "True",
         "showlegend": true,
         "type": "violin",
         "x": [
          8,
          8,
          8,
          8,
          8,
          8,
          8,
          8,
          8,
          8,
          8,
          8,
          8,
          8,
          8
         ],
         "x0": " ",
         "xaxis": "x",
         "y": [
          42,
          1,
          26,
          31,
          26,
          30,
          2,
          1,
          40,
          2,
          0,
          23,
          34,
          49,
          31
         ],
         "y0": " ",
         "yaxis": "y"
        },
        {
         "alignmentgroup": "True",
         "box": {
          "visible": true
         },
         "hovertemplate": "in_spotify_charts=%{x}<br>acousticness_%=%{y}<extra></extra>",
         "legendgroup": "16",
         "marker": {
          "color": "#B6E880"
         },
         "name": "16",
         "offsetgroup": "16",
         "orientation": "v",
         "scalegroup": "True",
         "showlegend": true,
         "type": "violin",
         "x": [
          16,
          16,
          16,
          16,
          16,
          16,
          16,
          16,
          16,
          16
         ],
         "x0": " ",
         "xaxis": "x",
         "y": [
          6,
          8,
          4,
          11,
          14,
          69,
          0,
          1,
          16,
          44
         ],
         "y0": " ",
         "yaxis": "y"
        },
        {
         "alignmentgroup": "True",
         "box": {
          "visible": true
         },
         "hovertemplate": "in_spotify_charts=%{x}<br>acousticness_%=%{y}<extra></extra>",
         "legendgroup": "14",
         "marker": {
          "color": "#FF97FF"
         },
         "name": "14",
         "offsetgroup": "14",
         "orientation": "v",
         "scalegroup": "True",
         "showlegend": true,
         "type": "violin",
         "x": [
          14,
          14,
          14,
          14,
          14,
          14,
          14,
          14
         ],
         "x0": " ",
         "xaxis": "x",
         "y": [
          73,
          11,
          32,
          2,
          5,
          12,
          17,
          31
         ],
         "y0": " ",
         "yaxis": "y"
        },
        {
         "alignmentgroup": "True",
         "box": {
          "visible": true
         },
         "hovertemplate": "in_spotify_charts=%{x}<br>acousticness_%=%{y}<extra></extra>",
         "legendgroup": "29",
         "marker": {
          "color": "#FECB52"
         },
         "name": "29",
         "offsetgroup": "29",
         "orientation": "v",
         "scalegroup": "True",
         "showlegend": true,
         "type": "violin",
         "x": [
          29,
          29
         ],
         "x0": " ",
         "xaxis": "x",
         "y": [
          4,
          84
         ],
         "y0": " ",
         "yaxis": "y"
        },
        {
         "alignmentgroup": "True",
         "box": {
          "visible": true
         },
         "hovertemplate": "in_spotify_charts=%{x}<br>acousticness_%=%{y}<extra></extra>",
         "legendgroup": "10",
         "marker": {
          "color": "#636efa"
         },
         "name": "10",
         "offsetgroup": "10",
         "orientation": "v",
         "scalegroup": "True",
         "showlegend": true,
         "type": "violin",
         "x": [
          10,
          10,
          10,
          10,
          10,
          10,
          10,
          10,
          10,
          10
         ],
         "x0": " ",
         "xaxis": "x",
         "y": [
          4,
          40,
          40,
          65,
          8,
          1,
          1,
          42,
          14,
          3
         ],
         "y0": " ",
         "yaxis": "y"
        },
        {
         "alignmentgroup": "True",
         "box": {
          "visible": true
         },
         "hovertemplate": "in_spotify_charts=%{x}<br>acousticness_%=%{y}<extra></extra>",
         "legendgroup": "31",
         "marker": {
          "color": "#EF553B"
         },
         "name": "31",
         "offsetgroup": "31",
         "orientation": "v",
         "scalegroup": "True",
         "showlegend": true,
         "type": "violin",
         "x": [
          31,
          31
         ],
         "x0": " ",
         "xaxis": "x",
         "y": [
          63,
          15
         ],
         "y0": " ",
         "yaxis": "y"
        },
        {
         "alignmentgroup": "True",
         "box": {
          "visible": true
         },
         "hovertemplate": "in_spotify_charts=%{x}<br>acousticness_%=%{y}<extra></extra>",
         "legendgroup": "4",
         "marker": {
          "color": "#00cc96"
         },
         "name": "4",
         "offsetgroup": "4",
         "orientation": "v",
         "scalegroup": "True",
         "showlegend": true,
         "type": "violin",
         "x": [
          4,
          4,
          4,
          4,
          4,
          4,
          4,
          4,
          4,
          4,
          4,
          4,
          4,
          4,
          4,
          4,
          4,
          4,
          4,
          4,
          4,
          4,
          4,
          4,
          4,
          4,
          4,
          4,
          4,
          4,
          4,
          4,
          4,
          4,
          4
         ],
         "x0": " ",
         "xaxis": "x",
         "y": [
          21,
          39,
          14,
          41,
          22,
          24,
          39,
          45,
          62,
          0,
          0,
          89,
          49,
          75,
          73,
          0,
          76,
          2,
          61,
          7,
          81,
          13,
          0,
          8,
          18,
          1,
          31,
          21,
          54,
          15,
          14,
          28,
          47,
          30,
          75
         ],
         "y0": " ",
         "yaxis": "y"
        },
        {
         "alignmentgroup": "True",
         "box": {
          "visible": true
         },
         "hovertemplate": "in_spotify_charts=%{x}<br>acousticness_%=%{y}<extra></extra>",
         "legendgroup": "0",
         "marker": {
          "color": "#ab63fa"
         },
         "name": "0",
         "offsetgroup": "0",
         "orientation": "v",
         "scalegroup": "True",
         "showlegend": true,
         "type": "violin",
         "x": [
          0,
          0,
          0,
          0,
          0,
          0,
          0,
          0,
          0,
          0,
          0,
          0,
          0,
          0,
          0,
          0,
          0,
          0,
          0,
          0,
          0,
          0,
          0,
          0,
          0,
          0,
          0,
          0,
          0,
          0,
          0,
          0,
          0,
          0,
          0,
          0,
          0,
          0,
          0,
          0,
          0,
          0,
          0,
          0,
          0,
          0,
          0,
          0,
          0,
          0,
          0,
          0,
          0,
          0,
          0,
          0,
          0,
          0,
          0,
          0,
          0,
          0,
          0,
          0,
          0,
          0,
          0,
          0,
          0,
          0,
          0,
          0,
          0,
          0,
          0,
          0,
          0,
          0,
          0,
          0,
          0,
          0,
          0,
          0,
          0,
          0,
          0,
          0,
          0,
          0,
          0,
          0,
          0,
          0,
          0,
          0,
          0,
          0,
          0,
          0,
          0,
          0,
          0,
          0,
          0,
          0,
          0,
          0,
          0,
          0,
          0,
          0,
          0,
          0,
          0,
          0,
          0,
          0,
          0,
          0,
          0,
          0,
          0,
          0,
          0,
          0,
          0,
          0,
          0,
          0,
          0,
          0,
          0,
          0,
          0,
          0,
          0,
          0,
          0,
          0,
          0,
          0,
          0,
          0,
          0,
          0,
          0,
          0,
          0,
          0,
          0,
          0,
          0,
          0,
          0,
          0,
          0,
          0,
          0,
          0,
          0,
          0,
          0,
          0,
          0,
          0,
          0,
          0,
          0,
          0,
          0,
          0,
          0,
          0,
          0,
          0,
          0,
          0,
          0,
          0,
          0,
          0,
          0,
          0,
          0,
          0,
          0,
          0,
          0,
          0,
          0,
          0,
          0,
          0,
          0,
          0,
          0,
          0,
          0,
          0,
          0,
          0,
          0,
          0,
          0,
          0,
          0,
          0,
          0,
          0,
          0,
          0,
          0,
          0,
          0,
          0,
          0,
          0,
          0,
          0,
          0,
          0,
          0,
          0,
          0,
          0,
          0,
          0,
          0,
          0,
          0,
          0,
          0,
          0,
          0,
          0,
          0,
          0,
          0,
          0,
          0,
          0,
          0,
          0,
          0,
          0,
          0,
          0,
          0,
          0,
          0,
          0,
          0,
          0,
          0,
          0,
          0,
          0,
          0,
          0,
          0,
          0,
          0,
          0,
          0,
          0,
          0,
          0,
          0,
          0,
          0,
          0,
          0,
          0,
          0,
          0,
          0,
          0,
          0,
          0,
          0,
          0,
          0,
          0,
          0,
          0,
          0,
          0,
          0,
          0,
          0,
          0,
          0,
          0
         ],
         "x0": " ",
         "xaxis": "x",
         "y": [
          15,
          18,
          6,
          1,
          4,
          10,
          1,
          36,
          51,
          40,
          31,
          18,
          79,
          8,
          0,
          9,
          80,
          12,
          12,
          2,
          10,
          30,
          72,
          13,
          25,
          15,
          90,
          15,
          9,
          55,
          9,
          1,
          31,
          91,
          38,
          15,
          5,
          19,
          6,
          18,
          60,
          91,
          0,
          87,
          51,
          44,
          85,
          53,
          84,
          67,
          36,
          57,
          9,
          28,
          51,
          9,
          9,
          24,
          5,
          69,
          6,
          30,
          6,
          1,
          78,
          67,
          76,
          62,
          2,
          2,
          0,
          15,
          1,
          44,
          10,
          62,
          2,
          50,
          1,
          4,
          13,
          34,
          9,
          71,
          12,
          62,
          0,
          6,
          2,
          35,
          43,
          1,
          2,
          5,
          29,
          18,
          13,
          20,
          12,
          5,
          0,
          26,
          93,
          1,
          32,
          57,
          86,
          41,
          0,
          9,
          5,
          2,
          85,
          46,
          90,
          18,
          10,
          79,
          2,
          0,
          23,
          38,
          3,
          0,
          11,
          21,
          46,
          1,
          41,
          7,
          16,
          28,
          17,
          23,
          11,
          10,
          40,
          1,
          8,
          2,
          7,
          3,
          3,
          9,
          6,
          4,
          14,
          27,
          30,
          66,
          28,
          6,
          11,
          16,
          60,
          47,
          73,
          47,
          11,
          17,
          56,
          0,
          2,
          62,
          20,
          66,
          5,
          24,
          12,
          13,
          4,
          38,
          3,
          2,
          16,
          3,
          14,
          24,
          1,
          34,
          13,
          2,
          45,
          6,
          25,
          84,
          5,
          15,
          36,
          41,
          51,
          44,
          38,
          36,
          36,
          19,
          39,
          23,
          46,
          69,
          76,
          31,
          76,
          42,
          19,
          23,
          5,
          0,
          9,
          0,
          30,
          3,
          88,
          0,
          14,
          9,
          80,
          76,
          6,
          23,
          84,
          87,
          19,
          62,
          13,
          1,
          13,
          5,
          1,
          18,
          18,
          32,
          8,
          84,
          4,
          2,
          43,
          8,
          1,
          16,
          4,
          72,
          2,
          67,
          36,
          4,
          35,
          83,
          10,
          5,
          10,
          1,
          3,
          54,
          47,
          4,
          12,
          0,
          4,
          1,
          9,
          0,
          10,
          7,
          7,
          0,
          24,
          28,
          20,
          14,
          11,
          8,
          13,
          11,
          6,
          6,
          5,
          11,
          5,
          1,
          6,
          17,
          20,
          55,
          1,
          43,
          0,
          4,
          1,
          22,
          57,
          83,
          4,
          8
         ],
         "y0": " ",
         "yaxis": "y"
        },
        {
         "alignmentgroup": "True",
         "box": {
          "visible": true
         },
         "hovertemplate": "in_spotify_charts=%{x}<br>acousticness_%=%{y}<extra></extra>",
         "legendgroup": "5",
         "marker": {
          "color": "#FFA15A"
         },
         "name": "5",
         "offsetgroup": "5",
         "orientation": "v",
         "scalegroup": "True",
         "showlegend": true,
         "type": "violin",
         "x": [
          5,
          5,
          5,
          5,
          5,
          5,
          5,
          5
         ],
         "x0": " ",
         "xaxis": "x",
         "y": [
          21,
          78,
          6,
          37,
          1,
          30,
          2,
          0
         ],
         "y0": " ",
         "yaxis": "y"
        },
        {
         "alignmentgroup": "True",
         "box": {
          "visible": true
         },
         "hovertemplate": "in_spotify_charts=%{x}<br>acousticness_%=%{y}<extra></extra>",
         "legendgroup": "3",
         "marker": {
          "color": "#19d3f3"
         },
         "name": "3",
         "offsetgroup": "3",
         "orientation": "v",
         "scalegroup": "True",
         "showlegend": true,
         "type": "violin",
         "x": [
          3,
          3,
          3,
          3,
          3,
          3,
          3,
          3,
          3,
          3,
          3,
          3,
          3,
          3
         ],
         "x0": " ",
         "xaxis": "x",
         "y": [
          28,
          50,
          55,
          56,
          40,
          26,
          58,
          35,
          61,
          12,
          19,
          90,
          11,
          0
         ],
         "y0": " ",
         "yaxis": "y"
        },
        {
         "alignmentgroup": "True",
         "box": {
          "visible": true
         },
         "hovertemplate": "in_spotify_charts=%{x}<br>acousticness_%=%{y}<extra></extra>",
         "legendgroup": "2",
         "marker": {
          "color": "#FF6692"
         },
         "name": "2",
         "offsetgroup": "2",
         "orientation": "v",
         "scalegroup": "True",
         "showlegend": true,
         "type": "violin",
         "x": [
          2,
          2,
          2,
          2,
          2,
          2,
          2,
          2,
          2,
          2,
          2,
          2,
          2,
          2,
          2,
          2,
          2,
          2,
          2,
          2,
          2,
          2,
          2,
          2,
          2,
          2,
          2,
          2,
          2,
          2
         ],
         "x0": " ",
         "xaxis": "x",
         "y": [
          81,
          42,
          5,
          53,
          7,
          10,
          84,
          41,
          3,
          3,
          12,
          17,
          9,
          38,
          51,
          1,
          84,
          1,
          15,
          70,
          4,
          4,
          6,
          74,
          12,
          18,
          64,
          33,
          1,
          15
         ],
         "y0": " ",
         "yaxis": "y"
        },
        {
         "alignmentgroup": "True",
         "box": {
          "visible": true
         },
         "hovertemplate": "in_spotify_charts=%{x}<br>acousticness_%=%{y}<extra></extra>",
         "legendgroup": "1",
         "marker": {
          "color": "#B6E880"
         },
         "name": "1",
         "offsetgroup": "1",
         "orientation": "v",
         "scalegroup": "True",
         "showlegend": true,
         "type": "violin",
         "x": [
          1,
          1,
          1,
          1,
          1,
          1,
          1,
          1,
          1,
          1,
          1,
          1
         ],
         "x0": " ",
         "xaxis": "x",
         "y": [
          46,
          18,
          38,
          6,
          2,
          9,
          21,
          69,
          86,
          26,
          32,
          31
         ],
         "y0": " ",
         "yaxis": "y"
        },
        {
         "alignmentgroup": "True",
         "box": {
          "visible": true
         },
         "hovertemplate": "in_spotify_charts=%{x}<br>acousticness_%=%{y}<extra></extra>",
         "legendgroup": "37",
         "marker": {
          "color": "#FF97FF"
         },
         "name": "37",
         "offsetgroup": "37",
         "orientation": "v",
         "scalegroup": "True",
         "showlegend": true,
         "type": "violin",
         "x": [
          37
         ],
         "x0": " ",
         "xaxis": "x",
         "y": [
          31
         ],
         "y0": " ",
         "yaxis": "y"
        }
       ],
       "layout": {
        "autosize": true,
        "legend": {
         "title": {
          "text": "in_spotify_charts"
         },
         "tracegroupgap": 0
        },
        "template": {
         "data": {
          "bar": [
           {
            "error_x": {
             "color": "#2a3f5f"
            },
            "error_y": {
             "color": "#2a3f5f"
            },
            "marker": {
             "line": {
              "color": "#E5ECF6",
              "width": 0.5
             },
             "pattern": {
              "fillmode": "overlay",
              "size": 10,
              "solidity": 0.2
             }
            },
            "type": "bar"
           }
          ],
          "barpolar": [
           {
            "marker": {
             "line": {
              "color": "#E5ECF6",
              "width": 0.5
             },
             "pattern": {
              "fillmode": "overlay",
              "size": 10,
              "solidity": 0.2
             }
            },
            "type": "barpolar"
           }
          ],
          "carpet": [
           {
            "aaxis": {
             "endlinecolor": "#2a3f5f",
             "gridcolor": "white",
             "linecolor": "white",
             "minorgridcolor": "white",
             "startlinecolor": "#2a3f5f"
            },
            "baxis": {
             "endlinecolor": "#2a3f5f",
             "gridcolor": "white",
             "linecolor": "white",
             "minorgridcolor": "white",
             "startlinecolor": "#2a3f5f"
            },
            "type": "carpet"
           }
          ],
          "choropleth": [
           {
            "colorbar": {
             "outlinewidth": 0,
             "ticks": ""
            },
            "type": "choropleth"
           }
          ],
          "contour": [
           {
            "colorbar": {
             "outlinewidth": 0,
             "ticks": ""
            },
            "colorscale": [
             [
              0,
              "#0d0887"
             ],
             [
              0.1111111111111111,
              "#46039f"
             ],
             [
              0.2222222222222222,
              "#7201a8"
             ],
             [
              0.3333333333333333,
              "#9c179e"
             ],
             [
              0.4444444444444444,
              "#bd3786"
             ],
             [
              0.5555555555555556,
              "#d8576b"
             ],
             [
              0.6666666666666666,
              "#ed7953"
             ],
             [
              0.7777777777777778,
              "#fb9f3a"
             ],
             [
              0.8888888888888888,
              "#fdca26"
             ],
             [
              1,
              "#f0f921"
             ]
            ],
            "type": "contour"
           }
          ],
          "contourcarpet": [
           {
            "colorbar": {
             "outlinewidth": 0,
             "ticks": ""
            },
            "type": "contourcarpet"
           }
          ],
          "heatmap": [
           {
            "colorbar": {
             "outlinewidth": 0,
             "ticks": ""
            },
            "colorscale": [
             [
              0,
              "#0d0887"
             ],
             [
              0.1111111111111111,
              "#46039f"
             ],
             [
              0.2222222222222222,
              "#7201a8"
             ],
             [
              0.3333333333333333,
              "#9c179e"
             ],
             [
              0.4444444444444444,
              "#bd3786"
             ],
             [
              0.5555555555555556,
              "#d8576b"
             ],
             [
              0.6666666666666666,
              "#ed7953"
             ],
             [
              0.7777777777777778,
              "#fb9f3a"
             ],
             [
              0.8888888888888888,
              "#fdca26"
             ],
             [
              1,
              "#f0f921"
             ]
            ],
            "type": "heatmap"
           }
          ],
          "heatmapgl": [
           {
            "colorbar": {
             "outlinewidth": 0,
             "ticks": ""
            },
            "colorscale": [
             [
              0,
              "#0d0887"
             ],
             [
              0.1111111111111111,
              "#46039f"
             ],
             [
              0.2222222222222222,
              "#7201a8"
             ],
             [
              0.3333333333333333,
              "#9c179e"
             ],
             [
              0.4444444444444444,
              "#bd3786"
             ],
             [
              0.5555555555555556,
              "#d8576b"
             ],
             [
              0.6666666666666666,
              "#ed7953"
             ],
             [
              0.7777777777777778,
              "#fb9f3a"
             ],
             [
              0.8888888888888888,
              "#fdca26"
             ],
             [
              1,
              "#f0f921"
             ]
            ],
            "type": "heatmapgl"
           }
          ],
          "histogram": [
           {
            "marker": {
             "pattern": {
              "fillmode": "overlay",
              "size": 10,
              "solidity": 0.2
             }
            },
            "type": "histogram"
           }
          ],
          "histogram2d": [
           {
            "colorbar": {
             "outlinewidth": 0,
             "ticks": ""
            },
            "colorscale": [
             [
              0,
              "#0d0887"
             ],
             [
              0.1111111111111111,
              "#46039f"
             ],
             [
              0.2222222222222222,
              "#7201a8"
             ],
             [
              0.3333333333333333,
              "#9c179e"
             ],
             [
              0.4444444444444444,
              "#bd3786"
             ],
             [
              0.5555555555555556,
              "#d8576b"
             ],
             [
              0.6666666666666666,
              "#ed7953"
             ],
             [
              0.7777777777777778,
              "#fb9f3a"
             ],
             [
              0.8888888888888888,
              "#fdca26"
             ],
             [
              1,
              "#f0f921"
             ]
            ],
            "type": "histogram2d"
           }
          ],
          "histogram2dcontour": [
           {
            "colorbar": {
             "outlinewidth": 0,
             "ticks": ""
            },
            "colorscale": [
             [
              0,
              "#0d0887"
             ],
             [
              0.1111111111111111,
              "#46039f"
             ],
             [
              0.2222222222222222,
              "#7201a8"
             ],
             [
              0.3333333333333333,
              "#9c179e"
             ],
             [
              0.4444444444444444,
              "#bd3786"
             ],
             [
              0.5555555555555556,
              "#d8576b"
             ],
             [
              0.6666666666666666,
              "#ed7953"
             ],
             [
              0.7777777777777778,
              "#fb9f3a"
             ],
             [
              0.8888888888888888,
              "#fdca26"
             ],
             [
              1,
              "#f0f921"
             ]
            ],
            "type": "histogram2dcontour"
           }
          ],
          "mesh3d": [
           {
            "colorbar": {
             "outlinewidth": 0,
             "ticks": ""
            },
            "type": "mesh3d"
           }
          ],
          "parcoords": [
           {
            "line": {
             "colorbar": {
              "outlinewidth": 0,
              "ticks": ""
             }
            },
            "type": "parcoords"
           }
          ],
          "pie": [
           {
            "automargin": true,
            "type": "pie"
           }
          ],
          "scatter": [
           {
            "fillpattern": {
             "fillmode": "overlay",
             "size": 10,
             "solidity": 0.2
            },
            "type": "scatter"
           }
          ],
          "scatter3d": [
           {
            "line": {
             "colorbar": {
              "outlinewidth": 0,
              "ticks": ""
             }
            },
            "marker": {
             "colorbar": {
              "outlinewidth": 0,
              "ticks": ""
             }
            },
            "type": "scatter3d"
           }
          ],
          "scattercarpet": [
           {
            "marker": {
             "colorbar": {
              "outlinewidth": 0,
              "ticks": ""
             }
            },
            "type": "scattercarpet"
           }
          ],
          "scattergeo": [
           {
            "marker": {
             "colorbar": {
              "outlinewidth": 0,
              "ticks": ""
             }
            },
            "type": "scattergeo"
           }
          ],
          "scattergl": [
           {
            "marker": {
             "colorbar": {
              "outlinewidth": 0,
              "ticks": ""
             }
            },
            "type": "scattergl"
           }
          ],
          "scattermapbox": [
           {
            "marker": {
             "colorbar": {
              "outlinewidth": 0,
              "ticks": ""
             }
            },
            "type": "scattermapbox"
           }
          ],
          "scatterpolar": [
           {
            "marker": {
             "colorbar": {
              "outlinewidth": 0,
              "ticks": ""
             }
            },
            "type": "scatterpolar"
           }
          ],
          "scatterpolargl": [
           {
            "marker": {
             "colorbar": {
              "outlinewidth": 0,
              "ticks": ""
             }
            },
            "type": "scatterpolargl"
           }
          ],
          "scatterternary": [
           {
            "marker": {
             "colorbar": {
              "outlinewidth": 0,
              "ticks": ""
             }
            },
            "type": "scatterternary"
           }
          ],
          "surface": [
           {
            "colorbar": {
             "outlinewidth": 0,
             "ticks": ""
            },
            "colorscale": [
             [
              0,
              "#0d0887"
             ],
             [
              0.1111111111111111,
              "#46039f"
             ],
             [
              0.2222222222222222,
              "#7201a8"
             ],
             [
              0.3333333333333333,
              "#9c179e"
             ],
             [
              0.4444444444444444,
              "#bd3786"
             ],
             [
              0.5555555555555556,
              "#d8576b"
             ],
             [
              0.6666666666666666,
              "#ed7953"
             ],
             [
              0.7777777777777778,
              "#fb9f3a"
             ],
             [
              0.8888888888888888,
              "#fdca26"
             ],
             [
              1,
              "#f0f921"
             ]
            ],
            "type": "surface"
           }
          ],
          "table": [
           {
            "cells": {
             "fill": {
              "color": "#EBF0F8"
             },
             "line": {
              "color": "white"
             }
            },
            "header": {
             "fill": {
              "color": "#C8D4E3"
             },
             "line": {
              "color": "white"
             }
            },
            "type": "table"
           }
          ]
         },
         "layout": {
          "annotationdefaults": {
           "arrowcolor": "#2a3f5f",
           "arrowhead": 0,
           "arrowwidth": 1
          },
          "autotypenumbers": "strict",
          "coloraxis": {
           "colorbar": {
            "outlinewidth": 0,
            "ticks": ""
           }
          },
          "colorscale": {
           "diverging": [
            [
             0,
             "#8e0152"
            ],
            [
             0.1,
             "#c51b7d"
            ],
            [
             0.2,
             "#de77ae"
            ],
            [
             0.3,
             "#f1b6da"
            ],
            [
             0.4,
             "#fde0ef"
            ],
            [
             0.5,
             "#f7f7f7"
            ],
            [
             0.6,
             "#e6f5d0"
            ],
            [
             0.7,
             "#b8e186"
            ],
            [
             0.8,
             "#7fbc41"
            ],
            [
             0.9,
             "#4d9221"
            ],
            [
             1,
             "#276419"
            ]
           ],
           "sequential": [
            [
             0,
             "#0d0887"
            ],
            [
             0.1111111111111111,
             "#46039f"
            ],
            [
             0.2222222222222222,
             "#7201a8"
            ],
            [
             0.3333333333333333,
             "#9c179e"
            ],
            [
             0.4444444444444444,
             "#bd3786"
            ],
            [
             0.5555555555555556,
             "#d8576b"
            ],
            [
             0.6666666666666666,
             "#ed7953"
            ],
            [
             0.7777777777777778,
             "#fb9f3a"
            ],
            [
             0.8888888888888888,
             "#fdca26"
            ],
            [
             1,
             "#f0f921"
            ]
           ],
           "sequentialminus": [
            [
             0,
             "#0d0887"
            ],
            [
             0.1111111111111111,
             "#46039f"
            ],
            [
             0.2222222222222222,
             "#7201a8"
            ],
            [
             0.3333333333333333,
             "#9c179e"
            ],
            [
             0.4444444444444444,
             "#bd3786"
            ],
            [
             0.5555555555555556,
             "#d8576b"
            ],
            [
             0.6666666666666666,
             "#ed7953"
            ],
            [
             0.7777777777777778,
             "#fb9f3a"
            ],
            [
             0.8888888888888888,
             "#fdca26"
            ],
            [
             1,
             "#f0f921"
            ]
           ]
          },
          "colorway": [
           "#636efa",
           "#EF553B",
           "#00cc96",
           "#ab63fa",
           "#FFA15A",
           "#19d3f3",
           "#FF6692",
           "#B6E880",
           "#FF97FF",
           "#FECB52"
          ],
          "font": {
           "color": "#2a3f5f"
          },
          "geo": {
           "bgcolor": "white",
           "lakecolor": "white",
           "landcolor": "#E5ECF6",
           "showlakes": true,
           "showland": true,
           "subunitcolor": "white"
          },
          "hoverlabel": {
           "align": "left"
          },
          "hovermode": "closest",
          "mapbox": {
           "style": "light"
          },
          "paper_bgcolor": "white",
          "plot_bgcolor": "#E5ECF6",
          "polar": {
           "angularaxis": {
            "gridcolor": "white",
            "linecolor": "white",
            "ticks": ""
           },
           "bgcolor": "#E5ECF6",
           "radialaxis": {
            "gridcolor": "white",
            "linecolor": "white",
            "ticks": ""
           }
          },
          "scene": {
           "xaxis": {
            "backgroundcolor": "#E5ECF6",
            "gridcolor": "white",
            "gridwidth": 2,
            "linecolor": "white",
            "showbackground": true,
            "ticks": "",
            "zerolinecolor": "white"
           },
           "yaxis": {
            "backgroundcolor": "#E5ECF6",
            "gridcolor": "white",
            "gridwidth": 2,
            "linecolor": "white",
            "showbackground": true,
            "ticks": "",
            "zerolinecolor": "white"
           },
           "zaxis": {
            "backgroundcolor": "#E5ECF6",
            "gridcolor": "white",
            "gridwidth": 2,
            "linecolor": "white",
            "showbackground": true,
            "ticks": "",
            "zerolinecolor": "white"
           }
          },
          "shapedefaults": {
           "line": {
            "color": "#2a3f5f"
           }
          },
          "ternary": {
           "aaxis": {
            "gridcolor": "white",
            "linecolor": "white",
            "ticks": ""
           },
           "baxis": {
            "gridcolor": "white",
            "linecolor": "white",
            "ticks": ""
           },
           "bgcolor": "#E5ECF6",
           "caxis": {
            "gridcolor": "white",
            "linecolor": "white",
            "ticks": ""
           }
          },
          "title": {
           "x": 0.05
          },
          "xaxis": {
           "automargin": true,
           "gridcolor": "white",
           "linecolor": "white",
           "ticks": "",
           "title": {
            "standoff": 15
           },
           "zerolinecolor": "white",
           "zerolinewidth": 2
          },
          "yaxis": {
           "automargin": true,
           "gridcolor": "white",
           "linecolor": "white",
           "ticks": "",
           "title": {
            "standoff": 15
           },
           "zerolinecolor": "white",
           "zerolinewidth": 2
          }
         }
        },
        "title": {
         "text": "Distribution of Acousticness by Presence in Spotify Charts"
        },
        "violinmode": "overlay",
        "xaxis": {
         "anchor": "y",
         "autorange": true,
         "categoryarray": [
          48,
          43,
          44,
          40,
          26,
          38,
          19,
          34,
          56,
          49,
          53,
          42,
          28,
          25,
          64,
          59,
          47,
          66,
          39,
          45,
          15,
          41,
          50,
          23,
          36,
          24,
          35,
          20,
          30,
          9,
          17,
          12,
          46,
          52,
          58,
          61,
          27,
          21,
          32,
          6,
          18,
          22,
          11,
          33,
          13,
          7,
          8,
          16,
          14,
          29,
          10,
          31,
          4,
          0,
          5,
          3,
          2,
          1,
          37
         ],
         "categoryorder": "array",
         "domain": [
          0,
          1
         ],
         "range": [
          -0.5,
          66.5
         ],
         "title": {
          "text": "in_spotify_charts"
         },
         "type": "linear"
        },
        "yaxis": {
         "anchor": "x",
         "autorange": true,
         "domain": [
          0,
          1
         ],
         "range": [
          -116.33617188731256,
          204.33617188731256
         ],
         "title": {
          "text": "acousticness_%"
         },
         "type": "linear"
        }
       }
      },
      "image/png": "[encoded data removed]",
      "text/html": [
       "<div>                            <div id=\"7eefd14a-6990-4155-be2e-3f50b9a9f3cb\" class=\"plotly-graph-div\" style=\"height:525px; width:100%;\"></div>            <script type=\"text/javascript\">                require([\"plotly\"], function(Plotly) {                    window.PLOTLYENV=window.PLOTLYENV || {};                                    if (document.getElementById(\"7eefd14a-6990-4155-be2e-3f50b9a9f3cb\")) {                    Plotly.newPlot(                        \"7eefd14a-6990-4155-be2e-3f50b9a9f3cb\",                        [{\"alignmentgroup\":\"True\",\"box\":{\"visible\":true},\"hovertemplate\":\"in_spotify_charts=%{x}<br>acousticness_%=%{y}<extra></extra>\",\"legendgroup\":\"48\",\"marker\":{\"color\":\"#636efa\"},\"name\":\"48\",\"offsetgroup\":\"48\",\"orientation\":\"v\",\"scalegroup\":\"True\",\"showlegend\":true,\"x\":[48,48],\"x0\":\" \",\"xaxis\":\"x\",\"y\":[7,4],\"y0\":\" \",\"yaxis\":\"y\",\"type\":\"violin\"},{\"alignmentgroup\":\"True\",\"box\":{\"visible\":true},\"hovertemplate\":\"in_spotify_charts=%{x}<br>acousticness_%=%{y}<extra></extra>\",\"legendgroup\":\"43\",\"marker\":{\"color\":\"#EF553B\"},\"name\":\"43\",\"offsetgroup\":\"43\",\"orientation\":\"v\",\"scalegroup\":\"True\",\"showlegend\":true,\"x\":[43,43,43],\"x0\":\" \",\"xaxis\":\"x\",\"y\":[37,0,0],\"y0\":\" \",\"yaxis\":\"y\",\"type\":\"violin\"},{\"alignmentgroup\":\"True\",\"box\":{\"visible\":true},\"hovertemplate\":\"in_spotify_charts=%{x}<br>acousticness_%=%{y}<extra></extra>\",\"legendgroup\":\"44\",\"marker\":{\"color\":\"#00cc96\"},\"name\":\"44\",\"offsetgroup\":\"44\",\"orientation\":\"v\",\"scalegroup\":\"True\",\"showlegend\":true,\"x\":[44,44,44,44,44],\"x0\":\" \",\"xaxis\":\"x\",\"y\":[21,3,2,38,52],\"y0\":\" \",\"yaxis\":\"y\",\"type\":\"violin\"},{\"alignmentgroup\":\"True\",\"box\":{\"visible\":true},\"hovertemplate\":\"in_spotify_charts=%{x}<br>acousticness_%=%{y}<extra></extra>\",\"legendgroup\":\"40\",\"marker\":{\"color\":\"#ab63fa\"},\"name\":\"40\",\"offsetgroup\":\"40\",\"orientation\":\"v\",\"scalegroup\":\"True\",\"showlegend\":true,\"x\":[40,40,40],\"x0\":\" \",\"xaxis\":\"x\",\"y\":[14,26,14],\"y0\":\" \",\"yaxis\":\"y\",\"type\":\"violin\"},{\"alignmentgroup\":\"True\",\"box\":{\"visible\":true},\"hovertemplate\":\"in_spotify_charts=%{x}<br>acousticness_%=%{y}<extra></extra>\",\"legendgroup\":\"26\",\"marker\":{\"color\":\"#FFA15A\"},\"name\":\"26\",\"offsetgroup\":\"26\",\"orientation\":\"v\",\"scalegroup\":\"True\",\"showlegend\":true,\"x\":[26,26,26,26,26,26,26],\"x0\":\" \",\"xaxis\":\"x\",\"y\":[22,9,19,10,7,47,9],\"y0\":\" \",\"yaxis\":\"y\",\"type\":\"violin\"},{\"alignmentgroup\":\"True\",\"box\":{\"visible\":true},\"hovertemplate\":\"in_spotify_charts=%{x}<br>acousticness_%=%{y}<extra></extra>\",\"legendgroup\":\"38\",\"marker\":{\"color\":\"#19d3f3\"},\"name\":\"38\",\"offsetgroup\":\"38\",\"orientation\":\"v\",\"scalegroup\":\"True\",\"showlegend\":true,\"x\":[38,38,38,38,38,38,38,38],\"x0\":\" \",\"xaxis\":\"x\",\"y\":[6,7,0,5,4,18,10,8],\"y0\":\" \",\"yaxis\":\"y\",\"type\":\"violin\"},{\"alignmentgroup\":\"True\",\"box\":{\"visible\":true},\"hovertemplate\":\"in_spotify_charts=%{x}<br>acousticness_%=%{y}<extra></extra>\",\"legendgroup\":\"19\",\"marker\":{\"color\":\"#FF6692\"},\"name\":\"19\",\"offsetgroup\":\"19\",\"orientation\":\"v\",\"scalegroup\":\"True\",\"showlegend\":true,\"x\":[19,19,19,19,19,19,19,19],\"x0\":\" \",\"xaxis\":\"x\",\"y\":[46,10,3,73,15,9,0,21],\"y0\":\" \",\"yaxis\":\"y\",\"type\":\"violin\"},{\"alignmentgroup\":\"True\",\"box\":{\"visible\":true},\"hovertemplate\":\"in_spotify_charts=%{x}<br>acousticness_%=%{y}<extra></extra>\",\"legendgroup\":\"34\",\"marker\":{\"color\":\"#B6E880\"},\"name\":\"34\",\"offsetgroup\":\"34\",\"orientation\":\"v\",\"scalegroup\":\"True\",\"showlegend\":true,\"x\":[34,34,34,34,34,34,34,34,34],\"x0\":\" \",\"xaxis\":\"x\",\"y\":[39,37,4,30,10,66,34,36,5],\"y0\":\" \",\"yaxis\":\"y\",\"type\":\"violin\"},{\"alignmentgroup\":\"True\",\"box\":{\"visible\":true},\"hovertemplate\":\"in_spotify_charts=%{x}<br>acousticness_%=%{y}<extra></extra>\",\"legendgroup\":\"56\",\"marker\":{\"color\":\"#FF97FF\"},\"name\":\"56\",\"offsetgroup\":\"56\",\"orientation\":\"v\",\"scalegroup\":\"True\",\"showlegend\":true,\"x\":[56,56],\"x0\":\" \",\"xaxis\":\"x\",\"y\":[12,55],\"y0\":\" \",\"yaxis\":\"y\",\"type\":\"violin\"},{\"alignmentgroup\":\"True\",\"box\":{\"visible\":true},\"hovertemplate\":\"in_spotify_charts=%{x}<br>acousticness_%=%{y}<extra></extra>\",\"legendgroup\":\"49\",\"marker\":{\"color\":\"#FECB52\"},\"name\":\"49\",\"offsetgroup\":\"49\",\"orientation\":\"v\",\"scalegroup\":\"True\",\"showlegend\":true,\"x\":[49],\"x0\":\" \",\"xaxis\":\"x\",\"y\":[67],\"y0\":\" \",\"yaxis\":\"y\",\"type\":\"violin\"},{\"alignmentgroup\":\"True\",\"box\":{\"visible\":true},\"hovertemplate\":\"in_spotify_charts=%{x}<br>acousticness_%=%{y}<extra></extra>\",\"legendgroup\":\"53\",\"marker\":{\"color\":\"#636efa\"},\"name\":\"53\",\"offsetgroup\":\"53\",\"orientation\":\"v\",\"scalegroup\":\"True\",\"showlegend\":true,\"x\":[53],\"x0\":\" \",\"xaxis\":\"x\",\"y\":[9],\"y0\":\" \",\"yaxis\":\"y\",\"type\":\"violin\"},{\"alignmentgroup\":\"True\",\"box\":{\"visible\":true},\"hovertemplate\":\"in_spotify_charts=%{x}<br>acousticness_%=%{y}<extra></extra>\",\"legendgroup\":\"42\",\"marker\":{\"color\":\"#EF553B\"},\"name\":\"42\",\"offsetgroup\":\"42\",\"orientation\":\"v\",\"scalegroup\":\"True\",\"showlegend\":true,\"x\":[42,42,42],\"x0\":\" \",\"xaxis\":\"x\",\"y\":[0,51,10],\"y0\":\" \",\"yaxis\":\"y\",\"type\":\"violin\"},{\"alignmentgroup\":\"True\",\"box\":{\"visible\":true},\"hovertemplate\":\"in_spotify_charts=%{x}<br>acousticness_%=%{y}<extra></extra>\",\"legendgroup\":\"28\",\"marker\":{\"color\":\"#00cc96\"},\"name\":\"28\",\"offsetgroup\":\"28\",\"orientation\":\"v\",\"scalegroup\":\"True\",\"showlegend\":true,\"x\":[28,28,28,28,28],\"x0\":\" \",\"xaxis\":\"x\",\"y\":[27,28,1,9,21],\"y0\":\" \",\"yaxis\":\"y\",\"type\":\"violin\"},{\"alignmentgroup\":\"True\",\"box\":{\"visible\":true},\"hovertemplate\":\"in_spotify_charts=%{x}<br>acousticness_%=%{y}<extra></extra>\",\"legendgroup\":\"25\",\"marker\":{\"color\":\"#ab63fa\"},\"name\":\"25\",\"offsetgroup\":\"25\",\"orientation\":\"v\",\"scalegroup\":\"True\",\"showlegend\":true,\"x\":[25,25,25,25],\"x0\":\" \",\"xaxis\":\"x\",\"y\":[23,6,14,14],\"y0\":\" \",\"yaxis\":\"y\",\"type\":\"violin\"},{\"alignmentgroup\":\"True\",\"box\":{\"visible\":true},\"hovertemplate\":\"in_spotify_charts=%{x}<br>acousticness_%=%{y}<extra></extra>\",\"legendgroup\":\"64\",\"marker\":{\"color\":\"#FFA15A\"},\"name\":\"64\",\"offsetgroup\":\"64\",\"orientation\":\"v\",\"scalegroup\":\"True\",\"showlegend\":true,\"x\":[64],\"x0\":\" \",\"xaxis\":\"x\",\"y\":[37],\"y0\":\" \",\"yaxis\":\"y\",\"type\":\"violin\"},{\"alignmentgroup\":\"True\",\"box\":{\"visible\":true},\"hovertemplate\":\"in_spotify_charts=%{x}<br>acousticness_%=%{y}<extra></extra>\",\"legendgroup\":\"59\",\"marker\":{\"color\":\"#19d3f3\"},\"name\":\"59\",\"offsetgroup\":\"59\",\"orientation\":\"v\",\"scalegroup\":\"True\",\"showlegend\":true,\"x\":[59,59,59],\"x0\":\" \",\"xaxis\":\"x\",\"y\":[9,12,24],\"y0\":\" \",\"yaxis\":\"y\",\"type\":\"violin\"},{\"alignmentgroup\":\"True\",\"box\":{\"visible\":true},\"hovertemplate\":\"in_spotify_charts=%{x}<br>acousticness_%=%{y}<extra></extra>\",\"legendgroup\":\"47\",\"marker\":{\"color\":\"#FF6692\"},\"name\":\"47\",\"offsetgroup\":\"47\",\"orientation\":\"v\",\"scalegroup\":\"True\",\"showlegend\":true,\"x\":[47,47],\"x0\":\" \",\"xaxis\":\"x\",\"y\":[23,3],\"y0\":\" \",\"yaxis\":\"y\",\"type\":\"violin\"},{\"alignmentgroup\":\"True\",\"box\":{\"visible\":true},\"hovertemplate\":\"in_spotify_charts=%{x}<br>acousticness_%=%{y}<extra></extra>\",\"legendgroup\":\"66\",\"marker\":{\"color\":\"#B6E880\"},\"name\":\"66\",\"offsetgroup\":\"66\",\"orientation\":\"v\",\"scalegroup\":\"True\",\"showlegend\":true,\"x\":[66],\"x0\":\" \",\"xaxis\":\"x\",\"y\":[0],\"y0\":\" \",\"yaxis\":\"y\",\"type\":\"violin\"},{\"alignmentgroup\":\"True\",\"box\":{\"visible\":true},\"hovertemplate\":\"in_spotify_charts=%{x}<br>acousticness_%=%{y}<extra></extra>\",\"legendgroup\":\"39\",\"marker\":{\"color\":\"#FF97FF\"},\"name\":\"39\",\"offsetgroup\":\"39\",\"orientation\":\"v\",\"scalegroup\":\"True\",\"showlegend\":true,\"x\":[39,39,39],\"x0\":\" \",\"xaxis\":\"x\",\"y\":[18,62,0],\"y0\":\" \",\"yaxis\":\"y\",\"type\":\"violin\"},{\"alignmentgroup\":\"True\",\"box\":{\"visible\":true},\"hovertemplate\":\"in_spotify_charts=%{x}<br>acousticness_%=%{y}<extra></extra>\",\"legendgroup\":\"45\",\"marker\":{\"color\":\"#FECB52\"},\"name\":\"45\",\"offsetgroup\":\"45\",\"orientation\":\"v\",\"scalegroup\":\"True\",\"showlegend\":true,\"x\":[45,45],\"x0\":\" \",\"xaxis\":\"x\",\"y\":[58,1],\"y0\":\" \",\"yaxis\":\"y\",\"type\":\"violin\"},{\"alignmentgroup\":\"True\",\"box\":{\"visible\":true},\"hovertemplate\":\"in_spotify_charts=%{x}<br>acousticness_%=%{y}<extra></extra>\",\"legendgroup\":\"15\",\"marker\":{\"color\":\"#636efa\"},\"name\":\"15\",\"offsetgroup\":\"15\",\"orientation\":\"v\",\"scalegroup\":\"True\",\"showlegend\":true,\"x\":[15,15,15,15,15,15,15,15],\"x0\":\" \",\"xaxis\":\"x\",\"y\":[50,0,1,14,8,56,21,60],\"y0\":\" \",\"yaxis\":\"y\",\"type\":\"violin\"},{\"alignmentgroup\":\"True\",\"box\":{\"visible\":true},\"hovertemplate\":\"in_spotify_charts=%{x}<br>acousticness_%=%{y}<extra></extra>\",\"legendgroup\":\"41\",\"marker\":{\"color\":\"#EF553B\"},\"name\":\"41\",\"offsetgroup\":\"41\",\"orientation\":\"v\",\"scalegroup\":\"True\",\"showlegend\":true,\"x\":[41],\"x0\":\" \",\"xaxis\":\"x\",\"y\":[25],\"y0\":\" \",\"yaxis\":\"y\",\"type\":\"violin\"},{\"alignmentgroup\":\"True\",\"box\":{\"visible\":true},\"hovertemplate\":\"in_spotify_charts=%{x}<br>acousticness_%=%{y}<extra></extra>\",\"legendgroup\":\"50\",\"marker\":{\"color\":\"#00cc96\"},\"name\":\"50\",\"offsetgroup\":\"50\",\"orientation\":\"v\",\"scalegroup\":\"True\",\"showlegend\":true,\"x\":[50,50],\"x0\":\" \",\"xaxis\":\"x\",\"y\":[74,70],\"y0\":\" \",\"yaxis\":\"y\",\"type\":\"violin\"},{\"alignmentgroup\":\"True\",\"box\":{\"visible\":true},\"hovertemplate\":\"in_spotify_charts=%{x}<br>acousticness_%=%{y}<extra></extra>\",\"legendgroup\":\"23\",\"marker\":{\"color\":\"#ab63fa\"},\"name\":\"23\",\"offsetgroup\":\"23\",\"orientation\":\"v\",\"scalegroup\":\"True\",\"showlegend\":true,\"x\":[23,23,23,23,23,23,23],\"x0\":\" \",\"xaxis\":\"x\",\"y\":[7,50,11,15,50,45,4],\"y0\":\" \",\"yaxis\":\"y\",\"type\":\"violin\"},{\"alignmentgroup\":\"True\",\"box\":{\"visible\":true},\"hovertemplate\":\"in_spotify_charts=%{x}<br>acousticness_%=%{y}<extra></extra>\",\"legendgroup\":\"36\",\"marker\":{\"color\":\"#FFA15A\"},\"name\":\"36\",\"offsetgroup\":\"36\",\"orientation\":\"v\",\"scalegroup\":\"True\",\"showlegend\":true,\"x\":[36,36,36,36,36,36],\"x0\":\" \",\"xaxis\":\"x\",\"y\":[0,65,30,12,11,4],\"y0\":\" \",\"yaxis\":\"y\",\"type\":\"violin\"},{\"alignmentgroup\":\"True\",\"box\":{\"visible\":true},\"hovertemplate\":\"in_spotify_charts=%{x}<br>acousticness_%=%{y}<extra></extra>\",\"legendgroup\":\"24\",\"marker\":{\"color\":\"#19d3f3\"},\"name\":\"24\",\"offsetgroup\":\"24\",\"orientation\":\"v\",\"scalegroup\":\"True\",\"showlegend\":true,\"x\":[24,24,24],\"x0\":\" \",\"xaxis\":\"x\",\"y\":[1,52,63],\"y0\":\" \",\"yaxis\":\"y\",\"type\":\"violin\"},{\"alignmentgroup\":\"True\",\"box\":{\"visible\":true},\"hovertemplate\":\"in_spotify_charts=%{x}<br>acousticness_%=%{y}<extra></extra>\",\"legendgroup\":\"35\",\"marker\":{\"color\":\"#FF6692\"},\"name\":\"35\",\"offsetgroup\":\"35\",\"orientation\":\"v\",\"scalegroup\":\"True\",\"showlegend\":true,\"x\":[35,35,35,35],\"x0\":\" \",\"xaxis\":\"x\",\"y\":[17,51,25,24],\"y0\":\" \",\"yaxis\":\"y\",\"type\":\"violin\"},{\"alignmentgroup\":\"True\",\"box\":{\"visible\":true},\"hovertemplate\":\"in_spotify_charts=%{x}<br>acousticness_%=%{y}<extra></extra>\",\"legendgroup\":\"20\",\"marker\":{\"color\":\"#B6E880\"},\"name\":\"20\",\"offsetgroup\":\"20\",\"orientation\":\"v\",\"scalegroup\":\"True\",\"showlegend\":true,\"x\":[20,20,20,20,20],\"x0\":\" \",\"xaxis\":\"x\",\"y\":[33,43,1,86,3],\"y0\":\" \",\"yaxis\":\"y\",\"type\":\"violin\"},{\"alignmentgroup\":\"True\",\"box\":{\"visible\":true},\"hovertemplate\":\"in_spotify_charts=%{x}<br>acousticness_%=%{y}<extra></extra>\",\"legendgroup\":\"30\",\"marker\":{\"color\":\"#FF97FF\"},\"name\":\"30\",\"offsetgroup\":\"30\",\"orientation\":\"v\",\"scalegroup\":\"True\",\"showlegend\":true,\"x\":[30,30,30,30,30,30,30,30],\"x0\":\" \",\"xaxis\":\"x\",\"y\":[78,93,67,30,17,21,7,25],\"y0\":\" \",\"yaxis\":\"y\",\"type\":\"violin\"},{\"alignmentgroup\":\"True\",\"box\":{\"visible\":true},\"hovertemplate\":\"in_spotify_charts=%{x}<br>acousticness_%=%{y}<extra></extra>\",\"legendgroup\":\"9\",\"marker\":{\"color\":\"#FECB52\"},\"name\":\"9\",\"offsetgroup\":\"9\",\"orientation\":\"v\",\"scalegroup\":\"True\",\"showlegend\":true,\"x\":[9,9,9,9,9,9,9,9,9,9,9,9,9],\"x0\":\" \",\"xaxis\":\"x\",\"y\":[76,33,6,48,1,4,23,8,70,1,0,55,0],\"y0\":\" \",\"yaxis\":\"y\",\"type\":\"violin\"},{\"alignmentgroup\":\"True\",\"box\":{\"visible\":true},\"hovertemplate\":\"in_spotify_charts=%{x}<br>acousticness_%=%{y}<extra></extra>\",\"legendgroup\":\"17\",\"marker\":{\"color\":\"#636efa\"},\"name\":\"17\",\"offsetgroup\":\"17\",\"orientation\":\"v\",\"scalegroup\":\"True\",\"showlegend\":true,\"x\":[17,17,17,17],\"x0\":\" \",\"xaxis\":\"x\",\"y\":[1,16,62,27],\"y0\":\" \",\"yaxis\":\"y\",\"type\":\"violin\"},{\"alignmentgroup\":\"True\",\"box\":{\"visible\":true},\"hovertemplate\":\"in_spotify_charts=%{x}<br>acousticness_%=%{y}<extra></extra>\",\"legendgroup\":\"12\",\"marker\":{\"color\":\"#EF553B\"},\"name\":\"12\",\"offsetgroup\":\"12\",\"orientation\":\"v\",\"scalegroup\":\"True\",\"showlegend\":true,\"x\":[12,12,12,12,12,12,12,12,12,12,12,12],\"x0\":\" \",\"xaxis\":\"x\",\"y\":[19,5,63,31,33,16,42,8,5,47,24,5],\"y0\":\" \",\"yaxis\":\"y\",\"type\":\"violin\"},{\"alignmentgroup\":\"True\",\"box\":{\"visible\":true},\"hovertemplate\":\"in_spotify_charts=%{x}<br>acousticness_%=%{y}<extra></extra>\",\"legendgroup\":\"46\",\"marker\":{\"color\":\"#00cc96\"},\"name\":\"46\",\"offsetgroup\":\"46\",\"orientation\":\"v\",\"scalegroup\":\"True\",\"showlegend\":true,\"x\":[46,46,46],\"x0\":\" \",\"xaxis\":\"x\",\"y\":[71,21,18],\"y0\":\" \",\"yaxis\":\"y\",\"type\":\"violin\"},{\"alignmentgroup\":\"True\",\"box\":{\"visible\":true},\"hovertemplate\":\"in_spotify_charts=%{x}<br>acousticness_%=%{y}<extra></extra>\",\"legendgroup\":\"52\",\"marker\":{\"color\":\"#ab63fa\"},\"name\":\"52\",\"offsetgroup\":\"52\",\"orientation\":\"v\",\"scalegroup\":\"True\",\"showlegend\":true,\"x\":[52,52],\"x0\":\" \",\"xaxis\":\"x\",\"y\":[7,3],\"y0\":\" \",\"yaxis\":\"y\",\"type\":\"violin\"},{\"alignmentgroup\":\"True\",\"box\":{\"visible\":true},\"hovertemplate\":\"in_spotify_charts=%{x}<br>acousticness_%=%{y}<extra></extra>\",\"legendgroup\":\"58\",\"marker\":{\"color\":\"#FFA15A\"},\"name\":\"58\",\"offsetgroup\":\"58\",\"orientation\":\"v\",\"scalegroup\":\"True\",\"showlegend\":true,\"x\":[58],\"x0\":\" \",\"xaxis\":\"x\",\"y\":[15],\"y0\":\" \",\"yaxis\":\"y\",\"type\":\"violin\"},{\"alignmentgroup\":\"True\",\"box\":{\"visible\":true},\"hovertemplate\":\"in_spotify_charts=%{x}<br>acousticness_%=%{y}<extra></extra>\",\"legendgroup\":\"61\",\"marker\":{\"color\":\"#19d3f3\"},\"name\":\"61\",\"offsetgroup\":\"61\",\"orientation\":\"v\",\"scalegroup\":\"True\",\"showlegend\":true,\"x\":[61],\"x0\":\" \",\"xaxis\":\"x\",\"y\":[21],\"y0\":\" \",\"yaxis\":\"y\",\"type\":\"violin\"},{\"alignmentgroup\":\"True\",\"box\":{\"visible\":true},\"hovertemplate\":\"in_spotify_charts=%{x}<br>acousticness_%=%{y}<extra></extra>\",\"legendgroup\":\"27\",\"marker\":{\"color\":\"#FF6692\"},\"name\":\"27\",\"offsetgroup\":\"27\",\"orientation\":\"v\",\"scalegroup\":\"True\",\"showlegend\":true,\"x\":[27,27,27,27],\"x0\":\" \",\"xaxis\":\"x\",\"y\":[61,3,36,3],\"y0\":\" \",\"yaxis\":\"y\",\"type\":\"violin\"},{\"alignmentgroup\":\"True\",\"box\":{\"visible\":true},\"hovertemplate\":\"in_spotify_charts=%{x}<br>acousticness_%=%{y}<extra></extra>\",\"legendgroup\":\"21\",\"marker\":{\"color\":\"#B6E880\"},\"name\":\"21\",\"offsetgroup\":\"21\",\"orientation\":\"v\",\"scalegroup\":\"True\",\"showlegend\":true,\"x\":[21,21,21,21],\"x0\":\" \",\"xaxis\":\"x\",\"y\":[2,18,40,32],\"y0\":\" \",\"yaxis\":\"y\",\"type\":\"violin\"},{\"alignmentgroup\":\"True\",\"box\":{\"visible\":true},\"hovertemplate\":\"in_spotify_charts=%{x}<br>acousticness_%=%{y}<extra></extra>\",\"legendgroup\":\"32\",\"marker\":{\"color\":\"#FF97FF\"},\"name\":\"32\",\"offsetgroup\":\"32\",\"orientation\":\"v\",\"scalegroup\":\"True\",\"showlegend\":true,\"x\":[32,32,32,32,32],\"x0\":\" \",\"xaxis\":\"x\",\"y\":[7,10,38,16,10],\"y0\":\" \",\"yaxis\":\"y\",\"type\":\"violin\"},{\"alignmentgroup\":\"True\",\"box\":{\"visible\":true},\"hovertemplate\":\"in_spotify_charts=%{x}<br>acousticness_%=%{y}<extra></extra>\",\"legendgroup\":\"6\",\"marker\":{\"color\":\"#FECB52\"},\"name\":\"6\",\"offsetgroup\":\"6\",\"orientation\":\"v\",\"scalegroup\":\"True\",\"showlegend\":true,\"x\":[6,6,6,6,6,6,6,6,6,6,6,6,6,6,6,6,6,6,6,6,6,6,6,6,6,6,6,6],\"x0\":\" \",\"xaxis\":\"x\",\"y\":[76,53,62,3,1,6,89,71,19,35,21,26,49,91,81,1,10,35,3,5,4,3,0,5,7,39,4,9],\"y0\":\" \",\"yaxis\":\"y\",\"type\":\"violin\"},{\"alignmentgroup\":\"True\",\"box\":{\"visible\":true},\"hovertemplate\":\"in_spotify_charts=%{x}<br>acousticness_%=%{y}<extra></extra>\",\"legendgroup\":\"18\",\"marker\":{\"color\":\"#636efa\"},\"name\":\"18\",\"offsetgroup\":\"18\",\"orientation\":\"v\",\"scalegroup\":\"True\",\"showlegend\":true,\"x\":[18,18,18],\"x0\":\" \",\"xaxis\":\"x\",\"y\":[33,3,5],\"y0\":\" \",\"yaxis\":\"y\",\"type\":\"violin\"},{\"alignmentgroup\":\"True\",\"box\":{\"visible\":true},\"hovertemplate\":\"in_spotify_charts=%{x}<br>acousticness_%=%{y}<extra></extra>\",\"legendgroup\":\"22\",\"marker\":{\"color\":\"#EF553B\"},\"name\":\"22\",\"offsetgroup\":\"22\",\"orientation\":\"v\",\"scalegroup\":\"True\",\"showlegend\":true,\"x\":[22,22,22,22,22],\"x0\":\" \",\"xaxis\":\"x\",\"y\":[53,30,3,11,25],\"y0\":\" \",\"yaxis\":\"y\",\"type\":\"violin\"},{\"alignmentgroup\":\"True\",\"box\":{\"visible\":true},\"hovertemplate\":\"in_spotify_charts=%{x}<br>acousticness_%=%{y}<extra></extra>\",\"legendgroup\":\"11\",\"marker\":{\"color\":\"#00cc96\"},\"name\":\"11\",\"offsetgroup\":\"11\",\"orientation\":\"v\",\"scalegroup\":\"True\",\"showlegend\":true,\"x\":[11,11,11,11,11,11],\"x0\":\" \",\"xaxis\":\"x\",\"y\":[33,0,39,78,40,4],\"y0\":\" \",\"yaxis\":\"y\",\"type\":\"violin\"},{\"alignmentgroup\":\"True\",\"box\":{\"visible\":true},\"hovertemplate\":\"in_spotify_charts=%{x}<br>acousticness_%=%{y}<extra></extra>\",\"legendgroup\":\"33\",\"marker\":{\"color\":\"#ab63fa\"},\"name\":\"33\",\"offsetgroup\":\"33\",\"orientation\":\"v\",\"scalegroup\":\"True\",\"showlegend\":true,\"x\":[33,33,33,33,33,33],\"x0\":\" \",\"xaxis\":\"x\",\"y\":[3,15,14,34,18,29],\"y0\":\" \",\"yaxis\":\"y\",\"type\":\"violin\"},{\"alignmentgroup\":\"True\",\"box\":{\"visible\":true},\"hovertemplate\":\"in_spotify_charts=%{x}<br>acousticness_%=%{y}<extra></extra>\",\"legendgroup\":\"13\",\"marker\":{\"color\":\"#FFA15A\"},\"name\":\"13\",\"offsetgroup\":\"13\",\"orientation\":\"v\",\"scalegroup\":\"True\",\"showlegend\":true,\"x\":[13,13,13,13,13,13,13,13,13,13],\"x0\":\" \",\"xaxis\":\"x\",\"y\":[16,20,1,7,11,0,6,1,26,6],\"y0\":\" \",\"yaxis\":\"y\",\"type\":\"violin\"},{\"alignmentgroup\":\"True\",\"box\":{\"visible\":true},\"hovertemplate\":\"in_spotify_charts=%{x}<br>acousticness_%=%{y}<extra></extra>\",\"legendgroup\":\"7\",\"marker\":{\"color\":\"#19d3f3\"},\"name\":\"7\",\"offsetgroup\":\"7\",\"orientation\":\"v\",\"scalegroup\":\"True\",\"showlegend\":true,\"x\":[7,7,7,7,7,7,7,7,7],\"x0\":\" \",\"xaxis\":\"x\",\"y\":[67,65,45,62,31,4,59,14,14],\"y0\":\" \",\"yaxis\":\"y\",\"type\":\"violin\"},{\"alignmentgroup\":\"True\",\"box\":{\"visible\":true},\"hovertemplate\":\"in_spotify_charts=%{x}<br>acousticness_%=%{y}<extra></extra>\",\"legendgroup\":\"8\",\"marker\":{\"color\":\"#FF6692\"},\"name\":\"8\",\"offsetgroup\":\"8\",\"orientation\":\"v\",\"scalegroup\":\"True\",\"showlegend\":true,\"x\":[8,8,8,8,8,8,8,8,8,8,8,8,8,8,8],\"x0\":\" \",\"xaxis\":\"x\",\"y\":[42,1,26,31,26,30,2,1,40,2,0,23,34,49,31],\"y0\":\" \",\"yaxis\":\"y\",\"type\":\"violin\"},{\"alignmentgroup\":\"True\",\"box\":{\"visible\":true},\"hovertemplate\":\"in_spotify_charts=%{x}<br>acousticness_%=%{y}<extra></extra>\",\"legendgroup\":\"16\",\"marker\":{\"color\":\"#B6E880\"},\"name\":\"16\",\"offsetgroup\":\"16\",\"orientation\":\"v\",\"scalegroup\":\"True\",\"showlegend\":true,\"x\":[16,16,16,16,16,16,16,16,16,16],\"x0\":\" \",\"xaxis\":\"x\",\"y\":[6,8,4,11,14,69,0,1,16,44],\"y0\":\" \",\"yaxis\":\"y\",\"type\":\"violin\"},{\"alignmentgroup\":\"True\",\"box\":{\"visible\":true},\"hovertemplate\":\"in_spotify_charts=%{x}<br>acousticness_%=%{y}<extra></extra>\",\"legendgroup\":\"14\",\"marker\":{\"color\":\"#FF97FF\"},\"name\":\"14\",\"offsetgroup\":\"14\",\"orientation\":\"v\",\"scalegroup\":\"True\",\"showlegend\":true,\"x\":[14,14,14,14,14,14,14,14],\"x0\":\" \",\"xaxis\":\"x\",\"y\":[73,11,32,2,5,12,17,31],\"y0\":\" \",\"yaxis\":\"y\",\"type\":\"violin\"},{\"alignmentgroup\":\"True\",\"box\":{\"visible\":true},\"hovertemplate\":\"in_spotify_charts=%{x}<br>acousticness_%=%{y}<extra></extra>\",\"legendgroup\":\"29\",\"marker\":{\"color\":\"#FECB52\"},\"name\":\"29\",\"offsetgroup\":\"29\",\"orientation\":\"v\",\"scalegroup\":\"True\",\"showlegend\":true,\"x\":[29,29],\"x0\":\" \",\"xaxis\":\"x\",\"y\":[4,84],\"y0\":\" \",\"yaxis\":\"y\",\"type\":\"violin\"},{\"alignmentgroup\":\"True\",\"box\":{\"visible\":true},\"hovertemplate\":\"in_spotify_charts=%{x}<br>acousticness_%=%{y}<extra></extra>\",\"legendgroup\":\"10\",\"marker\":{\"color\":\"#636efa\"},\"name\":\"10\",\"offsetgroup\":\"10\",\"orientation\":\"v\",\"scalegroup\":\"True\",\"showlegend\":true,\"x\":[10,10,10,10,10,10,10,10,10,10],\"x0\":\" \",\"xaxis\":\"x\",\"y\":[4,40,40,65,8,1,1,42,14,3],\"y0\":\" \",\"yaxis\":\"y\",\"type\":\"violin\"},{\"alignmentgroup\":\"True\",\"box\":{\"visible\":true},\"hovertemplate\":\"in_spotify_charts=%{x}<br>acousticness_%=%{y}<extra></extra>\",\"legendgroup\":\"31\",\"marker\":{\"color\":\"#EF553B\"},\"name\":\"31\",\"offsetgroup\":\"31\",\"orientation\":\"v\",\"scalegroup\":\"True\",\"showlegend\":true,\"x\":[31,31],\"x0\":\" \",\"xaxis\":\"x\",\"y\":[63,15],\"y0\":\" \",\"yaxis\":\"y\",\"type\":\"violin\"},{\"alignmentgroup\":\"True\",\"box\":{\"visible\":true},\"hovertemplate\":\"in_spotify_charts=%{x}<br>acousticness_%=%{y}<extra></extra>\",\"legendgroup\":\"4\",\"marker\":{\"color\":\"#00cc96\"},\"name\":\"4\",\"offsetgroup\":\"4\",\"orientation\":\"v\",\"scalegroup\":\"True\",\"showlegend\":true,\"x\":[4,4,4,4,4,4,4,4,4,4,4,4,4,4,4,4,4,4,4,4,4,4,4,4,4,4,4,4,4,4,4,4,4,4,4],\"x0\":\" \",\"xaxis\":\"x\",\"y\":[21,39,14,41,22,24,39,45,62,0,0,89,49,75,73,0,76,2,61,7,81,13,0,8,18,1,31,21,54,15,14,28,47,30,75],\"y0\":\" \",\"yaxis\":\"y\",\"type\":\"violin\"},{\"alignmentgroup\":\"True\",\"box\":{\"visible\":true},\"hovertemplate\":\"in_spotify_charts=%{x}<br>acousticness_%=%{y}<extra></extra>\",\"legendgroup\":\"0\",\"marker\":{\"color\":\"#ab63fa\"},\"name\":\"0\",\"offsetgroup\":\"0\",\"orientation\":\"v\",\"scalegroup\":\"True\",\"showlegend\":true,\"x\":[0,0,0,0,0,0,0,0,0,0,0,0,0,0,0,0,0,0,0,0,0,0,0,0,0,0,0,0,0,0,0,0,0,0,0,0,0,0,0,0,0,0,0,0,0,0,0,0,0,0,0,0,0,0,0,0,0,0,0,0,0,0,0,0,0,0,0,0,0,0,0,0,0,0,0,0,0,0,0,0,0,0,0,0,0,0,0,0,0,0,0,0,0,0,0,0,0,0,0,0,0,0,0,0,0,0,0,0,0,0,0,0,0,0,0,0,0,0,0,0,0,0,0,0,0,0,0,0,0,0,0,0,0,0,0,0,0,0,0,0,0,0,0,0,0,0,0,0,0,0,0,0,0,0,0,0,0,0,0,0,0,0,0,0,0,0,0,0,0,0,0,0,0,0,0,0,0,0,0,0,0,0,0,0,0,0,0,0,0,0,0,0,0,0,0,0,0,0,0,0,0,0,0,0,0,0,0,0,0,0,0,0,0,0,0,0,0,0,0,0,0,0,0,0,0,0,0,0,0,0,0,0,0,0,0,0,0,0,0,0,0,0,0,0,0,0,0,0,0,0,0,0,0,0,0,0,0,0,0,0,0,0,0,0,0,0,0,0,0,0,0,0,0,0,0,0,0,0,0,0,0,0,0,0,0,0,0,0,0,0,0,0,0,0],\"x0\":\" \",\"xaxis\":\"x\",\"y\":[15,18,6,1,4,10,1,36,51,40,31,18,79,8,0,9,80,12,12,2,10,30,72,13,25,15,90,15,9,55,9,1,31,91,38,15,5,19,6,18,60,91,0,87,51,44,85,53,84,67,36,57,9,28,51,9,9,24,5,69,6,30,6,1,78,67,76,62,2,2,0,15,1,44,10,62,2,50,1,4,13,34,9,71,12,62,0,6,2,35,43,1,2,5,29,18,13,20,12,5,0,26,93,1,32,57,86,41,0,9,5,2,85,46,90,18,10,79,2,0,23,38,3,0,11,21,46,1,41,7,16,28,17,23,11,10,40,1,8,2,7,3,3,9,6,4,14,27,30,66,28,6,11,16,60,47,73,47,11,17,56,0,2,62,20,66,5,24,12,13,4,38,3,2,16,3,14,24,1,34,13,2,45,6,25,84,5,15,36,41,51,44,38,36,36,19,39,23,46,69,76,31,76,42,19,23,5,0,9,0,30,3,88,0,14,9,80,76,6,23,84,87,19,62,13,1,13,5,1,18,18,32,8,84,4,2,43,8,1,16,4,72,2,67,36,4,35,83,10,5,10,1,3,54,47,4,12,0,4,1,9,0,10,7,7,0,24,28,20,14,11,8,13,11,6,6,5,11,5,1,6,17,20,55,1,43,0,4,1,22,57,83,4,8],\"y0\":\" \",\"yaxis\":\"y\",\"type\":\"violin\"},{\"alignmentgroup\":\"True\",\"box\":{\"visible\":true},\"hovertemplate\":\"in_spotify_charts=%{x}<br>acousticness_%=%{y}<extra></extra>\",\"legendgroup\":\"5\",\"marker\":{\"color\":\"#FFA15A\"},\"name\":\"5\",\"offsetgroup\":\"5\",\"orientation\":\"v\",\"scalegroup\":\"True\",\"showlegend\":true,\"x\":[5,5,5,5,5,5,5,5],\"x0\":\" \",\"xaxis\":\"x\",\"y\":[21,78,6,37,1,30,2,0],\"y0\":\" \",\"yaxis\":\"y\",\"type\":\"violin\"},{\"alignmentgroup\":\"True\",\"box\":{\"visible\":true},\"hovertemplate\":\"in_spotify_charts=%{x}<br>acousticness_%=%{y}<extra></extra>\",\"legendgroup\":\"3\",\"marker\":{\"color\":\"#19d3f3\"},\"name\":\"3\",\"offsetgroup\":\"3\",\"orientation\":\"v\",\"scalegroup\":\"True\",\"showlegend\":true,\"x\":[3,3,3,3,3,3,3,3,3,3,3,3,3,3],\"x0\":\" \",\"xaxis\":\"x\",\"y\":[28,50,55,56,40,26,58,35,61,12,19,90,11,0],\"y0\":\" \",\"yaxis\":\"y\",\"type\":\"violin\"},{\"alignmentgroup\":\"True\",\"box\":{\"visible\":true},\"hovertemplate\":\"in_spotify_charts=%{x}<br>acousticness_%=%{y}<extra></extra>\",\"legendgroup\":\"2\",\"marker\":{\"color\":\"#FF6692\"},\"name\":\"2\",\"offsetgroup\":\"2\",\"orientation\":\"v\",\"scalegroup\":\"True\",\"showlegend\":true,\"x\":[2,2,2,2,2,2,2,2,2,2,2,2,2,2,2,2,2,2,2,2,2,2,2,2,2,2,2,2,2,2],\"x0\":\" \",\"xaxis\":\"x\",\"y\":[81,42,5,53,7,10,84,41,3,3,12,17,9,38,51,1,84,1,15,70,4,4,6,74,12,18,64,33,1,15],\"y0\":\" \",\"yaxis\":\"y\",\"type\":\"violin\"},{\"alignmentgroup\":\"True\",\"box\":{\"visible\":true},\"hovertemplate\":\"in_spotify_charts=%{x}<br>acousticness_%=%{y}<extra></extra>\",\"legendgroup\":\"1\",\"marker\":{\"color\":\"#B6E880\"},\"name\":\"1\",\"offsetgroup\":\"1\",\"orientation\":\"v\",\"scalegroup\":\"True\",\"showlegend\":true,\"x\":[1,1,1,1,1,1,1,1,1,1,1,1],\"x0\":\" \",\"xaxis\":\"x\",\"y\":[46,18,38,6,2,9,21,69,86,26,32,31],\"y0\":\" \",\"yaxis\":\"y\",\"type\":\"violin\"},{\"alignmentgroup\":\"True\",\"box\":{\"visible\":true},\"hovertemplate\":\"in_spotify_charts=%{x}<br>acousticness_%=%{y}<extra></extra>\",\"legendgroup\":\"37\",\"marker\":{\"color\":\"#FF97FF\"},\"name\":\"37\",\"offsetgroup\":\"37\",\"orientation\":\"v\",\"scalegroup\":\"True\",\"showlegend\":true,\"x\":[37],\"x0\":\" \",\"xaxis\":\"x\",\"y\":[31],\"y0\":\" \",\"yaxis\":\"y\",\"type\":\"violin\"}],                        {\"template\":{\"data\":{\"histogram2dcontour\":[{\"type\":\"histogram2dcontour\",\"colorbar\":{\"outlinewidth\":0,\"ticks\":\"\"},\"colorscale\":[[0.0,\"#0d0887\"],[0.1111111111111111,\"#46039f\"],[0.2222222222222222,\"#7201a8\"],[0.3333333333333333,\"#9c179e\"],[0.4444444444444444,\"#bd3786\"],[0.5555555555555556,\"#d8576b\"],[0.6666666666666666,\"#ed7953\"],[0.7777777777777778,\"#fb9f3a\"],[0.8888888888888888,\"#fdca26\"],[1.0,\"#f0f921\"]]}],\"choropleth\":[{\"type\":\"choropleth\",\"colorbar\":{\"outlinewidth\":0,\"ticks\":\"\"}}],\"histogram2d\":[{\"type\":\"histogram2d\",\"colorbar\":{\"outlinewidth\":0,\"ticks\":\"\"},\"colorscale\":[[0.0,\"#0d0887\"],[0.1111111111111111,\"#46039f\"],[0.2222222222222222,\"#7201a8\"],[0.3333333333333333,\"#9c179e\"],[0.4444444444444444,\"#bd3786\"],[0.5555555555555556,\"#d8576b\"],[0.6666666666666666,\"#ed7953\"],[0.7777777777777778,\"#fb9f3a\"],[0.8888888888888888,\"#fdca26\"],[1.0,\"#f0f921\"]]}],\"heatmap\":[{\"type\":\"heatmap\",\"colorbar\":{\"outlinewidth\":0,\"ticks\":\"\"},\"colorscale\":[[0.0,\"#0d0887\"],[0.1111111111111111,\"#46039f\"],[0.2222222222222222,\"#7201a8\"],[0.3333333333333333,\"#9c179e\"],[0.4444444444444444,\"#bd3786\"],[0.5555555555555556,\"#d8576b\"],[0.6666666666666666,\"#ed7953\"],[0.7777777777777778,\"#fb9f3a\"],[0.8888888888888888,\"#fdca26\"],[1.0,\"#f0f921\"]]}],\"heatmapgl\":[{\"type\":\"heatmapgl\",\"colorbar\":{\"outlinewidth\":0,\"ticks\":\"\"},\"colorscale\":[[0.0,\"#0d0887\"],[0.1111111111111111,\"#46039f\"],[0.2222222222222222,\"#7201a8\"],[0.3333333333333333,\"#9c179e\"],[0.4444444444444444,\"#bd3786\"],[0.5555555555555556,\"#d8576b\"],[0.6666666666666666,\"#ed7953\"],[0.7777777777777778,\"#fb9f3a\"],[0.8888888888888888,\"#fdca26\"],[1.0,\"#f0f921\"]]}],\"contourcarpet\":[{\"type\":\"contourcarpet\",\"colorbar\":{\"outlinewidth\":0,\"ticks\":\"\"}}],\"contour\":[{\"type\":\"contour\",\"colorbar\":{\"outlinewidth\":0,\"ticks\":\"\"},\"colorscale\":[[0.0,\"#0d0887\"],[0.1111111111111111,\"#46039f\"],[0.2222222222222222,\"#7201a8\"],[0.3333333333333333,\"#9c179e\"],[0.4444444444444444,\"#bd3786\"],[0.5555555555555556,\"#d8576b\"],[0.6666666666666666,\"#ed7953\"],[0.7777777777777778,\"#fb9f3a\"],[0.8888888888888888,\"#fdca26\"],[1.0,\"#f0f921\"]]}],\"surface\":[{\"type\":\"surface\",\"colorbar\":{\"outlinewidth\":0,\"ticks\":\"\"},\"colorscale\":[[0.0,\"#0d0887\"],[0.1111111111111111,\"#46039f\"],[0.2222222222222222,\"#7201a8\"],[0.3333333333333333,\"#9c179e\"],[0.4444444444444444,\"#bd3786\"],[0.5555555555555556,\"#d8576b\"],[0.6666666666666666,\"#ed7953\"],[0.7777777777777778,\"#fb9f3a\"],[0.8888888888888888,\"#fdca26\"],[1.0,\"#f0f921\"]]}],\"mesh3d\":[{\"type\":\"mesh3d\",\"colorbar\":{\"outlinewidth\":0,\"ticks\":\"\"}}],\"scatter\":[{\"fillpattern\":{\"fillmode\":\"overlay\",\"size\":10,\"solidity\":0.2},\"type\":\"scatter\"}],\"parcoords\":[{\"type\":\"parcoords\",\"line\":{\"colorbar\":{\"outlinewidth\":0,\"ticks\":\"\"}}}],\"scatterpolargl\":[{\"type\":\"scatterpolargl\",\"marker\":{\"colorbar\":{\"outlinewidth\":0,\"ticks\":\"\"}}}],\"bar\":[{\"error_x\":{\"color\":\"#2a3f5f\"},\"error_y\":{\"color\":\"#2a3f5f\"},\"marker\":{\"line\":{\"color\":\"#E5ECF6\",\"width\":0.5},\"pattern\":{\"fillmode\":\"overlay\",\"size\":10,\"solidity\":0.2}},\"type\":\"bar\"}],\"scattergeo\":[{\"type\":\"scattergeo\",\"marker\":{\"colorbar\":{\"outlinewidth\":0,\"ticks\":\"\"}}}],\"scatterpolar\":[{\"type\":\"scatterpolar\",\"marker\":{\"colorbar\":{\"outlinewidth\":0,\"ticks\":\"\"}}}],\"histogram\":[{\"marker\":{\"pattern\":{\"fillmode\":\"overlay\",\"size\":10,\"solidity\":0.2}},\"type\":\"histogram\"}],\"scattergl\":[{\"type\":\"scattergl\",\"marker\":{\"colorbar\":{\"outlinewidth\":0,\"ticks\":\"\"}}}],\"scatter3d\":[{\"type\":\"scatter3d\",\"line\":{\"colorbar\":{\"outlinewidth\":0,\"ticks\":\"\"}},\"marker\":{\"colorbar\":{\"outlinewidth\":0,\"ticks\":\"\"}}}],\"scattermapbox\":[{\"type\":\"scattermapbox\",\"marker\":{\"colorbar\":{\"outlinewidth\":0,\"ticks\":\"\"}}}],\"scatterternary\":[{\"type\":\"scatterternary\",\"marker\":{\"colorbar\":{\"outlinewidth\":0,\"ticks\":\"\"}}}],\"scattercarpet\":[{\"type\":\"scattercarpet\",\"marker\":{\"colorbar\":{\"outlinewidth\":0,\"ticks\":\"\"}}}],\"carpet\":[{\"aaxis\":{\"endlinecolor\":\"#2a3f5f\",\"gridcolor\":\"white\",\"linecolor\":\"white\",\"minorgridcolor\":\"white\",\"startlinecolor\":\"#2a3f5f\"},\"baxis\":{\"endlinecolor\":\"#2a3f5f\",\"gridcolor\":\"white\",\"linecolor\":\"white\",\"minorgridcolor\":\"white\",\"startlinecolor\":\"#2a3f5f\"},\"type\":\"carpet\"}],\"table\":[{\"cells\":{\"fill\":{\"color\":\"#EBF0F8\"},\"line\":{\"color\":\"white\"}},\"header\":{\"fill\":{\"color\":\"#C8D4E3\"},\"line\":{\"color\":\"white\"}},\"type\":\"table\"}],\"barpolar\":[{\"marker\":{\"line\":{\"color\":\"#E5ECF6\",\"width\":0.5},\"pattern\":{\"fillmode\":\"overlay\",\"size\":10,\"solidity\":0.2}},\"type\":\"barpolar\"}],\"pie\":[{\"automargin\":true,\"type\":\"pie\"}]},\"layout\":{\"autotypenumbers\":\"strict\",\"colorway\":[\"#636efa\",\"#EF553B\",\"#00cc96\",\"#ab63fa\",\"#FFA15A\",\"#19d3f3\",\"#FF6692\",\"#B6E880\",\"#FF97FF\",\"#FECB52\"],\"font\":{\"color\":\"#2a3f5f\"},\"hovermode\":\"closest\",\"hoverlabel\":{\"align\":\"left\"},\"paper_bgcolor\":\"white\",\"plot_bgcolor\":\"#E5ECF6\",\"polar\":{\"bgcolor\":\"#E5ECF6\",\"angularaxis\":{\"gridcolor\":\"white\",\"linecolor\":\"white\",\"ticks\":\"\"},\"radialaxis\":{\"gridcolor\":\"white\",\"linecolor\":\"white\",\"ticks\":\"\"}},\"ternary\":{\"bgcolor\":\"#E5ECF6\",\"aaxis\":{\"gridcolor\":\"white\",\"linecolor\":\"white\",\"ticks\":\"\"},\"baxis\":{\"gridcolor\":\"white\",\"linecolor\":\"white\",\"ticks\":\"\"},\"caxis\":{\"gridcolor\":\"white\",\"linecolor\":\"white\",\"ticks\":\"\"}},\"coloraxis\":{\"colorbar\":{\"outlinewidth\":0,\"ticks\":\"\"}},\"colorscale\":{\"sequential\":[[0.0,\"#0d0887\"],[0.1111111111111111,\"#46039f\"],[0.2222222222222222,\"#7201a8\"],[0.3333333333333333,\"#9c179e\"],[0.4444444444444444,\"#bd3786\"],[0.5555555555555556,\"#d8576b\"],[0.6666666666666666,\"#ed7953\"],[0.7777777777777778,\"#fb9f3a\"],[0.8888888888888888,\"#fdca26\"],[1.0,\"#f0f921\"]],\"sequentialminus\":[[0.0,\"#0d0887\"],[0.1111111111111111,\"#46039f\"],[0.2222222222222222,\"#7201a8\"],[0.3333333333333333,\"#9c179e\"],[0.4444444444444444,\"#bd3786\"],[0.5555555555555556,\"#d8576b\"],[0.6666666666666666,\"#ed7953\"],[0.7777777777777778,\"#fb9f3a\"],[0.8888888888888888,\"#fdca26\"],[1.0,\"#f0f921\"]],\"diverging\":[[0,\"#8e0152\"],[0.1,\"#c51b7d\"],[0.2,\"#de77ae\"],[0.3,\"#f1b6da\"],[0.4,\"#fde0ef\"],[0.5,\"#f7f7f7\"],[0.6,\"#e6f5d0\"],[0.7,\"#b8e186\"],[0.8,\"#7fbc41\"],[0.9,\"#4d9221\"],[1,\"#276419\"]]},\"xaxis\":{\"gridcolor\":\"white\",\"linecolor\":\"white\",\"ticks\":\"\",\"title\":{\"standoff\":15},\"zerolinecolor\":\"white\",\"automargin\":true,\"zerolinewidth\":2},\"yaxis\":{\"gridcolor\":\"white\",\"linecolor\":\"white\",\"ticks\":\"\",\"title\":{\"standoff\":15},\"zerolinecolor\":\"white\",\"automargin\":true,\"zerolinewidth\":2},\"scene\":{\"xaxis\":{\"backgroundcolor\":\"#E5ECF6\",\"gridcolor\":\"white\",\"linecolor\":\"white\",\"showbackground\":true,\"ticks\":\"\",\"zerolinecolor\":\"white\",\"gridwidth\":2},\"yaxis\":{\"backgroundcolor\":\"#E5ECF6\",\"gridcolor\":\"white\",\"linecolor\":\"white\",\"showbackground\":true,\"ticks\":\"\",\"zerolinecolor\":\"white\",\"gridwidth\":2},\"zaxis\":{\"backgroundcolor\":\"#E5ECF6\",\"gridcolor\":\"white\",\"linecolor\":\"white\",\"showbackground\":true,\"ticks\":\"\",\"zerolinecolor\":\"white\",\"gridwidth\":2}},\"shapedefaults\":{\"line\":{\"color\":\"#2a3f5f\"}},\"annotationdefaults\":{\"arrowcolor\":\"#2a3f5f\",\"arrowhead\":0,\"arrowwidth\":1},\"geo\":{\"bgcolor\":\"white\",\"landcolor\":\"#E5ECF6\",\"subunitcolor\":\"white\",\"showland\":true,\"showlakes\":true,\"lakecolor\":\"white\"},\"title\":{\"x\":0.05},\"mapbox\":{\"style\":\"light\"}}},\"xaxis\":{\"anchor\":\"y\",\"domain\":[0.0,1.0],\"title\":{\"text\":\"in_spotify_charts\"},\"categoryorder\":\"array\",\"categoryarray\":[48,43,44,40,26,38,19,34,56,49,53,42,28,25,64,59,47,66,39,45,15,41,50,23,36,24,35,20,30,9,17,12,46,52,58,61,27,21,32,6,18,22,11,33,13,7,8,16,14,29,10,31,4,0,5,3,2,1,37]},\"yaxis\":{\"anchor\":\"x\",\"domain\":[0.0,1.0],\"title\":{\"text\":\"acousticness_%\"}},\"legend\":{\"title\":{\"text\":\"in_spotify_charts\"},\"tracegroupgap\":0},\"title\":{\"text\":\"Distribution of Acousticness by Presence in Spotify Charts\"},\"violinmode\":\"overlay\"},                        {\"responsive\": true}                    ).then(function(){\n",
       "                            \n",
       "var gd = document.getElementById('7eefd14a-6990-4155-be2e-3f50b9a9f3cb');\n",
       "var x = new MutationObserver(function (mutations, observer) {{\n",
       "        var display = window.getComputedStyle(gd).display;\n",
       "        if (!display || display === 'none') {{\n",
       "            console.log([gd, 'removed!']);\n",
       "            Plotly.purge(gd);\n",
       "            observer.disconnect();\n",
       "        }}\n",
       "}});\n",
       "\n",
       "// Listen for the removal of the full notebook cells\n",
       "var notebookContainer = gd.closest('#notebook-container');\n",
       "if (notebookContainer) {{\n",
       "    x.observe(notebookContainer, {childList: true});\n",
       "}}\n",
       "\n",
       "// Listen for the clearing of the current output cell\n",
       "var outputEl = gd.closest('.output');\n",
       "if (outputEl) {{\n",
       "    x.observe(outputEl, {childList: true});\n",
       "}}\n",
       "\n",
       "                        })                };                });            </script>        </div>"
      ]
     },
     "metadata": {},
     "output_type": "display_data"
    }
   ],
   "source": [
    "# Violin plot for acousticness by presence in charts\n",
    "fig = px.violin(data_no_outliers, \n",
    "                 x='in_spotify_charts', \n",
    "                 y='acousticness_%', \n",
    "                 title='Distribution of Acousticness by Presence in Spotify Charts',\n",
    "                 color='in_spotify_charts',\n",
    "                 box=True)\n",
    "fig.show()"
   ]
  },
  {
   "cell_type": "code",
   "execution_count": 119,
   "id": "34610966-38e5-4aee-86f4-91c63a04af19",
   "metadata": {},
   "outputs": [
    {
     "data": {
      "application/vnd.plotly.v1+json": {
       "config": {
        "plotlyServerURL": "https://plot.ly"
       },
       "data": [
        {
         "customdata": [
          [
           "Seven (feat. Latto) (Explicit Ver.)",
           "Latto, Jung Kook"
          ],
          [
           "LALA",
           "Myke Towers"
          ],
          [
           "vampire",
           "Olivia Rodrigo"
          ],
          [
           "Cruel Summer",
           "Taylor Swift"
          ],
          [
           "WHERE SHE GOES",
           "Bad Bunny"
          ],
          [
           "Sprinter",
           "Dave, Central Cee"
          ],
          [
           "Ella Baila Sola",
           "Eslabon Armado, Peso Pluma"
          ],
          [
           "Columbia",
           "Quevedo"
          ],
          [
           "fukumean",
           "Gunna"
          ],
          [
           "La Bebe - Remix",
           "Peso Pluma, Yng Lvcas"
          ],
          [
           "un x100to",
           "Bad Bunny, Grupo Frontera"
          ],
          [
           "Super Shy",
           "NewJeans"
          ],
          [
           "Daylight",
           "David Kushner"
          ],
          [
           "Kill Bill",
           "SZA"
          ],
          [
           "Cupid - Twin Ver.",
           "Fifty Fifty"
          ],
          [
           "Classy 101",
           "Feid, Young Miko"
          ],
          [
           "Like Crazy",
           "Jimin"
          ],
          [
           "LADY GAGA",
           "Gabito Ballesteros, Junior H, Peso Pluma"
          ],
          [
           "I Can See You (Taylorï¿½ï¿½ï¿½s Version) (From The ",
           "Taylor Swift"
          ],
          [
           "Peso Pluma: Bzrp Music Sessions, Vol. 55",
           "Bizarrap, Peso Pluma"
          ],
          [
           "Popular (with Playboi Carti & Madonna) - The Idol Vol. 1 (Music from the HBO Original Series)",
           "The Weeknd, Madonna, Playboi Carti"
          ],
          [
           "SABOR FRESA",
           "Fuerza Regida"
          ],
          [
           "Calm Down (with Selena Gomez)",
           "Rï¿½ï¿½ma, Selena G"
          ],
          [
           "MOJABI GHOST",
           "Tainy, Bad Bunny"
          ],
          [
           "Last Night",
           "Morgan Wallen"
          ],
          [
           "Dance The Night (From Barbie The Album)",
           "Dua Lipa"
          ],
          [
           "Rush",
           "Troye Sivan"
          ],
          [
           "TULUM",
           "Peso Pluma, Grupo Frontera"
          ],
          [
           "Creepin'",
           "The Weeknd, 21 Savage, Metro Boomin"
          ],
          [
           "Anti-Hero",
           "Taylor Swift"
          ],
          [
           "TQG",
           "Karol G, Shakira"
          ],
          [
           "Frï¿½ï¿½gil (feat. Grupo Front",
           "Yahritza Y Su Esencia, Grupo Frontera"
          ],
          [
           "Blank Space",
           "Taylor Swift"
          ],
          [
           "Style",
           "Taylor Swift"
          ],
          [
           "TQM",
           "Fuerza Regida"
          ],
          [
           "El Azul",
           "Junior H, Peso Pluma"
          ],
          [
           "Sunflower - Spider-Man: Into the Spider-Verse",
           "Post Malone, Swae Lee"
          ],
          [
           "I'm Good (Blue)",
           "Bebe Rexha, David Guetta"
          ],
          [
           "See You Again",
           "Tyler, The Creator, Kali Uchis"
          ],
          [
           "Angels Like You",
           "Miley Cyrus"
          ],
          [
           "Die For You",
           "The Weeknd"
          ],
          [
           "Starboy",
           "The Weeknd, Daft Punk"
          ],
          [
           "Die For You - Remix",
           "Ariana Grande, The Weeknd"
          ],
          [
           "El Cielo",
           "Feid, Myke Towers, Sky Rompiendo"
          ],
          [
           "Baby Don't Hurt Me",
           "David Guetta, Anne-Marie, Coi Leray"
          ],
          [
           "AMARGURA",
           "Karol G"
          ],
          [
           "(It Goes Like) Nanana - Edit",
           "Peggy Gou"
          ],
          [
           "Moonlight",
           "Kali Uchis"
          ],
          [
           "La Bachata",
           "Manuel Turizo"
          ],
          [
           "Tï¿½ï¿",
           "dennis, MC Kevin o Chris"
          ],
          [
           "Boy's a liar Pt. 2",
           "PinkPantheress, Ice Spice"
          ],
          [
           "Left and Right (Feat. Jung Kook of BTS)",
           "Charlie Puth, BTS, Jung Kook"
          ],
          [
           "BESO",
           "Rauw Alejandro, ROSALï¿½"
          ],
          [
           "Hey Mor",
           "Ozuna, Feid"
          ],
          [
           "Yellow",
           "Chris Molitor"
          ],
          [
           "Karma",
           "Taylor Swift"
          ],
          [
           "People",
           "Libianca"
          ],
          [
           "Overdrive",
           "Post Malone"
          ],
          [
           "Enchanted (Taylor's Version)",
           "Taylor Swift"
          ],
          [
           "BABY HELLO",
           "Rauw Alejandro, Bizarrap"
          ],
          [
           "golden hour",
           "JVKE"
          ],
          [
           "Quevedo: Bzrp Music Sessions, Vol. 52",
           "Bizarrap, Quevedo"
          ],
          [
           "Viva La Vida",
           "Coldplay"
          ],
          [
           "Here With Me",
           "d4vd"
          ],
          [
           "Unholy (feat. Kim Petras)",
           "Sam Smith, Kim Petras"
          ],
          [
           "Yandel 150",
           "Yandel, Feid"
          ],
          [
           "CORAZï¿½ï¿½N VA",
           "Maria Becerra"
          ],
          [
           "Riptide",
           "Vance Joy"
          ],
          [
           "Until I Found You (with Em Beihold) - Em Beihold Version",
           "Em Beihold, Stephen Sanchez"
          ],
          [
           "Novidade na ï¿½ï¿",
           "Mc Livinho, DJ Matt D"
          ],
          [
           "Back To December (Taylor's Version)",
           "Taylor Swift"
          ],
          [
           "STAY (with Justin Bieber)",
           "Justin Bieber, The Kid Laroi"
          ],
          [
           "El Merengue",
           "Marshmello, Manuel Turizo"
          ],
          [
           "Me Porto Bonito",
           "Chencho Corleone, Bad Bunny"
          ],
          [
           "Makeba",
           "Jain"
          ],
          [
           "MONTAGEM - FR PUNK",
           "Ayparia, unxbected"
          ],
          [
           "Fast Car",
           "Luke Combs"
          ],
          [
           "What It Is (Solo Version)",
           "Doechii"
          ],
          [
           "Coco Chanel",
           "Bad Bunny, Eladio Carrion"
          ],
          [
           "Donï¿½ï¿½ï¿½t Bl",
           "Taylor Swift"
          ],
          [
           "Still With You",
           "Jung Kook"
          ],
          [
           "All My Life (feat. J. Cole)",
           "J. Cole, Lil Durk"
          ],
          [
           "Say Yes To Heaven",
           "Lana Del Rey"
          ],
          [
           "Snooze",
           "SZA"
          ],
          [
           "Summertime Sadness",
           "Lana Del Rey"
          ],
          [
           "Take Two",
           "BTS"
          ],
          [
           "Lover",
           "Taylor Swift"
          ],
          [
           "Too Many Nights (feat. Don Toliver & with Future)",
           "Future, Metro Boomin, Don Toliver"
          ],
          [
           "Chemical",
           "Post Malone"
          ],
          [
           "Mockingbird",
           "Eminem"
          ],
          [
           "New Jeans",
           "NewJeans"
          ],
          [
           "Primera Cita",
           "Carin Leon"
          ],
          [
           "Cold Heart - PNAU Remix",
           "Dua Lipa, Elton John, Pnau"
          ],
          [
           "Dandelions",
           "Ruth B."
          ],
          [
           "Bones",
           "Imagine Dragons"
          ],
          [
           "Set Fire to the Rain",
           "Adele"
          ],
          [
           "Money Trees",
           "Kendrick Lamar, Jay Rock"
          ],
          [
           "Tak Segampang Itu",
           "Anggi Marito"
          ],
          [
           "LAGUNAS",
           "Jasiel Nuï¿½ï¿½ez, Peso P"
          ],
          [
           "Mine (Taylor's Version)",
           "Taylor Swift"
          ],
          [
           "Everybody Wants To Rule The World",
           "Tears For Fears"
          ],
          [
           "No Role Modelz",
           "J. Cole"
          ],
          [
           "Tattoo",
           "Loreen"
          ],
          [
           "Rara Vez",
           "Taiu, Milo j"
          ],
          [
           "VAGABUNDO",
           "Sebastian Yatra, Manuel Turizo, Beï¿½ï"
          ],
          [
           "august",
           "Taylor Swift"
          ],
          [
           "LUNA",
           "Junior H, Peso Pluma"
          ],
          [
           "Miracle (with Ellie Goulding)",
           "Calvin Harris, Ellie Goulding"
          ],
          [
           "Nonsense",
           "Sabrina Carpenter"
          ],
          [
           "Que Vuelvas",
           "Carin Leon, Grupo Frontera"
          ],
          [
           "Feliz Cumpleaï¿½ï¿½os Fe",
           "Feid"
          ],
          [
           "Can't Hold Us (feat. Ray Dalton)",
           "Ray Dalton, Ryan Lewis, Macklemore"
          ],
          [
           "lovely - Bonus Track",
           "Billie Eilish, Khalid"
          ],
          [
           "Rauw Alejandro: Bzrp Music Sessions, Vol. 56",
           "Rauw Alejandro, Bizarrap"
          ],
          [
           "Queencard",
           "(G)I-DLE"
          ],
          [
           "OMG",
           "NewJeans"
          ],
          [
           "Radio",
           "Lana Del Rey"
          ],
          [
           "Shakira: Bzrp Music Sessions, Vol. 53",
           "Shakira, Bizarrap"
          ],
          [
           "Trance (with Travis Scott & Young Thug)",
           "Travis Scott, Young Thug, Metro Boomin"
          ],
          [
           "Tere Vaaste (From \"Zara Hatke Zara Bachke\")",
           "Sachin-Jigar, Shadab Faridi, Altamash Faridi, Amitabh Bhattacharya, Varun Jain"
          ],
          [
           "Perfect",
           "Ed Sheeran"
          ],
          [
           "Romantic Homicide",
           "d4vd"
          ],
          [
           "Believer",
           "Imagine Dragons"
          ],
          [
           "Novo Balanï¿½",
           "Veigh, Bvga Beatz, Supernova Ent, Prod Malax"
          ],
          [
           "Gol Bolinha, Gol Quadrado 2",
           "Mc Pedrinho, DJ 900"
          ],
          [
           "Without Me",
           "Eminem"
          ],
          [
           "Stargirl Interlude",
           "The Weeknd, Lana Del Rey"
          ],
          [
           "Ojitos Lindos",
           "Bomba Estï¿½ï¿½reo, Bad B"
          ],
          [
           "Somewhere Only We Know",
           "Keane"
          ],
          [
           "Those Eyes",
           "New West"
          ],
          [
           "El Gordo Trae El Mando",
           "Chino Pacas"
          ],
          [
           "Mi Bello Angel",
           "Natanael Cano"
          ],
          [
           "Nosso Quadro",
           "Ana Castela, AgroPlay"
          ],
          [
           "Locked Out Of Heaven",
           "Bruno Mars"
          ],
          [
           "Un Finde | CROSSOVER #2",
           "Big One, FMK, Ke personajes"
          ],
          [
           "Counting Stars",
           "OneRepublic"
          ],
          [
           "PRC",
           "Natanael Cano, Peso Pluma"
          ],
          [
           "One Dance",
           "Drake, WizKid, Kyla"
          ],
          [
           "Enchanted",
           "Taylor Swift"
          ],
          [
           "Sure Thing",
           "Miguel"
          ],
          [
           "Every Breath You Take - Remastered 2003",
           "The Police"
          ],
          [
           "The Night We Met",
           "Lord Huron"
          ],
          [
           "We Found Love",
           "Rihanna, Calvin Harris"
          ],
          [
           "Let Me Down Slowly",
           "Alec Benjamin"
          ],
          [
           "Am I Dreaming (Metro Boomin & A$AP Rocky, Roisee)",
           "A$AP Rocky, Metro Boomin, Roisee"
          ],
          [
           "Do I Wanna Know?",
           "Arctic Monkeys"
          ],
          [
           "Demons",
           "Imagine Dragons"
          ],
          [
           "ýýýýýýýýýýýý",
           "YOASOBI"
          ],
          [
           "Reminder",
           "The Weeknd"
          ],
          [
           "Shake It Off",
           "Taylor Swift"
          ],
          [
           "Why'd You Only Call Me When You're High?",
           "Arctic Monkeys"
          ],
          [
           "Shape of You",
           "Ed Sheeran"
          ],
          [
           "Creep",
           "Radiohead"
          ],
          [
           "Car's Outside",
           "James Arthur"
          ],
          [
           "Apocalypse",
           "Cigarettes After Sex"
          ],
          [
           "Cheques",
           "Shubh"
          ],
          [
           "Pink + White",
           "Frank Ocean"
          ],
          [
           "Just The Way You Are",
           "Bruno Mars"
          ],
          [
           "Take Me To Church",
           "Hozier"
          ],
          [
           "Bebe Dame",
           "Fuerza Regida, Grupo Frontera"
          ],
          [
           "You Belong With Me (Taylorï¿½ï¿½ï¿½s Ve",
           "Taylor Swift"
          ],
          [
           "Titi Me Preguntï¿",
           "Bad Bunny"
          ],
          [
           "Better Than Revenge (Taylor's Version)",
           "Taylor Swift"
          ],
          [
           "Shut up My Moms Calling",
           "Hotel Ugly"
          ],
          [
           "Es un Secreto",
           "Plan B"
          ],
          [
           "POLARIS - Remix",
           "Feid, Mora, Saiko, Quevedo"
          ],
          [
           "Ditto",
           "NewJeans"
          ],
          [
           "Take On Me",
           "a-ha"
          ],
          [
           "Annihilate (Spider-Man: Across the Spider-Verse) (Metro Boomin & Swae Lee, Lil Wayne, Offset)",
           "Swae Lee, Lil Wayne, Offset, Metro Boomin"
          ],
          [
           "Angel Pt 1 (feat. Jimin of BTS, JVKE & Muni Long)",
           "Kodak Black, NLE Choppa, Muni Long, JVKE, Jimin"
          ],
          [
           "Acrï¿½ï¿½s",
           "Shakira"
          ],
          [
           "AMG",
           "Natanael Cano, Gabito Ballesteros, Peso Pluma"
          ],
          [
           "Phir Aur Kya Chahiye (From \"Zara Hatke Zara Bachke\")",
           "Arijit Singh, Sachin-Jigar, Amitabha Bhattacharya"
          ],
          [
           "S-Class",
           "Stray Kids"
          ],
          [
           "Hits Different",
           "Taylor Swift"
          ],
          [
           "Chanel",
           "Becky G, Peso Pluma"
          ],
          [
           "Self Love (Spider-Man: Across the Spider-Verse) (Metro Boomin & Coi Leray)",
           "Metro Boomin, Coi Leray"
          ],
          [
           "Area Codes",
           "Kaliii, Kaliii"
          ],
          [
           "Abcdario",
           "Junior H, Eden Muï¿½ï"
          ],
          [
           "Obsessed",
           "Abhijay Sharma, Riar Saab"
          ],
          [
           "Piï¿½ï¿½man Deï¿",
           "Semicenk, Doï¿½ï¿½u "
          ],
          [
           "FLOWER",
           "JISOO"
          ],
          [
           "All The Way Live (Spider-Man: Across the Spider-Verse) (Metro Boomin & Future, Lil Uzi Vert)",
           "Future, Lil Uzi Vert, Metro Boomin"
          ],
          [
           "Eyes Closed",
           "Ed Sheeran"
          ],
          [
           "Escapism.",
           "RAYE, 070 Shake"
          ],
          [
           "La Jumpa",
           "Arcangel, Bad Bunny"
          ],
          [
           "Karma (feat. Ice Spice)",
           "Taylor Swift, Ice Spice"
          ],
          [
           "Superhero (Heroes & Villains) [with Future & Chris Brown]",
           "Future, Chris Brown, Metro Boomin"
          ],
          [
           "Las Morras",
           "BLESSD, Peso Pluma"
          ],
          [
           "CHORRITO PA LAS ANIMAS",
           "Feid"
          ],
          [
           "Ch y la Pizza",
           "Fuerza Regida, Natanael Cano"
          ],
          [
           "Snow On The Beach (feat. More Lana Del Rey)",
           "Lana Del Rey, Taylor Swift"
          ],
          [
           "Players",
           "Coi Leray"
          ],
          [
           "Bite Me",
           "ENHYPEN"
          ],
          [
           "Stand By Me (feat. Morgan Wallen)",
           "Lil Durk, Morgan Wallen"
          ],
          [
           "Normal",
           "Feid"
          ],
          [
           "Hummingbird (Metro Boomin & James Blake)",
           "James Blake, Metro Boomin"
          ],
          [
           "Seu Brilho Sumiu - Ao Vivo",
           "Israel & Rodolffo, Mari Fernandez"
          ],
          [
           "Bad Habit",
           "Steve Lacy"
          ],
          [
           "CUFF IT",
           "Beyoncï¿"
          ],
          [
           "Lilith (feat. SUGA of BTS) (Diablo IV Anthem)",
           "Halsey, Suga"
          ],
          [
           "69",
           "Nicky Jam, Feid"
          ],
          [
           "Niï¿½ï¿½a Bo",
           "Sean Paul, Feid"
          ],
          [
           "Search & Rescue",
           "Drake"
          ],
          [
           "AMERICA HAS A PROBLEM (feat. Kendrick Lamar)",
           "Kendrick Lamar, Beyoncï¿"
          ],
          [
           "Lavender Haze",
           "Taylor Swift"
          ],
          [
           "Link Up (Metro Boomin & Don Toliver, Wizkid feat. BEAM & Toian) - Spider-Verse Remix (Spider-Man: Across the Spider-Verse )",
           "WizKid, Toian, Metro Boomin, Don Toliver, Beam"
          ],
          [
           "Efecto",
           "Bad Bunny"
          ],
          [
           "Erro Gostoso - Ao Vivo",
           "Simone Mendes"
          ],
          [
           "Cupido",
           "Tini"
          ],
          [
           "Just Wanna Rock",
           "Lil Uzi Vert"
          ],
          [
           "Until I Found You",
           "Stephen Sanchez"
          ],
          [
           "Rich Flex",
           "Drake, 21 Savage"
          ],
          [
           "Easy On Me",
           "Adele"
          ],
          [
           "Cartï¿½ï¿½o B",
           "MC Caverinha, KayBlack"
          ],
          [
           "Danger (Spider) (Offset & JID)",
           "Offset, JID"
          ],
          [
           "Oi Balde - Ao Vivo",
           "Zï¿½ï¿½ Neto & Crist"
          ],
          [
           "The Real Slim Shady",
           "Eminem"
          ],
          [
           "MERCHO",
           "Migrantes, LiL CaKe, Nico Valdi"
          ],
          [
           "The Color Violet",
           "Tory Lanez"
          ],
          [
           "Glimpse of Us",
           "Joji"
          ],
          [
           "Mejor Que Yo",
           "Mambo Kingz, DJ Luian, Anuel Aa"
          ],
          [
           "Curtains",
           "Ed Sheeran"
          ],
          [
           "UNFORGIVEN (feat. Nile Rodgers)",
           "Nile Rodgers, LE SSERAFIM"
          ],
          [
           "Haegeum",
           "Agust D"
          ],
          [
           "Conexï¿½ï¿½es de Mï¿½ï¿½fia (feat. Rich ",
           "Rich The Kid, Matuï¿"
          ],
          [
           "Never Felt So Alone",
           "Labrinth"
          ],
          [
           "X SI VOLVEMOS",
           "Karol G, Romeo Santos"
          ],
          [
           "ceilings",
           "Lizzy McAlpine"
          ],
          [
           "Cupid",
           "Fifty Fifty"
          ],
          [
           "I AM",
           "IVE"
          ],
          [
           "Cupid ï¿½ï¿½ï¿½ Twin Ver. (FIFTY FIFTY) ï¿½ï¿½ï¿½ Spe",
           "sped up 8282"
          ],
          [
           "Shorty Party",
           "Cartel De Santa, La Kelly"
          ],
          [
           "Super",
           "SEVENTEEN"
          ],
          [
           "Slut Me Out",
           "NLE Choppa"
          ],
          [
           "Double Fantasy (with Future)",
           "The Weeknd, Future"
          ],
          [
           "All Of The Girls You Loved Before",
           "Taylor Swift"
          ],
          [
           "PROVENZA",
           "Karol G"
          ],
          [
           "Princess Diana (with Nicki Minaj)",
           "Nicki Minaj, Ice Spice"
          ],
          [
           "Di Que Si",
           "Grupo Marca Registrada, Grupo Frontera"
          ],
          [
           "Igualito a Mi Apï¿",
           "Fuerza Regida, Peso Pluma"
          ],
          [
           "Shoong! (feat. LISA of BLACKPINK)",
           "TAEYANG, Lisa"
          ],
          [
           "Komang",
           "Raim Laode"
          ],
          [
           "DESPECHï¿",
           "ROSALï¿½"
          ],
          [
           "Made You Look",
           "Meghan Trainor"
          ],
          [
           "Watch This - ARIZONATEARS Pluggnb Remix",
           "sped up nightcore, ARIZONATEARS, Lil Uzi Vert"
          ],
          [
           "Punto G",
           "Quevedo"
          ],
          [
           "Lovers Rock",
           "TV Girl"
          ],
          [
           "METAMORPHOSIS",
           "INTERWORLD"
          ],
          [
           "Mami Chula",
           "Quevedo, Jhayco"
          ],
          [
           "En Paris",
           "El Chachito, Junior H"
          ],
          [
           "I Was Never There",
           "The Weeknd, Gesaffelstein"
          ],
          [
           "Don't ever say love me (feat. RM of BTS)",
           "RM, Colde"
          ],
          [
           "Gato de Noche",
           "Nengo Flow, Bad Bunny"
          ],
          [
           "Call Out My Name",
           "The Weeknd"
          ],
          [
           "Like Crazy (English Version)",
           "Jimin"
          ],
          [
           "Rosa Pastel",
           "Jasiel Nuï¿½ï¿½ez, Peso P"
          ],
          [
           "Sunroof",
           "Nicky Youre, Dazy"
          ],
          [
           "Lose Yourself - Soundtrack Version",
           "Eminem"
          ],
          [
           "Superman",
           "Eminem, Dina Rae"
          ],
          [
           "Mas Rica Que Ayer",
           "Mambo Kingz, DJ Luian, Anuel Aa"
          ],
          [
           "People Pt.2 (feat. IU)",
           "IU, Agust D"
          ],
          [
           "REMIX EXCLUSIVO",
           "Feid"
          ],
          [
           "Arcï¿½ï¿½ngel: Bzrp Music Sessions, Vol",
           "Arcangel, Bizarrap"
          ],
          [
           "DOGTOOTH",
           "Tyler, The Creator"
          ],
          [
           "10:35",
           "Tiï¿½ï¿½sto, Tate M"
          ],
          [
           "SORRY NOT SORRY",
           "Tyler, The Creator"
          ],
          [
           "HAPPY",
           "NF"
          ],
          [
           "La Bebe",
           "Yng Lvcas"
          ],
          [
           "I Know - PR1SVX Edit",
           "Kanii, PR1ISVX"
          ],
          [
           "Late Night Talking",
           "Harry Styles"
          ],
          [
           "Leï¿½",
           "Marï¿½ï¿½lia Mendo"
          ],
          [
           "Something in the Orange",
           "Zach Bryan"
          ],
          [
           "VOID",
           "Melanie Martinez"
          ],
          [
           "Dijeron Que No La Iba Lograr",
           "Fuerza Regida, Chino Pacas"
          ],
          [
           "If We Ever Broke Up",
           "Mae Stephens"
          ],
          [
           "You Proof",
           "Morgan Wallen"
          ],
          [
           "LA INOCENTE",
           "Feid, Mora"
          ],
          [
           "Malas Decisiones",
           "Kenia OS"
          ],
          [
           "Murder In My Mind",
           "Kordhell"
          ],
          [
           "CAIRO",
           "Karol G, Ovy On The Drums"
          ],
          [
           "I Love You So",
           "The Walters"
          ],
          [
           "Dark Red",
           "Steve Lacy"
          ],
          [
           "Say You Won't Let Go",
           "James Arthur"
          ],
          [
           "Heart To Heart",
           "Mac DeMarco"
          ],
          [
           "Peaches (from The Super Mario Bros. Movie)",
           "Jack Black"
          ],
          [
           "Marisola - Remix",
           "Duki, NICKI NICOLE, Cris Mj, Standly, Stars Music Chile"
          ],
          [
           "LOKERA",
           "Brray, Rauw Alejandro, Lyanno"
          ],
          [
           "Numb",
           "Linkin Park"
          ],
          [
           "on the street (with J. Cole)",
           "j-hope, J. Cole"
          ],
          [
           "One Thing At A Time",
           "Morgan Wallen"
          ],
          [
           "Miss You",
           "Robin Schulz, Oliver Tree"
          ],
          [
           "Ainï¿½ï¿½ï¿½t Tha",
           "Morgan Wallen"
          ],
          [
           "Thinkinï¿½ï¿½ï¿½ B",
           "Morgan Wallen"
          ],
          [
           "Private Landing (feat. Justin Bieber & Future)",
           "Don Toliver, Future, Justin Bieber"
          ],
          [
           "Everything I Love",
           "Morgan Wallen"
          ],
          [
           "Heaven",
           "Niall Horan"
          ],
          [
           "LET GO",
           "Central Cee"
          ],
          [
           "Sial",
           "Mahalini"
          ],
          [
           "I Wrote The Book",
           "Morgan Wallen"
          ],
          [
           "Apna Bana Le (From \"Bhediya\")",
           "Arijit Singh, Sachin-Jigar"
          ],
          [
           "SPIT IN MY FACE!",
           "ThxSoMch"
          ],
          [
           "PLAYA DEL INGLï¿½",
           "Myke Towers, Quevedo"
          ],
          [
           "Man Made A Bar (feat. Eric Church)",
           "Morgan Wallen, Eric Church"
          ],
          [
           "Red Ruby Da Sleeze",
           "Nicki Minaj"
          ],
          [
           "Kahani Suno 2.0",
           "Kaifi Khalil"
          ],
          [
           "Nobody Gets Me",
           "SZA"
          ],
          [
           "PERO Tï¿",
           "Karol G, Quevedo"
          ],
          [
           "Hype Boy",
           "NewJeans"
          ],
          [
           "Bloody Mary",
           "Lady Gaga"
          ],
          [
           "ýýý98 Braves",
           "Morgan Wallen"
          ],
          [
           "WANDA",
           "Quevedo"
          ],
          [
           "Thought You Should Know",
           "Morgan Wallen"
          ],
          [
           "In The End",
           "Linkin Park"
          ],
          [
           "Zona De Perigo",
           "Leo Santana"
          ],
          [
           "Lovezinho",
           "Treyce"
          ],
          [
           "I Like You (A Happier Song) (with Doja Cat)",
           "Post Malone, Doja Cat"
          ],
          [
           "Neverita",
           "Bad Bunny"
          ],
          [
           "Sem Alianï¿½ï¿½a no ",
           "MC Xenon, Os Gemeos da Putaria"
          ],
          [
           "Enemy (with JID) - from the series Arcane League of Legends",
           "Imagine Dragons, League of Legends, JID, Arcane"
          ],
          [
           "Revenge",
           "XXXTENTACION"
          ],
          [
           "Bombonzinho - Ao Vivo",
           "Israel & Rodolffo, Ana Castela"
          ],
          [
           "LA CANCIï¿½",
           "J Balvin, Bad Bunny"
          ],
          [
           "Quï¿½ï¿½ Ago",
           "Yuridia, Angela Aguilar"
          ],
          [
           "Love Again",
           "The Kid Laroi"
          ],
          [
           "After Hours",
           "The Weeknd"
          ],
          [
           "About Damn Time",
           "Lizzo"
          ],
          [
           "ýýýýýýýýýýýýýýýýýýýýý",
           "Fujii Kaze"
          ],
          [
           "Besos Moja2",
           "Wisin & Yandel, ROSALï¿½"
          ],
          [
           "Maan Meri Jaan",
           "King"
          ],
          [
           "Moscow Mule",
           "Bad Bunny"
          ],
          [
           "My Universe",
           "Coldplay, BTS"
          ],
          [
           "LLYLM",
           "ROSALï¿½"
          ],
          [
           "TRUSTFALL",
           "P!nk"
          ],
          [
           "ANTIFRAGILE",
           "LE SSERAFIM"
          ],
          [
           "Boy's a liar",
           "PinkPantheress"
          ],
          [
           "Shirt",
           "SZA"
          ],
          [
           "Lift Me Up - From Black Panther: Wakanda Forever - Music From and Inspired By",
           "Rihanna"
          ],
          [
           "STAR WALKIN' (League of Legends Worlds Anthem)",
           "Lil Nas X"
          ],
          [
           "Sex, Drugs, Etc.",
           "Beach Weather"
          ],
          [
           "Boy With Luv (feat. Halsey)",
           "Halsey, BTS"
          ],
          [
           "Hey, Mickey!",
           "Baby Tate"
          ],
          [
           "Jhoome Jo Pathaan",
           "Arijit Singh, Vishal Dadlani, Sukriti Kakar, Vishal-Shekhar, Shekhar Ravjiani, Kumaar"
          ],
          [
           "Escapism. - Sped Up",
           "RAYE, 070 Shake"
          ],
          [
           "Te Felicito",
           "Shakira, Rauw Alejandro"
          ],
          [
           "Muï¿½ï¿½",
           "Steve Aoki, Tini, La Joaqui"
          ],
          [
           "TV",
           "Billie Eilish"
          ],
          [
           "I'm Not The Only One",
           "Sam Smith"
          ],
          [
           "Heather",
           "Conan Gray"
          ],
          [
           "Besharam Rang (From \"Pathaan\")",
           "Vishal-Shekhar, Shilpa Rao, Caralisa Monteiro, Kumaar, Vishal Dadlani, Shekhar Ravjiani"
          ],
          [
           "Sugar Rush Ride",
           "TOMORROW X TOGETHER"
          ],
          [
           "WAIT FOR U (feat. Drake & Tems)",
           "Drake, Future, Tems"
          ],
          [
           "Don't Start Now",
           "Dua Lipa"
          ],
          [
           "After Dark",
           "Mr.Kitty"
          ],
          [
           "MIDDLE OF THE NIGHT",
           "Elley Duhï¿"
          ],
          [
           "Atlantis",
           "Seafret"
          ],
          [
           "Evoque Prata",
           "DJ Escobar, MC MENOR SG, MC MENOR HR"
          ],
          [
           "How Do I Say Goodbye",
           "Dean Lewis"
          ],
          [
           "Blind",
           "SZA"
          ],
          [
           "Die For You",
           "Joji"
          ],
          [
           "Doja",
           "Central Cee"
          ],
          [
           "Gatita",
           "Bellakath"
          ],
          [
           "Rumble",
           "Skrillex, Flowdan, Fred again.."
          ],
          [
           "Niagara Falls (Foot or 2) [with Travis Scott & 21 Savage]",
           "Travis Scott, 21 Savage, Metro Boomin"
          ],
          [
           "Yonaguni",
           "Bad Bunny"
          ],
          [
           "Super Freaky Girl",
           "Nicki Minaj"
          ],
          [
           "Running Up That Hill (A Deal With God)",
           "Kate Bush"
          ],
          [
           "Dream On",
           "Aerosmith"
          ],
          [
           "Limbo",
           "Freddie Dredd"
          ],
          [
           "Where Are You Now",
           "Lost Frequencies, Calum Scott"
          ],
          [
           "WORTH NOTHING",
           "Twisted, Oliver Tree"
          ],
          [
           "KICK BACK",
           "Kenshi Yonezu"
          ],
          [
           "Evergreen (You Didnï¿½ï¿½ï¿½t Deserve Me A",
           "Omar Apollo"
          ],
          [
           "Good Days",
           "SZA"
          ],
          [
           "Levitating (feat. DaBaby)",
           "Dua Lipa, DaBaby"
          ],
          [
           "Shut up My Moms Calling - (Sped Up)",
           "Hotel Ugly"
          ],
          [
           "Ferrari",
           "James Hype, Miggy Dela Rosa"
          ],
          [
           "You're On Your Own, Kid",
           "Taylor Swift"
          ],
          [
           "Agudo Mï¿½ï¿½gi",
           "Styrx, utku INC, Thezth"
          ],
          [
           "It's Beginning To Look A Lot Like Christmas",
           "Michael Bublï¿"
          ],
          [
           "It's the Most Wonderful Time of the Year",
           "Andy Williams"
          ],
          [
           "Let It Snow! Let It Snow! Let It Snow!",
           "Dean Martin"
          ],
          [
           "Underneath the Tree",
           "Kelly Clarkson"
          ],
          [
           "Feliz Navidad",
           "Josï¿½ï¿½ Felic"
          ],
          [
           "Holly Jolly Christmas",
           "Michael Bublï¿"
          ],
          [
           "Mistletoe",
           "Justin Bieber"
          ],
          [
           "Sleigh Ride",
           "The Ronettes"
          ],
          [
           "Seek & Destroy",
           "SZA"
          ],
          [
           "Love Language",
           "SZA"
          ],
          [
           "Happy Xmas (War Is Over)",
           "John Lennon, The Harlem Community Choir, The Plastic Ono Band, Yoko Ono"
          ],
          [
           "Used (feat. Don Toliver)",
           "SZA, Don Toliver"
          ],
          [
           "The Christmas Song (Merry Christmas To You) - Remastered 1999",
           "Nat King Cole"
          ],
          [
           "Wonderful Christmastime - Edited Version / Remastered 2011",
           "Paul McCartney"
          ],
          [
           "Ghost in the Machine (feat. Phoebe Bridgers)",
           "SZA, Phoebe Bridgers"
          ],
          [
           "Merry Christmas Everyone",
           "Shakin' Stevens"
          ],
          [
           "Let It Snow! Let It Snow! Let It Snow!",
           "Frank Sinatra, B. Swanson Quartet"
          ],
          [
           "SOS",
           "SZA"
          ],
          [
           "Open Arms (feat. Travis Scott)",
           "SZA, Travis Scott"
          ],
          [
           "White Christmas",
           "Bing Crosby, John Scott Trotter & His Orchestra, Ken Darby Singers"
          ],
          [
           "Driving Home for Christmas - 2019 Remaster",
           "Chris Rea"
          ],
          [
           "Christmas (Baby Please Come Home)",
           "Darlene Love"
          ],
          [
           "Gone Girl",
           "SZA"
          ],
          [
           "F2F",
           "SZA"
          ],
          [
           "Notice Me",
           "SZA"
          ],
          [
           "It's Beginning to Look a Lot Like Christmas (with Mitchell Ayres & His Orchestra)",
           "Perry Como, The Fontane Sisters, Mitchell Ayres & His Orchestra"
          ],
          [
           "Antidepresan",
           "Mabel Matiz, Mert Demir"
          ],
          [
           "Wild Flower (with youjeen)",
           "RM"
          ],
          [
           "I Hate U",
           "SZA"
          ],
          [
           "Raindrops (Insane) [with Travis Scott]",
           "Travis Scott, Metro Boomin"
          ],
          [
           "SPIT IN MY FACE!",
           "ThxSoMch"
          ],
          [
           "Deck The Hall - Remastered 1999",
           "Nat King Cole"
          ],
          [
           "Smoking on my Ex Pack",
           "SZA"
          ],
          [
           "Conceited",
           "SZA"
          ],
          [
           "Snow On The Beach (feat. Lana Del Rey)",
           "Taylor Swift, Lana Del Rey"
          ],
          [
           "Maroon",
           "Taylor Swift"
          ],
          [
           "Tubarï¿½ï¿½o Te",
           "Dj LK da Escï¿½ï¿½cia, Tchakabum, mc jhenny, M"
          ],
          [
           "Bejeweled",
           "Taylor Swift"
          ],
          [
           "Tarot",
           "Bad Bunny, Jhay Cortez"
          ],
          [
           "You Make It Feel Like Christmas (feat. Blake Shelton)",
           "Gwen Stefani, Blake Shelton"
          ],
          [
           "Desesperados",
           "Chencho Corleone, Rauw Alejandro"
          ],
          [
           "Too Late",
           "SZA"
          ],
          [
           "Party",
           "Bad Bunny, Rauw Alejandro"
          ],
          [
           "Run Rudolph Run - Single Version",
           "Chuck Berry"
          ],
          [
           "Jingle Bells - Remastered 1999",
           "Frank Sinatra"
          ],
          [
           "Far",
           "SZA"
          ],
          [
           "On Time (with John Legend)",
           "John Legend, Metro Boomin"
          ],
          [
           "GATï¿½ï¿½",
           "Maldy, Karol G"
          ],
          [
           "Is There Someone Else?",
           "The Weeknd"
          ],
          [
           "Fingers Crossed",
           "Lauren Spencer Smith, Lauren Spencer Smith, Lauren Spencer Smith"
          ],
          [
           "Do It To It",
           "Cherish, ACRAZE"
          ],
          [
           "How Do I Make You Love Me?",
           "The Weeknd"
          ],
          [
           "Gasoline",
           "The Weeknd"
          ],
          [
           "Infinity",
           "Jaymes Young"
          ],
          [
           "Take My Breath",
           "The Weeknd"
          ],
          [
           "Here We Goï¿½ï¿½ï¿½ Again (feat. Tyler, the Cr",
           "The Weeknd, Tyler, The Creator"
          ],
          [
           "Best Friends",
           "The Weeknd"
          ],
          [
           "Kiss Me More (feat. SZA)",
           "SZA, Doja Cat"
          ],
          [
           "I Heard You're Married (feat. Lil Wayne)",
           "The Weeknd, Lil Wayne"
          ],
          [
           "Dawn FM",
           "The Weeknd"
          ],
          [
           "Surface Pressure",
           "Jessica Darrow"
          ],
          [
           "Starry Eyes",
           "The Weeknd"
          ],
          [
           "THATS WHAT I WANT",
           "Lil Nas X"
          ],
          [
           "One Right Now (with The Weeknd)",
           "The Weeknd, Post Malone"
          ],
          [
           "Beggin",
           "Mï¿½ï¿½ne"
          ],
          [
           "Mon Amour - Remix",
           "Aitana, zzoilo"
          ],
          [
           "Lo Siento BB:/ (with Bad Bunny & Julieta Venegas)",
           "Julieta Venegas, Bad Bunny, Tainy"
          ],
          [
           "The Motto",
           "Tiï¿½ï¿½sto, Ava"
          ],
          [
           "Malvadï¿½ï¿",
           "Xamï¿½ï¿½, Gustah, Neo B"
          ],
          [
           "Donï¿½ï¿½ï¿½t Break My",
           "The Weeknd"
          ],
          [
           "Oh My God",
           "Adele"
          ],
          [
           "Entre Nosotros (Remix) [con Nicki Nicole]",
           "Lit Killah, Maria Becerra, Tiago pzk, NICKI NICOLE"
          ],
          [
           "A Tale By Quincy",
           "The Weeknd"
          ],
          [
           "I AM WOMAN",
           "Emmy Meli"
          ],
          [
           "Medallo",
           "Justin Quiles, Lenny Tavï¿½ï¿½rez, BL"
          ],
          [
           "It'll Be Okay",
           "Shawn Mendes"
          ],
          [
           "Softcore",
           "The Neighbourhood"
          ],
          [
           "Super Gremlin",
           "Kodak Black"
          ],
          [
           "Volvï¿",
           "Aventura, Bad Bunny"
          ],
          [
           "Todo De Ti",
           "Rauw Alejandro"
          ],
          [
           "Smokin Out The Window",
           "Bruno Mars, Anderson .Paak, Silk Sonic"
          ],
          [
           "Meet Me At Our Spot",
           "THE ANXIETY, Willow, Tyler Cole"
          ],
          [
           "Tacones Rojos",
           "Sebastian Yatra"
          ],
          [
           "Dakiti",
           "Bad Bunny, Jhay Cortez"
          ],
          [
           "Tiago PZK: Bzrp Music Sessions, Vol. 48",
           "Bizarrap, Tiago pzk"
          ],
          [
           "Lï¿½ï¿½ï¿",
           "Stromae"
          ],
          [
           "Nostï¿½ï¿½l",
           "Chris Brown, Rvssian, Rauw Alejandro"
          ],
          [
           "Sad Girlz Luv Money Remix (feat. Kali Uchis)",
           "Kali Uchis, Amaarae, Moliy"
          ],
          [
           "Butter",
           "BTS"
          ],
          [
           "pushin P (feat. Young Thug)",
           "Young Thug, Future, Gunna"
          ],
          [
           "You Right",
           "Doja Cat, The Weeknd"
          ],
          [
           "deja vu",
           "Olivia Rodrigo"
          ],
          [
           "TO THE MOON",
           "Jnr Choi"
          ],
          [
           "Lost in the Fire",
           "The Weeknd, Gesaffelstein"
          ],
          [
           "Salimo de Noche",
           "Trueno, Tiago pzk"
          ],
          [
           "Volando - Remix",
           "Sech, Bad Bunny, Mora"
          ],
          [
           "Leave The Door Open",
           "Bruno Mars, Anderson .Paak, Silk Sonic"
          ],
          [
           "Knife Talk (with 21 Savage ft. Project Pat)",
           "Drake, Project Pat, 21 Savage"
          ],
          [
           "Don't Be Shy",
           "Tiï¿½ï¿½sto, Kar"
          ],
          [
           "Love Grows (Where My Rosemary Goes)",
           "Edison Lighthouse"
          ],
          [
           "The Family Madrigal",
           "Olga Merediz, Stephanie Beatriz, Encanto - Cast"
          ],
          [
           "Phantom Regret by Jim",
           "The Weeknd"
          ],
          [
           "Freaks",
           "Surf Curse"
          ],
          [
           "Acapulco",
           "Jason Derulo"
          ],
          [
           "Daddy Issues",
           "The Neighbourhood"
          ],
          [
           "thought i was playing",
           "21 Savage, Gunna"
          ],
          [
           "ELEVEN",
           "IVE"
          ],
          [
           "What Else Can I Do?",
           "Stephanie Beatriz, Diane Guerrero"
          ],
          [
           "Miserable Man",
           "David Kushner"
          ],
          [
           "happier",
           "Olivia Rodrigo"
          ],
          [
           "Praise God",
           "Kanye West"
          ],
          [
           "Get Into It (Yuh)",
           "Doja Cat"
          ],
          [
           "Before You Go",
           "Lewis Capaldi"
          ],
          [
           "Sky",
           "Playboi Carti"
          ],
          [
           "Rolling in the Deep",
           "Adele"
          ],
          [
           "Sobrio",
           "Maluma"
          ],
          [
           "Peru",
           "Ed Sheeran, Fireboy DML"
          ],
          [
           "favorite crime",
           "Olivia Rodrigo"
          ],
          [
           "Thunder",
           "Prezioso, Gabry Ponte, LUM!X"
          ],
          [
           "The Business",
           "Tiï¿½ï¿"
          ],
          [
           "I WANNA BE YOUR SLAVE",
           "Mï¿½ï¿½ne"
          ],
          [
           "Vai Lï¿½ï¿½ Em Casa ",
           "Marï¿½ï¿½lia Mendonï¿½ï¿½a, George Henrique &"
          ],
          [
           "The Feels",
           "TWICE"
          ],
          [
           "No Lie",
           "Sean Paul, Dua Lipa"
          ],
          [
           "OUT OUT (feat. Charli XCX & Saweetie)",
           "Charli XCX, Jax Jones, Joel Corry, Saweetie"
          ],
          [
           "Pope Is a Rockstar",
           "SALES"
          ],
          [
           "2055",
           "Sleepy hallow"
          ],
          [
           "Bored",
           "Billie Eilish"
          ],
          [
           "Astronaut In The Ocean",
           "Masked Wolf"
          ],
          [
           "Ley Seca",
           "Anuel Aa, Jhay Cortez"
          ],
          [
           "Every Summertime",
           "NIKI"
          ],
          [
           "Talking To The Moon",
           "Bruno Mars"
          ],
          [
           "you broke me first",
           "Tate McRae"
          ],
          [
           "The Nights",
           "Avicii"
          ],
          [
           "Take My Breath",
           "The Weeknd"
          ],
          [
           "Way 2 Sexy (with Future & Young Thug)",
           "Drake, Future, Young Thug"
          ],
          [
           "Cï¿½ï¿½",
           "Rauw Alejandro"
          ],
          [
           "Enemy - from the series Arcane League of Legends",
           "Imagine Dragons, League of Legends, Arcane"
          ],
          [
           "Lucid Dreams",
           "Juice WRLD"
          ],
          [
           "Quï¿½ï¿½ Mï¿½ï¿",
           "J Balvin, Maria Becerra"
          ],
          [
           "All of Me",
           "John Legend"
          ],
          [
           "Smells Like Teen Spirit - Remastered 2021",
           "Nirvana"
          ],
          [
           "Fair Trade (with Travis Scott)",
           "Drake, Travis Scott"
          ],
          [
           "Bar",
           "Tini, L-Gante"
          ],
          [
           "The Rumbling (TV Size)",
           "SiM"
          ],
          [
           "family ties (with Kendrick Lamar)",
           "Kendrick Lamar, Baby Keem"
          ],
          [
           "Mr. Brightside",
           "The Killers"
          ],
          [
           "Blessed-Cursed",
           "ENHYPEN"
          ],
          [
           "AM Remix",
           "J Balvin, Nio Garcia, Bad Bunny"
          ],
          [
           "Streets",
           "Doja Cat"
          ],
          [
           "Shallow",
           "Lady Gaga, Bradley Cooper"
          ],
          [
           "Polaroid Love",
           "ENHYPEN"
          ],
          [
           "Leave Before You Love Me (with Jonas Brothers)",
           "Marshmello, Jonas Brothers"
          ],
          [
           "Permission to Dance",
           "BTS"
          ],
          [
           "Friday (feat. Mufasa & Hypeman) - Dopamine Re-Edit",
           "Riton, Nightcrawlers, Mufasa & Hypeman, Dopamine"
          ],
          [
           "RAPSTAR",
           "Polo G"
          ],
          [
           "'Till I Collapse",
           "Eminem, Nate Dogg"
          ],
          [
           "Memories",
           "Maroon 5"
          ],
          [
           "Se Le Ve",
           "Arcangel, De La Ghetto, Justin Quiles, Lenny Tavï¿½ï¿½rez, Sech, Dalex, Dimelo Flow, Rich Music"
          ],
          [
           "25k jacket (feat. Lil Baby)",
           "Gunna, Lil Baby"
          ],
          [
           "Esqueï¿½ï¿½a-Me Se For C",
           "Marï¿½ï¿½lia Mendonï¿½ï¿½a, Maiara &"
          ],
          [
           "Miï¿½ï¿½n",
           "Tini, Maria Becerra"
          ],
          [
           "Sï¿½ï¿½",
           "Anuel Aa, Myke Towers, Jhay Cortez"
          ],
          [
           "MAMIII",
           "Karol G, Becky G"
          ],
          [
           "Still D.R.E.",
           "Dr. Dre, Snoop Dogg"
          ],
          [
           "Stay Alive (Prod. SUGA of BTS)",
           "Jung Kook"
          ],
          [
           "Boyfriend",
           "Dove Cameron"
          ],
          [
           "The Next Episode",
           "Dr. Dre, Snoop Dogg"
          ],
          [
           "Light Switch",
           "Charlie Puth"
          ],
          [
           "City of Gods",
           "Kanye West, Alicia Keys, Fivio Foreign"
          ],
          [
           "Brividi",
           "Mahmood, Blanco"
          ],
          [
           "Lost",
           "Frank Ocean"
          ],
          [
           "In Da Club",
           "50 Cent"
          ],
          [
           "she's all i wanna be",
           "Tate McRae"
          ],
          [
           "Ginseng Strip 2002",
           "Yung Lean"
          ],
          [
           "All For Us - from the HBO Original Series Euphoria",
           "Labrinth, Zendaya"
          ],
          [
           "Notion",
           "The Rare Occasions"
          ],
          [
           "Formula",
           "Labrinth"
          ],
          [
           "Excuses",
           "Intense, AP Dhillon, Gurinder Gill"
          ],
          [
           "Cigarettes",
           "Juice WRLD"
          ],
          [
           "Cayï¿½ï¿½ La Noche (feat. Cruz Cafunï¿½ï¿½, Abhir Hathi, Bejo, EL IMA)",
           "Quevedo, La Pantera, Juseph, Cruz Cafunï¿½ï¿½, Bï¿½ï¿½jo, Abhir Hathi"
          ],
          [
           "California Love - Original Version (Explicit)",
           "Dr. Dre, 2Pac, Roger"
          ],
          [
           "Forgot About Dre",
           "Eminem, Dr. Dre"
          ],
          [
           "Down Under (feat. Colin Hay)",
           "Luude, Colin Hay"
          ],
          [
           "Mujeriego",
           "Ryan Castro"
          ],
          [
           "HUMBLE.",
           "Kendrick Lamar"
          ],
          [
           "Stan",
           "Eminem, Dido"
          ],
          [
           "Contection",
           "GODZZ__-, Zakaria"
          ],
          [
           "Swim",
           "Chase Atlantic"
          ],
          [
           "Numb Little Bug",
           "Em Beihold"
          ],
          [
           "212",
           "Mainstreet, Chefin"
          ],
          [
           "Problemï¿½",
           "Alvaro Diaz, Rauw Alejandro"
          ],
          [
           "Bussin",
           "Nicki Minaj, Lil Baby"
          ],
          [
           "Worst Day",
           "Future"
          ],
          [
           "Malvada",
           "Zï¿½ï¿½ Fe"
          ],
          [
           "Hrs and Hrs",
           "Muni Long"
          ],
          [
           "Alien Blues",
           "Vundabar"
          ],
          [
           "Thinking Out Loud",
           "Ed Sheeran"
          ],
          [
           "Still Don't Know My Name",
           "Labrinth"
          ],
          [
           "Christmas Tree",
           "V"
          ],
          [
           "When I R.I.P.",
           "Labrinth"
          ],
          [
           "Do We Have A Problem?",
           "Nicki Minaj, Lil Baby"
          ],
          [
           "Forever",
           "Labrinth"
          ],
          [
           "Gospel (with Eminem)",
           "Eminem, Dr. Dre"
          ],
          [
           "Seï¿½ï¿½o",
           "Shawn Mendes, Camila Cabello"
          ],
          [
           "NEW MAGIC WAND",
           "Tyler, The Creator"
          ],
          [
           "Adore You",
           "Harry Styles"
          ],
          [
           "La Santa",
           "Daddy Yankee, Bad Bunny"
          ],
          [
           "Something In The Way - Remastered 2021",
           "Nirvana"
          ],
          [
           "Sweetest Pie",
           "Dua Lipa, Megan Thee Stallion"
          ],
          [
           "Bam Bam (feat. Ed Sheeran)",
           "Camila Cabello, Ed Sheeran"
          ],
          [
           "Una Noche en Medellï¿½",
           "Cris Mj"
          ],
          [
           "Envolver",
           "Anitta"
          ],
          [
           "Starlight",
           "Dave"
          ],
          [
           "Hati-Hati di Jalan",
           "Tulus"
          ],
          [
           "DANï¿½ï¿½A",
           "Mc Pedrinho, Pedro Sampaio"
          ],
          [
           "Yo Voy (feat. Daddy Yankee)",
           "Zion & Lennox"
          ],
          [
           "Residente: Bzrp Music Sessions, Vol. 49",
           "Residente, Bizarrap"
          ],
          [
           "Jordan",
           "Ryan Castro"
          ],
          [
           "Nail Tech",
           "Jack Harlow"
          ],
          [
           "Chale",
           "Eden Muï¿½ï"
          ],
          [
           "Ya No Somos Ni Seremos",
           "Christian Nodal"
          ],
          [
           "Freaky Deaky",
           "Tyga, Doja Cat"
          ],
          [
           "this is what falling in love feels like",
           "JVKE"
          ],
          [
           "La Zona",
           "Bad Bunny"
          ],
          [
           "Hope",
           "XXXTENTACION"
          ],
          [
           "Levitating",
           "Dua Lipa"
          ],
          [
           "Wake Me Up - Radio Edit",
           "Avicii"
          ],
          [
           "jealousy, jealousy",
           "Olivia Rodrigo"
          ],
          [
           "Monï¿½ï¿½y so",
           "YEAT"
          ],
          [
           "Demasiadas Mujeres",
           "C. Tangana"
          ],
          [
           "Something Just Like This",
           "The Chainsmokers, Coldplay"
          ],
          [
           "Closer",
           "The Chainsmokers, Halsey"
          ],
          [
           "O.O",
           "NMIXX"
          ],
          [
           "Tom's Diner",
           "AnnenMayKantereit, Giant Rooks"
          ],
          [
           "First Class",
           "Jack Harlow"
          ],
          [
           "Fuera del mercado",
           "Danny Ocean"
          ],
          [
           "X ï¿½ï¿½LTIMA",
           "Daddy Yankee, Bad Bunny"
          ],
          [
           "When You're Gone",
           "Shawn Mendes"
          ],
          [
           "In My Head",
           "Lil Tjay"
          ],
          [
           "Wait a Minute!",
           "Willow"
          ],
          [
           "LOVE DIVE",
           "IVE"
          ],
          [
           "Pantysito",
           "Feid, Alejo, Robi"
          ],
          [
           "Chance",
           "Paulo Londra"
          ],
          [
           "Cool for the Summer",
           "Demi Lovato"
          ],
          [
           "psychofreak (feat. WILLOW)",
           "Camila Cabello, Willow"
          ],
          [
           "Angel Baby",
           "Troye Sivan"
          ],
          [
           "Vampiro",
           "Matuï¿½ï¿½, Wiu, "
          ],
          [
           "Si Quieren Frontear",
           "De La Ghetto, Duki, Quevedo"
          ],
          [
           "Right On",
           "Lil Baby"
          ],
          [
           "That's Hilarious",
           "Charlie Puth"
          ],
          [
           "Soy El Unico",
           "Yahritza Y Su Esencia"
          ],
          [
           "RUMBATï¿½",
           "Daddy Yankee"
          ],
          [
           "sentaDONA (Remix) s2",
           "Luï¿½ï¿½sa Sonza, MC Frog, Dj Gabriel do Borel, Davi K"
          ],
          [
           "Falling",
           "Harry Styles"
          ],
          [
           "Sigue",
           "Ed Sheeran, J Balvin"
          ],
          [
           "Fim de Semana no Rio",
           "teto"
          ],
          [
           "MANIAC",
           "Stray Kids"
          ],
          [
           "There's Nothing Holdin' Me Back",
           "Shawn Mendes"
          ],
          [
           "IDGAF (with blackbear)",
           "Blackbear, BoyWithUke"
          ],
          [
           "Golden",
           "Harry Styles"
          ],
          [
           "Get Lucky - Radio Edit",
           "Pharrell Williams, Nile Rodgers, Daft Punk"
          ],
          [
           "Ain't Shit",
           "Doja Cat"
          ],
          [
           "Nobody Like U - From \"Turning Red\"",
           "Jordan Fisher, Josh Levi, Finneas O'Connell, 4*TOWN (From Disney and Pixarï¿½ï¿½ï¿½s Turning Red), Topher Ngo, Grayson Vill"
          ],
          [
           "Still Life",
           "BIGBANG"
          ],
          [
           "Photograph",
           "Ed Sheeran"
          ],
          [
           "Love Yourself",
           "Justin Bieber"
          ],
          [
           "N95",
           "Kendrick Lamar"
          ],
          [
           "About Damn Time",
           "Lizzo"
          ],
          [
           "Die Hard",
           "Kendrick Lamar, Blxst, Amanda Reifer"
          ],
          [
           "Despuï¿½ï¿½s de la P",
           "Bad Bunny"
          ],
          [
           "United In Grief",
           "Kendrick Lamar"
          ],
          [
           "Father Time (feat. Sampha)",
           "Kendrick Lamar, Sampha"
          ],
          [
           "Rich Spirit",
           "Kendrick Lamar"
          ],
          [
           "Me Fui de Vacaciones",
           "Bad Bunny"
          ],
          [
           "Silent Hill",
           "Kendrick Lamar, Kodak Black"
          ],
          [
           "La Corriente",
           "Tony Dize, Bad Bunny"
          ],
          [
           "Count Me Out",
           "Kendrick Lamar"
          ],
          [
           "Andrea",
           "Buscabulla, Bad Bunny"
          ],
          [
           "Dos Mil 16",
           "Bad Bunny"
          ],
          [
           "We Cry Together",
           "Kendrick Lamar, Taylour Paige"
          ],
          [
           "Savior",
           "Kendrick Lamar, Sam Dew, Baby Keem"
          ],
          [
           "Un Coco",
           "Bad Bunny"
          ],
          [
           "Otro Atardecer",
           "Bad Bunny, The Marï¿½ï"
          ],
          [
           "Worldwide Steppers",
           "Kendrick Lamar"
          ],
          [
           "Aguacero",
           "Bad Bunny"
          ],
          [
           "Purple Hearts",
           "Kendrick Lamar, Ghostface Killah, Summer Walker"
          ],
          [
           "Un Verano Sin Ti",
           "Bad Bunny"
          ],
          [
           "ULTRA SOLO",
           "Polima WestCoast, Pailita"
          ],
          [
           "Ensï¿½ï¿½ï¿½ï¿½ame ",
           "Bad Bunny"
          ],
          [
           "El Apagï¿½",
           "Bad Bunny"
          ],
          [
           "Callaita",
           "Bad Bunny, Tainy"
          ],
          [
           "Dua Lipa",
           "Jack Harlow"
          ],
          [
           "Agosto",
           "Bad Bunny"
          ],
          [
           "House Of Memories",
           "Panic! At The Disco"
          ],
          [
           "Mr. Morale",
           "Kendrick Lamar, Tanna Leone"
          ],
          [
           "That That (prod. & feat. SUGA of BTS)",
           "PSY, Suga"
          ],
          [
           "In The Stars",
           "Benson Boone"
          ],
          [
           "Rich - Interlude",
           "Kendrick Lamar"
          ],
          [
           "SUPERMODEL",
           "Mï¿½ï¿½ne"
          ],
          [
           "Stefania (Kalush Orchestra)",
           "KALUSH"
          ],
          [
           "Thousand Miles",
           "The Kid Laroi"
          ],
          [
           "Crown",
           "Kendrick Lamar"
          ],
          [
           "Auntie Diaries",
           "Kendrick Lamar"
          ],
          [
           "PUFFIN ON ZOOTIEZ",
           "Future"
          ],
          [
           "Mirror",
           "Kendrick Lamar"
          ],
          [
           "Beautiful Girl",
           "Luciano"
          ],
          [
           "Savior - Interlude",
           "Kendrick Lamar"
          ],
          [
           "Pasoori",
           "Shae Gill, Ali Sethi"
          ],
          [
           "Mother I Sober (feat. Beth Gibbons of Portishead)",
           "Kendrick Lamar, Beth Gibbons"
          ],
          [
           "TUS Lï¿½ï¿½GR",
           "Sech, Mora"
          ],
          [
           "Where Did You Go?",
           "MNEK, Jax Jones"
          ],
          [
           "I Tried to Tell Y'all",
           "Ugly Dray, Tesla Jnr"
          ],
          [
           "Honest (feat. Don Toliver)",
           "Justin Bieber, Don Toliver"
          ],
          [
           "ZOOM",
           "Jessi"
          ],
          [
           "SloMo",
           "Chanel"
          ],
          [
           "FEARLESS",
           "LE SSERAFIM"
          ],
          [
           "10 Things I Hate About You",
           "Leah Kate"
          ],
          [
           "SPACE MAN",
           "Sam Ryder"
          ],
          [
           "With you",
           "HA SUNG WOON, Jimin"
          ],
          [
           "Iris",
           "The Goo Goo Dolls"
          ],
          [
           "The Heart Part 5",
           "Kendrick Lamar"
          ],
          [
           "San Lucas",
           "Kevin Kaarl"
          ],
          [
           "This Love (Taylorï¿½ï¿½ï¿½s Ve",
           "Taylor Swift"
          ],
          [
           "Good Looking",
           "Suki Waterhouse"
          ],
          [
           "Flowers",
           "Lauren Spencer Smith"
          ],
          [
           "Yet To Come",
           "BTS"
          ],
          [
           "Run BTS",
           "BTS"
          ],
          [
           "Music For a Sushi Restaurant",
           "Harry Styles"
          ],
          [
           "Matilda",
           "Harry Styles"
          ],
          [
           "For Youth",
           "BTS"
          ],
          [
           "Vegas (From the Original Motion Picture Soundtrack ELVIS)",
           "Doja Cat"
          ],
          [
           "Cash In Cash Out",
           "Pharrell Williams, Tyler, The Creator, 21 Savage"
          ],
          [
           "Potion (with Dua Lipa & Young Thug)",
           "Calvin Harris, Dua Lipa, Young Thug"
          ],
          [
           "Born Singer",
           "BTS"
          ],
          [
           "Little Freak",
           "Harry Styles"
          ],
          [
           "La Llevo Al Cielo (Ft. ï¿½ï¿½engo F",
           "Nengo Flow, Anuel Aa, Chris Jedi, Chencho Corleone"
          ],
          [
           "True Love",
           "Kanye West, XXXTENTACION"
          ],
          [
           "Pass The Dutchie",
           "Musical Youth"
          ],
          [
           "Villano Antillano: Bzrp Music Sessions, Vol. 51",
           "Bizarrap, Villano Antillano"
          ],
          [
           "Love Of My Life",
           "Harry Styles"
          ],
          [
           "Grapejuice",
           "Harry Styles"
          ],
          [
           "So Good",
           "Halsey"
          ],
          [
           "Belly Dancer",
           "BYOR, Imanbek"
          ],
          [
           "Keep Driving",
           "Harry Styles"
          ],
          [
           "Cinema",
           "Harry Styles"
          ],
          [
           "Die Young (feat. 347aidan)",
           "Sleepy hallow, 347aidan"
          ],
          [
           "Only Love Can Hurt Like This",
           "Paloma Faith"
          ],
          [
           "Hold My Hand",
           "Lady Gaga"
          ],
          [
           "Daydreaming",
           "Harry Styles"
          ],
          [
           "Nos Comemos (feat. Ozuna)",
           "Ozuna, Tiago pzk"
          ],
          [
           "Me and Your Mama",
           "Childish Gambino"
          ],
          [
           "Crazy What Love Can Do",
           "David Guetta, Ella Henderson, Becky Hill"
          ],
          [
           "SLOW DANCING IN THE DARK",
           "Joji"
          ],
          [
           "Antes de Perderte",
           "Duki"
          ],
          [
           "295",
           "Sidhu Moose Wala"
          ],
          [
           "En El Radio Un Cochinero",
           "Victor Cibrian"
          ],
          [
           "Master of Puppets (Remastered)",
           "Metallica"
          ],
          [
           "BREAK MY SOUL",
           "Beyoncï¿"
          ],
          [
           "ULTRA SOLO REMIX",
           "De La Ghetto, Feid, Polima WestCoast, Paloma Mami, Pailita"
          ],
          [
           "Massive",
           "Drake"
          ],
          [
           "Betty (Get Money)",
           "Yung Gravy"
          ],
          [
           "Ojos Marrones",
           "Lasso"
          ],
          [
           "POP!",
           "Nayeon"
          ],
          [
           "Layla",
           "Schï¿½ï¿½rze, DJ R"
          ],
          [
           "MORE",
           "j-hope"
          ],
          [
           "Sweet Child O' Mine",
           "Guns N' Roses"
          ],
          [
           "Last Last",
           "Burna Boy"
          ],
          [
           "Sticky",
           "Drake"
          ],
          [
           "Hot Shit (feat. Ye & Lil Durk)",
           "Kanye West, Lil Durk, Cardi B"
          ],
          [
           "Ai Preto",
           "L7nnon, DJ Biel do Furduncinho, Bianca"
          ],
          [
           "La Loto",
           "Anitta, Tini, Becky G"
          ],
          [
           "die first",
           "Nessa Barrett"
          ],
          [
           "Afraid To Feel",
           "LF System"
          ],
          [
           "Baile no Morro",
           "Mc Vitin Da Igrejinha, MC Tairon, DJ Win"
          ],
          [
           "cï¿½ï¿½mo dormi",
           "Rels B"
          ],
          [
           "STAYING ALIVE (feat. Drake & Lil Baby)",
           "Drake, DJ Khaled, Lil Baby"
          ],
          [
           "Si Te La Encuentras Por Ahï¿",
           "Feid"
          ],
          [
           "GIVENCHY",
           "Duki"
          ],
          [
           "ALIEN SUPERSTAR",
           "Beyoncï¿"
          ],
          [
           "Mary On A Cross",
           "Ghost"
          ],
          [
           "Attention",
           "NewJeans"
          ],
          [
           "THE SHADE",
           "Rex Orange County"
          ],
          [
           "Come Back Home - From \"Purple Hearts\"",
           "Sofia Carson"
          ],
          [
           "El Rescate",
           "Grupo Marca Registrada, Junior H"
          ],
          [
           "Heartless",
           "Kanye West"
          ],
          [
           "Stay With Me (with Justin Timberlake, Halsey, & Pharrell)",
           "Calvin Harris, Halsey, Pharrell Williams, Justin Timberlake"
          ],
          [
           "JGL",
           "Luis R Conriquez, La Adictiva"
          ],
          [
           "Don't You Worry",
           "David Guetta, Shakira, Black Eyed Peas"
          ],
          [
           "Pipoco",
           "Melody, Ana Castela, Dj Chris No Beat"
          ],
          [
           "Forget Me",
           "Lewis Capaldi"
          ],
          [
           "Bound 2",
           "Kanye West"
          ],
          [
           "Talk that Talk",
           "TWICE"
          ],
          [
           "BILLIE EILISH.",
           "Armani White"
          ],
          [
           "Ferxxo 100",
           "Feid"
          ],
          [
           "KU LO SA - A COLORS SHOW",
           "Oxlade"
          ],
          [
           "Prohibidox",
           "Feid"
          ],
          [
           "Static",
           "Steve Lacy"
          ],
          [
           "The Scientist",
           "Coldplay"
          ],
          [
           "Sparks",
           "Coldplay"
          ],
          [
           "Talk",
           "YEAT"
          ],
          [
           "XQ Te Pones Asï¿",
           "Yandel, Feid"
          ],
          [
           "Selfish",
           "PnB Rock"
          ],
          [
           "Sin Seï¿½ï",
           "Ovy On The Drums, Quevedo"
          ],
          [
           "Lady Mi Amor",
           "Feid"
          ],
          [
           "Poland",
           "Lil Yachty"
          ],
          [
           "THE LONELIEST",
           "Mï¿½ï¿½ne"
          ],
          [
           "Bye Bye",
           "Marshmello, Juice WRLD"
          ],
          [
           "BABY OTAKU",
           "Fran C, Polima WestCoast, Nickoog Clk, Pablito Pesadilla"
          ],
          [
           "Nxde",
           "(G)I-DLE"
          ],
          [
           "Miss You",
           "Southstar"
          ],
          [
           "we fell in love in october",
           "girl in red"
          ],
          [
           "2 Be Loved (Am I Ready)",
           "Lizzo"
          ],
          [
           "Celestial",
           "Ed Sheeran"
          ],
          [
           "Typa Girl",
           "BLACKPINK"
          ],
          [
           "California Breeze",
           "Lil Baby"
          ],
          [
           "Bamba (feat. Aitch & BIA)",
           "Luciano, Aitch, Bï¿½"
          ],
          [
           "Casei Com a Putaria",
           "MC Ryan SP, Love Funk, Mc Paiva ZS"
          ],
          [
           "Major Distribution",
           "Drake, 21 Savage"
          ],
          [
           "Pussy & Millions (feat. Travis Scott)",
           "Drake, Travis Scott, 21 Savage"
          ],
          [
           "Vigilante Shit",
           "Taylor Swift"
          ],
          [
           "Question...?",
           "Taylor Swift"
          ],
          [
           "On BS",
           "Drake, 21 Savage"
          ],
          [
           "Mastermind",
           "Taylor Swift"
          ],
          [
           "Circo Loco",
           "Drake, 21 Savage"
          ],
          [
           "Spin Bout U",
           "Drake, 21 Savage"
          ],
          [
           "Would've, Could've, Should've",
           "Taylor Swift"
          ],
          [
           "Con La Brisa",
           "Ludwig Goransson, Foudeqush"
          ],
          [
           "Privileged Rappers",
           "Drake, 21 Savage"
          ],
          [
           "The Astronaut",
           "Jin"
          ],
          [
           "BackOutsideBoyz",
           "Drake"
          ],
          [
           "Broke Boys",
           "Drake, 21 Savage"
          ],
          [
           "The Great War",
           "Taylor Swift"
          ],
          [
           "My Mind & Me",
           "Selena Gomez"
          ],
          [
           "Bigger Than The Whole Sky",
           "Taylor Swift"
          ],
          [
           "A Veces (feat. Feid)",
           "Feid, Paulo Londra"
          ],
          [
           "En La De Ella",
           "Feid, Sech, Jhayco"
          ],
          [
           "Alone",
           "Burna Boy"
          ]
         ],
         "hovertemplate": "bpm=%{x}<br>danceability_%=%{y}<br>track_name=%{customdata[0]}<br>artist(s)_name=%{customdata[1]}<extra></extra>",
         "legendgroup": "",
         "marker": {
          "color": "#636efa",
          "symbol": "circle"
         },
         "mode": "markers",
         "name": "",
         "orientation": "v",
         "showlegend": false,
         "type": "scatter",
         "x": [
          125,
          92,
          138,
          170,
          144,
          141,
          148,
          100,
          130,
          170,
          83,
          150,
          130,
          89,
          120,
          100,
          120,
          140,
          123,
          133,
          99,
          130,
          107,
          122,
          204,
          110,
          126,
          168,
          98,
          97,
          180,
          150,
          96,
          95,
          125,
          144,
          90,
          128,
          79,
          122,
          134,
          186,
          67,
          106,
          128,
          107,
          130,
          137,
          125,
          130,
          133,
          101,
          95,
          98,
          173,
          90,
          198,
          140,
          82,
          130,
          94,
          128,
          138,
          132,
          131,
          168,
          98,
          102,
          101,
          130,
          142,
          170,
          124,
          92,
          116,
          129,
          98,
          172,
          150,
          136,
          88,
          143,
          100,
          143,
          112,
          93,
          206,
          88,
          170,
          84,
          134,
          158,
          116,
          117,
          114,
          108,
          144,
          130,
          116,
          121,
          112,
          100,
          150,
          120,
          127,
          90,
          128,
          143,
          139,
          162,
          95,
          146,
          115,
          128,
          130,
          127,
          150,
          122,
          119,
          110,
          95,
          132,
          125,
          124,
          133,
          112,
          90,
          80,
          172,
          120,
          140,
          128,
          160,
          144,
          192,
          122,
          138,
          104,
          164,
          81,
          117,
          174,
          128,
          150,
          90,
          85,
          180,
          166,
          160,
          160,
          92,
          96,
          92,
          150,
          94,
          90,
          160,
          109,
          129,
          157,
          130,
          107,
          146,
          139,
          95,
          170,
          134,
          84,
          146,
          74,
          144,
          136,
          100,
          105,
          106,
          132,
          120,
          155,
          129,
          135,
          98,
          124,
          135,
          107,
          96,
          123,
          90,
          117,
          133,
          96,
          149,
          110,
          105,
          105,
          134,
          170,
          81,
          154,
          169,
          115,
          84,
          93,
          91,
          142,
          126,
          97,
          101,
          98,
          154,
          120,
          150,
          202,
          153,
          142,
          108,
          143,
          108,
          104,
          93,
          105,
          170,
          178,
          176,
          104,
          85,
          117,
          98,
          178,
          148,
          120,
          122,
          144,
          96,
          137,
          121,
          119,
          96,
          111,
          148,
          182,
          145,
          110,
          134,
          130,
          145,
          130,
          92,
          105,
          175,
          120,
          139,
          114,
          145,
          94,
          134,
          120,
          123,
          131,
          171,
          130,
          94,
          89,
          87,
          124,
          78,
          120,
          96,
          106,
          170,
          134,
          115,
          130,
          110,
          100,
          142,
          116,
          120,
          92,
          110,
          120,
          115,
          76,
          172,
          99,
          150,
          92,
          95,
          102,
          110,
          94,
          142,
          145,
          121,
          140,
          137,
          104,
          92,
          146,
          120,
          144,
          94,
          94,
          113,
          148,
          98,
          140,
          100,
          140,
          100,
          100,
          142,
          176,
          140,
          105,
          135,
          128,
          101,
          122,
          83,
          77,
          140,
          158,
          176,
          98,
          107,
          109,
          109,
          158,
          94,
          96,
          100,
          105,
          170,
          122,
          105,
          133,
          120,
          177,
          142,
          144,
          120,
          135,
          105,
          108,
          174,
          90,
          141,
          82,
          92,
          116,
          125,
          83,
          124,
          140,
          186,
          166,
          87,
          82,
          114,
          148,
          140,
          101,
          140,
          88,
          180,
          133,
          108,
          80,
          75,
          121,
          140,
          102,
          82,
          121,
          103,
          85,
          125,
          120,
          130,
          93,
          202,
          134,
          160,
          148,
          151,
          162,
          92,
          152,
          65,
          147,
          150,
          139,
          95,
          125,
          101,
          143,
          119,
          78,
          96,
          180,
          126,
          150,
          90,
          160,
          113,
          100,
          155,
          107,
          112,
          166,
          107,
          81,
          150,
          110,
          108,
          130,
          164,
          114,
          93,
          90,
          128,
          97,
          152,
          175,
          116,
          80,
          93,
          135,
          109,
          125,
          121,
          123,
          122,
          121,
          135,
          87,
          111,
          110,
          78,
          180,
          86,
          88,
          97,
          134,
          116,
          170,
          118,
          133,
          122,
          88,
          170,
          94,
          170,
          90,
          78,
          94,
          73,
          176,
          128,
          82,
          95,
          123,
          110,
          96,
          88,
          98,
          110,
          110,
          78,
          129,
          181,
          144,
          101,
          84,
          154,
          148,
          146,
          120,
          110,
          141,
          108,
          180,
          122,
          85,
          148,
          120,
          120,
          110,
          169,
          118,
          92,
          112,
          140,
          105,
          178,
          108,
          173,
          101,
          120,
          133,
          158,
          120,
          102,
          124,
          90,
          161,
          120,
          150,
          105,
          79,
          146,
          124,
          126,
          121,
          136,
          102,
          77,
          84,
          102,
          120,
          117,
          168,
          94,
          145,
          134,
          148,
          127,
          172,
          90,
          96,
          138,
          120,
          125,
          123,
          81,
          171,
          91,
          84,
          115,
          122,
          92,
          90,
          94,
          93,
          130,
          180,
          95,
          184,
          147,
          123,
          123,
          90,
          160,
          115,
          141,
          160,
          145,
          95,
          160,
          174,
          92,
          134,
          172,
          80,
          150,
          80,
          166,
          120,
          85,
          154,
          92,
          140,
          89,
          135,
          140,
          82,
          79,
          88,
          139,
          80,
          120,
          80,
          117,
          117,
          140,
          99,
          93,
          106,
          124,
          95,
          96,
          92,
          124,
          72,
          135,
          95,
          71,
          180,
          150,
          189,
          140,
          104,
          129,
          94,
          146,
          103,
          124,
          164,
          138,
          126,
          103,
          95,
          200,
          98,
          107,
          92,
          90,
          147,
          143,
          101,
          118,
          98,
          138,
          114,
          180,
          145,
          115,
          82,
          166,
          108,
          84,
          95,
          135,
          110,
          88,
          119,
          120,
          122,
          98,
          140,
          116,
          124,
          105,
          118,
          108,
          100,
          140,
          109,
          101,
          78,
          87,
          153,
          96,
          85,
          140,
          196,
          134,
          103,
          130,
          108,
          123,
          152,
          108,
          72,
          121,
          138,
          188,
          110,
          105,
          118,
          176,
          158,
          115,
          110,
          174,
          130,
          78,
          104,
          121,
          105,
          81,
          170,
          78,
          125,
          92,
          140,
          118,
          92,
          140,
          174,
          127,
          96,
          150,
          100,
          105,
          104,
          154,
          80,
          150,
          156,
          98,
          92,
          144,
          150,
          138,
          172,
          77,
          107,
          114,
          117,
          160,
          120,
          100,
          158,
          142,
          170,
          84,
          151,
          128,
          118,
          183,
          83,
          122,
          165,
          106,
          77,
          91,
          148,
          114,
          92,
          118,
          123,
          89,
          110,
          90,
          154,
          105,
          115,
          110,
          125,
          102,
          120,
          97,
          140,
          97,
          125,
          88,
          137,
          157,
          130,
          90,
          183,
          128,
          130,
          126,
          130,
          172,
          103,
          122,
          130,
          105,
          120,
          145,
          99,
          88,
          126,
          113,
          132,
          135,
          102,
          149,
          120,
          100,
          164,
          93,
          180,
          79,
          146,
          103,
          140,
          92,
          102,
          118,
          93,
          150,
          130,
          83,
          102,
          136,
          145,
          130,
          156,
          123,
          132,
          162,
          138,
          161,
          131,
          122,
          80,
          109,
          158,
          126,
          104,
          130,
          158,
          114,
          144,
          125,
          142,
          120,
          96,
          144,
          166,
          92,
          97,
          90
         ],
         "xaxis": "x",
         "y": [
          80,
          71,
          51,
          55,
          65,
          92,
          67,
          67,
          85,
          81,
          57,
          78,
          51,
          64,
          78,
          86,
          63,
          65,
          69,
          85,
          85,
          79,
          80,
          81,
          52,
          67,
          74,
          56,
          71,
          64,
          72,
          61,
          75,
          60,
          79,
          56,
          76,
          56,
          56,
          67,
          59,
          68,
          53,
          72,
          60,
          92,
          67,
          64,
          84,
          86,
          70,
          88,
          77,
          90,
          43,
          64,
          59,
          56,
          51,
          77,
          51,
          62,
          49,
          58,
          71,
          78,
          68,
          48,
          34,
          63,
          50,
          59,
          78,
          91,
          82,
          63,
          71,
          74,
          68,
          62,
          53,
          83,
          49,
          56,
          56,
          62,
          43,
          68,
          50,
          62,
          81,
          54,
          80,
          61,
          77,
          61,
          74,
          51,
          77,
          65,
          64,
          70,
          55,
          84,
          82,
          51,
          75,
          64,
          74,
          49,
          87,
          63,
          35,
          78,
          82,
          80,
          42,
          78,
          75,
          76,
          60,
          56,
          77,
          84,
          93,
          92,
          59,
          65,
          45,
          60,
          74,
          81,
          69,
          73,
          50,
          66,
          78,
          77,
          45,
          68,
          82,
          45,
          73,
          65,
          60,
          55,
          33,
          57,
          71,
          65,
          70,
          83,
          53,
          34,
          37,
          74,
          54,
          63,
          57,
          54,
          63,
          65,
          50,
          48,
          84,
          62,
          81,
          57,
          61,
          53,
          75,
          77,
          56,
          89,
          67,
          85,
          78,
          82,
          70,
          80,
          73,
          84,
          77,
          78,
          54,
          71,
          62,
          72,
          78,
          74,
          66,
          66,
          95,
          80,
          76,
          71,
          59,
          63,
          69,
          78,
          43,
          79,
          82,
          82,
          78,
          73,
          92,
          80,
          59,
          91,
          49,
          34,
          56,
          60,
          84,
          83,
          67,
          95,
          84,
          65,
          44,
          62,
          50,
          80,
          70,
          77,
          44,
          79,
          51,
          77,
          68,
          74,
          93,
          77,
          94,
          60,
          72,
          87,
          90,
          57,
          76,
          76,
          70,
          92,
          84,
          69,
          75,
          56,
          59,
          80,
          70,
          32,
          54,
          89,
          45,
          62,
          70,
          77,
          70,
          80,
          82,
          73,
          65,
          72,
          71,
          70,
          48,
          73,
          78,
          67,
          71,
          74,
          59,
          72,
          70,
          90,
          73,
          76,
          81,
          71,
          95,
          58,
          60,
          40,
          90,
          71,
          77,
          83,
          50,
          68,
          61,
          59,
          64,
          66,
          84,
          56,
          57,
          74,
          56,
          68,
          59,
          73,
          79,
          50,
          70,
          58,
          36,
          86,
          59,
          59,
          49,
          72,
          53,
          55,
          81,
          82,
          74,
          88,
          53,
          72,
          75,
          65,
          75,
          73,
          66,
          66,
          84,
          60,
          74,
          70,
          80,
          58,
          56,
          64,
          88,
          66,
          82,
          25,
          64,
          57,
          65,
          92,
          82,
          44,
          70,
          68,
          41,
          68,
          47,
          77,
          71,
          46,
          79,
          58,
          41,
          40,
          87,
          40,
          46,
          47,
          91,
          90,
          81,
          49,
          64,
          95,
          63,
          39,
          80,
          67,
          58,
          58,
          70,
          46,
          70,
          65,
          84,
          69,
          65,
          35,
          24,
          45,
          51,
          50,
          65,
          67,
          53,
          65,
          71,
          33,
          73,
          36,
          75,
          62,
          72,
          60,
          51,
          67,
          23,
          51,
          34,
          43,
          53,
          72,
          73,
          70,
          49,
          54,
          80,
          70,
          69,
          47,
          79,
          66,
          64,
          89,
          70,
          80,
          63,
          87,
          45,
          83,
          69,
          51,
          61,
          33,
          63,
          70,
          60,
          85,
          80,
          74,
          67,
          70,
          41,
          49,
          77,
          75,
          27,
          65,
          28,
          74,
          68,
          71,
          75,
          64,
          75,
          82,
          77,
          53,
          70,
          46,
          65,
          79,
          40,
          57,
          83,
          73,
          81,
          63,
          77,
          75,
          73,
          66,
          56,
          73,
          86,
          79,
          77,
          83,
          44,
          74,
          66,
          67,
          66,
          59,
          85,
          77,
          53,
          59,
          46,
          35,
          77,
          59,
          68,
          83,
          72,
          63,
          39,
          80,
          91,
          45,
          79,
          73,
          76,
          96,
          40,
          67,
          80,
          75,
          46,
          81,
          74,
          79,
          73,
          78,
          60,
          78,
          76,
          63,
          52,
          64,
          53,
          75,
          80,
          77,
          73,
          44,
          89,
          42,
          52,
          67,
          52,
          41,
          71,
          35,
          60,
          74,
          75,
          57,
          74,
          72,
          70,
          82,
          79,
          55,
          77,
          56,
          90,
          80,
          85,
          63,
          84,
          81,
          51,
          35,
          92,
          69,
          47,
          52,
          91,
          90,
          61,
          60,
          37,
          31,
          57,
          84,
          60,
          67,
          77,
          93,
          31,
          76,
          91,
          78,
          81,
          67,
          74,
          79,
          73,
          89,
          65,
          89,
          51,
          47,
          78,
          31,
          44,
          39,
          84,
          56,
          92,
          76,
          62,
          68,
          74,
          44,
          81,
          76,
          87,
          81,
          95,
          64,
          78,
          81,
          59,
          80,
          65,
          55,
          59,
          80,
          42,
          76,
          59,
          69,
          53,
          70,
          69,
          67,
          61,
          75,
          39,
          68,
          91,
          45,
          81,
          60,
          68,
          76,
          70,
          83,
          72,
          59,
          63,
          56,
          78,
          79,
          70,
          71,
          71,
          69,
          93,
          57,
          89,
          87,
          58,
          86,
          78,
          45,
          79,
          86,
          91,
          68,
          61,
          61,
          81,
          84,
          78,
          56,
          52,
          55,
          85,
          71,
          92,
          66,
          78,
          80,
          82,
          65,
          61,
          84,
          78,
          56,
          86,
          57,
          50,
          80,
          81,
          63,
          61,
          83,
          85,
          51,
          73,
          91,
          36,
          44,
          64,
          83,
          38,
          37,
          43,
          88,
          66,
          84,
          66,
          71,
          49,
          68,
          77,
          71,
          82,
          87,
          73,
          86,
          54,
          47,
          53,
          32,
          76,
          58,
          47,
          37,
          70,
          56,
          72,
          72,
          51,
          63,
          80,
          88,
          82,
          60,
          56,
          80,
          71,
          73,
          82,
          56,
          65,
          63,
          85,
          72,
          83,
          81,
          57,
          51,
          71,
          83,
          56,
          60,
          52,
          81,
          68,
          70,
          54,
          70,
          91,
          51,
          73,
          81,
          80,
          44,
          78,
          45,
          80,
          88,
          88,
          95,
          85,
          44,
          58,
          71,
          63,
          72,
          74,
          61,
          55,
          47,
          81,
          90,
          56,
          79,
          79,
          81,
          70,
          82,
          77,
          67,
          37,
          77,
          90,
          70,
          65,
          65,
          34,
          56,
          37,
          70,
          81,
          64,
          82,
          78,
          70,
          52,
          65,
          84,
          73,
          66,
          57,
          72,
          57,
          92,
          74,
          80,
          59,
          91,
          75,
          80,
          75,
          84,
          66,
          73,
          77,
          48,
          62,
          93,
          54,
          85,
          64,
          57,
          60,
          42,
          80,
          82,
          61
         ],
         "yaxis": "y"
        }
       ],
       "layout": {
        "autosize": true,
        "legend": {
         "tracegroupgap": 0
        },
        "margin": {
         "t": 60
        },
        "template": {
         "data": {
          "bar": [
           {
            "error_x": {
             "color": "#2a3f5f"
            },
            "error_y": {
             "color": "#2a3f5f"
            },
            "marker": {
             "line": {
              "color": "#E5ECF6",
              "width": 0.5
             },
             "pattern": {
              "fillmode": "overlay",
              "size": 10,
              "solidity": 0.2
             }
            },
            "type": "bar"
           }
          ],
          "barpolar": [
           {
            "marker": {
             "line": {
              "color": "#E5ECF6",
              "width": 0.5
             },
             "pattern": {
              "fillmode": "overlay",
              "size": 10,
              "solidity": 0.2
             }
            },
            "type": "barpolar"
           }
          ],
          "carpet": [
           {
            "aaxis": {
             "endlinecolor": "#2a3f5f",
             "gridcolor": "white",
             "linecolor": "white",
             "minorgridcolor": "white",
             "startlinecolor": "#2a3f5f"
            },
            "baxis": {
             "endlinecolor": "#2a3f5f",
             "gridcolor": "white",
             "linecolor": "white",
             "minorgridcolor": "white",
             "startlinecolor": "#2a3f5f"
            },
            "type": "carpet"
           }
          ],
          "choropleth": [
           {
            "colorbar": {
             "outlinewidth": 0,
             "ticks": ""
            },
            "type": "choropleth"
           }
          ],
          "contour": [
           {
            "colorbar": {
             "outlinewidth": 0,
             "ticks": ""
            },
            "colorscale": [
             [
              0,
              "#0d0887"
             ],
             [
              0.1111111111111111,
              "#46039f"
             ],
             [
              0.2222222222222222,
              "#7201a8"
             ],
             [
              0.3333333333333333,
              "#9c179e"
             ],
             [
              0.4444444444444444,
              "#bd3786"
             ],
             [
              0.5555555555555556,
              "#d8576b"
             ],
             [
              0.6666666666666666,
              "#ed7953"
             ],
             [
              0.7777777777777778,
              "#fb9f3a"
             ],
             [
              0.8888888888888888,
              "#fdca26"
             ],
             [
              1,
              "#f0f921"
             ]
            ],
            "type": "contour"
           }
          ],
          "contourcarpet": [
           {
            "colorbar": {
             "outlinewidth": 0,
             "ticks": ""
            },
            "type": "contourcarpet"
           }
          ],
          "heatmap": [
           {
            "colorbar": {
             "outlinewidth": 0,
             "ticks": ""
            },
            "colorscale": [
             [
              0,
              "#0d0887"
             ],
             [
              0.1111111111111111,
              "#46039f"
             ],
             [
              0.2222222222222222,
              "#7201a8"
             ],
             [
              0.3333333333333333,
              "#9c179e"
             ],
             [
              0.4444444444444444,
              "#bd3786"
             ],
             [
              0.5555555555555556,
              "#d8576b"
             ],
             [
              0.6666666666666666,
              "#ed7953"
             ],
             [
              0.7777777777777778,
              "#fb9f3a"
             ],
             [
              0.8888888888888888,
              "#fdca26"
             ],
             [
              1,
              "#f0f921"
             ]
            ],
            "type": "heatmap"
           }
          ],
          "heatmapgl": [
           {
            "colorbar": {
             "outlinewidth": 0,
             "ticks": ""
            },
            "colorscale": [
             [
              0,
              "#0d0887"
             ],
             [
              0.1111111111111111,
              "#46039f"
             ],
             [
              0.2222222222222222,
              "#7201a8"
             ],
             [
              0.3333333333333333,
              "#9c179e"
             ],
             [
              0.4444444444444444,
              "#bd3786"
             ],
             [
              0.5555555555555556,
              "#d8576b"
             ],
             [
              0.6666666666666666,
              "#ed7953"
             ],
             [
              0.7777777777777778,
              "#fb9f3a"
             ],
             [
              0.8888888888888888,
              "#fdca26"
             ],
             [
              1,
              "#f0f921"
             ]
            ],
            "type": "heatmapgl"
           }
          ],
          "histogram": [
           {
            "marker": {
             "pattern": {
              "fillmode": "overlay",
              "size": 10,
              "solidity": 0.2
             }
            },
            "type": "histogram"
           }
          ],
          "histogram2d": [
           {
            "colorbar": {
             "outlinewidth": 0,
             "ticks": ""
            },
            "colorscale": [
             [
              0,
              "#0d0887"
             ],
             [
              0.1111111111111111,
              "#46039f"
             ],
             [
              0.2222222222222222,
              "#7201a8"
             ],
             [
              0.3333333333333333,
              "#9c179e"
             ],
             [
              0.4444444444444444,
              "#bd3786"
             ],
             [
              0.5555555555555556,
              "#d8576b"
             ],
             [
              0.6666666666666666,
              "#ed7953"
             ],
             [
              0.7777777777777778,
              "#fb9f3a"
             ],
             [
              0.8888888888888888,
              "#fdca26"
             ],
             [
              1,
              "#f0f921"
             ]
            ],
            "type": "histogram2d"
           }
          ],
          "histogram2dcontour": [
           {
            "colorbar": {
             "outlinewidth": 0,
             "ticks": ""
            },
            "colorscale": [
             [
              0,
              "#0d0887"
             ],
             [
              0.1111111111111111,
              "#46039f"
             ],
             [
              0.2222222222222222,
              "#7201a8"
             ],
             [
              0.3333333333333333,
              "#9c179e"
             ],
             [
              0.4444444444444444,
              "#bd3786"
             ],
             [
              0.5555555555555556,
              "#d8576b"
             ],
             [
              0.6666666666666666,
              "#ed7953"
             ],
             [
              0.7777777777777778,
              "#fb9f3a"
             ],
             [
              0.8888888888888888,
              "#fdca26"
             ],
             [
              1,
              "#f0f921"
             ]
            ],
            "type": "histogram2dcontour"
           }
          ],
          "mesh3d": [
           {
            "colorbar": {
             "outlinewidth": 0,
             "ticks": ""
            },
            "type": "mesh3d"
           }
          ],
          "parcoords": [
           {
            "line": {
             "colorbar": {
              "outlinewidth": 0,
              "ticks": ""
             }
            },
            "type": "parcoords"
           }
          ],
          "pie": [
           {
            "automargin": true,
            "type": "pie"
           }
          ],
          "scatter": [
           {
            "fillpattern": {
             "fillmode": "overlay",
             "size": 10,
             "solidity": 0.2
            },
            "type": "scatter"
           }
          ],
          "scatter3d": [
           {
            "line": {
             "colorbar": {
              "outlinewidth": 0,
              "ticks": ""
             }
            },
            "marker": {
             "colorbar": {
              "outlinewidth": 0,
              "ticks": ""
             }
            },
            "type": "scatter3d"
           }
          ],
          "scattercarpet": [
           {
            "marker": {
             "colorbar": {
              "outlinewidth": 0,
              "ticks": ""
             }
            },
            "type": "scattercarpet"
           }
          ],
          "scattergeo": [
           {
            "marker": {
             "colorbar": {
              "outlinewidth": 0,
              "ticks": ""
             }
            },
            "type": "scattergeo"
           }
          ],
          "scattergl": [
           {
            "marker": {
             "colorbar": {
              "outlinewidth": 0,
              "ticks": ""
             }
            },
            "type": "scattergl"
           }
          ],
          "scattermapbox": [
           {
            "marker": {
             "colorbar": {
              "outlinewidth": 0,
              "ticks": ""
             }
            },
            "type": "scattermapbox"
           }
          ],
          "scatterpolar": [
           {
            "marker": {
             "colorbar": {
              "outlinewidth": 0,
              "ticks": ""
             }
            },
            "type": "scatterpolar"
           }
          ],
          "scatterpolargl": [
           {
            "marker": {
             "colorbar": {
              "outlinewidth": 0,
              "ticks": ""
             }
            },
            "type": "scatterpolargl"
           }
          ],
          "scatterternary": [
           {
            "marker": {
             "colorbar": {
              "outlinewidth": 0,
              "ticks": ""
             }
            },
            "type": "scatterternary"
           }
          ],
          "surface": [
           {
            "colorbar": {
             "outlinewidth": 0,
             "ticks": ""
            },
            "colorscale": [
             [
              0,
              "#0d0887"
             ],
             [
              0.1111111111111111,
              "#46039f"
             ],
             [
              0.2222222222222222,
              "#7201a8"
             ],
             [
              0.3333333333333333,
              "#9c179e"
             ],
             [
              0.4444444444444444,
              "#bd3786"
             ],
             [
              0.5555555555555556,
              "#d8576b"
             ],
             [
              0.6666666666666666,
              "#ed7953"
             ],
             [
              0.7777777777777778,
              "#fb9f3a"
             ],
             [
              0.8888888888888888,
              "#fdca26"
             ],
             [
              1,
              "#f0f921"
             ]
            ],
            "type": "surface"
           }
          ],
          "table": [
           {
            "cells": {
             "fill": {
              "color": "#EBF0F8"
             },
             "line": {
              "color": "white"
             }
            },
            "header": {
             "fill": {
              "color": "#C8D4E3"
             },
             "line": {
              "color": "white"
             }
            },
            "type": "table"
           }
          ]
         },
         "layout": {
          "annotationdefaults": {
           "arrowcolor": "#2a3f5f",
           "arrowhead": 0,
           "arrowwidth": 1
          },
          "autotypenumbers": "strict",
          "coloraxis": {
           "colorbar": {
            "outlinewidth": 0,
            "ticks": ""
           }
          },
          "colorscale": {
           "diverging": [
            [
             0,
             "#8e0152"
            ],
            [
             0.1,
             "#c51b7d"
            ],
            [
             0.2,
             "#de77ae"
            ],
            [
             0.3,
             "#f1b6da"
            ],
            [
             0.4,
             "#fde0ef"
            ],
            [
             0.5,
             "#f7f7f7"
            ],
            [
             0.6,
             "#e6f5d0"
            ],
            [
             0.7,
             "#b8e186"
            ],
            [
             0.8,
             "#7fbc41"
            ],
            [
             0.9,
             "#4d9221"
            ],
            [
             1,
             "#276419"
            ]
           ],
           "sequential": [
            [
             0,
             "#0d0887"
            ],
            [
             0.1111111111111111,
             "#46039f"
            ],
            [
             0.2222222222222222,
             "#7201a8"
            ],
            [
             0.3333333333333333,
             "#9c179e"
            ],
            [
             0.4444444444444444,
             "#bd3786"
            ],
            [
             0.5555555555555556,
             "#d8576b"
            ],
            [
             0.6666666666666666,
             "#ed7953"
            ],
            [
             0.7777777777777778,
             "#fb9f3a"
            ],
            [
             0.8888888888888888,
             "#fdca26"
            ],
            [
             1,
             "#f0f921"
            ]
           ],
           "sequentialminus": [
            [
             0,
             "#0d0887"
            ],
            [
             0.1111111111111111,
             "#46039f"
            ],
            [
             0.2222222222222222,
             "#7201a8"
            ],
            [
             0.3333333333333333,
             "#9c179e"
            ],
            [
             0.4444444444444444,
             "#bd3786"
            ],
            [
             0.5555555555555556,
             "#d8576b"
            ],
            [
             0.6666666666666666,
             "#ed7953"
            ],
            [
             0.7777777777777778,
             "#fb9f3a"
            ],
            [
             0.8888888888888888,
             "#fdca26"
            ],
            [
             1,
             "#f0f921"
            ]
           ]
          },
          "colorway": [
           "#636efa",
           "#EF553B",
           "#00cc96",
           "#ab63fa",
           "#FFA15A",
           "#19d3f3",
           "#FF6692",
           "#B6E880",
           "#FF97FF",
           "#FECB52"
          ],
          "font": {
           "color": "#2a3f5f"
          },
          "geo": {
           "bgcolor": "white",
           "lakecolor": "white",
           "landcolor": "#E5ECF6",
           "showlakes": true,
           "showland": true,
           "subunitcolor": "white"
          },
          "hoverlabel": {
           "align": "left"
          },
          "hovermode": "closest",
          "mapbox": {
           "style": "light"
          },
          "paper_bgcolor": "white",
          "plot_bgcolor": "#E5ECF6",
          "polar": {
           "angularaxis": {
            "gridcolor": "white",
            "linecolor": "white",
            "ticks": ""
           },
           "bgcolor": "#E5ECF6",
           "radialaxis": {
            "gridcolor": "white",
            "linecolor": "white",
            "ticks": ""
           }
          },
          "scene": {
           "xaxis": {
            "backgroundcolor": "#E5ECF6",
            "gridcolor": "white",
            "gridwidth": 2,
            "linecolor": "white",
            "showbackground": true,
            "ticks": "",
            "zerolinecolor": "white"
           },
           "yaxis": {
            "backgroundcolor": "#E5ECF6",
            "gridcolor": "white",
            "gridwidth": 2,
            "linecolor": "white",
            "showbackground": true,
            "ticks": "",
            "zerolinecolor": "white"
           },
           "zaxis": {
            "backgroundcolor": "#E5ECF6",
            "gridcolor": "white",
            "gridwidth": 2,
            "linecolor": "white",
            "showbackground": true,
            "ticks": "",
            "zerolinecolor": "white"
           }
          },
          "shapedefaults": {
           "line": {
            "color": "#2a3f5f"
           }
          },
          "ternary": {
           "aaxis": {
            "gridcolor": "white",
            "linecolor": "white",
            "ticks": ""
           },
           "baxis": {
            "gridcolor": "white",
            "linecolor": "white",
            "ticks": ""
           },
           "bgcolor": "#E5ECF6",
           "caxis": {
            "gridcolor": "white",
            "linecolor": "white",
            "ticks": ""
           }
          },
          "title": {
           "x": 0.05
          },
          "xaxis": {
           "automargin": true,
           "gridcolor": "white",
           "linecolor": "white",
           "ticks": "",
           "title": {
            "standoff": 15
           },
           "zerolinecolor": "white",
           "zerolinewidth": 2
          },
          "yaxis": {
           "automargin": true,
           "gridcolor": "white",
           "linecolor": "white",
           "ticks": "",
           "title": {
            "standoff": 15
           },
           "zerolinecolor": "white",
           "zerolinewidth": 2
          }
         }
        },
        "xaxis": {
         "anchor": "y",
         "autorange": true,
         "domain": [
          0,
          1
         ],
         "range": [
          56.466761972837745,
          214.53323802716227
         ],
         "title": {
          "text": "bpm"
         },
         "type": "linear"
        },
        "yaxis": {
         "anchor": "x",
         "autorange": true,
         "domain": [
          0,
          1
         ],
         "range": [
          17.34776902887139,
          101.6522309711286
         ],
         "title": {
          "text": "danceability_%"
         },
         "type": "linear"
        }
       }
      },
      "image/png": "[encoded data removed]",
      "text/html": [
       "<div>                            <div id=\"c4fe116d-615b-4d45-b150-f39b687dd833\" class=\"plotly-graph-div\" style=\"height:525px; width:100%;\"></div>            <script type=\"text/javascript\">                require([\"plotly\"], function(Plotly) {                    window.PLOTLYENV=window.PLOTLYENV || {};                                    if (document.getElementById(\"c4fe116d-615b-4d45-b150-f39b687dd833\")) {                    Plotly.newPlot(                        \"c4fe116d-615b-4d45-b150-f39b687dd833\",                        [{\"customdata\":[[\"Seven (feat. Latto) (Explicit Ver.)\",\"Latto, Jung Kook\"],[\"LALA\",\"Myke Towers\"],[\"vampire\",\"Olivia Rodrigo\"],[\"Cruel Summer\",\"Taylor Swift\"],[\"WHERE SHE GOES\",\"Bad Bunny\"],[\"Sprinter\",\"Dave, Central Cee\"],[\"Ella Baila Sola\",\"Eslabon Armado, Peso Pluma\"],[\"Columbia\",\"Quevedo\"],[\"fukumean\",\"Gunna\"],[\"La Bebe - Remix\",\"Peso Pluma, Yng Lvcas\"],[\"un x100to\",\"Bad Bunny, Grupo Frontera\"],[\"Super Shy\",\"NewJeans\"],[\"Daylight\",\"David Kushner\"],[\"Kill Bill\",\"SZA\"],[\"Cupid - Twin Ver.\",\"Fifty Fifty\"],[\"Classy 101\",\"Feid, Young Miko\"],[\"Like Crazy\",\"Jimin\"],[\"LADY GAGA\",\"Gabito Ballesteros, Junior H, Peso Pluma\"],[\"I Can See You (Taylor\\u00ef\\u00bf\\u00bd\\u00ef\\u00bf\\u00bd\\u00ef\\u00bf\\u00bds Version) (From The \",\"Taylor Swift\"],[\"Peso Pluma: Bzrp Music Sessions, Vol. 55\",\"Bizarrap, Peso Pluma\"],[\"Popular (with Playboi Carti & Madonna) - The Idol Vol. 1 (Music from the HBO Original Series)\",\"The Weeknd, Madonna, Playboi Carti\"],[\"SABOR FRESA\",\"Fuerza Regida\"],[\"Calm Down (with Selena Gomez)\",\"R\\u00ef\\u00bf\\u00bd\\u00ef\\u00bf\\u00bdma, Selena G\"],[\"MOJABI GHOST\",\"Tainy, Bad Bunny\"],[\"Last Night\",\"Morgan Wallen\"],[\"Dance The Night (From Barbie The Album)\",\"Dua Lipa\"],[\"Rush\",\"Troye Sivan\"],[\"TULUM\",\"Peso Pluma, Grupo Frontera\"],[\"Creepin'\",\"The Weeknd, 21 Savage, Metro Boomin\"],[\"Anti-Hero\",\"Taylor Swift\"],[\"TQG\",\"Karol G, Shakira\"],[\"Fr\\u00ef\\u00bf\\u00bd\\u00ef\\u00bf\\u00bdgil (feat. Grupo Front\",\"Yahritza Y Su Esencia, Grupo Frontera\"],[\"Blank Space\",\"Taylor Swift\"],[\"Style\",\"Taylor Swift\"],[\"TQM\",\"Fuerza Regida\"],[\"El Azul\",\"Junior H, Peso Pluma\"],[\"Sunflower - Spider-Man: Into the Spider-Verse\",\"Post Malone, Swae Lee\"],[\"I'm Good (Blue)\",\"Bebe Rexha, David Guetta\"],[\"See You Again\",\"Tyler, The Creator, Kali Uchis\"],[\"Angels Like You\",\"Miley Cyrus\"],[\"Die For You\",\"The Weeknd\"],[\"Starboy\",\"The Weeknd, Daft Punk\"],[\"Die For You - Remix\",\"Ariana Grande, The Weeknd\"],[\"El Cielo\",\"Feid, Myke Towers, Sky Rompiendo\"],[\"Baby Don't Hurt Me\",\"David Guetta, Anne-Marie, Coi Leray\"],[\"AMARGURA\",\"Karol G\"],[\"(It Goes Like) Nanana - Edit\",\"Peggy Gou\"],[\"Moonlight\",\"Kali Uchis\"],[\"La Bachata\",\"Manuel Turizo\"],[\"T\\u00ef\\u00bf\\u00bd\\u00ef\\u00bf\",\"dennis, MC Kevin o Chris\"],[\"Boy's a liar Pt. 2\",\"PinkPantheress, Ice Spice\"],[\"Left and Right (Feat. Jung Kook of BTS)\",\"Charlie Puth, BTS, Jung Kook\"],[\"BESO\",\"Rauw Alejandro, ROSAL\\u00ef\\u00bf\\u00bd\"],[\"Hey Mor\",\"Ozuna, Feid\"],[\"Yellow\",\"Chris Molitor\"],[\"Karma\",\"Taylor Swift\"],[\"People\",\"Libianca\"],[\"Overdrive\",\"Post Malone\"],[\"Enchanted (Taylor's Version)\",\"Taylor Swift\"],[\"BABY HELLO\",\"Rauw Alejandro, Bizarrap\"],[\"golden hour\",\"JVKE\"],[\"Quevedo: Bzrp Music Sessions, Vol. 52\",\"Bizarrap, Quevedo\"],[\"Viva La Vida\",\"Coldplay\"],[\"Here With Me\",\"d4vd\"],[\"Unholy (feat. Kim Petras)\",\"Sam Smith, Kim Petras\"],[\"Yandel 150\",\"Yandel, Feid\"],[\"CORAZ\\u00ef\\u00bf\\u00bd\\u00ef\\u00bf\\u00bdN VA\",\"Maria Becerra\"],[\"Riptide\",\"Vance Joy\"],[\"Until I Found You (with Em Beihold) - Em Beihold Version\",\"Em Beihold, Stephen Sanchez\"],[\"Novidade na \\u00ef\\u00bf\\u00bd\\u00ef\\u00bf\",\"Mc Livinho, DJ Matt D\"],[\"Back To December (Taylor's Version)\",\"Taylor Swift\"],[\"STAY (with Justin Bieber)\",\"Justin Bieber, The Kid Laroi\"],[\"El Merengue\",\"Marshmello, Manuel Turizo\"],[\"Me Porto Bonito\",\"Chencho Corleone, Bad Bunny\"],[\"Makeba\",\"Jain\"],[\"MONTAGEM - FR PUNK\",\"Ayparia, unxbected\"],[\"Fast Car\",\"Luke Combs\"],[\"What It Is (Solo Version)\",\"Doechii\"],[\"Coco Chanel\",\"Bad Bunny, Eladio Carrion\"],[\"Don\\u00ef\\u00bf\\u00bd\\u00ef\\u00bf\\u00bd\\u00ef\\u00bf\\u00bdt Bl\",\"Taylor Swift\"],[\"Still With You\",\"Jung Kook\"],[\"All My Life (feat. J. Cole)\",\"J. Cole, Lil Durk\"],[\"Say Yes To Heaven\",\"Lana Del Rey\"],[\"Snooze\",\"SZA\"],[\"Summertime Sadness\",\"Lana Del Rey\"],[\"Take Two\",\"BTS\"],[\"Lover\",\"Taylor Swift\"],[\"Too Many Nights (feat. Don Toliver & with Future)\",\"Future, Metro Boomin, Don Toliver\"],[\"Chemical\",\"Post Malone\"],[\"Mockingbird\",\"Eminem\"],[\"New Jeans\",\"NewJeans\"],[\"Primera Cita\",\"Carin Leon\"],[\"Cold Heart - PNAU Remix\",\"Dua Lipa, Elton John, Pnau\"],[\"Dandelions\",\"Ruth B.\"],[\"Bones\",\"Imagine Dragons\"],[\"Set Fire to the Rain\",\"Adele\"],[\"Money Trees\",\"Kendrick Lamar, Jay Rock\"],[\"Tak Segampang Itu\",\"Anggi Marito\"],[\"LAGUNAS\",\"Jasiel Nu\\u00ef\\u00bf\\u00bd\\u00ef\\u00bf\\u00bdez, Peso P\"],[\"Mine (Taylor's Version)\",\"Taylor Swift\"],[\"Everybody Wants To Rule The World\",\"Tears For Fears\"],[\"No Role Modelz\",\"J. Cole\"],[\"Tattoo\",\"Loreen\"],[\"Rara Vez\",\"Taiu, Milo j\"],[\"VAGABUNDO\",\"Sebastian Yatra, Manuel Turizo, Be\\u00ef\\u00bf\\u00bd\\u00ef\"],[\"august\",\"Taylor Swift\"],[\"LUNA\",\"Junior H, Peso Pluma\"],[\"Miracle (with Ellie Goulding)\",\"Calvin Harris, Ellie Goulding\"],[\"Nonsense\",\"Sabrina Carpenter\"],[\"Que Vuelvas\",\"Carin Leon, Grupo Frontera\"],[\"Feliz Cumplea\\u00ef\\u00bf\\u00bd\\u00ef\\u00bf\\u00bdos Fe\",\"Feid\"],[\"Can't Hold Us (feat. Ray Dalton)\",\"Ray Dalton, Ryan Lewis, Macklemore\"],[\"lovely - Bonus Track\",\"Billie Eilish, Khalid\"],[\"Rauw Alejandro: Bzrp Music Sessions, Vol. 56\",\"Rauw Alejandro, Bizarrap\"],[\"Queencard\",\"(G)I-DLE\"],[\"OMG\",\"NewJeans\"],[\"Radio\",\"Lana Del Rey\"],[\"Shakira: Bzrp Music Sessions, Vol. 53\",\"Shakira, Bizarrap\"],[\"Trance (with Travis Scott & Young Thug)\",\"Travis Scott, Young Thug, Metro Boomin\"],[\"Tere Vaaste (From \\\"Zara Hatke Zara Bachke\\\")\",\"Sachin-Jigar, Shadab Faridi, Altamash Faridi, Amitabh Bhattacharya, Varun Jain\"],[\"Perfect\",\"Ed Sheeran\"],[\"Romantic Homicide\",\"d4vd\"],[\"Believer\",\"Imagine Dragons\"],[\"Novo Balan\\u00ef\\u00bf\\u00bd\",\"Veigh, Bvga Beatz, Supernova Ent, Prod Malax\"],[\"Gol Bolinha, Gol Quadrado 2\",\"Mc Pedrinho, DJ 900\"],[\"Without Me\",\"Eminem\"],[\"Stargirl Interlude\",\"The Weeknd, Lana Del Rey\"],[\"Ojitos Lindos\",\"Bomba Est\\u00ef\\u00bf\\u00bd\\u00ef\\u00bf\\u00bdreo, Bad B\"],[\"Somewhere Only We Know\",\"Keane\"],[\"Those Eyes\",\"New West\"],[\"El Gordo Trae El Mando\",\"Chino Pacas\"],[\"Mi Bello Angel\",\"Natanael Cano\"],[\"Nosso Quadro\",\"Ana Castela, AgroPlay\"],[\"Locked Out Of Heaven\",\"Bruno Mars\"],[\"Un Finde | CROSSOVER #2\",\"Big One, FMK, Ke personajes\"],[\"Counting Stars\",\"OneRepublic\"],[\"PRC\",\"Natanael Cano, Peso Pluma\"],[\"One Dance\",\"Drake, WizKid, Kyla\"],[\"Enchanted\",\"Taylor Swift\"],[\"Sure Thing\",\"Miguel\"],[\"Every Breath You Take - Remastered 2003\",\"The Police\"],[\"The Night We Met\",\"Lord Huron\"],[\"We Found Love\",\"Rihanna, Calvin Harris\"],[\"Let Me Down Slowly\",\"Alec Benjamin\"],[\"Am I Dreaming (Metro Boomin & A$AP Rocky, Roisee)\",\"A$AP Rocky, Metro Boomin, Roisee\"],[\"Do I Wanna Know?\",\"Arctic Monkeys\"],[\"Demons\",\"Imagine Dragons\"],[\"\\u00fd\\u00fd\\u00fd\\u00fd\\u00fd\\u00fd\\u00fd\\u00fd\\u00fd\\u00fd\\u00fd\\u00fd\",\"YOASOBI\"],[\"Reminder\",\"The Weeknd\"],[\"Shake It Off\",\"Taylor Swift\"],[\"Why'd You Only Call Me When You're High?\",\"Arctic Monkeys\"],[\"Shape of You\",\"Ed Sheeran\"],[\"Creep\",\"Radiohead\"],[\"Car's Outside\",\"James Arthur\"],[\"Apocalypse\",\"Cigarettes After Sex\"],[\"Cheques\",\"Shubh\"],[\"Pink + White\",\"Frank Ocean\"],[\"Just The Way You Are\",\"Bruno Mars\"],[\"Take Me To Church\",\"Hozier\"],[\"Bebe Dame\",\"Fuerza Regida, Grupo Frontera\"],[\"You Belong With Me (Taylor\\u00ef\\u00bf\\u00bd\\u00ef\\u00bf\\u00bd\\u00ef\\u00bf\\u00bds Ve\",\"Taylor Swift\"],[\"Titi Me Pregunt\\u00ef\\u00bf\",\"Bad Bunny\"],[\"Better Than Revenge (Taylor's Version)\",\"Taylor Swift\"],[\"Shut up My Moms Calling\",\"Hotel Ugly\"],[\"Es un Secreto\",\"Plan B\"],[\"POLARIS - Remix\",\"Feid, Mora, Saiko, Quevedo\"],[\"Ditto\",\"NewJeans\"],[\"Take On Me\",\"a-ha\"],[\"Annihilate (Spider-Man: Across the Spider-Verse) (Metro Boomin & Swae Lee, Lil Wayne, Offset)\",\"Swae Lee, Lil Wayne, Offset, Metro Boomin\"],[\"Angel Pt 1 (feat. Jimin of BTS, JVKE & Muni Long)\",\"Kodak Black, NLE Choppa, Muni Long, JVKE, Jimin\"],[\"Acr\\u00ef\\u00bf\\u00bd\\u00ef\\u00bf\\u00bds\",\"Shakira\"],[\"AMG\",\"Natanael Cano, Gabito Ballesteros, Peso Pluma\"],[\"Phir Aur Kya Chahiye (From \\\"Zara Hatke Zara Bachke\\\")\",\"Arijit Singh, Sachin-Jigar, Amitabha Bhattacharya\"],[\"S-Class\",\"Stray Kids\"],[\"Hits Different\",\"Taylor Swift\"],[\"Chanel\",\"Becky G, Peso Pluma\"],[\"Self Love (Spider-Man: Across the Spider-Verse) (Metro Boomin & Coi Leray)\",\"Metro Boomin, Coi Leray\"],[\"Area Codes\",\"Kaliii, Kaliii\"],[\"Abcdario\",\"Junior H, Eden Mu\\u00ef\\u00bf\\u00bd\\u00ef\"],[\"Obsessed\",\"Abhijay Sharma, Riar Saab\"],[\"Pi\\u00ef\\u00bf\\u00bd\\u00ef\\u00bf\\u00bdman De\\u00ef\\u00bf\",\"Semicenk, Do\\u00ef\\u00bf\\u00bd\\u00ef\\u00bf\\u00bdu \"],[\"FLOWER\",\"JISOO\"],[\"All The Way Live (Spider-Man: Across the Spider-Verse) (Metro Boomin & Future, Lil Uzi Vert)\",\"Future, Lil Uzi Vert, Metro Boomin\"],[\"Eyes Closed\",\"Ed Sheeran\"],[\"Escapism.\",\"RAYE, 070 Shake\"],[\"La Jumpa\",\"Arcangel, Bad Bunny\"],[\"Karma (feat. Ice Spice)\",\"Taylor Swift, Ice Spice\"],[\"Superhero (Heroes & Villains) [with Future & Chris Brown]\",\"Future, Chris Brown, Metro Boomin\"],[\"Las Morras\",\"BLESSD, Peso Pluma\"],[\"CHORRITO PA LAS ANIMAS\",\"Feid\"],[\"Ch y la Pizza\",\"Fuerza Regida, Natanael Cano\"],[\"Snow On The Beach (feat. More Lana Del Rey)\",\"Lana Del Rey, Taylor Swift\"],[\"Players\",\"Coi Leray\"],[\"Bite Me\",\"ENHYPEN\"],[\"Stand By Me (feat. Morgan Wallen)\",\"Lil Durk, Morgan Wallen\"],[\"Normal\",\"Feid\"],[\"Hummingbird (Metro Boomin & James Blake)\",\"James Blake, Metro Boomin\"],[\"Seu Brilho Sumiu - Ao Vivo\",\"Israel & Rodolffo, Mari Fernandez\"],[\"Bad Habit\",\"Steve Lacy\"],[\"CUFF IT\",\"Beyonc\\u00ef\\u00bf\"],[\"Lilith (feat. SUGA of BTS) (Diablo IV Anthem)\",\"Halsey, Suga\"],[\"69\",\"Nicky Jam, Feid\"],[\"Ni\\u00ef\\u00bf\\u00bd\\u00ef\\u00bf\\u00bda Bo\",\"Sean Paul, Feid\"],[\"Search & Rescue\",\"Drake\"],[\"AMERICA HAS A PROBLEM (feat. Kendrick Lamar)\",\"Kendrick Lamar, Beyonc\\u00ef\\u00bf\"],[\"Lavender Haze\",\"Taylor Swift\"],[\"Link Up (Metro Boomin & Don Toliver, Wizkid feat. BEAM & Toian) - Spider-Verse Remix (Spider-Man: Across the Spider-Verse )\",\"WizKid, Toian, Metro Boomin, Don Toliver, Beam\"],[\"Efecto\",\"Bad Bunny\"],[\"Erro Gostoso - Ao Vivo\",\"Simone Mendes\"],[\"Cupido\",\"Tini\"],[\"Just Wanna Rock\",\"Lil Uzi Vert\"],[\"Until I Found You\",\"Stephen Sanchez\"],[\"Rich Flex\",\"Drake, 21 Savage\"],[\"Easy On Me\",\"Adele\"],[\"Cart\\u00ef\\u00bf\\u00bd\\u00ef\\u00bf\\u00bdo B\",\"MC Caverinha, KayBlack\"],[\"Danger (Spider) (Offset & JID)\",\"Offset, JID\"],[\"Oi Balde - Ao Vivo\",\"Z\\u00ef\\u00bf\\u00bd\\u00ef\\u00bf\\u00bd Neto & Crist\"],[\"The Real Slim Shady\",\"Eminem\"],[\"MERCHO\",\"Migrantes, LiL CaKe, Nico Valdi\"],[\"The Color Violet\",\"Tory Lanez\"],[\"Glimpse of Us\",\"Joji\"],[\"Mejor Que Yo\",\"Mambo Kingz, DJ Luian, Anuel Aa\"],[\"Curtains\",\"Ed Sheeran\"],[\"UNFORGIVEN (feat. Nile Rodgers)\",\"Nile Rodgers, LE SSERAFIM\"],[\"Haegeum\",\"Agust D\"],[\"Conex\\u00ef\\u00bf\\u00bd\\u00ef\\u00bf\\u00bdes de M\\u00ef\\u00bf\\u00bd\\u00ef\\u00bf\\u00bdfia (feat. Rich \",\"Rich The Kid, Matu\\u00ef\\u00bf\"],[\"Never Felt So Alone\",\"Labrinth\"],[\"X SI VOLVEMOS\",\"Karol G, Romeo Santos\"],[\"ceilings\",\"Lizzy McAlpine\"],[\"Cupid\",\"Fifty Fifty\"],[\"I AM\",\"IVE\"],[\"Cupid \\u00ef\\u00bf\\u00bd\\u00ef\\u00bf\\u00bd\\u00ef\\u00bf\\u00bd Twin Ver. (FIFTY FIFTY) \\u00ef\\u00bf\\u00bd\\u00ef\\u00bf\\u00bd\\u00ef\\u00bf\\u00bd Spe\",\"sped up 8282\"],[\"Shorty Party\",\"Cartel De Santa, La Kelly\"],[\"Super\",\"SEVENTEEN\"],[\"Slut Me Out\",\"NLE Choppa\"],[\"Double Fantasy (with Future)\",\"The Weeknd, Future\"],[\"All Of The Girls You Loved Before\",\"Taylor Swift\"],[\"PROVENZA\",\"Karol G\"],[\"Princess Diana (with Nicki Minaj)\",\"Nicki Minaj, Ice Spice\"],[\"Di Que Si\",\"Grupo Marca Registrada, Grupo Frontera\"],[\"Igualito a Mi Ap\\u00ef\\u00bf\",\"Fuerza Regida, Peso Pluma\"],[\"Shoong! (feat. LISA of BLACKPINK)\",\"TAEYANG, Lisa\"],[\"Komang\",\"Raim Laode\"],[\"DESPECH\\u00ef\\u00bf\",\"ROSAL\\u00ef\\u00bf\\u00bd\"],[\"Made You Look\",\"Meghan Trainor\"],[\"Watch This - ARIZONATEARS Pluggnb Remix\",\"sped up nightcore, ARIZONATEARS, Lil Uzi Vert\"],[\"Punto G\",\"Quevedo\"],[\"Lovers Rock\",\"TV Girl\"],[\"METAMORPHOSIS\",\"INTERWORLD\"],[\"Mami Chula\",\"Quevedo, Jhayco\"],[\"En Paris\",\"El Chachito, Junior H\"],[\"I Was Never There\",\"The Weeknd, Gesaffelstein\"],[\"Don't ever say love me (feat. RM of BTS)\",\"RM, Colde\"],[\"Gato de Noche\",\"Nengo Flow, Bad Bunny\"],[\"Call Out My Name\",\"The Weeknd\"],[\"Like Crazy (English Version)\",\"Jimin\"],[\"Rosa Pastel\",\"Jasiel Nu\\u00ef\\u00bf\\u00bd\\u00ef\\u00bf\\u00bdez, Peso P\"],[\"Sunroof\",\"Nicky Youre, Dazy\"],[\"Lose Yourself - Soundtrack Version\",\"Eminem\"],[\"Superman\",\"Eminem, Dina Rae\"],[\"Mas Rica Que Ayer\",\"Mambo Kingz, DJ Luian, Anuel Aa\"],[\"People Pt.2 (feat. IU)\",\"IU, Agust D\"],[\"REMIX EXCLUSIVO\",\"Feid\"],[\"Arc\\u00ef\\u00bf\\u00bd\\u00ef\\u00bf\\u00bdngel: Bzrp Music Sessions, Vol\",\"Arcangel, Bizarrap\"],[\"DOGTOOTH\",\"Tyler, The Creator\"],[\"10:35\",\"Ti\\u00ef\\u00bf\\u00bd\\u00ef\\u00bf\\u00bdsto, Tate M\"],[\"SORRY NOT SORRY\",\"Tyler, The Creator\"],[\"HAPPY\",\"NF\"],[\"La Bebe\",\"Yng Lvcas\"],[\"I Know - PR1SVX Edit\",\"Kanii, PR1ISVX\"],[\"Late Night Talking\",\"Harry Styles\"],[\"Le\\u00ef\\u00bf\\u00bd\",\"Mar\\u00ef\\u00bf\\u00bd\\u00ef\\u00bf\\u00bdlia Mendo\"],[\"Something in the Orange\",\"Zach Bryan\"],[\"VOID\",\"Melanie Martinez\"],[\"Dijeron Que No La Iba Lograr\",\"Fuerza Regida, Chino Pacas\"],[\"If We Ever Broke Up\",\"Mae Stephens\"],[\"You Proof\",\"Morgan Wallen\"],[\"LA INOCENTE\",\"Feid, Mora\"],[\"Malas Decisiones\",\"Kenia OS\"],[\"Murder In My Mind\",\"Kordhell\"],[\"CAIRO\",\"Karol G, Ovy On The Drums\"],[\"I Love You So\",\"The Walters\"],[\"Dark Red\",\"Steve Lacy\"],[\"Say You Won't Let Go\",\"James Arthur\"],[\"Heart To Heart\",\"Mac DeMarco\"],[\"Peaches (from The Super Mario Bros. Movie)\",\"Jack Black\"],[\"Marisola - Remix\",\"Duki, NICKI NICOLE, Cris Mj, Standly, Stars Music Chile\"],[\"LOKERA\",\"Brray, Rauw Alejandro, Lyanno\"],[\"Numb\",\"Linkin Park\"],[\"on the street (with J. Cole)\",\"j-hope, J. Cole\"],[\"One Thing At A Time\",\"Morgan Wallen\"],[\"Miss You\",\"Robin Schulz, Oliver Tree\"],[\"Ain\\u00ef\\u00bf\\u00bd\\u00ef\\u00bf\\u00bd\\u00ef\\u00bf\\u00bdt Tha\",\"Morgan Wallen\"],[\"Thinkin\\u00ef\\u00bf\\u00bd\\u00ef\\u00bf\\u00bd\\u00ef\\u00bf\\u00bd B\",\"Morgan Wallen\"],[\"Private Landing (feat. Justin Bieber & Future)\",\"Don Toliver, Future, Justin Bieber\"],[\"Everything I Love\",\"Morgan Wallen\"],[\"Heaven\",\"Niall Horan\"],[\"LET GO\",\"Central Cee\"],[\"Sial\",\"Mahalini\"],[\"I Wrote The Book\",\"Morgan Wallen\"],[\"Apna Bana Le (From \\\"Bhediya\\\")\",\"Arijit Singh, Sachin-Jigar\"],[\"SPIT IN MY FACE!\",\"ThxSoMch\"],[\"PLAYA DEL INGL\\u00ef\\u00bf\\u00bd\",\"Myke Towers, Quevedo\"],[\"Man Made A Bar (feat. Eric Church)\",\"Morgan Wallen, Eric Church\"],[\"Red Ruby Da Sleeze\",\"Nicki Minaj\"],[\"Kahani Suno 2.0\",\"Kaifi Khalil\"],[\"Nobody Gets Me\",\"SZA\"],[\"PERO T\\u00ef\\u00bf\",\"Karol G, Quevedo\"],[\"Hype Boy\",\"NewJeans\"],[\"Bloody Mary\",\"Lady Gaga\"],[\"\\u00fd\\u00fd\\u00fd98 Braves\",\"Morgan Wallen\"],[\"WANDA\",\"Quevedo\"],[\"Thought You Should Know\",\"Morgan Wallen\"],[\"In The End\",\"Linkin Park\"],[\"Zona De Perigo\",\"Leo Santana\"],[\"Lovezinho\",\"Treyce\"],[\"I Like You (A Happier Song) (with Doja Cat)\",\"Post Malone, Doja Cat\"],[\"Neverita\",\"Bad Bunny\"],[\"Sem Alian\\u00ef\\u00bf\\u00bd\\u00ef\\u00bf\\u00bda no \",\"MC Xenon, Os Gemeos da Putaria\"],[\"Enemy (with JID) - from the series Arcane League of Legends\",\"Imagine Dragons, League of Legends, JID, Arcane\"],[\"Revenge\",\"XXXTENTACION\"],[\"Bombonzinho - Ao Vivo\",\"Israel & Rodolffo, Ana Castela\"],[\"LA CANCI\\u00ef\\u00bf\\u00bd\",\"J Balvin, Bad Bunny\"],[\"Qu\\u00ef\\u00bf\\u00bd\\u00ef\\u00bf\\u00bd Ago\",\"Yuridia, Angela Aguilar\"],[\"Love Again\",\"The Kid Laroi\"],[\"After Hours\",\"The Weeknd\"],[\"About Damn Time\",\"Lizzo\"],[\"\\u00fd\\u00fd\\u00fd\\u00fd\\u00fd\\u00fd\\u00fd\\u00fd\\u00fd\\u00fd\\u00fd\\u00fd\\u00fd\\u00fd\\u00fd\\u00fd\\u00fd\\u00fd\\u00fd\\u00fd\\u00fd\",\"Fujii Kaze\"],[\"Besos Moja2\",\"Wisin & Yandel, ROSAL\\u00ef\\u00bf\\u00bd\"],[\"Maan Meri Jaan\",\"King\"],[\"Moscow Mule\",\"Bad Bunny\"],[\"My Universe\",\"Coldplay, BTS\"],[\"LLYLM\",\"ROSAL\\u00ef\\u00bf\\u00bd\"],[\"TRUSTFALL\",\"P!nk\"],[\"ANTIFRAGILE\",\"LE SSERAFIM\"],[\"Boy's a liar\",\"PinkPantheress\"],[\"Shirt\",\"SZA\"],[\"Lift Me Up - From Black Panther: Wakanda Forever - Music From and Inspired By\",\"Rihanna\"],[\"STAR WALKIN' (League of Legends Worlds Anthem)\",\"Lil Nas X\"],[\"Sex, Drugs, Etc.\",\"Beach Weather\"],[\"Boy With Luv (feat. Halsey)\",\"Halsey, BTS\"],[\"Hey, Mickey!\",\"Baby Tate\"],[\"Jhoome Jo Pathaan\",\"Arijit Singh, Vishal Dadlani, Sukriti Kakar, Vishal-Shekhar, Shekhar Ravjiani, Kumaar\"],[\"Escapism. - Sped Up\",\"RAYE, 070 Shake\"],[\"Te Felicito\",\"Shakira, Rauw Alejandro\"],[\"Mu\\u00ef\\u00bf\\u00bd\\u00ef\\u00bf\\u00bd\",\"Steve Aoki, Tini, La Joaqui\"],[\"TV\",\"Billie Eilish\"],[\"I'm Not The Only One\",\"Sam Smith\"],[\"Heather\",\"Conan Gray\"],[\"Besharam Rang (From \\\"Pathaan\\\")\",\"Vishal-Shekhar, Shilpa Rao, Caralisa Monteiro, Kumaar, Vishal Dadlani, Shekhar Ravjiani\"],[\"Sugar Rush Ride\",\"TOMORROW X TOGETHER\"],[\"WAIT FOR U (feat. Drake & Tems)\",\"Drake, Future, Tems\"],[\"Don't Start Now\",\"Dua Lipa\"],[\"After Dark\",\"Mr.Kitty\"],[\"MIDDLE OF THE NIGHT\",\"Elley Duh\\u00ef\\u00bf\"],[\"Atlantis\",\"Seafret\"],[\"Evoque Prata\",\"DJ Escobar, MC MENOR SG, MC MENOR HR\"],[\"How Do I Say Goodbye\",\"Dean Lewis\"],[\"Blind\",\"SZA\"],[\"Die For You\",\"Joji\"],[\"Doja\",\"Central Cee\"],[\"Gatita\",\"Bellakath\"],[\"Rumble\",\"Skrillex, Flowdan, Fred again..\"],[\"Niagara Falls (Foot or 2) [with Travis Scott & 21 Savage]\",\"Travis Scott, 21 Savage, Metro Boomin\"],[\"Yonaguni\",\"Bad Bunny\"],[\"Super Freaky Girl\",\"Nicki Minaj\"],[\"Running Up That Hill (A Deal With God)\",\"Kate Bush\"],[\"Dream On\",\"Aerosmith\"],[\"Limbo\",\"Freddie Dredd\"],[\"Where Are You Now\",\"Lost Frequencies, Calum Scott\"],[\"WORTH NOTHING\",\"Twisted, Oliver Tree\"],[\"KICK BACK\",\"Kenshi Yonezu\"],[\"Evergreen (You Didn\\u00ef\\u00bf\\u00bd\\u00ef\\u00bf\\u00bd\\u00ef\\u00bf\\u00bdt Deserve Me A\",\"Omar Apollo\"],[\"Good Days\",\"SZA\"],[\"Levitating (feat. DaBaby)\",\"Dua Lipa, DaBaby\"],[\"Shut up My Moms Calling - (Sped Up)\",\"Hotel Ugly\"],[\"Ferrari\",\"James Hype, Miggy Dela Rosa\"],[\"You're On Your Own, Kid\",\"Taylor Swift\"],[\"Agudo M\\u00ef\\u00bf\\u00bd\\u00ef\\u00bf\\u00bdgi\",\"Styrx, utku INC, Thezth\"],[\"It's Beginning To Look A Lot Like Christmas\",\"Michael Bubl\\u00ef\\u00bf\"],[\"It's the Most Wonderful Time of the Year\",\"Andy Williams\"],[\"Let It Snow! Let It Snow! Let It Snow!\",\"Dean Martin\"],[\"Underneath the Tree\",\"Kelly Clarkson\"],[\"Feliz Navidad\",\"Jos\\u00ef\\u00bf\\u00bd\\u00ef\\u00bf\\u00bd Felic\"],[\"Holly Jolly Christmas\",\"Michael Bubl\\u00ef\\u00bf\"],[\"Mistletoe\",\"Justin Bieber\"],[\"Sleigh Ride\",\"The Ronettes\"],[\"Seek & Destroy\",\"SZA\"],[\"Love Language\",\"SZA\"],[\"Happy Xmas (War Is Over)\",\"John Lennon, The Harlem Community Choir, The Plastic Ono Band, Yoko Ono\"],[\"Used (feat. Don Toliver)\",\"SZA, Don Toliver\"],[\"The Christmas Song (Merry Christmas To You) - Remastered 1999\",\"Nat King Cole\"],[\"Wonderful Christmastime - Edited Version / Remastered 2011\",\"Paul McCartney\"],[\"Ghost in the Machine (feat. Phoebe Bridgers)\",\"SZA, Phoebe Bridgers\"],[\"Merry Christmas Everyone\",\"Shakin' Stevens\"],[\"Let It Snow! Let It Snow! Let It Snow!\",\"Frank Sinatra, B. Swanson Quartet\"],[\"SOS\",\"SZA\"],[\"Open Arms (feat. Travis Scott)\",\"SZA, Travis Scott\"],[\"White Christmas\",\"Bing Crosby, John Scott Trotter & His Orchestra, Ken Darby Singers\"],[\"Driving Home for Christmas - 2019 Remaster\",\"Chris Rea\"],[\"Christmas (Baby Please Come Home)\",\"Darlene Love\"],[\"Gone Girl\",\"SZA\"],[\"F2F\",\"SZA\"],[\"Notice Me\",\"SZA\"],[\"It's Beginning to Look a Lot Like Christmas (with Mitchell Ayres & His Orchestra)\",\"Perry Como, The Fontane Sisters, Mitchell Ayres & His Orchestra\"],[\"Antidepresan\",\"Mabel Matiz, Mert Demir\"],[\"Wild Flower (with youjeen)\",\"RM\"],[\"I Hate U\",\"SZA\"],[\"Raindrops (Insane) [with Travis Scott]\",\"Travis Scott, Metro Boomin\"],[\"SPIT IN MY FACE!\",\"ThxSoMch\"],[\"Deck The Hall - Remastered 1999\",\"Nat King Cole\"],[\"Smoking on my Ex Pack\",\"SZA\"],[\"Conceited\",\"SZA\"],[\"Snow On The Beach (feat. Lana Del Rey)\",\"Taylor Swift, Lana Del Rey\"],[\"Maroon\",\"Taylor Swift\"],[\"Tubar\\u00ef\\u00bf\\u00bd\\u00ef\\u00bf\\u00bdo Te\",\"Dj LK da Esc\\u00ef\\u00bf\\u00bd\\u00ef\\u00bf\\u00bdcia, Tchakabum, mc jhenny, M\"],[\"Bejeweled\",\"Taylor Swift\"],[\"Tarot\",\"Bad Bunny, Jhay Cortez\"],[\"You Make It Feel Like Christmas (feat. Blake Shelton)\",\"Gwen Stefani, Blake Shelton\"],[\"Desesperados\",\"Chencho Corleone, Rauw Alejandro\"],[\"Too Late\",\"SZA\"],[\"Party\",\"Bad Bunny, Rauw Alejandro\"],[\"Run Rudolph Run - Single Version\",\"Chuck Berry\"],[\"Jingle Bells - Remastered 1999\",\"Frank Sinatra\"],[\"Far\",\"SZA\"],[\"On Time (with John Legend)\",\"John Legend, Metro Boomin\"],[\"GAT\\u00ef\\u00bf\\u00bd\\u00ef\\u00bf\\u00bd\",\"Maldy, Karol G\"],[\"Is There Someone Else?\",\"The Weeknd\"],[\"Fingers Crossed\",\"Lauren Spencer Smith, Lauren Spencer Smith, Lauren Spencer Smith\"],[\"Do It To It\",\"Cherish, ACRAZE\"],[\"How Do I Make You Love Me?\",\"The Weeknd\"],[\"Gasoline\",\"The Weeknd\"],[\"Infinity\",\"Jaymes Young\"],[\"Take My Breath\",\"The Weeknd\"],[\"Here We Go\\u00ef\\u00bf\\u00bd\\u00ef\\u00bf\\u00bd\\u00ef\\u00bf\\u00bd Again (feat. Tyler, the Cr\",\"The Weeknd, Tyler, The Creator\"],[\"Best Friends\",\"The Weeknd\"],[\"Kiss Me More (feat. SZA)\",\"SZA, Doja Cat\"],[\"I Heard You're Married (feat. Lil Wayne)\",\"The Weeknd, Lil Wayne\"],[\"Dawn FM\",\"The Weeknd\"],[\"Surface Pressure\",\"Jessica Darrow\"],[\"Starry Eyes\",\"The Weeknd\"],[\"THATS WHAT I WANT\",\"Lil Nas X\"],[\"One Right Now (with The Weeknd)\",\"The Weeknd, Post Malone\"],[\"Beggin\",\"M\\u00ef\\u00bf\\u00bd\\u00ef\\u00bf\\u00bdne\"],[\"Mon Amour - Remix\",\"Aitana, zzoilo\"],[\"Lo Siento BB:/ (with Bad Bunny & Julieta Venegas)\",\"Julieta Venegas, Bad Bunny, Tainy\"],[\"The Motto\",\"Ti\\u00ef\\u00bf\\u00bd\\u00ef\\u00bf\\u00bdsto, Ava\"],[\"Malvad\\u00ef\\u00bf\\u00bd\\u00ef\\u00bf\",\"Xam\\u00ef\\u00bf\\u00bd\\u00ef\\u00bf\\u00bd, Gustah, Neo B\"],[\"Don\\u00ef\\u00bf\\u00bd\\u00ef\\u00bf\\u00bd\\u00ef\\u00bf\\u00bdt Break My\",\"The Weeknd\"],[\"Oh My God\",\"Adele\"],[\"Entre Nosotros (Remix) [con Nicki Nicole]\",\"Lit Killah, Maria Becerra, Tiago pzk, NICKI NICOLE\"],[\"A Tale By Quincy\",\"The Weeknd\"],[\"I AM WOMAN\",\"Emmy Meli\"],[\"Medallo\",\"Justin Quiles, Lenny Tav\\u00ef\\u00bf\\u00bd\\u00ef\\u00bf\\u00bdrez, BL\"],[\"It'll Be Okay\",\"Shawn Mendes\"],[\"Softcore\",\"The Neighbourhood\"],[\"Super Gremlin\",\"Kodak Black\"],[\"Volv\\u00ef\\u00bf\",\"Aventura, Bad Bunny\"],[\"Todo De Ti\",\"Rauw Alejandro\"],[\"Smokin Out The Window\",\"Bruno Mars, Anderson .Paak, Silk Sonic\"],[\"Meet Me At Our Spot\",\"THE ANXIETY, Willow, Tyler Cole\"],[\"Tacones Rojos\",\"Sebastian Yatra\"],[\"Dakiti\",\"Bad Bunny, Jhay Cortez\"],[\"Tiago PZK: Bzrp Music Sessions, Vol. 48\",\"Bizarrap, Tiago pzk\"],[\"L\\u00ef\\u00bf\\u00bd\\u00ef\\u00bf\\u00bd\\u00ef\\u00bf\",\"Stromae\"],[\"Nost\\u00ef\\u00bf\\u00bd\\u00ef\\u00bf\\u00bdl\",\"Chris Brown, Rvssian, Rauw Alejandro\"],[\"Sad Girlz Luv Money Remix (feat. Kali Uchis)\",\"Kali Uchis, Amaarae, Moliy\"],[\"Butter\",\"BTS\"],[\"pushin P (feat. Young Thug)\",\"Young Thug, Future, Gunna\"],[\"You Right\",\"Doja Cat, The Weeknd\"],[\"deja vu\",\"Olivia Rodrigo\"],[\"TO THE MOON\",\"Jnr Choi\"],[\"Lost in the Fire\",\"The Weeknd, Gesaffelstein\"],[\"Salimo de Noche\",\"Trueno, Tiago pzk\"],[\"Volando - Remix\",\"Sech, Bad Bunny, Mora\"],[\"Leave The Door Open\",\"Bruno Mars, Anderson .Paak, Silk Sonic\"],[\"Knife Talk (with 21 Savage ft. Project Pat)\",\"Drake, Project Pat, 21 Savage\"],[\"Don't Be Shy\",\"Ti\\u00ef\\u00bf\\u00bd\\u00ef\\u00bf\\u00bdsto, Kar\"],[\"Love Grows (Where My Rosemary Goes)\",\"Edison Lighthouse\"],[\"The Family Madrigal\",\"Olga Merediz, Stephanie Beatriz, Encanto - Cast\"],[\"Phantom Regret by Jim\",\"The Weeknd\"],[\"Freaks\",\"Surf Curse\"],[\"Acapulco\",\"Jason Derulo\"],[\"Daddy Issues\",\"The Neighbourhood\"],[\"thought i was playing\",\"21 Savage, Gunna\"],[\"ELEVEN\",\"IVE\"],[\"What Else Can I Do?\",\"Stephanie Beatriz, Diane Guerrero\"],[\"Miserable Man\",\"David Kushner\"],[\"happier\",\"Olivia Rodrigo\"],[\"Praise God\",\"Kanye West\"],[\"Get Into It (Yuh)\",\"Doja Cat\"],[\"Before You Go\",\"Lewis Capaldi\"],[\"Sky\",\"Playboi Carti\"],[\"Rolling in the Deep\",\"Adele\"],[\"Sobrio\",\"Maluma\"],[\"Peru\",\"Ed Sheeran, Fireboy DML\"],[\"favorite crime\",\"Olivia Rodrigo\"],[\"Thunder\",\"Prezioso, Gabry Ponte, LUM!X\"],[\"The Business\",\"Ti\\u00ef\\u00bf\\u00bd\\u00ef\\u00bf\"],[\"I WANNA BE YOUR SLAVE\",\"M\\u00ef\\u00bf\\u00bd\\u00ef\\u00bf\\u00bdne\"],[\"Vai L\\u00ef\\u00bf\\u00bd\\u00ef\\u00bf\\u00bd Em Casa \",\"Mar\\u00ef\\u00bf\\u00bd\\u00ef\\u00bf\\u00bdlia Mendon\\u00ef\\u00bf\\u00bd\\u00ef\\u00bf\\u00bda, George Henrique &\"],[\"The Feels\",\"TWICE\"],[\"No Lie\",\"Sean Paul, Dua Lipa\"],[\"OUT OUT (feat. Charli XCX & Saweetie)\",\"Charli XCX, Jax Jones, Joel Corry, Saweetie\"],[\"Pope Is a Rockstar\",\"SALES\"],[\"2055\",\"Sleepy hallow\"],[\"Bored\",\"Billie Eilish\"],[\"Astronaut In The Ocean\",\"Masked Wolf\"],[\"Ley Seca\",\"Anuel Aa, Jhay Cortez\"],[\"Every Summertime\",\"NIKI\"],[\"Talking To The Moon\",\"Bruno Mars\"],[\"you broke me first\",\"Tate McRae\"],[\"The Nights\",\"Avicii\"],[\"Take My Breath\",\"The Weeknd\"],[\"Way 2 Sexy (with Future & Young Thug)\",\"Drake, Future, Young Thug\"],[\"C\\u00ef\\u00bf\\u00bd\\u00ef\\u00bf\\u00bd\",\"Rauw Alejandro\"],[\"Enemy - from the series Arcane League of Legends\",\"Imagine Dragons, League of Legends, Arcane\"],[\"Lucid Dreams\",\"Juice WRLD\"],[\"Qu\\u00ef\\u00bf\\u00bd\\u00ef\\u00bf\\u00bd M\\u00ef\\u00bf\\u00bd\\u00ef\\u00bf\",\"J Balvin, Maria Becerra\"],[\"All of Me\",\"John Legend\"],[\"Smells Like Teen Spirit - Remastered 2021\",\"Nirvana\"],[\"Fair Trade (with Travis Scott)\",\"Drake, Travis Scott\"],[\"Bar\",\"Tini, L-Gante\"],[\"The Rumbling (TV Size)\",\"SiM\"],[\"family ties (with Kendrick Lamar)\",\"Kendrick Lamar, Baby Keem\"],[\"Mr. Brightside\",\"The Killers\"],[\"Blessed-Cursed\",\"ENHYPEN\"],[\"AM Remix\",\"J Balvin, Nio Garcia, Bad Bunny\"],[\"Streets\",\"Doja Cat\"],[\"Shallow\",\"Lady Gaga, Bradley Cooper\"],[\"Polaroid Love\",\"ENHYPEN\"],[\"Leave Before You Love Me (with Jonas Brothers)\",\"Marshmello, Jonas Brothers\"],[\"Permission to Dance\",\"BTS\"],[\"Friday (feat. Mufasa & Hypeman) - Dopamine Re-Edit\",\"Riton, Nightcrawlers, Mufasa & Hypeman, Dopamine\"],[\"RAPSTAR\",\"Polo G\"],[\"'Till I Collapse\",\"Eminem, Nate Dogg\"],[\"Memories\",\"Maroon 5\"],[\"Se Le Ve\",\"Arcangel, De La Ghetto, Justin Quiles, Lenny Tav\\u00ef\\u00bf\\u00bd\\u00ef\\u00bf\\u00bdrez, Sech, Dalex, Dimelo Flow, Rich Music\"],[\"25k jacket (feat. Lil Baby)\",\"Gunna, Lil Baby\"],[\"Esque\\u00ef\\u00bf\\u00bd\\u00ef\\u00bf\\u00bda-Me Se For C\",\"Mar\\u00ef\\u00bf\\u00bd\\u00ef\\u00bf\\u00bdlia Mendon\\u00ef\\u00bf\\u00bd\\u00ef\\u00bf\\u00bda, Maiara &\"],[\"Mi\\u00ef\\u00bf\\u00bd\\u00ef\\u00bf\\u00bdn\",\"Tini, Maria Becerra\"],[\"S\\u00ef\\u00bf\\u00bd\\u00ef\\u00bf\\u00bd\",\"Anuel Aa, Myke Towers, Jhay Cortez\"],[\"MAMIII\",\"Karol G, Becky G\"],[\"Still D.R.E.\",\"Dr. Dre, Snoop Dogg\"],[\"Stay Alive (Prod. SUGA of BTS)\",\"Jung Kook\"],[\"Boyfriend\",\"Dove Cameron\"],[\"The Next Episode\",\"Dr. Dre, Snoop Dogg\"],[\"Light Switch\",\"Charlie Puth\"],[\"City of Gods\",\"Kanye West, Alicia Keys, Fivio Foreign\"],[\"Brividi\",\"Mahmood, Blanco\"],[\"Lost\",\"Frank Ocean\"],[\"In Da Club\",\"50 Cent\"],[\"she's all i wanna be\",\"Tate McRae\"],[\"Ginseng Strip 2002\",\"Yung Lean\"],[\"All For Us - from the HBO Original Series Euphoria\",\"Labrinth, Zendaya\"],[\"Notion\",\"The Rare Occasions\"],[\"Formula\",\"Labrinth\"],[\"Excuses\",\"Intense, AP Dhillon, Gurinder Gill\"],[\"Cigarettes\",\"Juice WRLD\"],[\"Cay\\u00ef\\u00bf\\u00bd\\u00ef\\u00bf\\u00bd La Noche (feat. Cruz Cafun\\u00ef\\u00bf\\u00bd\\u00ef\\u00bf\\u00bd, Abhir Hathi, Bejo, EL IMA)\",\"Quevedo, La Pantera, Juseph, Cruz Cafun\\u00ef\\u00bf\\u00bd\\u00ef\\u00bf\\u00bd, B\\u00ef\\u00bf\\u00bd\\u00ef\\u00bf\\u00bdjo, Abhir Hathi\"],[\"California Love - Original Version (Explicit)\",\"Dr. Dre, 2Pac, Roger\"],[\"Forgot About Dre\",\"Eminem, Dr. Dre\"],[\"Down Under (feat. Colin Hay)\",\"Luude, Colin Hay\"],[\"Mujeriego\",\"Ryan Castro\"],[\"HUMBLE.\",\"Kendrick Lamar\"],[\"Stan\",\"Eminem, Dido\"],[\"Contection\",\"GODZZ__-, Zakaria\"],[\"Swim\",\"Chase Atlantic\"],[\"Numb Little Bug\",\"Em Beihold\"],[\"212\",\"Mainstreet, Chefin\"],[\"Problem\\u00ef\\u00bf\\u00bd\",\"Alvaro Diaz, Rauw Alejandro\"],[\"Bussin\",\"Nicki Minaj, Lil Baby\"],[\"Worst Day\",\"Future\"],[\"Malvada\",\"Z\\u00ef\\u00bf\\u00bd\\u00ef\\u00bf\\u00bd Fe\"],[\"Hrs and Hrs\",\"Muni Long\"],[\"Alien Blues\",\"Vundabar\"],[\"Thinking Out Loud\",\"Ed Sheeran\"],[\"Still Don't Know My Name\",\"Labrinth\"],[\"Christmas Tree\",\"V\"],[\"When I R.I.P.\",\"Labrinth\"],[\"Do We Have A Problem?\",\"Nicki Minaj, Lil Baby\"],[\"Forever\",\"Labrinth\"],[\"Gospel (with Eminem)\",\"Eminem, Dr. Dre\"],[\"Se\\u00ef\\u00bf\\u00bd\\u00ef\\u00bf\\u00bdo\",\"Shawn Mendes, Camila Cabello\"],[\"NEW MAGIC WAND\",\"Tyler, The Creator\"],[\"Adore You\",\"Harry Styles\"],[\"La Santa\",\"Daddy Yankee, Bad Bunny\"],[\"Something In The Way - Remastered 2021\",\"Nirvana\"],[\"Sweetest Pie\",\"Dua Lipa, Megan Thee Stallion\"],[\"Bam Bam (feat. Ed Sheeran)\",\"Camila Cabello, Ed Sheeran\"],[\"Una Noche en Medell\\u00ef\\u00bf\\u00bd\",\"Cris Mj\"],[\"Envolver\",\"Anitta\"],[\"Starlight\",\"Dave\"],[\"Hati-Hati di Jalan\",\"Tulus\"],[\"DAN\\u00ef\\u00bf\\u00bd\\u00ef\\u00bf\\u00bdA\",\"Mc Pedrinho, Pedro Sampaio\"],[\"Yo Voy (feat. Daddy Yankee)\",\"Zion & Lennox\"],[\"Residente: Bzrp Music Sessions, Vol. 49\",\"Residente, Bizarrap\"],[\"Jordan\",\"Ryan Castro\"],[\"Nail Tech\",\"Jack Harlow\"],[\"Chale\",\"Eden Mu\\u00ef\\u00bf\\u00bd\\u00ef\"],[\"Ya No Somos Ni Seremos\",\"Christian Nodal\"],[\"Freaky Deaky\",\"Tyga, Doja Cat\"],[\"this is what falling in love feels like\",\"JVKE\"],[\"La Zona\",\"Bad Bunny\"],[\"Hope\",\"XXXTENTACION\"],[\"Levitating\",\"Dua Lipa\"],[\"Wake Me Up - Radio Edit\",\"Avicii\"],[\"jealousy, jealousy\",\"Olivia Rodrigo\"],[\"Mon\\u00ef\\u00bf\\u00bd\\u00ef\\u00bf\\u00bdy so\",\"YEAT\"],[\"Demasiadas Mujeres\",\"C. Tangana\"],[\"Something Just Like This\",\"The Chainsmokers, Coldplay\"],[\"Closer\",\"The Chainsmokers, Halsey\"],[\"O.O\",\"NMIXX\"],[\"Tom's Diner\",\"AnnenMayKantereit, Giant Rooks\"],[\"First Class\",\"Jack Harlow\"],[\"Fuera del mercado\",\"Danny Ocean\"],[\"X \\u00ef\\u00bf\\u00bd\\u00ef\\u00bf\\u00bdLTIMA\",\"Daddy Yankee, Bad Bunny\"],[\"When You're Gone\",\"Shawn Mendes\"],[\"In My Head\",\"Lil Tjay\"],[\"Wait a Minute!\",\"Willow\"],[\"LOVE DIVE\",\"IVE\"],[\"Pantysito\",\"Feid, Alejo, Robi\"],[\"Chance\",\"Paulo Londra\"],[\"Cool for the Summer\",\"Demi Lovato\"],[\"psychofreak (feat. WILLOW)\",\"Camila Cabello, Willow\"],[\"Angel Baby\",\"Troye Sivan\"],[\"Vampiro\",\"Matu\\u00ef\\u00bf\\u00bd\\u00ef\\u00bf\\u00bd, Wiu, \"],[\"Si Quieren Frontear\",\"De La Ghetto, Duki, Quevedo\"],[\"Right On\",\"Lil Baby\"],[\"That's Hilarious\",\"Charlie Puth\"],[\"Soy El Unico\",\"Yahritza Y Su Esencia\"],[\"RUMBAT\\u00ef\\u00bf\\u00bd\",\"Daddy Yankee\"],[\"sentaDONA (Remix) s2\",\"Lu\\u00ef\\u00bf\\u00bd\\u00ef\\u00bf\\u00bdsa Sonza, MC Frog, Dj Gabriel do Borel, Davi K\"],[\"Falling\",\"Harry Styles\"],[\"Sigue\",\"Ed Sheeran, J Balvin\"],[\"Fim de Semana no Rio\",\"teto\"],[\"MANIAC\",\"Stray Kids\"],[\"There's Nothing Holdin' Me Back\",\"Shawn Mendes\"],[\"IDGAF (with blackbear)\",\"Blackbear, BoyWithUke\"],[\"Golden\",\"Harry Styles\"],[\"Get Lucky - Radio Edit\",\"Pharrell Williams, Nile Rodgers, Daft Punk\"],[\"Ain't Shit\",\"Doja Cat\"],[\"Nobody Like U - From \\\"Turning Red\\\"\",\"Jordan Fisher, Josh Levi, Finneas O'Connell, 4*TOWN (From Disney and Pixar\\u00ef\\u00bf\\u00bd\\u00ef\\u00bf\\u00bd\\u00ef\\u00bf\\u00bds Turning Red), Topher Ngo, Grayson Vill\"],[\"Still Life\",\"BIGBANG\"],[\"Photograph\",\"Ed Sheeran\"],[\"Love Yourself\",\"Justin Bieber\"],[\"N95\",\"Kendrick Lamar\"],[\"About Damn Time\",\"Lizzo\"],[\"Die Hard\",\"Kendrick Lamar, Blxst, Amanda Reifer\"],[\"Despu\\u00ef\\u00bf\\u00bd\\u00ef\\u00bf\\u00bds de la P\",\"Bad Bunny\"],[\"United In Grief\",\"Kendrick Lamar\"],[\"Father Time (feat. Sampha)\",\"Kendrick Lamar, Sampha\"],[\"Rich Spirit\",\"Kendrick Lamar\"],[\"Me Fui de Vacaciones\",\"Bad Bunny\"],[\"Silent Hill\",\"Kendrick Lamar, Kodak Black\"],[\"La Corriente\",\"Tony Dize, Bad Bunny\"],[\"Count Me Out\",\"Kendrick Lamar\"],[\"Andrea\",\"Buscabulla, Bad Bunny\"],[\"Dos Mil 16\",\"Bad Bunny\"],[\"We Cry Together\",\"Kendrick Lamar, Taylour Paige\"],[\"Savior\",\"Kendrick Lamar, Sam Dew, Baby Keem\"],[\"Un Coco\",\"Bad Bunny\"],[\"Otro Atardecer\",\"Bad Bunny, The Mar\\u00ef\\u00bf\\u00bd\\u00ef\"],[\"Worldwide Steppers\",\"Kendrick Lamar\"],[\"Aguacero\",\"Bad Bunny\"],[\"Purple Hearts\",\"Kendrick Lamar, Ghostface Killah, Summer Walker\"],[\"Un Verano Sin Ti\",\"Bad Bunny\"],[\"ULTRA SOLO\",\"Polima WestCoast, Pailita\"],[\"Ens\\u00ef\\u00bf\\u00bd\\u00ef\\u00bf\\u00bd\\u00ef\\u00bf\\u00bd\\u00ef\\u00bf\\u00bdame \",\"Bad Bunny\"],[\"El Apag\\u00ef\\u00bf\\u00bd\",\"Bad Bunny\"],[\"Callaita\",\"Bad Bunny, Tainy\"],[\"Dua Lipa\",\"Jack Harlow\"],[\"Agosto\",\"Bad Bunny\"],[\"House Of Memories\",\"Panic! At The Disco\"],[\"Mr. Morale\",\"Kendrick Lamar, Tanna Leone\"],[\"That That (prod. & feat. SUGA of BTS)\",\"PSY, Suga\"],[\"In The Stars\",\"Benson Boone\"],[\"Rich - Interlude\",\"Kendrick Lamar\"],[\"SUPERMODEL\",\"M\\u00ef\\u00bf\\u00bd\\u00ef\\u00bf\\u00bdne\"],[\"Stefania (Kalush Orchestra)\",\"KALUSH\"],[\"Thousand Miles\",\"The Kid Laroi\"],[\"Crown\",\"Kendrick Lamar\"],[\"Auntie Diaries\",\"Kendrick Lamar\"],[\"PUFFIN ON ZOOTIEZ\",\"Future\"],[\"Mirror\",\"Kendrick Lamar\"],[\"Beautiful Girl\",\"Luciano\"],[\"Savior - Interlude\",\"Kendrick Lamar\"],[\"Pasoori\",\"Shae Gill, Ali Sethi\"],[\"Mother I Sober (feat. Beth Gibbons of Portishead)\",\"Kendrick Lamar, Beth Gibbons\"],[\"TUS L\\u00ef\\u00bf\\u00bd\\u00ef\\u00bf\\u00bdGR\",\"Sech, Mora\"],[\"Where Did You Go?\",\"MNEK, Jax Jones\"],[\"I Tried to Tell Y'all\",\"Ugly Dray, Tesla Jnr\"],[\"Honest (feat. Don Toliver)\",\"Justin Bieber, Don Toliver\"],[\"ZOOM\",\"Jessi\"],[\"SloMo\",\"Chanel\"],[\"FEARLESS\",\"LE SSERAFIM\"],[\"10 Things I Hate About You\",\"Leah Kate\"],[\"SPACE MAN\",\"Sam Ryder\"],[\"With you\",\"HA SUNG WOON, Jimin\"],[\"Iris\",\"The Goo Goo Dolls\"],[\"The Heart Part 5\",\"Kendrick Lamar\"],[\"San Lucas\",\"Kevin Kaarl\"],[\"This Love (Taylor\\u00ef\\u00bf\\u00bd\\u00ef\\u00bf\\u00bd\\u00ef\\u00bf\\u00bds Ve\",\"Taylor Swift\"],[\"Good Looking\",\"Suki Waterhouse\"],[\"Flowers\",\"Lauren Spencer Smith\"],[\"Yet To Come\",\"BTS\"],[\"Run BTS\",\"BTS\"],[\"Music For a Sushi Restaurant\",\"Harry Styles\"],[\"Matilda\",\"Harry Styles\"],[\"For Youth\",\"BTS\"],[\"Vegas (From the Original Motion Picture Soundtrack ELVIS)\",\"Doja Cat\"],[\"Cash In Cash Out\",\"Pharrell Williams, Tyler, The Creator, 21 Savage\"],[\"Potion (with Dua Lipa & Young Thug)\",\"Calvin Harris, Dua Lipa, Young Thug\"],[\"Born Singer\",\"BTS\"],[\"Little Freak\",\"Harry Styles\"],[\"La Llevo Al Cielo (Ft. \\u00ef\\u00bf\\u00bd\\u00ef\\u00bf\\u00bdengo F\",\"Nengo Flow, Anuel Aa, Chris Jedi, Chencho Corleone\"],[\"True Love\",\"Kanye West, XXXTENTACION\"],[\"Pass The Dutchie\",\"Musical Youth\"],[\"Villano Antillano: Bzrp Music Sessions, Vol. 51\",\"Bizarrap, Villano Antillano\"],[\"Love Of My Life\",\"Harry Styles\"],[\"Grapejuice\",\"Harry Styles\"],[\"So Good\",\"Halsey\"],[\"Belly Dancer\",\"BYOR, Imanbek\"],[\"Keep Driving\",\"Harry Styles\"],[\"Cinema\",\"Harry Styles\"],[\"Die Young (feat. 347aidan)\",\"Sleepy hallow, 347aidan\"],[\"Only Love Can Hurt Like This\",\"Paloma Faith\"],[\"Hold My Hand\",\"Lady Gaga\"],[\"Daydreaming\",\"Harry Styles\"],[\"Nos Comemos (feat. Ozuna)\",\"Ozuna, Tiago pzk\"],[\"Me and Your Mama\",\"Childish Gambino\"],[\"Crazy What Love Can Do\",\"David Guetta, Ella Henderson, Becky Hill\"],[\"SLOW DANCING IN THE DARK\",\"Joji\"],[\"Antes de Perderte\",\"Duki\"],[\"295\",\"Sidhu Moose Wala\"],[\"En El Radio Un Cochinero\",\"Victor Cibrian\"],[\"Master of Puppets (Remastered)\",\"Metallica\"],[\"BREAK MY SOUL\",\"Beyonc\\u00ef\\u00bf\"],[\"ULTRA SOLO REMIX\",\"De La Ghetto, Feid, Polima WestCoast, Paloma Mami, Pailita\"],[\"Massive\",\"Drake\"],[\"Betty (Get Money)\",\"Yung Gravy\"],[\"Ojos Marrones\",\"Lasso\"],[\"POP!\",\"Nayeon\"],[\"Layla\",\"Sch\\u00ef\\u00bf\\u00bd\\u00ef\\u00bf\\u00bdrze, DJ R\"],[\"MORE\",\"j-hope\"],[\"Sweet Child O' Mine\",\"Guns N' Roses\"],[\"Last Last\",\"Burna Boy\"],[\"Sticky\",\"Drake\"],[\"Hot Shit (feat. Ye & Lil Durk)\",\"Kanye West, Lil Durk, Cardi B\"],[\"Ai Preto\",\"L7nnon, DJ Biel do Furduncinho, Bianca\"],[\"La Loto\",\"Anitta, Tini, Becky G\"],[\"die first\",\"Nessa Barrett\"],[\"Afraid To Feel\",\"LF System\"],[\"Baile no Morro\",\"Mc Vitin Da Igrejinha, MC Tairon, DJ Win\"],[\"c\\u00ef\\u00bf\\u00bd\\u00ef\\u00bf\\u00bdmo dormi\",\"Rels B\"],[\"STAYING ALIVE (feat. Drake & Lil Baby)\",\"Drake, DJ Khaled, Lil Baby\"],[\"Si Te La Encuentras Por Ah\\u00ef\\u00bf\",\"Feid\"],[\"GIVENCHY\",\"Duki\"],[\"ALIEN SUPERSTAR\",\"Beyonc\\u00ef\\u00bf\"],[\"Mary On A Cross\",\"Ghost\"],[\"Attention\",\"NewJeans\"],[\"THE SHADE\",\"Rex Orange County\"],[\"Come Back Home - From \\\"Purple Hearts\\\"\",\"Sofia Carson\"],[\"El Rescate\",\"Grupo Marca Registrada, Junior H\"],[\"Heartless\",\"Kanye West\"],[\"Stay With Me (with Justin Timberlake, Halsey, & Pharrell)\",\"Calvin Harris, Halsey, Pharrell Williams, Justin Timberlake\"],[\"JGL\",\"Luis R Conriquez, La Adictiva\"],[\"Don't You Worry\",\"David Guetta, Shakira, Black Eyed Peas\"],[\"Pipoco\",\"Melody, Ana Castela, Dj Chris No Beat\"],[\"Forget Me\",\"Lewis Capaldi\"],[\"Bound 2\",\"Kanye West\"],[\"Talk that Talk\",\"TWICE\"],[\"BILLIE EILISH.\",\"Armani White\"],[\"Ferxxo 100\",\"Feid\"],[\"KU LO SA - A COLORS SHOW\",\"Oxlade\"],[\"Prohibidox\",\"Feid\"],[\"Static\",\"Steve Lacy\"],[\"The Scientist\",\"Coldplay\"],[\"Sparks\",\"Coldplay\"],[\"Talk\",\"YEAT\"],[\"XQ Te Pones As\\u00ef\\u00bf\",\"Yandel, Feid\"],[\"Selfish\",\"PnB Rock\"],[\"Sin Se\\u00ef\\u00bf\\u00bd\\u00ef\",\"Ovy On The Drums, Quevedo\"],[\"Lady Mi Amor\",\"Feid\"],[\"Poland\",\"Lil Yachty\"],[\"THE LONELIEST\",\"M\\u00ef\\u00bf\\u00bd\\u00ef\\u00bf\\u00bdne\"],[\"Bye Bye\",\"Marshmello, Juice WRLD\"],[\"BABY OTAKU\",\"Fran C, Polima WestCoast, Nickoog Clk, Pablito Pesadilla\"],[\"Nxde\",\"(G)I-DLE\"],[\"Miss You\",\"Southstar\"],[\"we fell in love in october\",\"girl in red\"],[\"2 Be Loved (Am I Ready)\",\"Lizzo\"],[\"Celestial\",\"Ed Sheeran\"],[\"Typa Girl\",\"BLACKPINK\"],[\"California Breeze\",\"Lil Baby\"],[\"Bamba (feat. Aitch & BIA)\",\"Luciano, Aitch, B\\u00ef\\u00bf\\u00bd\"],[\"Casei Com a Putaria\",\"MC Ryan SP, Love Funk, Mc Paiva ZS\"],[\"Major Distribution\",\"Drake, 21 Savage\"],[\"Pussy & Millions (feat. Travis Scott)\",\"Drake, Travis Scott, 21 Savage\"],[\"Vigilante Shit\",\"Taylor Swift\"],[\"Question...?\",\"Taylor Swift\"],[\"On BS\",\"Drake, 21 Savage\"],[\"Mastermind\",\"Taylor Swift\"],[\"Circo Loco\",\"Drake, 21 Savage\"],[\"Spin Bout U\",\"Drake, 21 Savage\"],[\"Would've, Could've, Should've\",\"Taylor Swift\"],[\"Con La Brisa\",\"Ludwig Goransson, Foudeqush\"],[\"Privileged Rappers\",\"Drake, 21 Savage\"],[\"The Astronaut\",\"Jin\"],[\"BackOutsideBoyz\",\"Drake\"],[\"Broke Boys\",\"Drake, 21 Savage\"],[\"The Great War\",\"Taylor Swift\"],[\"My Mind & Me\",\"Selena Gomez\"],[\"Bigger Than The Whole Sky\",\"Taylor Swift\"],[\"A Veces (feat. Feid)\",\"Feid, Paulo Londra\"],[\"En La De Ella\",\"Feid, Sech, Jhayco\"],[\"Alone\",\"Burna Boy\"]],\"hovertemplate\":\"bpm=%{x}<br>danceability_%=%{y}<br>track_name=%{customdata[0]}<br>artist(s)_name=%{customdata[1]}<extra></extra>\",\"legendgroup\":\"\",\"marker\":{\"color\":\"#636efa\",\"symbol\":\"circle\"},\"mode\":\"markers\",\"name\":\"\",\"orientation\":\"v\",\"showlegend\":false,\"x\":[125,92,138,170,144,141,148,100,130,170,83,150,130,89,120,100,120,140,123,133,99,130,107,122,204,110,126,168,98,97,180,150,96,95,125,144,90,128,79,122,134,186,67,106,128,107,130,137,125,130,133,101,95,98,173,90,198,140,82,130,94,128,138,132,131,168,98,102,101,130,142,170,124,92,116,129,98,172,150,136,88,143,100,143,112,93,206,88,170,84,134,158,116,117,114,108,144,130,116,121,112,100,150,120,127,90,128,143,139,162,95,146,115,128,130,127,150,122,119,110,95,132,125,124,133,112,90,80,172,120,140,128,160,144,192,122,138,104,164,81,117,174,128,150,90,85,180,166,160,160,92,96,92,150,94,90,160,109,129,157,130,107,146,139,95,170,134,84,146,74,144,136,100,105,106,132,120,155,129,135,98,124,135,107,96,123,90,117,133,96,149,110,105,105,134,170,81,154,169,115,84,93,91,142,126,97,101,98,154,120,150,202,153,142,108,143,108,104,93,105,170,178,176,104,85,117,98,178,148,120,122,144,96,137,121,119,96,111,148,182,145,110,134,130,145,130,92,105,175,120,139,114,145,94,134,120,123,131,171,130,94,89,87,124,78,120,96,106,170,134,115,130,110,100,142,116,120,92,110,120,115,76,172,99,150,92,95,102,110,94,142,145,121,140,137,104,92,146,120,144,94,94,113,148,98,140,100,140,100,100,142,176,140,105,135,128,101,122,83,77,140,158,176,98,107,109,109,158,94,96,100,105,170,122,105,133,120,177,142,144,120,135,105,108,174,90,141,82,92,116,125,83,124,140,186,166,87,82,114,148,140,101,140,88,180,133,108,80,75,121,140,102,82,121,103,85,125,120,130,93,202,134,160,148,151,162,92,152,65,147,150,139,95,125,101,143,119,78,96,180,126,150,90,160,113,100,155,107,112,166,107,81,150,110,108,130,164,114,93,90,128,97,152,175,116,80,93,135,109,125,121,123,122,121,135,87,111,110,78,180,86,88,97,134,116,170,118,133,122,88,170,94,170,90,78,94,73,176,128,82,95,123,110,96,88,98,110,110,78,129,181,144,101,84,154,148,146,120,110,141,108,180,122,85,148,120,120,110,169,118,92,112,140,105,178,108,173,101,120,133,158,120,102,124,90,161,120,150,105,79,146,124,126,121,136,102,77,84,102,120,117,168,94,145,134,148,127,172,90,96,138,120,125,123,81,171,91,84,115,122,92,90,94,93,130,180,95,184,147,123,123,90,160,115,141,160,145,95,160,174,92,134,172,80,150,80,166,120,85,154,92,140,89,135,140,82,79,88,139,80,120,80,117,117,140,99,93,106,124,95,96,92,124,72,135,95,71,180,150,189,140,104,129,94,146,103,124,164,138,126,103,95,200,98,107,92,90,147,143,101,118,98,138,114,180,145,115,82,166,108,84,95,135,110,88,119,120,122,98,140,116,124,105,118,108,100,140,109,101,78,87,153,96,85,140,196,134,103,130,108,123,152,108,72,121,138,188,110,105,118,176,158,115,110,174,130,78,104,121,105,81,170,78,125,92,140,118,92,140,174,127,96,150,100,105,104,154,80,150,156,98,92,144,150,138,172,77,107,114,117,160,120,100,158,142,170,84,151,128,118,183,83,122,165,106,77,91,148,114,92,118,123,89,110,90,154,105,115,110,125,102,120,97,140,97,125,88,137,157,130,90,183,128,130,126,130,172,103,122,130,105,120,145,99,88,126,113,132,135,102,149,120,100,164,93,180,79,146,103,140,92,102,118,93,150,130,83,102,136,145,130,156,123,132,162,138,161,131,122,80,109,158,126,104,130,158,114,144,125,142,120,96,144,166,92,97,90],\"xaxis\":\"x\",\"y\":[80,71,51,55,65,92,67,67,85,81,57,78,51,64,78,86,63,65,69,85,85,79,80,81,52,67,74,56,71,64,72,61,75,60,79,56,76,56,56,67,59,68,53,72,60,92,67,64,84,86,70,88,77,90,43,64,59,56,51,77,51,62,49,58,71,78,68,48,34,63,50,59,78,91,82,63,71,74,68,62,53,83,49,56,56,62,43,68,50,62,81,54,80,61,77,61,74,51,77,65,64,70,55,84,82,51,75,64,74,49,87,63,35,78,82,80,42,78,75,76,60,56,77,84,93,92,59,65,45,60,74,81,69,73,50,66,78,77,45,68,82,45,73,65,60,55,33,57,71,65,70,83,53,34,37,74,54,63,57,54,63,65,50,48,84,62,81,57,61,53,75,77,56,89,67,85,78,82,70,80,73,84,77,78,54,71,62,72,78,74,66,66,95,80,76,71,59,63,69,78,43,79,82,82,78,73,92,80,59,91,49,34,56,60,84,83,67,95,84,65,44,62,50,80,70,77,44,79,51,77,68,74,93,77,94,60,72,87,90,57,76,76,70,92,84,69,75,56,59,80,70,32,54,89,45,62,70,77,70,80,82,73,65,72,71,70,48,73,78,67,71,74,59,72,70,90,73,76,81,71,95,58,60,40,90,71,77,83,50,68,61,59,64,66,84,56,57,74,56,68,59,73,79,50,70,58,36,86,59,59,49,72,53,55,81,82,74,88,53,72,75,65,75,73,66,66,84,60,74,70,80,58,56,64,88,66,82,25,64,57,65,92,82,44,70,68,41,68,47,77,71,46,79,58,41,40,87,40,46,47,91,90,81,49,64,95,63,39,80,67,58,58,70,46,70,65,84,69,65,35,24,45,51,50,65,67,53,65,71,33,73,36,75,62,72,60,51,67,23,51,34,43,53,72,73,70,49,54,80,70,69,47,79,66,64,89,70,80,63,87,45,83,69,51,61,33,63,70,60,85,80,74,67,70,41,49,77,75,27,65,28,74,68,71,75,64,75,82,77,53,70,46,65,79,40,57,83,73,81,63,77,75,73,66,56,73,86,79,77,83,44,74,66,67,66,59,85,77,53,59,46,35,77,59,68,83,72,63,39,80,91,45,79,73,76,96,40,67,80,75,46,81,74,79,73,78,60,78,76,63,52,64,53,75,80,77,73,44,89,42,52,67,52,41,71,35,60,74,75,57,74,72,70,82,79,55,77,56,90,80,85,63,84,81,51,35,92,69,47,52,91,90,61,60,37,31,57,84,60,67,77,93,31,76,91,78,81,67,74,79,73,89,65,89,51,47,78,31,44,39,84,56,92,76,62,68,74,44,81,76,87,81,95,64,78,81,59,80,65,55,59,80,42,76,59,69,53,70,69,67,61,75,39,68,91,45,81,60,68,76,70,83,72,59,63,56,78,79,70,71,71,69,93,57,89,87,58,86,78,45,79,86,91,68,61,61,81,84,78,56,52,55,85,71,92,66,78,80,82,65,61,84,78,56,86,57,50,80,81,63,61,83,85,51,73,91,36,44,64,83,38,37,43,88,66,84,66,71,49,68,77,71,82,87,73,86,54,47,53,32,76,58,47,37,70,56,72,72,51,63,80,88,82,60,56,80,71,73,82,56,65,63,85,72,83,81,57,51,71,83,56,60,52,81,68,70,54,70,91,51,73,81,80,44,78,45,80,88,88,95,85,44,58,71,63,72,74,61,55,47,81,90,56,79,79,81,70,82,77,67,37,77,90,70,65,65,34,56,37,70,81,64,82,78,70,52,65,84,73,66,57,72,57,92,74,80,59,91,75,80,75,84,66,73,77,48,62,93,54,85,64,57,60,42,80,82,61],\"yaxis\":\"y\",\"type\":\"scatter\"}],                        {\"template\":{\"data\":{\"histogram2dcontour\":[{\"type\":\"histogram2dcontour\",\"colorbar\":{\"outlinewidth\":0,\"ticks\":\"\"},\"colorscale\":[[0.0,\"#0d0887\"],[0.1111111111111111,\"#46039f\"],[0.2222222222222222,\"#7201a8\"],[0.3333333333333333,\"#9c179e\"],[0.4444444444444444,\"#bd3786\"],[0.5555555555555556,\"#d8576b\"],[0.6666666666666666,\"#ed7953\"],[0.7777777777777778,\"#fb9f3a\"],[0.8888888888888888,\"#fdca26\"],[1.0,\"#f0f921\"]]}],\"choropleth\":[{\"type\":\"choropleth\",\"colorbar\":{\"outlinewidth\":0,\"ticks\":\"\"}}],\"histogram2d\":[{\"type\":\"histogram2d\",\"colorbar\":{\"outlinewidth\":0,\"ticks\":\"\"},\"colorscale\":[[0.0,\"#0d0887\"],[0.1111111111111111,\"#46039f\"],[0.2222222222222222,\"#7201a8\"],[0.3333333333333333,\"#9c179e\"],[0.4444444444444444,\"#bd3786\"],[0.5555555555555556,\"#d8576b\"],[0.6666666666666666,\"#ed7953\"],[0.7777777777777778,\"#fb9f3a\"],[0.8888888888888888,\"#fdca26\"],[1.0,\"#f0f921\"]]}],\"heatmap\":[{\"type\":\"heatmap\",\"colorbar\":{\"outlinewidth\":0,\"ticks\":\"\"},\"colorscale\":[[0.0,\"#0d0887\"],[0.1111111111111111,\"#46039f\"],[0.2222222222222222,\"#7201a8\"],[0.3333333333333333,\"#9c179e\"],[0.4444444444444444,\"#bd3786\"],[0.5555555555555556,\"#d8576b\"],[0.6666666666666666,\"#ed7953\"],[0.7777777777777778,\"#fb9f3a\"],[0.8888888888888888,\"#fdca26\"],[1.0,\"#f0f921\"]]}],\"heatmapgl\":[{\"type\":\"heatmapgl\",\"colorbar\":{\"outlinewidth\":0,\"ticks\":\"\"},\"colorscale\":[[0.0,\"#0d0887\"],[0.1111111111111111,\"#46039f\"],[0.2222222222222222,\"#7201a8\"],[0.3333333333333333,\"#9c179e\"],[0.4444444444444444,\"#bd3786\"],[0.5555555555555556,\"#d8576b\"],[0.6666666666666666,\"#ed7953\"],[0.7777777777777778,\"#fb9f3a\"],[0.8888888888888888,\"#fdca26\"],[1.0,\"#f0f921\"]]}],\"contourcarpet\":[{\"type\":\"contourcarpet\",\"colorbar\":{\"outlinewidth\":0,\"ticks\":\"\"}}],\"contour\":[{\"type\":\"contour\",\"colorbar\":{\"outlinewidth\":0,\"ticks\":\"\"},\"colorscale\":[[0.0,\"#0d0887\"],[0.1111111111111111,\"#46039f\"],[0.2222222222222222,\"#7201a8\"],[0.3333333333333333,\"#9c179e\"],[0.4444444444444444,\"#bd3786\"],[0.5555555555555556,\"#d8576b\"],[0.6666666666666666,\"#ed7953\"],[0.7777777777777778,\"#fb9f3a\"],[0.8888888888888888,\"#fdca26\"],[1.0,\"#f0f921\"]]}],\"surface\":[{\"type\":\"surface\",\"colorbar\":{\"outlinewidth\":0,\"ticks\":\"\"},\"colorscale\":[[0.0,\"#0d0887\"],[0.1111111111111111,\"#46039f\"],[0.2222222222222222,\"#7201a8\"],[0.3333333333333333,\"#9c179e\"],[0.4444444444444444,\"#bd3786\"],[0.5555555555555556,\"#d8576b\"],[0.6666666666666666,\"#ed7953\"],[0.7777777777777778,\"#fb9f3a\"],[0.8888888888888888,\"#fdca26\"],[1.0,\"#f0f921\"]]}],\"mesh3d\":[{\"type\":\"mesh3d\",\"colorbar\":{\"outlinewidth\":0,\"ticks\":\"\"}}],\"scatter\":[{\"fillpattern\":{\"fillmode\":\"overlay\",\"size\":10,\"solidity\":0.2},\"type\":\"scatter\"}],\"parcoords\":[{\"type\":\"parcoords\",\"line\":{\"colorbar\":{\"outlinewidth\":0,\"ticks\":\"\"}}}],\"scatterpolargl\":[{\"type\":\"scatterpolargl\",\"marker\":{\"colorbar\":{\"outlinewidth\":0,\"ticks\":\"\"}}}],\"bar\":[{\"error_x\":{\"color\":\"#2a3f5f\"},\"error_y\":{\"color\":\"#2a3f5f\"},\"marker\":{\"line\":{\"color\":\"#E5ECF6\",\"width\":0.5},\"pattern\":{\"fillmode\":\"overlay\",\"size\":10,\"solidity\":0.2}},\"type\":\"bar\"}],\"scattergeo\":[{\"type\":\"scattergeo\",\"marker\":{\"colorbar\":{\"outlinewidth\":0,\"ticks\":\"\"}}}],\"scatterpolar\":[{\"type\":\"scatterpolar\",\"marker\":{\"colorbar\":{\"outlinewidth\":0,\"ticks\":\"\"}}}],\"histogram\":[{\"marker\":{\"pattern\":{\"fillmode\":\"overlay\",\"size\":10,\"solidity\":0.2}},\"type\":\"histogram\"}],\"scattergl\":[{\"type\":\"scattergl\",\"marker\":{\"colorbar\":{\"outlinewidth\":0,\"ticks\":\"\"}}}],\"scatter3d\":[{\"type\":\"scatter3d\",\"line\":{\"colorbar\":{\"outlinewidth\":0,\"ticks\":\"\"}},\"marker\":{\"colorbar\":{\"outlinewidth\":0,\"ticks\":\"\"}}}],\"scattermapbox\":[{\"type\":\"scattermapbox\",\"marker\":{\"colorbar\":{\"outlinewidth\":0,\"ticks\":\"\"}}}],\"scatterternary\":[{\"type\":\"scatterternary\",\"marker\":{\"colorbar\":{\"outlinewidth\":0,\"ticks\":\"\"}}}],\"scattercarpet\":[{\"type\":\"scattercarpet\",\"marker\":{\"colorbar\":{\"outlinewidth\":0,\"ticks\":\"\"}}}],\"carpet\":[{\"aaxis\":{\"endlinecolor\":\"#2a3f5f\",\"gridcolor\":\"white\",\"linecolor\":\"white\",\"minorgridcolor\":\"white\",\"startlinecolor\":\"#2a3f5f\"},\"baxis\":{\"endlinecolor\":\"#2a3f5f\",\"gridcolor\":\"white\",\"linecolor\":\"white\",\"minorgridcolor\":\"white\",\"startlinecolor\":\"#2a3f5f\"},\"type\":\"carpet\"}],\"table\":[{\"cells\":{\"fill\":{\"color\":\"#EBF0F8\"},\"line\":{\"color\":\"white\"}},\"header\":{\"fill\":{\"color\":\"#C8D4E3\"},\"line\":{\"color\":\"white\"}},\"type\":\"table\"}],\"barpolar\":[{\"marker\":{\"line\":{\"color\":\"#E5ECF6\",\"width\":0.5},\"pattern\":{\"fillmode\":\"overlay\",\"size\":10,\"solidity\":0.2}},\"type\":\"barpolar\"}],\"pie\":[{\"automargin\":true,\"type\":\"pie\"}]},\"layout\":{\"autotypenumbers\":\"strict\",\"colorway\":[\"#636efa\",\"#EF553B\",\"#00cc96\",\"#ab63fa\",\"#FFA15A\",\"#19d3f3\",\"#FF6692\",\"#B6E880\",\"#FF97FF\",\"#FECB52\"],\"font\":{\"color\":\"#2a3f5f\"},\"hovermode\":\"closest\",\"hoverlabel\":{\"align\":\"left\"},\"paper_bgcolor\":\"white\",\"plot_bgcolor\":\"#E5ECF6\",\"polar\":{\"bgcolor\":\"#E5ECF6\",\"angularaxis\":{\"gridcolor\":\"white\",\"linecolor\":\"white\",\"ticks\":\"\"},\"radialaxis\":{\"gridcolor\":\"white\",\"linecolor\":\"white\",\"ticks\":\"\"}},\"ternary\":{\"bgcolor\":\"#E5ECF6\",\"aaxis\":{\"gridcolor\":\"white\",\"linecolor\":\"white\",\"ticks\":\"\"},\"baxis\":{\"gridcolor\":\"white\",\"linecolor\":\"white\",\"ticks\":\"\"},\"caxis\":{\"gridcolor\":\"white\",\"linecolor\":\"white\",\"ticks\":\"\"}},\"coloraxis\":{\"colorbar\":{\"outlinewidth\":0,\"ticks\":\"\"}},\"colorscale\":{\"sequential\":[[0.0,\"#0d0887\"],[0.1111111111111111,\"#46039f\"],[0.2222222222222222,\"#7201a8\"],[0.3333333333333333,\"#9c179e\"],[0.4444444444444444,\"#bd3786\"],[0.5555555555555556,\"#d8576b\"],[0.6666666666666666,\"#ed7953\"],[0.7777777777777778,\"#fb9f3a\"],[0.8888888888888888,\"#fdca26\"],[1.0,\"#f0f921\"]],\"sequentialminus\":[[0.0,\"#0d0887\"],[0.1111111111111111,\"#46039f\"],[0.2222222222222222,\"#7201a8\"],[0.3333333333333333,\"#9c179e\"],[0.4444444444444444,\"#bd3786\"],[0.5555555555555556,\"#d8576b\"],[0.6666666666666666,\"#ed7953\"],[0.7777777777777778,\"#fb9f3a\"],[0.8888888888888888,\"#fdca26\"],[1.0,\"#f0f921\"]],\"diverging\":[[0,\"#8e0152\"],[0.1,\"#c51b7d\"],[0.2,\"#de77ae\"],[0.3,\"#f1b6da\"],[0.4,\"#fde0ef\"],[0.5,\"#f7f7f7\"],[0.6,\"#e6f5d0\"],[0.7,\"#b8e186\"],[0.8,\"#7fbc41\"],[0.9,\"#4d9221\"],[1,\"#276419\"]]},\"xaxis\":{\"gridcolor\":\"white\",\"linecolor\":\"white\",\"ticks\":\"\",\"title\":{\"standoff\":15},\"zerolinecolor\":\"white\",\"automargin\":true,\"zerolinewidth\":2},\"yaxis\":{\"gridcolor\":\"white\",\"linecolor\":\"white\",\"ticks\":\"\",\"title\":{\"standoff\":15},\"zerolinecolor\":\"white\",\"automargin\":true,\"zerolinewidth\":2},\"scene\":{\"xaxis\":{\"backgroundcolor\":\"#E5ECF6\",\"gridcolor\":\"white\",\"linecolor\":\"white\",\"showbackground\":true,\"ticks\":\"\",\"zerolinecolor\":\"white\",\"gridwidth\":2},\"yaxis\":{\"backgroundcolor\":\"#E5ECF6\",\"gridcolor\":\"white\",\"linecolor\":\"white\",\"showbackground\":true,\"ticks\":\"\",\"zerolinecolor\":\"white\",\"gridwidth\":2},\"zaxis\":{\"backgroundcolor\":\"#E5ECF6\",\"gridcolor\":\"white\",\"linecolor\":\"white\",\"showbackground\":true,\"ticks\":\"\",\"zerolinecolor\":\"white\",\"gridwidth\":2}},\"shapedefaults\":{\"line\":{\"color\":\"#2a3f5f\"}},\"annotationdefaults\":{\"arrowcolor\":\"#2a3f5f\",\"arrowhead\":0,\"arrowwidth\":1},\"geo\":{\"bgcolor\":\"white\",\"landcolor\":\"#E5ECF6\",\"subunitcolor\":\"white\",\"showland\":true,\"showlakes\":true,\"lakecolor\":\"white\"},\"title\":{\"x\":0.05},\"mapbox\":{\"style\":\"light\"}}},\"xaxis\":{\"anchor\":\"y\",\"domain\":[0.0,1.0],\"title\":{\"text\":\"bpm\"}},\"yaxis\":{\"anchor\":\"x\",\"domain\":[0.0,1.0],\"title\":{\"text\":\"danceability_%\"}},\"legend\":{\"tracegroupgap\":0},\"margin\":{\"t\":60}},                        {\"responsive\": true}                    ).then(function(){\n",
       "                            \n",
       "var gd = document.getElementById('c4fe116d-615b-4d45-b150-f39b687dd833');\n",
       "var x = new MutationObserver(function (mutations, observer) {{\n",
       "        var display = window.getComputedStyle(gd).display;\n",
       "        if (!display || display === 'none') {{\n",
       "            console.log([gd, 'removed!']);\n",
       "            Plotly.purge(gd);\n",
       "            observer.disconnect();\n",
       "        }}\n",
       "}});\n",
       "\n",
       "// Listen for the removal of the full notebook cells\n",
       "var notebookContainer = gd.closest('#notebook-container');\n",
       "if (notebookContainer) {{\n",
       "    x.observe(notebookContainer, {childList: true});\n",
       "}}\n",
       "\n",
       "// Listen for the clearing of the current output cell\n",
       "var outputEl = gd.closest('.output');\n",
       "if (outputEl) {{\n",
       "    x.observe(outputEl, {childList: true});\n",
       "}}\n",
       "\n",
       "                        })                };                });            </script>        </div>"
      ]
     },
     "metadata": {},
     "output_type": "display_data"
    }
   ],
   "source": [
    "# Relationship between BPM and Danceability\n",
    "fig= px.scatter(data,\n",
    "                x='bpm',\n",
    "                y='danceability_%',\n",
    "                hover_data=['track_name','artist(s)_name'])\n",
    "fig.show()"
   ]
  },
  {
   "cell_type": "code",
   "execution_count": 121,
   "id": "104ea85b-b096-47a9-adbe-238b598fb568",
   "metadata": {},
   "outputs": [
    {
     "data": {
      "application/vnd.plotly.v1+json": {
       "config": {
        "plotlyServerURL": "https://plot.ly"
       },
       "data": [
        {
         "coloraxis": "coloraxis",
         "hovertemplate": "index=%{x}<br>value=%{y}<br>count=%{z}<extra></extra>",
         "name": "",
         "type": "histogram2d",
         "x": [
          "artist_count",
          "released_year",
          "released_month",
          "released_day",
          "in_spotify_playlists",
          "in_spotify_charts",
          "in_apple_playlists",
          "in_apple_charts",
          "in_deezer_charts",
          "bpm",
          "danceability_%",
          "valence_%",
          "energy_%",
          "acousticness_%",
          "instrumentalness_%",
          "liveness_%",
          "speechiness_%",
          "artist_count",
          "released_year",
          "released_month",
          "released_day",
          "in_spotify_playlists",
          "in_spotify_charts",
          "in_apple_playlists",
          "in_apple_charts",
          "in_deezer_charts",
          "bpm",
          "danceability_%",
          "valence_%",
          "energy_%",
          "acousticness_%",
          "instrumentalness_%",
          "liveness_%",
          "speechiness_%",
          "artist_count",
          "released_year",
          "released_month",
          "released_day",
          "in_spotify_playlists",
          "in_spotify_charts",
          "in_apple_playlists",
          "in_apple_charts",
          "in_deezer_charts",
          "bpm",
          "danceability_%",
          "valence_%",
          "energy_%",
          "acousticness_%",
          "instrumentalness_%",
          "liveness_%",
          "speechiness_%",
          "artist_count",
          "released_year",
          "released_month",
          "released_day",
          "in_spotify_playlists",
          "in_spotify_charts",
          "in_apple_playlists",
          "in_apple_charts",
          "in_deezer_charts",
          "bpm",
          "danceability_%",
          "valence_%",
          "energy_%",
          "acousticness_%",
          "instrumentalness_%",
          "liveness_%",
          "speechiness_%",
          "artist_count",
          "released_year",
          "released_month",
          "released_day",
          "in_spotify_playlists",
          "in_spotify_charts",
          "in_apple_playlists",
          "in_apple_charts",
          "in_deezer_charts",
          "bpm",
          "danceability_%",
          "valence_%",
          "energy_%",
          "acousticness_%",
          "instrumentalness_%",
          "liveness_%",
          "speechiness_%",
          "artist_count",
          "released_year",
          "released_month",
          "released_day",
          "in_spotify_playlists",
          "in_spotify_charts",
          "in_apple_playlists",
          "in_apple_charts",
          "in_deezer_charts",
          "bpm",
          "danceability_%",
          "valence_%",
          "energy_%",
          "acousticness_%",
          "instrumentalness_%",
          "liveness_%",
          "speechiness_%",
          "artist_count",
          "released_year",
          "released_month",
          "released_day",
          "in_spotify_playlists",
          "in_spotify_charts",
          "in_apple_playlists",
          "in_apple_charts",
          "in_deezer_charts",
          "bpm",
          "danceability_%",
          "valence_%",
          "energy_%",
          "acousticness_%",
          "instrumentalness_%",
          "liveness_%",
          "speechiness_%",
          "artist_count",
          "released_year",
          "released_month",
          "released_day",
          "in_spotify_playlists",
          "in_spotify_charts",
          "in_apple_playlists",
          "in_apple_charts",
          "in_deezer_charts",
          "bpm",
          "danceability_%",
          "valence_%",
          "energy_%",
          "acousticness_%",
          "instrumentalness_%",
          "liveness_%",
          "speechiness_%",
          "artist_count",
          "released_year",
          "released_month",
          "released_day",
          "in_spotify_playlists",
          "in_spotify_charts",
          "in_apple_playlists",
          "in_apple_charts",
          "in_deezer_charts",
          "bpm",
          "danceability_%",
          "valence_%",
          "energy_%",
          "acousticness_%",
          "instrumentalness_%",
          "liveness_%",
          "speechiness_%",
          "artist_count",
          "released_year",
          "released_month",
          "released_day",
          "in_spotify_playlists",
          "in_spotify_charts",
          "in_apple_playlists",
          "in_apple_charts",
          "in_deezer_charts",
          "bpm",
          "danceability_%",
          "valence_%",
          "energy_%",
          "acousticness_%",
          "instrumentalness_%",
          "liveness_%",
          "speechiness_%",
          "artist_count",
          "released_year",
          "released_month",
          "released_day",
          "in_spotify_playlists",
          "in_spotify_charts",
          "in_apple_playlists",
          "in_apple_charts",
          "in_deezer_charts",
          "bpm",
          "danceability_%",
          "valence_%",
          "energy_%",
          "acousticness_%",
          "instrumentalness_%",
          "liveness_%",
          "speechiness_%",
          "artist_count",
          "released_year",
          "released_month",
          "released_day",
          "in_spotify_playlists",
          "in_spotify_charts",
          "in_apple_playlists",
          "in_apple_charts",
          "in_deezer_charts",
          "bpm",
          "danceability_%",
          "valence_%",
          "energy_%",
          "acousticness_%",
          "instrumentalness_%",
          "liveness_%",
          "speechiness_%",
          "artist_count",
          "released_year",
          "released_month",
          "released_day",
          "in_spotify_playlists",
          "in_spotify_charts",
          "in_apple_playlists",
          "in_apple_charts",
          "in_deezer_charts",
          "bpm",
          "danceability_%",
          "valence_%",
          "energy_%",
          "acousticness_%",
          "instrumentalness_%",
          "liveness_%",
          "speechiness_%",
          "artist_count",
          "released_year",
          "released_month",
          "released_day",
          "in_spotify_playlists",
          "in_spotify_charts",
          "in_apple_playlists",
          "in_apple_charts",
          "in_deezer_charts",
          "bpm",
          "danceability_%",
          "valence_%",
          "energy_%",
          "acousticness_%",
          "instrumentalness_%",
          "liveness_%",
          "speechiness_%",
          "artist_count",
          "released_year",
          "released_month",
          "released_day",
          "in_spotify_playlists",
          "in_spotify_charts",
          "in_apple_playlists",
          "in_apple_charts",
          "in_deezer_charts",
          "bpm",
          "danceability_%",
          "valence_%",
          "energy_%",
          "acousticness_%",
          "instrumentalness_%",
          "liveness_%",
          "speechiness_%",
          "artist_count",
          "released_year",
          "released_month",
          "released_day",
          "in_spotify_playlists",
          "in_spotify_charts",
          "in_apple_playlists",
          "in_apple_charts",
          "in_deezer_charts",
          "bpm",
          "danceability_%",
          "valence_%",
          "energy_%",
          "acousticness_%",
          "instrumentalness_%",
          "liveness_%",
          "speechiness_%",
          "artist_count",
          "released_year",
          "released_month",
          "released_day",
          "in_spotify_playlists",
          "in_spotify_charts",
          "in_apple_playlists",
          "in_apple_charts",
          "in_deezer_charts",
          "bpm",
          "danceability_%",
          "valence_%",
          "energy_%",
          "acousticness_%",
          "instrumentalness_%",
          "liveness_%",
          "speechiness_%"
         ],
         "xaxis": "x",
         "xbingroup": "x",
         "y": [
          1,
          0.0735643557900106,
          0.033856605368275776,
          -0.014761747140203497,
          -0.08522637531717166,
          -0.008570061483346643,
          -0.017024010627522523,
          -0.07527140676231472,
          0.020584939685693523,
          -0.058843659371359144,
          0.2140780153629738,
          0.12365013527243766,
          0.13752971396573355,
          -0.09470350886704695,
          -0.06126890027505064,
          0.03435375353058178,
          0.13148592291378983,
          0.0735643557900106,
          1,
          0.07643869857239981,
          0.16637665154446765,
          -0.3907293115530166,
          0.06867872145994551,
          -0.20147449681379845,
          0.0034787869408798265,
          0.09574147745073561,
          -0.011569547380703062,
          0.21503163783892068,
          -0.047642798848288384,
          0.07888637478143104,
          -0.13322358852373312,
          -0.02395830692694295,
          0.008488833640366763,
          0.12988657481527743,
          0.033856605368275776,
          0.07643869857239981,
          1,
          0.0577841849237184,
          -0.12240731512240241,
          -0.05018640797434948,
          -0.03402850515527687,
          -0.017812891521966648,
          0.006942239331867263,
          -0.0493999786437421,
          -0.05480810569147382,
          -0.11035481332072888,
          -0.08689743360147519,
          0.05504626589857863,
          0.03548115743375766,
          0.0013290126741325953,
          0.042127027471914116,
          -0.014761747140203497,
          0.16637665154446765,
          0.0577841849237184,
          1,
          -0.10761588105011606,
          0.01606797898531504,
          -0.011915957650662837,
          0.007726559219350334,
          0.05542631800561091,
          -0.03339376399725477,
          0.08424386875772844,
          0.0627513964277264,
          0.047318310687688075,
          0.000785350093012633,
          0.023039799533547588,
          -0.011094475833796878,
          -0.014602271061557152,
          -0.08522637531717166,
          -0.3907293115530166,
          -0.12240731512240241,
          -0.10761588105011606,
          1,
          0.14134295883900183,
          0.6883161979283439,
          0.21567604568348178,
          0.10128346186874354,
          -0.03448250366594356,
          -0.09698077610744844,
          -0.029822793802813517,
          0.035874838704220646,
          -0.06463303527122205,
          -0.0245697139461465,
          -0.051972862448203296,
          -0.07761034200340308,
          -0.008570061483346643,
          0.06867872145994551,
          -0.05018640797434948,
          0.01606797898531504,
          0.14134295883900183,
          1,
          0.20820175691115383,
          0.5568043244366212,
          0.56616140561665,
          0.028830466136862198,
          0.05133788325737562,
          0.05003993254209327,
          0.10496336396034457,
          -0.0728525875661891,
          -0.005813736127305587,
          -0.026581690296990222,
          -0.09410226165435152,
          -0.017024010627522523,
          -0.20147449681379845,
          -0.03402850515527687,
          -0.011915957650662837,
          0.6883161979283439,
          0.20820175691115383,
          1,
          0.364760680543358,
          0.3268151634305646,
          0.005558273668496486,
          -0.012586276582145424,
          0.041253415530517104,
          0.03999184961088332,
          -0.07096542627558353,
          -0.05437237344712564,
          -0.06498564712323433,
          -0.09764713653906995,
          -0.07527140676231472,
          0.0034787869408798265,
          -0.017812891521966648,
          0.007726559219350334,
          0.21567604568348178,
          0.5568043244366212,
          0.364760680543358,
          1,
          0.3665812659988011,
          0.0270574150733873,
          -0.026137882226427704,
          0.04294056390652687,
          0.12935400827431776,
          -0.09678056639893745,
          -0.0003805257828577765,
          -0.007160653281334581,
          -0.14647234378250207,
          0.020584939685693523,
          0.09574147745073561,
          0.006942239331867263,
          0.05542631800561091,
          0.10128346186874354,
          0.56616140561665,
          0.3268151634305646,
          0.3665812659988011,
          1,
          0.021730449294060643,
          0.0814139804585954,
          0.07316890973692117,
          0.10434996940571484,
          -0.035135484706235884,
          0.003502525292610185,
          0.0036498526119137704,
          -0.08152255134603538,
          -0.058843659371359144,
          -0.011569547380703062,
          -0.0493999786437421,
          -0.03339376399725477,
          -0.03448250366594356,
          0.028830466136862198,
          0.005558273668496486,
          0.0270574150733873,
          0.021730449294060643,
          1,
          -0.1481740929493288,
          0.0291692537137389,
          0.013362948465509006,
          -0.010766961485287567,
          -0.003406877716782317,
          -0.005816925875816951,
          0.03824773302270688,
          0.2140780153629738,
          0.21503163783892068,
          -0.05480810569147382,
          0.08424386875772844,
          -0.09698077610744844,
          0.05133788325737562,
          -0.012586276582145424,
          -0.026137882226427704,
          0.0814139804585954,
          -0.1481740929493288,
          1,
          0.38972864666412954,
          0.15797028420481965,
          -0.24045402642431363,
          -0.10214371529551293,
          -0.1005785809594551,
          0.20118919973086857,
          0.12365013527243766,
          -0.047642798848288384,
          -0.11035481332072888,
          0.0627513964277264,
          -0.029822793802813517,
          0.05003993254209327,
          0.041253415530517104,
          0.04294056390652687,
          0.07316890973692117,
          0.0291692537137389,
          0.38972864666412954,
          1,
          0.3497358908579402,
          -0.06407244111484466,
          -0.14703242621617882,
          0.00014224966137209592,
          0.035703597674781345,
          0.13752971396573355,
          0.07888637478143104,
          -0.08689743360147519,
          0.047318310687688075,
          0.035874838704220646,
          0.10496336396034457,
          0.03999184961088332,
          0.12935400827431776,
          0.10434996940571484,
          0.013362948465509006,
          0.15797028420481965,
          0.3497358908579402,
          1,
          -0.5526370327713029,
          -0.05166229370550225,
          0.11124024151372898,
          -0.026880117385077694,
          -0.09470350886704695,
          -0.13322358852373312,
          0.05504626589857863,
          0.000785350093012633,
          -0.06463303527122205,
          -0.0728525875661891,
          -0.07096542627558353,
          -0.09678056639893745,
          -0.035135484706235884,
          -0.010766961485287567,
          -0.24045402642431363,
          -0.06407244111484466,
          -0.5526370327713029,
          1,
          0.04669969011482176,
          -0.04611200382927883,
          -0.017819600566405507,
          -0.06126890027505064,
          -0.02395830692694295,
          0.03548115743375766,
          0.023039799533547588,
          -0.0245697139461465,
          -0.005813736127305587,
          -0.05437237344712564,
          -0.0003805257828577765,
          0.003502525292610185,
          -0.003406877716782317,
          -0.10214371529551293,
          -0.14703242621617882,
          -0.05166229370550225,
          0.04669969011482176,
          1,
          -0.04462580663391406,
          -0.0909940870331707,
          0.03435375353058178,
          0.008488833640366763,
          0.0013290126741325953,
          -0.011094475833796878,
          -0.051972862448203296,
          -0.026581690296990222,
          -0.06498564712323433,
          -0.007160653281334581,
          0.0036498526119137704,
          -0.005816925875816951,
          -0.1005785809594551,
          0.00014224966137209592,
          0.11124024151372898,
          -0.04611200382927883,
          -0.04462580663391406,
          1,
          -0.022806600112948622,
          0.13148592291378983,
          0.12988657481527743,
          0.042127027471914116,
          -0.014602271061557152,
          -0.07761034200340308,
          -0.09410226165435152,
          -0.09764713653906995,
          -0.14647234378250207,
          -0.08152255134603538,
          0.03824773302270688,
          0.20118919973086857,
          0.035703597674781345,
          -0.026880117385077694,
          -0.017819600566405507,
          -0.0909940870331707,
          -0.022806600112948622,
          1
         ],
         "yaxis": "y",
         "ybingroup": "y"
        }
       ],
       "layout": {
        "coloraxis": {
         "colorbar": {
          "title": {
           "text": "count"
          }
         },
         "colorscale": [
          [
           0,
           "#0d0887"
          ],
          [
           0.1111111111111111,
           "#46039f"
          ],
          [
           0.2222222222222222,
           "#7201a8"
          ],
          [
           0.3333333333333333,
           "#9c179e"
          ],
          [
           0.4444444444444444,
           "#bd3786"
          ],
          [
           0.5555555555555556,
           "#d8576b"
          ],
          [
           0.6666666666666666,
           "#ed7953"
          ],
          [
           0.7777777777777778,
           "#fb9f3a"
          ],
          [
           0.8888888888888888,
           "#fdca26"
          ],
          [
           1,
           "#f0f921"
          ]
         ]
        },
        "height": 600,
        "legend": {
         "tracegroupgap": 0
        },
        "template": {
         "data": {
          "bar": [
           {
            "error_x": {
             "color": "#2a3f5f"
            },
            "error_y": {
             "color": "#2a3f5f"
            },
            "marker": {
             "line": {
              "color": "#E5ECF6",
              "width": 0.5
             },
             "pattern": {
              "fillmode": "overlay",
              "size": 10,
              "solidity": 0.2
             }
            },
            "type": "bar"
           }
          ],
          "barpolar": [
           {
            "marker": {
             "line": {
              "color": "#E5ECF6",
              "width": 0.5
             },
             "pattern": {
              "fillmode": "overlay",
              "size": 10,
              "solidity": 0.2
             }
            },
            "type": "barpolar"
           }
          ],
          "carpet": [
           {
            "aaxis": {
             "endlinecolor": "#2a3f5f",
             "gridcolor": "white",
             "linecolor": "white",
             "minorgridcolor": "white",
             "startlinecolor": "#2a3f5f"
            },
            "baxis": {
             "endlinecolor": "#2a3f5f",
             "gridcolor": "white",
             "linecolor": "white",
             "minorgridcolor": "white",
             "startlinecolor": "#2a3f5f"
            },
            "type": "carpet"
           }
          ],
          "choropleth": [
           {
            "colorbar": {
             "outlinewidth": 0,
             "ticks": ""
            },
            "type": "choropleth"
           }
          ],
          "contour": [
           {
            "colorbar": {
             "outlinewidth": 0,
             "ticks": ""
            },
            "colorscale": [
             [
              0,
              "#0d0887"
             ],
             [
              0.1111111111111111,
              "#46039f"
             ],
             [
              0.2222222222222222,
              "#7201a8"
             ],
             [
              0.3333333333333333,
              "#9c179e"
             ],
             [
              0.4444444444444444,
              "#bd3786"
             ],
             [
              0.5555555555555556,
              "#d8576b"
             ],
             [
              0.6666666666666666,
              "#ed7953"
             ],
             [
              0.7777777777777778,
              "#fb9f3a"
             ],
             [
              0.8888888888888888,
              "#fdca26"
             ],
             [
              1,
              "#f0f921"
             ]
            ],
            "type": "contour"
           }
          ],
          "contourcarpet": [
           {
            "colorbar": {
             "outlinewidth": 0,
             "ticks": ""
            },
            "type": "contourcarpet"
           }
          ],
          "heatmap": [
           {
            "colorbar": {
             "outlinewidth": 0,
             "ticks": ""
            },
            "colorscale": [
             [
              0,
              "#0d0887"
             ],
             [
              0.1111111111111111,
              "#46039f"
             ],
             [
              0.2222222222222222,
              "#7201a8"
             ],
             [
              0.3333333333333333,
              "#9c179e"
             ],
             [
              0.4444444444444444,
              "#bd3786"
             ],
             [
              0.5555555555555556,
              "#d8576b"
             ],
             [
              0.6666666666666666,
              "#ed7953"
             ],
             [
              0.7777777777777778,
              "#fb9f3a"
             ],
             [
              0.8888888888888888,
              "#fdca26"
             ],
             [
              1,
              "#f0f921"
             ]
            ],
            "type": "heatmap"
           }
          ],
          "heatmapgl": [
           {
            "colorbar": {
             "outlinewidth": 0,
             "ticks": ""
            },
            "colorscale": [
             [
              0,
              "#0d0887"
             ],
             [
              0.1111111111111111,
              "#46039f"
             ],
             [
              0.2222222222222222,
              "#7201a8"
             ],
             [
              0.3333333333333333,
              "#9c179e"
             ],
             [
              0.4444444444444444,
              "#bd3786"
             ],
             [
              0.5555555555555556,
              "#d8576b"
             ],
             [
              0.6666666666666666,
              "#ed7953"
             ],
             [
              0.7777777777777778,
              "#fb9f3a"
             ],
             [
              0.8888888888888888,
              "#fdca26"
             ],
             [
              1,
              "#f0f921"
             ]
            ],
            "type": "heatmapgl"
           }
          ],
          "histogram": [
           {
            "marker": {
             "pattern": {
              "fillmode": "overlay",
              "size": 10,
              "solidity": 0.2
             }
            },
            "type": "histogram"
           }
          ],
          "histogram2d": [
           {
            "colorbar": {
             "outlinewidth": 0,
             "ticks": ""
            },
            "colorscale": [
             [
              0,
              "#0d0887"
             ],
             [
              0.1111111111111111,
              "#46039f"
             ],
             [
              0.2222222222222222,
              "#7201a8"
             ],
             [
              0.3333333333333333,
              "#9c179e"
             ],
             [
              0.4444444444444444,
              "#bd3786"
             ],
             [
              0.5555555555555556,
              "#d8576b"
             ],
             [
              0.6666666666666666,
              "#ed7953"
             ],
             [
              0.7777777777777778,
              "#fb9f3a"
             ],
             [
              0.8888888888888888,
              "#fdca26"
             ],
             [
              1,
              "#f0f921"
             ]
            ],
            "type": "histogram2d"
           }
          ],
          "histogram2dcontour": [
           {
            "colorbar": {
             "outlinewidth": 0,
             "ticks": ""
            },
            "colorscale": [
             [
              0,
              "#0d0887"
             ],
             [
              0.1111111111111111,
              "#46039f"
             ],
             [
              0.2222222222222222,
              "#7201a8"
             ],
             [
              0.3333333333333333,
              "#9c179e"
             ],
             [
              0.4444444444444444,
              "#bd3786"
             ],
             [
              0.5555555555555556,
              "#d8576b"
             ],
             [
              0.6666666666666666,
              "#ed7953"
             ],
             [
              0.7777777777777778,
              "#fb9f3a"
             ],
             [
              0.8888888888888888,
              "#fdca26"
             ],
             [
              1,
              "#f0f921"
             ]
            ],
            "type": "histogram2dcontour"
           }
          ],
          "mesh3d": [
           {
            "colorbar": {
             "outlinewidth": 0,
             "ticks": ""
            },
            "type": "mesh3d"
           }
          ],
          "parcoords": [
           {
            "line": {
             "colorbar": {
              "outlinewidth": 0,
              "ticks": ""
             }
            },
            "type": "parcoords"
           }
          ],
          "pie": [
           {
            "automargin": true,
            "type": "pie"
           }
          ],
          "scatter": [
           {
            "fillpattern": {
             "fillmode": "overlay",
             "size": 10,
             "solidity": 0.2
            },
            "type": "scatter"
           }
          ],
          "scatter3d": [
           {
            "line": {
             "colorbar": {
              "outlinewidth": 0,
              "ticks": ""
             }
            },
            "marker": {
             "colorbar": {
              "outlinewidth": 0,
              "ticks": ""
             }
            },
            "type": "scatter3d"
           }
          ],
          "scattercarpet": [
           {
            "marker": {
             "colorbar": {
              "outlinewidth": 0,
              "ticks": ""
             }
            },
            "type": "scattercarpet"
           }
          ],
          "scattergeo": [
           {
            "marker": {
             "colorbar": {
              "outlinewidth": 0,
              "ticks": ""
             }
            },
            "type": "scattergeo"
           }
          ],
          "scattergl": [
           {
            "marker": {
             "colorbar": {
              "outlinewidth": 0,
              "ticks": ""
             }
            },
            "type": "scattergl"
           }
          ],
          "scattermapbox": [
           {
            "marker": {
             "colorbar": {
              "outlinewidth": 0,
              "ticks": ""
             }
            },
            "type": "scattermapbox"
           }
          ],
          "scatterpolar": [
           {
            "marker": {
             "colorbar": {
              "outlinewidth": 0,
              "ticks": ""
             }
            },
            "type": "scatterpolar"
           }
          ],
          "scatterpolargl": [
           {
            "marker": {
             "colorbar": {
              "outlinewidth": 0,
              "ticks": ""
             }
            },
            "type": "scatterpolargl"
           }
          ],
          "scatterternary": [
           {
            "marker": {
             "colorbar": {
              "outlinewidth": 0,
              "ticks": ""
             }
            },
            "type": "scatterternary"
           }
          ],
          "surface": [
           {
            "colorbar": {
             "outlinewidth": 0,
             "ticks": ""
            },
            "colorscale": [
             [
              0,
              "#0d0887"
             ],
             [
              0.1111111111111111,
              "#46039f"
             ],
             [
              0.2222222222222222,
              "#7201a8"
             ],
             [
              0.3333333333333333,
              "#9c179e"
             ],
             [
              0.4444444444444444,
              "#bd3786"
             ],
             [
              0.5555555555555556,
              "#d8576b"
             ],
             [
              0.6666666666666666,
              "#ed7953"
             ],
             [
              0.7777777777777778,
              "#fb9f3a"
             ],
             [
              0.8888888888888888,
              "#fdca26"
             ],
             [
              1,
              "#f0f921"
             ]
            ],
            "type": "surface"
           }
          ],
          "table": [
           {
            "cells": {
             "fill": {
              "color": "#EBF0F8"
             },
             "line": {
              "color": "white"
             }
            },
            "header": {
             "fill": {
              "color": "#C8D4E3"
             },
             "line": {
              "color": "white"
             }
            },
            "type": "table"
           }
          ]
         },
         "layout": {
          "annotationdefaults": {
           "arrowcolor": "#2a3f5f",
           "arrowhead": 0,
           "arrowwidth": 1
          },
          "autotypenumbers": "strict",
          "coloraxis": {
           "colorbar": {
            "outlinewidth": 0,
            "ticks": ""
           }
          },
          "colorscale": {
           "diverging": [
            [
             0,
             "#8e0152"
            ],
            [
             0.1,
             "#c51b7d"
            ],
            [
             0.2,
             "#de77ae"
            ],
            [
             0.3,
             "#f1b6da"
            ],
            [
             0.4,
             "#fde0ef"
            ],
            [
             0.5,
             "#f7f7f7"
            ],
            [
             0.6,
             "#e6f5d0"
            ],
            [
             0.7,
             "#b8e186"
            ],
            [
             0.8,
             "#7fbc41"
            ],
            [
             0.9,
             "#4d9221"
            ],
            [
             1,
             "#276419"
            ]
           ],
           "sequential": [
            [
             0,
             "#0d0887"
            ],
            [
             0.1111111111111111,
             "#46039f"
            ],
            [
             0.2222222222222222,
             "#7201a8"
            ],
            [
             0.3333333333333333,
             "#9c179e"
            ],
            [
             0.4444444444444444,
             "#bd3786"
            ],
            [
             0.5555555555555556,
             "#d8576b"
            ],
            [
             0.6666666666666666,
             "#ed7953"
            ],
            [
             0.7777777777777778,
             "#fb9f3a"
            ],
            [
             0.8888888888888888,
             "#fdca26"
            ],
            [
             1,
             "#f0f921"
            ]
           ],
           "sequentialminus": [
            [
             0,
             "#0d0887"
            ],
            [
             0.1111111111111111,
             "#46039f"
            ],
            [
             0.2222222222222222,
             "#7201a8"
            ],
            [
             0.3333333333333333,
             "#9c179e"
            ],
            [
             0.4444444444444444,
             "#bd3786"
            ],
            [
             0.5555555555555556,
             "#d8576b"
            ],
            [
             0.6666666666666666,
             "#ed7953"
            ],
            [
             0.7777777777777778,
             "#fb9f3a"
            ],
            [
             0.8888888888888888,
             "#fdca26"
            ],
            [
             1,
             "#f0f921"
            ]
           ]
          },
          "colorway": [
           "#636efa",
           "#EF553B",
           "#00cc96",
           "#ab63fa",
           "#FFA15A",
           "#19d3f3",
           "#FF6692",
           "#B6E880",
           "#FF97FF",
           "#FECB52"
          ],
          "font": {
           "color": "#2a3f5f"
          },
          "geo": {
           "bgcolor": "white",
           "lakecolor": "white",
           "landcolor": "#E5ECF6",
           "showlakes": true,
           "showland": true,
           "subunitcolor": "white"
          },
          "hoverlabel": {
           "align": "left"
          },
          "hovermode": "closest",
          "mapbox": {
           "style": "light"
          },
          "paper_bgcolor": "white",
          "plot_bgcolor": "#E5ECF6",
          "polar": {
           "angularaxis": {
            "gridcolor": "white",
            "linecolor": "white",
            "ticks": ""
           },
           "bgcolor": "#E5ECF6",
           "radialaxis": {
            "gridcolor": "white",
            "linecolor": "white",
            "ticks": ""
           }
          },
          "scene": {
           "xaxis": {
            "backgroundcolor": "#E5ECF6",
            "gridcolor": "white",
            "gridwidth": 2,
            "linecolor": "white",
            "showbackground": true,
            "ticks": "",
            "zerolinecolor": "white"
           },
           "yaxis": {
            "backgroundcolor": "#E5ECF6",
            "gridcolor": "white",
            "gridwidth": 2,
            "linecolor": "white",
            "showbackground": true,
            "ticks": "",
            "zerolinecolor": "white"
           },
           "zaxis": {
            "backgroundcolor": "#E5ECF6",
            "gridcolor": "white",
            "gridwidth": 2,
            "linecolor": "white",
            "showbackground": true,
            "ticks": "",
            "zerolinecolor": "white"
           }
          },
          "shapedefaults": {
           "line": {
            "color": "#2a3f5f"
           }
          },
          "ternary": {
           "aaxis": {
            "gridcolor": "white",
            "linecolor": "white",
            "ticks": ""
           },
           "baxis": {
            "gridcolor": "white",
            "linecolor": "white",
            "ticks": ""
           },
           "bgcolor": "#E5ECF6",
           "caxis": {
            "gridcolor": "white",
            "linecolor": "white",
            "ticks": ""
           }
          },
          "title": {
           "x": 0.05
          },
          "xaxis": {
           "automargin": true,
           "gridcolor": "white",
           "linecolor": "white",
           "ticks": "",
           "title": {
            "standoff": 15
           },
           "zerolinecolor": "white",
           "zerolinewidth": 2
          },
          "yaxis": {
           "automargin": true,
           "gridcolor": "white",
           "linecolor": "white",
           "ticks": "",
           "title": {
            "standoff": 15
           },
           "zerolinecolor": "white",
           "zerolinewidth": 2
          }
         }
        },
        "title": {
         "text": "Correlation Heatmap"
        },
        "width": 900,
        "xaxis": {
         "anchor": "y",
         "autorange": true,
         "domain": [
          0,
          1
         ],
         "range": [
          -0.5,
          16.5
         ],
         "title": {
          "text": "index"
         },
         "type": "category"
        },
        "yaxis": {
         "anchor": "x",
         "autorange": true,
         "domain": [
          0,
          1
         ],
         "range": [
          -0.7,
          1.1
         ],
         "title": {
          "text": "value"
         },
         "type": "linear"
        }
       }
      },
      "image/png": "[encoded data removed]",
      "text/html": [
       "<div>                            <div id=\"4369428b-00c7-4829-b0fd-3f13715d0468\" class=\"plotly-graph-div\" style=\"height:600px; width:900px;\"></div>            <script type=\"text/javascript\">                require([\"plotly\"], function(Plotly) {                    window.PLOTLYENV=window.PLOTLYENV || {};                                    if (document.getElementById(\"4369428b-00c7-4829-b0fd-3f13715d0468\")) {                    Plotly.newPlot(                        \"4369428b-00c7-4829-b0fd-3f13715d0468\",                        [{\"coloraxis\":\"coloraxis\",\"hovertemplate\":\"index=%{x}<br>value=%{y}<br>count=%{z}<extra></extra>\",\"name\":\"\",\"x\":[\"artist_count\",\"released_year\",\"released_month\",\"released_day\",\"in_spotify_playlists\",\"in_spotify_charts\",\"in_apple_playlists\",\"in_apple_charts\",\"in_deezer_charts\",\"bpm\",\"danceability_%\",\"valence_%\",\"energy_%\",\"acousticness_%\",\"instrumentalness_%\",\"liveness_%\",\"speechiness_%\",\"artist_count\",\"released_year\",\"released_month\",\"released_day\",\"in_spotify_playlists\",\"in_spotify_charts\",\"in_apple_playlists\",\"in_apple_charts\",\"in_deezer_charts\",\"bpm\",\"danceability_%\",\"valence_%\",\"energy_%\",\"acousticness_%\",\"instrumentalness_%\",\"liveness_%\",\"speechiness_%\",\"artist_count\",\"released_year\",\"released_month\",\"released_day\",\"in_spotify_playlists\",\"in_spotify_charts\",\"in_apple_playlists\",\"in_apple_charts\",\"in_deezer_charts\",\"bpm\",\"danceability_%\",\"valence_%\",\"energy_%\",\"acousticness_%\",\"instrumentalness_%\",\"liveness_%\",\"speechiness_%\",\"artist_count\",\"released_year\",\"released_month\",\"released_day\",\"in_spotify_playlists\",\"in_spotify_charts\",\"in_apple_playlists\",\"in_apple_charts\",\"in_deezer_charts\",\"bpm\",\"danceability_%\",\"valence_%\",\"energy_%\",\"acousticness_%\",\"instrumentalness_%\",\"liveness_%\",\"speechiness_%\",\"artist_count\",\"released_year\",\"released_month\",\"released_day\",\"in_spotify_playlists\",\"in_spotify_charts\",\"in_apple_playlists\",\"in_apple_charts\",\"in_deezer_charts\",\"bpm\",\"danceability_%\",\"valence_%\",\"energy_%\",\"acousticness_%\",\"instrumentalness_%\",\"liveness_%\",\"speechiness_%\",\"artist_count\",\"released_year\",\"released_month\",\"released_day\",\"in_spotify_playlists\",\"in_spotify_charts\",\"in_apple_playlists\",\"in_apple_charts\",\"in_deezer_charts\",\"bpm\",\"danceability_%\",\"valence_%\",\"energy_%\",\"acousticness_%\",\"instrumentalness_%\",\"liveness_%\",\"speechiness_%\",\"artist_count\",\"released_year\",\"released_month\",\"released_day\",\"in_spotify_playlists\",\"in_spotify_charts\",\"in_apple_playlists\",\"in_apple_charts\",\"in_deezer_charts\",\"bpm\",\"danceability_%\",\"valence_%\",\"energy_%\",\"acousticness_%\",\"instrumentalness_%\",\"liveness_%\",\"speechiness_%\",\"artist_count\",\"released_year\",\"released_month\",\"released_day\",\"in_spotify_playlists\",\"in_spotify_charts\",\"in_apple_playlists\",\"in_apple_charts\",\"in_deezer_charts\",\"bpm\",\"danceability_%\",\"valence_%\",\"energy_%\",\"acousticness_%\",\"instrumentalness_%\",\"liveness_%\",\"speechiness_%\",\"artist_count\",\"released_year\",\"released_month\",\"released_day\",\"in_spotify_playlists\",\"in_spotify_charts\",\"in_apple_playlists\",\"in_apple_charts\",\"in_deezer_charts\",\"bpm\",\"danceability_%\",\"valence_%\",\"energy_%\",\"acousticness_%\",\"instrumentalness_%\",\"liveness_%\",\"speechiness_%\",\"artist_count\",\"released_year\",\"released_month\",\"released_day\",\"in_spotify_playlists\",\"in_spotify_charts\",\"in_apple_playlists\",\"in_apple_charts\",\"in_deezer_charts\",\"bpm\",\"danceability_%\",\"valence_%\",\"energy_%\",\"acousticness_%\",\"instrumentalness_%\",\"liveness_%\",\"speechiness_%\",\"artist_count\",\"released_year\",\"released_month\",\"released_day\",\"in_spotify_playlists\",\"in_spotify_charts\",\"in_apple_playlists\",\"in_apple_charts\",\"in_deezer_charts\",\"bpm\",\"danceability_%\",\"valence_%\",\"energy_%\",\"acousticness_%\",\"instrumentalness_%\",\"liveness_%\",\"speechiness_%\",\"artist_count\",\"released_year\",\"released_month\",\"released_day\",\"in_spotify_playlists\",\"in_spotify_charts\",\"in_apple_playlists\",\"in_apple_charts\",\"in_deezer_charts\",\"bpm\",\"danceability_%\",\"valence_%\",\"energy_%\",\"acousticness_%\",\"instrumentalness_%\",\"liveness_%\",\"speechiness_%\",\"artist_count\",\"released_year\",\"released_month\",\"released_day\",\"in_spotify_playlists\",\"in_spotify_charts\",\"in_apple_playlists\",\"in_apple_charts\",\"in_deezer_charts\",\"bpm\",\"danceability_%\",\"valence_%\",\"energy_%\",\"acousticness_%\",\"instrumentalness_%\",\"liveness_%\",\"speechiness_%\",\"artist_count\",\"released_year\",\"released_month\",\"released_day\",\"in_spotify_playlists\",\"in_spotify_charts\",\"in_apple_playlists\",\"in_apple_charts\",\"in_deezer_charts\",\"bpm\",\"danceability_%\",\"valence_%\",\"energy_%\",\"acousticness_%\",\"instrumentalness_%\",\"liveness_%\",\"speechiness_%\",\"artist_count\",\"released_year\",\"released_month\",\"released_day\",\"in_spotify_playlists\",\"in_spotify_charts\",\"in_apple_playlists\",\"in_apple_charts\",\"in_deezer_charts\",\"bpm\",\"danceability_%\",\"valence_%\",\"energy_%\",\"acousticness_%\",\"instrumentalness_%\",\"liveness_%\",\"speechiness_%\",\"artist_count\",\"released_year\",\"released_month\",\"released_day\",\"in_spotify_playlists\",\"in_spotify_charts\",\"in_apple_playlists\",\"in_apple_charts\",\"in_deezer_charts\",\"bpm\",\"danceability_%\",\"valence_%\",\"energy_%\",\"acousticness_%\",\"instrumentalness_%\",\"liveness_%\",\"speechiness_%\",\"artist_count\",\"released_year\",\"released_month\",\"released_day\",\"in_spotify_playlists\",\"in_spotify_charts\",\"in_apple_playlists\",\"in_apple_charts\",\"in_deezer_charts\",\"bpm\",\"danceability_%\",\"valence_%\",\"energy_%\",\"acousticness_%\",\"instrumentalness_%\",\"liveness_%\",\"speechiness_%\"],\"xaxis\":\"x\",\"xbingroup\":\"x\",\"y\":[1.0,0.0735643557900106,0.033856605368275776,-0.014761747140203497,-0.08522637531717166,-0.008570061483346643,-0.017024010627522523,-0.07527140676231472,0.020584939685693523,-0.058843659371359144,0.2140780153629738,0.12365013527243766,0.13752971396573355,-0.09470350886704695,-0.06126890027505064,0.03435375353058178,0.13148592291378983,0.0735643557900106,1.0,0.07643869857239981,0.16637665154446765,-0.3907293115530166,0.06867872145994551,-0.20147449681379845,0.0034787869408798265,0.09574147745073561,-0.011569547380703062,0.21503163783892068,-0.047642798848288384,0.07888637478143104,-0.13322358852373312,-0.02395830692694295,0.008488833640366763,0.12988657481527743,0.033856605368275776,0.07643869857239981,1.0,0.0577841849237184,-0.12240731512240241,-0.05018640797434948,-0.03402850515527687,-0.017812891521966648,0.006942239331867263,-0.0493999786437421,-0.05480810569147382,-0.11035481332072888,-0.08689743360147519,0.05504626589857863,0.03548115743375766,0.0013290126741325953,0.042127027471914116,-0.014761747140203497,0.16637665154446765,0.0577841849237184,1.0,-0.10761588105011606,0.01606797898531504,-0.011915957650662837,0.007726559219350334,0.05542631800561091,-0.03339376399725477,0.08424386875772844,0.0627513964277264,0.047318310687688075,0.000785350093012633,0.023039799533547588,-0.011094475833796878,-0.014602271061557152,-0.08522637531717166,-0.3907293115530166,-0.12240731512240241,-0.10761588105011606,1.0,0.14134295883900183,0.6883161979283439,0.21567604568348178,0.10128346186874354,-0.03448250366594356,-0.09698077610744844,-0.029822793802813517,0.035874838704220646,-0.06463303527122205,-0.0245697139461465,-0.051972862448203296,-0.07761034200340308,-0.008570061483346643,0.06867872145994551,-0.05018640797434948,0.01606797898531504,0.14134295883900183,1.0,0.20820175691115383,0.5568043244366212,0.56616140561665,0.028830466136862198,0.05133788325737562,0.05003993254209327,0.10496336396034457,-0.0728525875661891,-0.005813736127305587,-0.026581690296990222,-0.09410226165435152,-0.017024010627522523,-0.20147449681379845,-0.03402850515527687,-0.011915957650662837,0.6883161979283439,0.20820175691115383,1.0,0.364760680543358,0.3268151634305646,0.005558273668496486,-0.012586276582145424,0.041253415530517104,0.03999184961088332,-0.07096542627558353,-0.05437237344712564,-0.06498564712323433,-0.09764713653906995,-0.07527140676231472,0.0034787869408798265,-0.017812891521966648,0.007726559219350334,0.21567604568348178,0.5568043244366212,0.364760680543358,1.0,0.3665812659988011,0.0270574150733873,-0.026137882226427704,0.04294056390652687,0.12935400827431776,-0.09678056639893745,-0.0003805257828577765,-0.007160653281334581,-0.14647234378250207,0.020584939685693523,0.09574147745073561,0.006942239331867263,0.05542631800561091,0.10128346186874354,0.56616140561665,0.3268151634305646,0.3665812659988011,1.0,0.021730449294060643,0.0814139804585954,0.07316890973692117,0.10434996940571484,-0.035135484706235884,0.003502525292610185,0.0036498526119137704,-0.08152255134603538,-0.058843659371359144,-0.011569547380703062,-0.0493999786437421,-0.03339376399725477,-0.03448250366594356,0.028830466136862198,0.005558273668496486,0.0270574150733873,0.021730449294060643,1.0,-0.1481740929493288,0.0291692537137389,0.013362948465509006,-0.010766961485287567,-0.003406877716782317,-0.005816925875816951,0.03824773302270688,0.2140780153629738,0.21503163783892068,-0.05480810569147382,0.08424386875772844,-0.09698077610744844,0.05133788325737562,-0.012586276582145424,-0.026137882226427704,0.0814139804585954,-0.1481740929493288,1.0,0.38972864666412954,0.15797028420481965,-0.24045402642431363,-0.10214371529551293,-0.1005785809594551,0.20118919973086857,0.12365013527243766,-0.047642798848288384,-0.11035481332072888,0.0627513964277264,-0.029822793802813517,0.05003993254209327,0.041253415530517104,0.04294056390652687,0.07316890973692117,0.0291692537137389,0.38972864666412954,1.0,0.3497358908579402,-0.06407244111484466,-0.14703242621617882,0.00014224966137209592,0.035703597674781345,0.13752971396573355,0.07888637478143104,-0.08689743360147519,0.047318310687688075,0.035874838704220646,0.10496336396034457,0.03999184961088332,0.12935400827431776,0.10434996940571484,0.013362948465509006,0.15797028420481965,0.3497358908579402,1.0,-0.5526370327713029,-0.05166229370550225,0.11124024151372898,-0.026880117385077694,-0.09470350886704695,-0.13322358852373312,0.05504626589857863,0.000785350093012633,-0.06463303527122205,-0.0728525875661891,-0.07096542627558353,-0.09678056639893745,-0.035135484706235884,-0.010766961485287567,-0.24045402642431363,-0.06407244111484466,-0.5526370327713029,1.0,0.04669969011482176,-0.04611200382927883,-0.017819600566405507,-0.06126890027505064,-0.02395830692694295,0.03548115743375766,0.023039799533547588,-0.0245697139461465,-0.005813736127305587,-0.05437237344712564,-0.0003805257828577765,0.003502525292610185,-0.003406877716782317,-0.10214371529551293,-0.14703242621617882,-0.05166229370550225,0.04669969011482176,1.0,-0.04462580663391406,-0.0909940870331707,0.03435375353058178,0.008488833640366763,0.0013290126741325953,-0.011094475833796878,-0.051972862448203296,-0.026581690296990222,-0.06498564712323433,-0.007160653281334581,0.0036498526119137704,-0.005816925875816951,-0.1005785809594551,0.00014224966137209592,0.11124024151372898,-0.04611200382927883,-0.04462580663391406,1.0,-0.022806600112948622,0.13148592291378983,0.12988657481527743,0.042127027471914116,-0.014602271061557152,-0.07761034200340308,-0.09410226165435152,-0.09764713653906995,-0.14647234378250207,-0.08152255134603538,0.03824773302270688,0.20118919973086857,0.035703597674781345,-0.026880117385077694,-0.017819600566405507,-0.0909940870331707,-0.022806600112948622,1.0],\"yaxis\":\"y\",\"ybingroup\":\"y\",\"type\":\"histogram2d\"}],                        {\"template\":{\"data\":{\"histogram2dcontour\":[{\"type\":\"histogram2dcontour\",\"colorbar\":{\"outlinewidth\":0,\"ticks\":\"\"},\"colorscale\":[[0.0,\"#0d0887\"],[0.1111111111111111,\"#46039f\"],[0.2222222222222222,\"#7201a8\"],[0.3333333333333333,\"#9c179e\"],[0.4444444444444444,\"#bd3786\"],[0.5555555555555556,\"#d8576b\"],[0.6666666666666666,\"#ed7953\"],[0.7777777777777778,\"#fb9f3a\"],[0.8888888888888888,\"#fdca26\"],[1.0,\"#f0f921\"]]}],\"choropleth\":[{\"type\":\"choropleth\",\"colorbar\":{\"outlinewidth\":0,\"ticks\":\"\"}}],\"histogram2d\":[{\"type\":\"histogram2d\",\"colorbar\":{\"outlinewidth\":0,\"ticks\":\"\"},\"colorscale\":[[0.0,\"#0d0887\"],[0.1111111111111111,\"#46039f\"],[0.2222222222222222,\"#7201a8\"],[0.3333333333333333,\"#9c179e\"],[0.4444444444444444,\"#bd3786\"],[0.5555555555555556,\"#d8576b\"],[0.6666666666666666,\"#ed7953\"],[0.7777777777777778,\"#fb9f3a\"],[0.8888888888888888,\"#fdca26\"],[1.0,\"#f0f921\"]]}],\"heatmap\":[{\"type\":\"heatmap\",\"colorbar\":{\"outlinewidth\":0,\"ticks\":\"\"},\"colorscale\":[[0.0,\"#0d0887\"],[0.1111111111111111,\"#46039f\"],[0.2222222222222222,\"#7201a8\"],[0.3333333333333333,\"#9c179e\"],[0.4444444444444444,\"#bd3786\"],[0.5555555555555556,\"#d8576b\"],[0.6666666666666666,\"#ed7953\"],[0.7777777777777778,\"#fb9f3a\"],[0.8888888888888888,\"#fdca26\"],[1.0,\"#f0f921\"]]}],\"heatmapgl\":[{\"type\":\"heatmapgl\",\"colorbar\":{\"outlinewidth\":0,\"ticks\":\"\"},\"colorscale\":[[0.0,\"#0d0887\"],[0.1111111111111111,\"#46039f\"],[0.2222222222222222,\"#7201a8\"],[0.3333333333333333,\"#9c179e\"],[0.4444444444444444,\"#bd3786\"],[0.5555555555555556,\"#d8576b\"],[0.6666666666666666,\"#ed7953\"],[0.7777777777777778,\"#fb9f3a\"],[0.8888888888888888,\"#fdca26\"],[1.0,\"#f0f921\"]]}],\"contourcarpet\":[{\"type\":\"contourcarpet\",\"colorbar\":{\"outlinewidth\":0,\"ticks\":\"\"}}],\"contour\":[{\"type\":\"contour\",\"colorbar\":{\"outlinewidth\":0,\"ticks\":\"\"},\"colorscale\":[[0.0,\"#0d0887\"],[0.1111111111111111,\"#46039f\"],[0.2222222222222222,\"#7201a8\"],[0.3333333333333333,\"#9c179e\"],[0.4444444444444444,\"#bd3786\"],[0.5555555555555556,\"#d8576b\"],[0.6666666666666666,\"#ed7953\"],[0.7777777777777778,\"#fb9f3a\"],[0.8888888888888888,\"#fdca26\"],[1.0,\"#f0f921\"]]}],\"surface\":[{\"type\":\"surface\",\"colorbar\":{\"outlinewidth\":0,\"ticks\":\"\"},\"colorscale\":[[0.0,\"#0d0887\"],[0.1111111111111111,\"#46039f\"],[0.2222222222222222,\"#7201a8\"],[0.3333333333333333,\"#9c179e\"],[0.4444444444444444,\"#bd3786\"],[0.5555555555555556,\"#d8576b\"],[0.6666666666666666,\"#ed7953\"],[0.7777777777777778,\"#fb9f3a\"],[0.8888888888888888,\"#fdca26\"],[1.0,\"#f0f921\"]]}],\"mesh3d\":[{\"type\":\"mesh3d\",\"colorbar\":{\"outlinewidth\":0,\"ticks\":\"\"}}],\"scatter\":[{\"fillpattern\":{\"fillmode\":\"overlay\",\"size\":10,\"solidity\":0.2},\"type\":\"scatter\"}],\"parcoords\":[{\"type\":\"parcoords\",\"line\":{\"colorbar\":{\"outlinewidth\":0,\"ticks\":\"\"}}}],\"scatterpolargl\":[{\"type\":\"scatterpolargl\",\"marker\":{\"colorbar\":{\"outlinewidth\":0,\"ticks\":\"\"}}}],\"bar\":[{\"error_x\":{\"color\":\"#2a3f5f\"},\"error_y\":{\"color\":\"#2a3f5f\"},\"marker\":{\"line\":{\"color\":\"#E5ECF6\",\"width\":0.5},\"pattern\":{\"fillmode\":\"overlay\",\"size\":10,\"solidity\":0.2}},\"type\":\"bar\"}],\"scattergeo\":[{\"type\":\"scattergeo\",\"marker\":{\"colorbar\":{\"outlinewidth\":0,\"ticks\":\"\"}}}],\"scatterpolar\":[{\"type\":\"scatterpolar\",\"marker\":{\"colorbar\":{\"outlinewidth\":0,\"ticks\":\"\"}}}],\"histogram\":[{\"marker\":{\"pattern\":{\"fillmode\":\"overlay\",\"size\":10,\"solidity\":0.2}},\"type\":\"histogram\"}],\"scattergl\":[{\"type\":\"scattergl\",\"marker\":{\"colorbar\":{\"outlinewidth\":0,\"ticks\":\"\"}}}],\"scatter3d\":[{\"type\":\"scatter3d\",\"line\":{\"colorbar\":{\"outlinewidth\":0,\"ticks\":\"\"}},\"marker\":{\"colorbar\":{\"outlinewidth\":0,\"ticks\":\"\"}}}],\"scattermapbox\":[{\"type\":\"scattermapbox\",\"marker\":{\"colorbar\":{\"outlinewidth\":0,\"ticks\":\"\"}}}],\"scatterternary\":[{\"type\":\"scatterternary\",\"marker\":{\"colorbar\":{\"outlinewidth\":0,\"ticks\":\"\"}}}],\"scattercarpet\":[{\"type\":\"scattercarpet\",\"marker\":{\"colorbar\":{\"outlinewidth\":0,\"ticks\":\"\"}}}],\"carpet\":[{\"aaxis\":{\"endlinecolor\":\"#2a3f5f\",\"gridcolor\":\"white\",\"linecolor\":\"white\",\"minorgridcolor\":\"white\",\"startlinecolor\":\"#2a3f5f\"},\"baxis\":{\"endlinecolor\":\"#2a3f5f\",\"gridcolor\":\"white\",\"linecolor\":\"white\",\"minorgridcolor\":\"white\",\"startlinecolor\":\"#2a3f5f\"},\"type\":\"carpet\"}],\"table\":[{\"cells\":{\"fill\":{\"color\":\"#EBF0F8\"},\"line\":{\"color\":\"white\"}},\"header\":{\"fill\":{\"color\":\"#C8D4E3\"},\"line\":{\"color\":\"white\"}},\"type\":\"table\"}],\"barpolar\":[{\"marker\":{\"line\":{\"color\":\"#E5ECF6\",\"width\":0.5},\"pattern\":{\"fillmode\":\"overlay\",\"size\":10,\"solidity\":0.2}},\"type\":\"barpolar\"}],\"pie\":[{\"automargin\":true,\"type\":\"pie\"}]},\"layout\":{\"autotypenumbers\":\"strict\",\"colorway\":[\"#636efa\",\"#EF553B\",\"#00cc96\",\"#ab63fa\",\"#FFA15A\",\"#19d3f3\",\"#FF6692\",\"#B6E880\",\"#FF97FF\",\"#FECB52\"],\"font\":{\"color\":\"#2a3f5f\"},\"hovermode\":\"closest\",\"hoverlabel\":{\"align\":\"left\"},\"paper_bgcolor\":\"white\",\"plot_bgcolor\":\"#E5ECF6\",\"polar\":{\"bgcolor\":\"#E5ECF6\",\"angularaxis\":{\"gridcolor\":\"white\",\"linecolor\":\"white\",\"ticks\":\"\"},\"radialaxis\":{\"gridcolor\":\"white\",\"linecolor\":\"white\",\"ticks\":\"\"}},\"ternary\":{\"bgcolor\":\"#E5ECF6\",\"aaxis\":{\"gridcolor\":\"white\",\"linecolor\":\"white\",\"ticks\":\"\"},\"baxis\":{\"gridcolor\":\"white\",\"linecolor\":\"white\",\"ticks\":\"\"},\"caxis\":{\"gridcolor\":\"white\",\"linecolor\":\"white\",\"ticks\":\"\"}},\"coloraxis\":{\"colorbar\":{\"outlinewidth\":0,\"ticks\":\"\"}},\"colorscale\":{\"sequential\":[[0.0,\"#0d0887\"],[0.1111111111111111,\"#46039f\"],[0.2222222222222222,\"#7201a8\"],[0.3333333333333333,\"#9c179e\"],[0.4444444444444444,\"#bd3786\"],[0.5555555555555556,\"#d8576b\"],[0.6666666666666666,\"#ed7953\"],[0.7777777777777778,\"#fb9f3a\"],[0.8888888888888888,\"#fdca26\"],[1.0,\"#f0f921\"]],\"sequentialminus\":[[0.0,\"#0d0887\"],[0.1111111111111111,\"#46039f\"],[0.2222222222222222,\"#7201a8\"],[0.3333333333333333,\"#9c179e\"],[0.4444444444444444,\"#bd3786\"],[0.5555555555555556,\"#d8576b\"],[0.6666666666666666,\"#ed7953\"],[0.7777777777777778,\"#fb9f3a\"],[0.8888888888888888,\"#fdca26\"],[1.0,\"#f0f921\"]],\"diverging\":[[0,\"#8e0152\"],[0.1,\"#c51b7d\"],[0.2,\"#de77ae\"],[0.3,\"#f1b6da\"],[0.4,\"#fde0ef\"],[0.5,\"#f7f7f7\"],[0.6,\"#e6f5d0\"],[0.7,\"#b8e186\"],[0.8,\"#7fbc41\"],[0.9,\"#4d9221\"],[1,\"#276419\"]]},\"xaxis\":{\"gridcolor\":\"white\",\"linecolor\":\"white\",\"ticks\":\"\",\"title\":{\"standoff\":15},\"zerolinecolor\":\"white\",\"automargin\":true,\"zerolinewidth\":2},\"yaxis\":{\"gridcolor\":\"white\",\"linecolor\":\"white\",\"ticks\":\"\",\"title\":{\"standoff\":15},\"zerolinecolor\":\"white\",\"automargin\":true,\"zerolinewidth\":2},\"scene\":{\"xaxis\":{\"backgroundcolor\":\"#E5ECF6\",\"gridcolor\":\"white\",\"linecolor\":\"white\",\"showbackground\":true,\"ticks\":\"\",\"zerolinecolor\":\"white\",\"gridwidth\":2},\"yaxis\":{\"backgroundcolor\":\"#E5ECF6\",\"gridcolor\":\"white\",\"linecolor\":\"white\",\"showbackground\":true,\"ticks\":\"\",\"zerolinecolor\":\"white\",\"gridwidth\":2},\"zaxis\":{\"backgroundcolor\":\"#E5ECF6\",\"gridcolor\":\"white\",\"linecolor\":\"white\",\"showbackground\":true,\"ticks\":\"\",\"zerolinecolor\":\"white\",\"gridwidth\":2}},\"shapedefaults\":{\"line\":{\"color\":\"#2a3f5f\"}},\"annotationdefaults\":{\"arrowcolor\":\"#2a3f5f\",\"arrowhead\":0,\"arrowwidth\":1},\"geo\":{\"bgcolor\":\"white\",\"landcolor\":\"#E5ECF6\",\"subunitcolor\":\"white\",\"showland\":true,\"showlakes\":true,\"lakecolor\":\"white\"},\"title\":{\"x\":0.05},\"mapbox\":{\"style\":\"light\"}}},\"xaxis\":{\"anchor\":\"y\",\"domain\":[0.0,1.0],\"title\":{\"text\":\"index\"}},\"yaxis\":{\"anchor\":\"x\",\"domain\":[0.0,1.0],\"title\":{\"text\":\"value\"}},\"coloraxis\":{\"colorbar\":{\"title\":{\"text\":\"count\"}},\"colorscale\":[[0.0,\"#0d0887\"],[0.1111111111111111,\"#46039f\"],[0.2222222222222222,\"#7201a8\"],[0.3333333333333333,\"#9c179e\"],[0.4444444444444444,\"#bd3786\"],[0.5555555555555556,\"#d8576b\"],[0.6666666666666666,\"#ed7953\"],[0.7777777777777778,\"#fb9f3a\"],[0.8888888888888888,\"#fdca26\"],[1.0,\"#f0f921\"]]},\"legend\":{\"tracegroupgap\":0},\"title\":{\"text\":\"Correlation Heatmap\"},\"height\":600,\"width\":900},                        {\"responsive\": true}                    ).then(function(){\n",
       "                            \n",
       "var gd = document.getElementById('4369428b-00c7-4829-b0fd-3f13715d0468');\n",
       "var x = new MutationObserver(function (mutations, observer) {{\n",
       "        var display = window.getComputedStyle(gd).display;\n",
       "        if (!display || display === 'none') {{\n",
       "            console.log([gd, 'removed!']);\n",
       "            Plotly.purge(gd);\n",
       "            observer.disconnect();\n",
       "        }}\n",
       "}});\n",
       "\n",
       "// Listen for the removal of the full notebook cells\n",
       "var notebookContainer = gd.closest('#notebook-container');\n",
       "if (notebookContainer) {{\n",
       "    x.observe(notebookContainer, {childList: true});\n",
       "}}\n",
       "\n",
       "// Listen for the clearing of the current output cell\n",
       "var outputEl = gd.closest('.output');\n",
       "if (outputEl) {{\n",
       "    x.observe(outputEl, {childList: true});\n",
       "}}\n",
       "\n",
       "                        })                };                });            </script>        </div>"
      ]
     },
     "metadata": {},
     "output_type": "display_data"
    }
   ],
   "source": [
    "s = data.select_dtypes(include = 'number').corr()\n",
    "fig = px.density_heatmap(s, title = 'Correlation Heatmap')\n",
    "fig.update_layout(\n",
    "height = 600, \n",
    "width = 900\n",
    ")\n",
    "fig.show()"
   ]
  },
  {
   "cell_type": "code",
   "execution_count": null,
   "id": "d0cc7e84-1429-492e-949c-6ef4795cfc2e",
   "metadata": {},
   "outputs": [],
   "source": []
  }
 ],
 "metadata": {
  "kernelspec": {
   "display_name": "Python 3 (ipykernel)",
   "language": "python",
   "name": "python3"
  },
  "language_info": {
   "codemirror_mode": {
    "name": "ipython",
    "version": 3
   },
   "file_extension": ".py",
   "mimetype": "text/x-python",
   "name": "python",
   "nbconvert_exporter": "python",
   "pygments_lexer": "ipython3",
   "version": "3.11.7"
  }
 },
 "nbformat": 4,
 "nbformat_minor": 5
}
